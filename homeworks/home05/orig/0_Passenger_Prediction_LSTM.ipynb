{
 "cells": [
  {
   "cell_type": "markdown",
   "source": [
    "# Домашнее задание. Урок 5. RNN\n",
    "## Практическое задание\n",
    "\n",
    "<ol>\n",
    "    <li>Попробуйте обучить нейронную сеть LSTM на любом другом датасете (любимый временной ряд, текст на русском (другом языке) как генератор или классификатор, или прилагаемый набор airline-passengers - пасажиропоток для авиалиний). Опишите, какой результата вы получили? Что помогло вам улучшить ее точность?"
   ],
   "metadata": {
    "collapsed": false,
    "pycharm": {
     "name": "#%% md\n"
    }
   }
  },
  {
   "cell_type": "markdown",
   "metadata": {
    "pycharm": {
     "name": "#%% md\n"
    }
   },
   "source": [
    "* [Loading and Visualizing Data](#41)\n",
    "* [Preprocessing Data](#42)\n",
    "* [Create LSTM Model](#43)\n",
    "* [Predictions and Visualising LSTM Model](#44)"
   ]
  },
  {
   "cell_type": "markdown",
   "metadata": {
    "pycharm": {
     "name": "#%% md\n"
    }
   },
   "source": []
  },
  {
   "cell_type": "markdown",
   "source": [
    "<a id=\"41\"></a>\n",
    "### Импорт библиотек"
   ],
   "metadata": {
    "collapsed": false,
    "pycharm": {
     "name": "#%% md\n"
    }
   }
  },
  {
   "cell_type": "code",
   "execution_count": 1,
   "metadata": {
    "pycharm": {
     "name": "#%%\n"
    }
   },
   "outputs": [],
   "source": [
    "import numpy\n",
    "import pandas as pd \n",
    "import numpy as np\n",
    "import matplotlib.pyplot as plt\n",
    "import math\n",
    "from keras.models import Sequential\n",
    "from keras.layers import Dense\n",
    "from keras.layers import LSTM\n",
    "from sklearn.preprocessing import MinMaxScaler\n",
    "from sklearn.metrics import mean_squared_error"
   ]
  },
  {
   "cell_type": "code",
   "execution_count": 2,
   "outputs": [],
   "source": [
    "from matplotlib.pyplot import figure"
   ],
   "metadata": {
    "collapsed": false,
    "pycharm": {
     "name": "#%%\n"
    }
   }
  },
  {
   "cell_type": "code",
   "execution_count": 3,
   "outputs": [],
   "source": [
    "import warnings\n",
    "warnings.filterwarnings('ignore')"
   ],
   "metadata": {
    "collapsed": false,
    "pycharm": {
     "name": "#%%\n"
    }
   }
  },
  {
   "cell_type": "markdown",
   "source": [
    "<a id=\"41\"></a>\n",
    "### Загрузка данных"
   ],
   "metadata": {
    "collapsed": false,
    "pycharm": {
     "name": "#%% md\n"
    }
   }
  },
  {
   "cell_type": "code",
   "execution_count": 18,
   "metadata": {
    "pycharm": {
     "name": "#%%\n"
    }
   },
   "outputs": [
    {
     "data": {
      "text/plain": "     Month  Passengers\n0  1949-01         112\n1  1949-02         118\n2  1949-03         132\n3  1949-04         129\n4  1949-05         121",
      "text/html": "<div>\n<style scoped>\n    .dataframe tbody tr th:only-of-type {\n        vertical-align: middle;\n    }\n\n    .dataframe tbody tr th {\n        vertical-align: top;\n    }\n\n    .dataframe thead th {\n        text-align: right;\n    }\n</style>\n<table border=\"1\" class=\"dataframe\">\n  <thead>\n    <tr style=\"text-align: right;\">\n      <th></th>\n      <th>Month</th>\n      <th>Passengers</th>\n    </tr>\n  </thead>\n  <tbody>\n    <tr>\n      <th>0</th>\n      <td>1949-01</td>\n      <td>112</td>\n    </tr>\n    <tr>\n      <th>1</th>\n      <td>1949-02</td>\n      <td>118</td>\n    </tr>\n    <tr>\n      <th>2</th>\n      <td>1949-03</td>\n      <td>132</td>\n    </tr>\n    <tr>\n      <th>3</th>\n      <td>1949-04</td>\n      <td>129</td>\n    </tr>\n    <tr>\n      <th>4</th>\n      <td>1949-05</td>\n      <td>121</td>\n    </tr>\n  </tbody>\n</table>\n</div>"
     },
     "execution_count": 18,
     "metadata": {},
     "output_type": "execute_result"
    }
   ],
   "source": [
    "data = pd.read_csv('airline-passengers.csv')\n",
    "data.head(5)"
   ]
  },
  {
   "cell_type": "code",
   "execution_count": 5,
   "outputs": [],
   "source": [
    "df=data\n",
    "df.index = df.Month"
   ],
   "metadata": {
    "collapsed": false,
    "pycharm": {
     "name": "#%%\n"
    }
   }
  },
  {
   "cell_type": "code",
   "execution_count": 6,
   "outputs": [],
   "source": [
    "df.drop(columns=['Month'], inplace=True)"
   ],
   "metadata": {
    "collapsed": false,
    "pycharm": {
     "name": "#%%\n"
    }
   }
  },
  {
   "cell_type": "code",
   "execution_count": 7,
   "outputs": [
    {
     "data": {
      "text/plain": "         Passengers\nMonth              \n1949-01         112\n1949-02         118\n1949-03         132\n1949-04         129\n1949-05         121",
      "text/html": "<div>\n<style scoped>\n    .dataframe tbody tr th:only-of-type {\n        vertical-align: middle;\n    }\n\n    .dataframe tbody tr th {\n        vertical-align: top;\n    }\n\n    .dataframe thead th {\n        text-align: right;\n    }\n</style>\n<table border=\"1\" class=\"dataframe\">\n  <thead>\n    <tr style=\"text-align: right;\">\n      <th></th>\n      <th>Passengers</th>\n    </tr>\n    <tr>\n      <th>Month</th>\n      <th></th>\n    </tr>\n  </thead>\n  <tbody>\n    <tr>\n      <th>1949-01</th>\n      <td>112</td>\n    </tr>\n    <tr>\n      <th>1949-02</th>\n      <td>118</td>\n    </tr>\n    <tr>\n      <th>1949-03</th>\n      <td>132</td>\n    </tr>\n    <tr>\n      <th>1949-04</th>\n      <td>129</td>\n    </tr>\n    <tr>\n      <th>1949-05</th>\n      <td>121</td>\n    </tr>\n  </tbody>\n</table>\n</div>"
     },
     "execution_count": 7,
     "metadata": {},
     "output_type": "execute_result"
    }
   ],
   "source": [
    "df.head()"
   ],
   "metadata": {
    "collapsed": false,
    "pycharm": {
     "name": "#%%\n"
    }
   }
  },
  {
   "cell_type": "code",
   "execution_count": 8,
   "outputs": [
    {
     "data": {
      "text/plain": "         Passengers\nMonth              \n1949-01         112\n1949-02         118\n1949-03         132\n1949-04         129\n1949-05         121",
      "text/html": "<div>\n<style scoped>\n    .dataframe tbody tr th:only-of-type {\n        vertical-align: middle;\n    }\n\n    .dataframe tbody tr th {\n        vertical-align: top;\n    }\n\n    .dataframe thead th {\n        text-align: right;\n    }\n</style>\n<table border=\"1\" class=\"dataframe\">\n  <thead>\n    <tr style=\"text-align: right;\">\n      <th></th>\n      <th>Passengers</th>\n    </tr>\n    <tr>\n      <th>Month</th>\n      <th></th>\n    </tr>\n  </thead>\n  <tbody>\n    <tr>\n      <th>1949-01</th>\n      <td>112</td>\n    </tr>\n    <tr>\n      <th>1949-02</th>\n      <td>118</td>\n    </tr>\n    <tr>\n      <th>1949-03</th>\n      <td>132</td>\n    </tr>\n    <tr>\n      <th>1949-04</th>\n      <td>129</td>\n    </tr>\n    <tr>\n      <th>1949-05</th>\n      <td>121</td>\n    </tr>\n  </tbody>\n</table>\n</div>"
     },
     "execution_count": 8,
     "metadata": {},
     "output_type": "execute_result"
    }
   ],
   "source": [
    "df.sort_index(ascending=True, inplace=True)\n",
    "df.head()"
   ],
   "metadata": {
    "collapsed": false,
    "pycharm": {
     "name": "#%%\n"
    }
   }
  },
  {
   "cell_type": "code",
   "execution_count": 15,
   "outputs": [
    {
     "data": {
      "text/plain": "Index(['1949-01', '1949-02', '1949-03', '1949-04', '1949-05', '1949-06',\n       '1949-07', '1949-08', '1949-09', '1949-10',\n       ...\n       '1960-03', '1960-04', '1960-05', '1960-06', '1960-07', '1960-08',\n       '1960-09', '1960-10', '1960-11', '1960-12'],\n      dtype='object', name='Month', length=144)"
     },
     "execution_count": 15,
     "metadata": {},
     "output_type": "execute_result"
    }
   ],
   "source": [
    "df.index"
   ],
   "metadata": {
    "collapsed": false,
    "pycharm": {
     "name": "#%%\n"
    }
   }
  },
  {
   "cell_type": "code",
   "execution_count": 9,
   "outputs": [
    {
     "data": {
      "text/plain": "<AxesSubplot:xlabel='Month'>"
     },
     "execution_count": 9,
     "metadata": {},
     "output_type": "execute_result"
    },
    {
     "data": {
      "text/plain": "<Figure size 1152x360 with 1 Axes>",
      "image/png": "[encoded data removed]"
     },
     "metadata": {
      "needs_background": "light"
     },
     "output_type": "display_data"
    }
   ],
   "source": [
    "df.iloc[96:120].plot(figsize = (16,5) )"
   ],
   "metadata": {
    "collapsed": false,
    "pycharm": {
     "name": "#%%\n"
    }
   }
  },
  {
   "cell_type": "code",
   "execution_count": 12,
   "outputs": [
    {
     "data": {
      "text/plain": "<Figure size 1280x400 with 1 Axes>",
      "image/png": "[encoded data removed]"
     },
     "metadata": {
      "needs_background": "light"
     },
     "output_type": "display_data"
    }
   ],
   "source": [
    "figure(figsize=(16, 5), dpi=80)\n",
    "plt.plot(df.iloc[96:120])\n",
    "plt.xlabel(\"time\")\n",
    "plt.ylabel(\"Количество пассажиров\")\n",
    "plt.title(\"airline passenger\")\n",
    "plt.show()"
   ],
   "metadata": {
    "collapsed": false,
    "pycharm": {
     "name": "#%%\n"
    }
   }
  },
  {
   "cell_type": "code",
   "execution_count": 19,
   "metadata": {
    "pycharm": {
     "name": "#%%\n"
    }
   },
   "outputs": [
    {
     "data": {
      "text/plain": "<Figure size 432x288 with 1 Axes>",
      "image/png": "[encoded data removed]"
     },
     "metadata": {
      "needs_background": "light"
     },
     "output_type": "display_data"
    }
   ],
   "source": [
    "dataset = data.iloc[:,1].values\n",
    "plt.plot(dataset)\n",
    "plt.xlabel(\"time\")\n",
    "plt.ylabel(\"Количество пассажиров\")\n",
    "plt.title(\"airline passenger\")\n",
    "plt.show()"
   ]
  },
  {
   "cell_type": "markdown",
   "metadata": {
    "pycharm": {
     "name": "#%% md\n"
    }
   },
   "source": [
    "<a id=\"42\"></a>\n",
    "### Preprocessing Data"
   ]
  },
  {
   "cell_type": "code",
   "execution_count": 20,
   "metadata": {
    "pycharm": {
     "name": "#%%\n"
    }
   },
   "outputs": [
    {
     "data": {
      "text/plain": "(144, 1)"
     },
     "execution_count": 20,
     "metadata": {},
     "output_type": "execute_result"
    }
   ],
   "source": [
    "#reshape\n",
    "dataset = dataset.reshape(-1,1)\n",
    "dataset = dataset.astype(\"float32\")\n",
    "dataset.shape"
   ]
  },
  {
   "cell_type": "code",
   "execution_count": 21,
   "metadata": {
    "pycharm": {
     "name": "#%%\n"
    }
   },
   "outputs": [],
   "source": [
    "# scaling \n",
    "scaler = MinMaxScaler(feature_range=(0, 1))\n",
    "dataset = scaler.fit_transform(dataset)"
   ]
  },
  {
   "cell_type": "code",
   "execution_count": 22,
   "metadata": {
    "pycharm": {
     "name": "#%%\n"
    }
   },
   "outputs": [],
   "source": [
    "def create_dataset(dataset, look_back):\n",
    "    dataX, dataY = [], []\n",
    "    for i in range(len(dataset)-look_back-1):\n",
    "        a = dataset[i:(i+look_back), 0]\n",
    "        dataX.append(a)\n",
    "        dataY.append(dataset[i + look_back, 0])\n",
    "    return numpy.array(dataX), numpy.array(dataY)"
   ]
  },
  {
   "cell_type": "code",
   "execution_count": 23,
   "metadata": {
    "pycharm": {
     "name": "#%%\n"
    }
   },
   "outputs": [],
   "source": [
    "def split_data(X, y, test_size):\n",
    "    pos = int(round(len(X) * (1-test_size)))\n",
    "    X_train, y_train = X[:pos], y[:pos]\n",
    "    X_test, y_test = X[pos:], y[pos:]\n",
    "    return X_train, y_train, X_test, y_test"
   ]
  },
  {
   "cell_type": "code",
   "execution_count": 34,
   "metadata": {
    "pycharm": {
     "name": "#%%\n"
    }
   },
   "outputs": [
    {
     "name": "stdout",
     "output_type": "stream",
     "text": [
      "X:(142, 1),y:(142,)\n",
      "X_train:(95, 1),y_train:(95,),X_test:(47, 1),y_test(47,)\n"
     ]
    }
   ],
   "source": [
    "look_back = 1\n",
    "X, y = create_dataset(dataset, look_back)\n",
    "print(\"X:{},y:{}\".format(X.shape, y.shape))\n",
    "X_train, y_train, X_test, y_test = split_data(X, y, 0.33)\n",
    "print(\"X_train:{},y_train:{},X_test:{},y_test{}\".format(X_train.shape, y_train.shape, X_test.shape, y_test.shape))"
   ]
  },
  {
   "cell_type": "code",
   "execution_count": 35,
   "metadata": {
    "pycharm": {
     "name": "#%%\n"
    }
   },
   "outputs": [
    {
     "name": "stdout",
     "output_type": "stream",
     "text": [
      "X_train:(95, 1),y_train:(95, 1),X_test:(47, 1),y_test(47, 1)\n"
     ]
    }
   ],
   "source": [
    "#reshape\n",
    "y = y.reshape(-1,1)\n",
    "y_train=y_train.reshape(-1,1)\n",
    "y_test=y_test.reshape(-1,1)\n",
    "print(\"X_train:{},y_train:{},X_test:{},y_test{}\".format(X_train.shape, y_train.shape, X_test.shape, y_test.shape))"
   ]
  },
  {
   "cell_type": "code",
   "execution_count": 36,
   "metadata": {
    "pycharm": {
     "name": "#%%\n"
    }
   },
   "outputs": [],
   "source": [
    "# reshape input to be [samples, time steps, features]\n",
    "\n",
    "X_train = np.reshape(X_train, (X_train.shape[0], 1, X_train.shape[1]))\n",
    "X_test = np.reshape(X_test, (X_test.shape[0], 1, X_test.shape[1]))\n"
   ]
  },
  {
   "cell_type": "markdown",
   "metadata": {
    "pycharm": {
     "name": "#%% md\n"
    }
   },
   "source": [
    "<a id=\"43\"></a>\n",
    "### Create LSTM Model"
   ]
  },
  {
   "cell_type": "code",
   "execution_count": 37,
   "metadata": {
    "pycharm": {
     "name": "#%%\n"
    }
   },
   "outputs": [
    {
     "name": "stdout",
     "output_type": "stream",
     "text": [
      "Epoch 1/50\n",
      "95/95 [==============================] - 1s 2ms/step - loss: 0.0578\n",
      "Epoch 2/50\n",
      "95/95 [==============================] - 0s 2ms/step - loss: 0.0322\n",
      "Epoch 3/50\n",
      "95/95 [==============================] - 0s 2ms/step - loss: 0.0223\n",
      "Epoch 4/50\n",
      "95/95 [==============================] - 0s 1ms/step - loss: 0.0190\n",
      "Epoch 5/50\n",
      "95/95 [==============================] - 0s 1ms/step - loss: 0.0176\n",
      "Epoch 6/50\n",
      "95/95 [==============================] - 0s 1ms/step - loss: 0.0169\n",
      "Epoch 7/50\n",
      "95/95 [==============================] - 0s 1ms/step - loss: 0.0157\n",
      "Epoch 8/50\n",
      "95/95 [==============================] - 0s 1ms/step - loss: 0.0148\n",
      "Epoch 9/50\n",
      "95/95 [==============================] - 0s 1ms/step - loss: 0.0135\n",
      "Epoch 10/50\n",
      "95/95 [==============================] - 0s 1ms/step - loss: 0.0123\n",
      "Epoch 11/50\n",
      "95/95 [==============================] - 0s 1ms/step - loss: 0.0109\n",
      "Epoch 12/50\n",
      "95/95 [==============================] - 0s 1ms/step - loss: 0.0096\n",
      "Epoch 13/50\n",
      "95/95 [==============================] - 0s 1ms/step - loss: 0.0080\n",
      "Epoch 14/50\n",
      "95/95 [==============================] - 0s 2ms/step - loss: 0.0066\n",
      "Epoch 15/50\n",
      "95/95 [==============================] - 0s 1ms/step - loss: 0.0052\n",
      "Epoch 16/50\n",
      "95/95 [==============================] - 0s 1ms/step - loss: 0.0041\n",
      "Epoch 17/50\n",
      "95/95 [==============================] - 0s 1ms/step - loss: 0.0033\n",
      "Epoch 18/50\n",
      "95/95 [==============================] - 0s 1ms/step - loss: 0.0027\n",
      "Epoch 19/50\n",
      "95/95 [==============================] - 0s 1ms/step - loss: 0.0024\n",
      "Epoch 20/50\n",
      "95/95 [==============================] - 0s 1ms/step - loss: 0.0023\n",
      "Epoch 21/50\n",
      "95/95 [==============================] - 0s 1ms/step - loss: 0.0022\n",
      "Epoch 22/50\n",
      "95/95 [==============================] - 0s 2ms/step - loss: 0.0021\n",
      "Epoch 23/50\n",
      "95/95 [==============================] - 0s 1ms/step - loss: 0.0020\n",
      "Epoch 24/50\n",
      "95/95 [==============================] - 0s 1ms/step - loss: 0.0020\n",
      "Epoch 25/50\n",
      "95/95 [==============================] - 0s 1ms/step - loss: 0.0020\n",
      "Epoch 26/50\n",
      "95/95 [==============================] - 0s 1ms/step - loss: 0.0020\n",
      "Epoch 27/50\n",
      "95/95 [==============================] - 0s 1ms/step - loss: 0.0020\n",
      "Epoch 28/50\n",
      "95/95 [==============================] - 0s 1ms/step - loss: 0.0021\n",
      "Epoch 29/50\n",
      "95/95 [==============================] - 0s 1ms/step - loss: 0.0021\n",
      "Epoch 30/50\n",
      "95/95 [==============================] - 0s 2ms/step - loss: 0.0021\n",
      "Epoch 31/50\n",
      "95/95 [==============================] - 0s 1ms/step - loss: 0.0021\n",
      "Epoch 32/50\n",
      "95/95 [==============================] - 0s 2ms/step - loss: 0.0021\n",
      "Epoch 33/50\n",
      "95/95 [==============================] - 0s 1ms/step - loss: 0.0020\n",
      "Epoch 34/50\n",
      "95/95 [==============================] - 0s 1ms/step - loss: 0.0021\n",
      "Epoch 35/50\n",
      "95/95 [==============================] - 0s 1ms/step - loss: 0.0020\n",
      "Epoch 36/50\n",
      "95/95 [==============================] - 0s 1ms/step - loss: 0.0020\n",
      "Epoch 37/50\n",
      "95/95 [==============================] - 0s 1ms/step - loss: 0.0020\n",
      "Epoch 38/50\n",
      "95/95 [==============================] - 0s 1ms/step - loss: 0.0020\n",
      "Epoch 39/50\n",
      "95/95 [==============================] - 0s 1ms/step - loss: 0.0021\n",
      "Epoch 40/50\n",
      "95/95 [==============================] - 0s 1ms/step - loss: 0.0020\n",
      "Epoch 41/50\n",
      "95/95 [==============================] - 0s 1ms/step - loss: 0.0020\n",
      "Epoch 42/50\n",
      "95/95 [==============================] - 0s 1ms/step - loss: 0.0020\n",
      "Epoch 43/50\n",
      "95/95 [==============================] - 0s 1ms/step - loss: 0.0020\n",
      "Epoch 44/50\n",
      "95/95 [==============================] - 0s 1ms/step - loss: 0.0020\n",
      "Epoch 45/50\n",
      "95/95 [==============================] - 0s 1ms/step - loss: 0.0020\n",
      "Epoch 46/50\n",
      "95/95 [==============================] - 0s 1ms/step - loss: 0.0020\n",
      "Epoch 47/50\n",
      "95/95 [==============================] - 0s 1ms/step - loss: 0.0021\n",
      "Epoch 48/50\n",
      "95/95 [==============================] - 0s 2ms/step - loss: 0.0020\n",
      "Epoch 49/50\n",
      "95/95 [==============================] - 0s 1ms/step - loss: 0.0020\n",
      "Epoch 50/50\n",
      "95/95 [==============================] - 0s 1ms/step - loss: 0.0020\n"
     ]
    },
    {
     "data": {
      "text/plain": "<keras.callbacks.History at 0x20d19330040>"
     },
     "execution_count": 37,
     "metadata": {},
     "output_type": "execute_result"
    }
   ],
   "source": [
    "# model\n",
    "model = Sequential()\n",
    "model.add(LSTM(4, input_shape=(1, look_back)))\n",
    "model.add(Dense(1))\n",
    "model.compile(loss='mean_squared_error', optimizer='adam')\n",
    "model.fit(X_train, y_train, epochs=50, batch_size=1)"
   ]
  },
  {
   "cell_type": "markdown",
   "metadata": {
    "pycharm": {
     "name": "#%% md\n"
    }
   },
   "source": [
    "<a id=\"44\"></a>\n",
    "### Predictions and Visualising LSTM Model"
   ]
  },
  {
   "cell_type": "code",
   "execution_count": 37,
   "metadata": {
    "pycharm": {
     "name": "#%%\n"
    }
   },
   "outputs": [],
   "source": []
  },
  {
   "cell_type": "code",
   "execution_count": 38,
   "metadata": {
    "pycharm": {
     "name": "#%%\n"
    }
   },
   "outputs": [
    {
     "name": "stdout",
     "output_type": "stream",
     "text": [
      "(95, 1, 1)\n",
      "(95, 1)\n",
      "(47, 1, 1)\n",
      "(47, 1)\n"
     ]
    }
   ],
   "source": [
    "X_train = numpy.reshape(X_train, (X_train.shape[0], 1, X_train.shape[1]))\n",
    "X_test = numpy.reshape(X_test, (X_test.shape[0], 1, X_test.shape[1]))\n",
    "print(X_train.shape)\n",
    "print(y_train.shape)\n",
    "print(X_test.shape)\n",
    "print(y_test.shape)\n",
    "trainPredict = model.predict(X_train)\n",
    "testPredict = model.predict(X_test)\n"
   ]
  },
  {
   "cell_type": "code",
   "execution_count": 42,
   "outputs": [
    {
     "data": {
      "text/plain": "array([[[0.3899614 ]],\n\n       [[0.4073359 ]],\n\n       [[0.3803089 ]],\n\n       [[0.48648646]],\n\n       [[0.47104248]],\n\n       [[0.484556  ]],\n\n       [[0.6138996 ]],\n\n       [[0.6969112 ]],\n\n       [[0.70077217]],\n\n       [[0.57915056]],\n\n       [[0.46911195]],\n\n       [[0.38803086]],\n\n       [[0.44787642]],\n\n       [[0.45559844]],\n\n       [[0.4131274 ]],\n\n       [[0.4980695 ]],\n\n       [[0.47104248]],\n\n       [[0.49999997]],\n\n       [[0.6389961 ]],\n\n       [[0.7471043 ]],\n\n       [[0.7741313 ]],\n\n       [[0.57915056]],\n\n       [[0.492278  ]],\n\n       [[0.3976834 ]],\n\n       [[0.44980696]],\n\n       [[0.49420848]],\n\n       [[0.45945945]],\n\n       [[0.5830116 ]],\n\n       [[0.5637065 ]],\n\n       [[0.61003864]],\n\n       [[0.71042466]],\n\n       [[0.8571429 ]],\n\n       [[0.8783784 ]],\n\n       [[0.69305015]],\n\n       [[0.5849421 ]],\n\n       [[0.4980695 ]],\n\n       [[0.58108103]],\n\n       [[0.6042471 ]],\n\n       [[0.554054  ]],\n\n       [[0.60810804]],\n\n       [[0.6891892 ]],\n\n       [[0.71042466]],\n\n       [[0.8320464 ]],\n\n       [[1.        ]],\n\n       [[0.96911204]],\n\n       [[0.7799227 ]],\n\n       [[0.6891892 ]]], dtype=float32)"
     },
     "execution_count": 42,
     "metadata": {},
     "output_type": "execute_result"
    }
   ],
   "source": [
    "X_test"
   ],
   "metadata": {
    "collapsed": false,
    "pycharm": {
     "name": "#%%\n"
    }
   }
  },
  {
   "cell_type": "code",
   "execution_count": 39,
   "metadata": {
    "pycharm": {
     "name": "#%%\n"
    }
   },
   "outputs": [],
   "source": [
    "trainPredict = scaler.inverse_transform(trainPredict)\n",
    "trainY = scaler.inverse_transform(y_train)\n",
    "testPredict = scaler.inverse_transform(testPredict)\n",
    "testY = scaler.inverse_transform(y_test)"
   ]
  },
  {
   "cell_type": "code",
   "execution_count": 40,
   "metadata": {
    "pycharm": {
     "name": "#%%\n"
    }
   },
   "outputs": [
    {
     "name": "stdout",
     "output_type": "stream",
     "text": [
      "Train Score: 22.95 RMSE\n",
      "Test Score: 49.41 RMSE\n"
     ]
    }
   ],
   "source": [
    "trainY=trainY.reshape(1,-1)\n",
    "testY = testY.reshape(1,-1)\n",
    "# calculate root mean squared error\n",
    "trainScore = math.sqrt(mean_squared_error(trainY[0], trainPredict[:,0]))\n",
    "print('Train Score: %.2f RMSE' % (trainScore))\n",
    "testScore = math.sqrt(mean_squared_error(testY[0], testPredict[:,0]))\n",
    "print('Test Score: %.2f RMSE' % (testScore))"
   ]
  },
  {
   "cell_type": "code",
   "execution_count": 41,
   "metadata": {
    "pycharm": {
     "name": "#%%\n"
    }
   },
   "outputs": [
    {
     "data": {
      "text/plain": "<Figure size 432x288 with 1 Axes>",
      "image/png": "[encoded data removed]"
     },
     "metadata": {
      "needs_background": "light"
     },
     "output_type": "display_data"
    }
   ],
   "source": [
    "trainPredictPlot = numpy.empty_like(dataset)\n",
    "trainPredictPlot[:, :] = numpy.nan\n",
    "trainPredictPlot[look_back:len(trainPredict)+look_back, :] = trainPredict\n",
    "# shift test predictions for plotting\n",
    "testPredictPlot = numpy.empty_like(dataset)\n",
    "testPredictPlot[:, :] = numpy.nan\n",
    "testPredictPlot[len(trainPredict)+(look_back):len(dataset)-1, :] = testPredict\n",
    "# plot baseline and predictions\n",
    "plt.plot(scaler.inverse_transform(dataset))\n",
    "plt.plot(trainPredictPlot)\n",
    "plt.plot(testPredictPlot)\n",
    "plt.show()\n"
   ]
  },
  {
   "cell_type": "code",
   "execution_count": 212,
   "metadata": {
    "pycharm": {
     "name": "#%%\n"
    }
   },
   "outputs": [],
   "source": [
    "test1=numpy.reshape(test1,(len(test1),1,1))\n",
    "y_pred=model.predict(test1)\n",
    "y_pred=scaler.fit_transform(y_pred)\n",
    "test=scaler.fit_transform(test)"
   ]
  },
  {
   "cell_type": "code",
   "execution_count": 216,
   "metadata": {
    "pycharm": {
     "name": "#%%\n"
    }
   },
   "outputs": [
    {
     "data": {
      "text/plain": [
       "array([[[0.24131274]],\n",
       "\n",
       "       [[0.1911197 ]],\n",
       "\n",
       "       [[0.24131274]],\n",
       "\n",
       "       [[0.26640925]],\n",
       "\n",
       "       [[0.24903473]],\n",
       "\n",
       "       [[0.31467178]],\n",
       "\n",
       "       [[0.3185328 ]],\n",
       "\n",
       "       [[0.32046333]],\n",
       "\n",
       "       [[0.4073359 ]],\n",
       "\n",
       "       [[0.5019305 ]],\n",
       "\n",
       "       [[0.46911195]],\n",
       "\n",
       "       [[0.40154442]],\n",
       "\n",
       "       [[0.32818535]],\n",
       "\n",
       "       [[0.25675675]],\n",
       "\n",
       "       [[0.3359073 ]],\n",
       "\n",
       "       [[0.34749034]],\n",
       "\n",
       "       [[0.33397684]],\n",
       "\n",
       "       [[0.41119692]],\n",
       "\n",
       "       [[0.4034749 ]],\n",
       "\n",
       "       [[0.4131274 ]],\n",
       "\n",
       "       [[0.52123547]],\n",
       "\n",
       "       [[0.5965251 ]],\n",
       "\n",
       "       [[0.58108103]],\n",
       "\n",
       "       [[0.484556  ]],\n",
       "\n",
       "       [[0.3899614 ]],\n",
       "\n",
       "       [[0.3223938 ]],\n",
       "\n",
       "       [[0.3899614 ]],\n",
       "\n",
       "       [[0.4073359 ]],\n",
       "\n",
       "       [[0.3803089 ]],\n",
       "\n",
       "       [[0.48648646]],\n",
       "\n",
       "       [[0.47104248]],\n",
       "\n",
       "       [[0.484556  ]],\n",
       "\n",
       "       [[0.6138996 ]],\n",
       "\n",
       "       [[0.6969112 ]],\n",
       "\n",
       "       [[0.70077217]],\n",
       "\n",
       "       [[0.57915056]],\n",
       "\n",
       "       [[0.46911195]],\n",
       "\n",
       "       [[0.38803086]],\n",
       "\n",
       "       [[0.44787642]],\n",
       "\n",
       "       [[0.45559844]],\n",
       "\n",
       "       [[0.4131274 ]],\n",
       "\n",
       "       [[0.4980695 ]],\n",
       "\n",
       "       [[0.47104248]],\n",
       "\n",
       "       [[0.49999997]],\n",
       "\n",
       "       [[0.6389961 ]],\n",
       "\n",
       "       [[0.7471043 ]],\n",
       "\n",
       "       [[0.7741313 ]],\n",
       "\n",
       "       [[0.57915056]],\n",
       "\n",
       "       [[0.492278  ]],\n",
       "\n",
       "       [[0.3976834 ]],\n",
       "\n",
       "       [[0.44980696]],\n",
       "\n",
       "       [[0.49420848]],\n",
       "\n",
       "       [[0.45945945]],\n",
       "\n",
       "       [[0.5830116 ]],\n",
       "\n",
       "       [[0.5637065 ]],\n",
       "\n",
       "       [[0.61003864]],\n",
       "\n",
       "       [[0.71042466]],\n",
       "\n",
       "       [[0.8571429 ]],\n",
       "\n",
       "       [[0.8783784 ]],\n",
       "\n",
       "       [[0.69305015]],\n",
       "\n",
       "       [[0.5849421 ]],\n",
       "\n",
       "       [[0.4980695 ]],\n",
       "\n",
       "       [[0.58108103]],\n",
       "\n",
       "       [[0.6042471 ]],\n",
       "\n",
       "       [[0.554054  ]],\n",
       "\n",
       "       [[0.60810804]],\n",
       "\n",
       "       [[0.6891892 ]],\n",
       "\n",
       "       [[0.71042466]],\n",
       "\n",
       "       [[0.8320464 ]],\n",
       "\n",
       "       [[1.        ]]], dtype=float32)"
      ]
     },
     "execution_count": 216,
     "metadata": {},
     "output_type": "execute_result"
    }
   ],
   "source": [
    "test1"
   ]
  },
  {
   "cell_type": "code",
   "execution_count": 214,
   "metadata": {
    "pycharm": {
     "name": "#%%\n"
    }
   },
   "outputs": [
    {
     "data": {
      "image/png": "[encoded data removed]",
      "text/plain": [
       "<Figure size 432x288 with 1 Axes>"
      ]
     },
     "metadata": {},
     "output_type": "display_data"
    }
   ],
   "source": [
    "plt.plot(y_pred,color=\"red\",linewidth=2)\n",
    "plt.plot(test,color=\"black\",linewidth=1)\n",
    "plt.show()"
   ]
  },
  {
   "cell_type": "code",
   "execution_count": null,
   "metadata": {
    "pycharm": {
     "name": "#%%\n"
    }
   },
   "outputs": [],
   "source": []
  }
 ],
 "metadata": {
  "kernelspec": {
   "display_name": "Python 3",
   "language": "python",
   "name": "python3"
  },
  "language_info": {
   "codemirror_mode": {
    "name": "ipython",
    "version": 3
   },
   "file_extension": ".py",
   "mimetype": "text/x-python",
   "name": "python",
   "nbconvert_exporter": "python",
   "pygments_lexer": "ipython3",
   "version": "3.6.4"
  }
 },
 "nbformat": 4,
 "nbformat_minor": 2
}