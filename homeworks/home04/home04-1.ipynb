{
  "cells": [
    {
      "cell_type": "markdown",
      "source": [
        "# Домашнее задание. Урок 4.\n",
        "\n",
        "## Практическое задание"
      ],
      "metadata": {
        "collapsed": false,
        "pycharm": {
          "name": "#%% md\n"
        },
        "id": "rCPZq-WtApQ_"
      }
    },
    {
      "cell_type": "markdown",
      "source": [
        "Вариант 1. (простой)\n",
        "\n",
        "- обучить сверточную нейронную сеть в стиле AlexNet (с падением размера ядра свертки и последовательностью блоков свертка-пулинг  (conv-pool)-(conv-pool)-...) на датасете fashion-mnist или cifar10\n",
        "- оценить рост точности при увеличении ширины сети (больше ядер)\n",
        "- оценить рост точности при увеличении глубины сети (больше слоев)\n",
        "- (опционально)сравнить с точностью полносвязной сети для этой выборки"
      ],
      "metadata": {
        "collapsed": false,
        "pycharm": {
          "name": "#%% md\n"
        },
        "id": "hMWcVw0vApRC"
      }
    },
    {
      "cell_type": "markdown",
      "source": [
        "## Особенности сети в стиле AlexNet"
      ],
      "metadata": {
        "collapsed": false,
        "pycharm": {
          "name": "#%% md\n"
        },
        "id": "UtY7tGp4ApRC"
      }
    },
    {
      "cell_type": "markdown",
      "source": [
        "1. Последовательное уменьшение размерности ядра свертки\n",
        "2. Последовательность блокок свертка-пулинг (conv-pool)-(conv-pool)"
      ],
      "metadata": {
        "collapsed": false,
        "pycharm": {
          "name": "#%% md\n"
        },
        "id": "WqjNVqe7ApRD"
      }
    },
    {
      "cell_type": "markdown",
      "source": [
        "![](https://github.com/alex-chin/intro_neural_network/blob/main/homeworks/home04/AlexNet.png?raw=1)"
      ],
      "metadata": {
        "collapsed": false,
        "pycharm": {
          "name": "#%% md\n"
        },
        "id": "fmZzAK4nApRD"
      }
    },
    {
      "cell_type": "code",
      "execution_count": 6,
      "outputs": [],
      "source": [
        "from __future__ import print_function\n",
        "import tensorflow.keras as keras # расскоментируйте эту строку, чтобы начать обучение\n",
        "from tensorflow.keras.datasets import cifar10\n",
        "from tensorflow.keras.preprocessing.image import ImageDataGenerator\n",
        "from tensorflow.keras.models import Sequential\n",
        "from tensorflow.keras.layers import Dense, Dropout, Activation, Flatten\n",
        "from tensorflow.keras.layers import Conv2D, MaxPooling2D\n",
        "import os"
      ],
      "metadata": {
        "pycharm": {
          "name": "#%%\n"
        },
        "id": "7czKFLaaApRD"
      }
    },
    {
      "cell_type": "code",
      "source": [
        "import pandas as pd"
      ],
      "metadata": {
        "id": "7as7gSgXLDgn"
      },
      "execution_count": 22,
      "outputs": []
    },
    {
      "cell_type": "code",
      "execution_count": 2,
      "outputs": [],
      "source": [
        "classes = ['самолет', 'автомобиль', 'птица', 'кот', 'олень', 'собака', 'лягушка', 'лошадь', 'корабль', 'грузовик']\n"
      ],
      "metadata": {
        "pycharm": {
          "name": "#%%\n"
        },
        "id": "VzDlXCLPApRE"
      }
    },
    {
      "cell_type": "markdown",
      "source": [
        "## Установка параметров нейросети"
      ],
      "metadata": {
        "collapsed": false,
        "pycharm": {
          "name": "#%% md\n"
        },
        "id": "PVZVe-EQApRF"
      }
    },
    {
      "cell_type": "code",
      "execution_count": 16,
      "outputs": [],
      "source": [
        "batch_size = 32\n",
        "num_classes = 10\n",
        "epochs = 10\n",
        "data_augmentation = False\n",
        "num_predictions = 20\n",
        "# save_dir = os.path.join(os.getcwd(), 'saved_models')\n",
        "# model_name = 'keras_cifar10_trained_model.h5'\n"
      ],
      "metadata": {
        "pycharm": {
          "name": "#%%\n"
        },
        "id": "woO612EcApRF"
      }
    },
    {
      "cell_type": "markdown",
      "source": [
        "## Разделение тренировочной и тестовой выборки"
      ],
      "metadata": {
        "collapsed": false,
        "pycharm": {
          "name": "#%% md\n"
        },
        "id": "ve0SZYFIApRG"
      }
    },
    {
      "cell_type": "code",
      "execution_count": 17,
      "outputs": [
        {
          "output_type": "stream",
          "name": "stdout",
          "text": [
            "x_train shape: (50000, 32, 32, 3)\n",
            "50000 тренировочные примеры\n",
            "10000 тестовые примеры\n"
          ]
        }
      ],
      "source": [
        "(x_train, y_train), (x_test, y_test) = cifar10.load_data()\n",
        "print('x_train shape:', x_train.shape)\n",
        "print(x_train.shape[0], 'тренировочные примеры')\n",
        "print(x_test.shape[0], 'тестовые примеры')"
      ],
      "metadata": {
        "pycharm": {
          "name": "#%%\n"
        },
        "colab": {
          "base_uri": "https://localhost:8080/"
        },
        "id": "zYUGYnhfApRG",
        "outputId": "09359a02-fe85-4016-ea96-44f6525ca138"
      }
    },
    {
      "cell_type": "markdown",
      "source": [
        "## Преобразование матрицы чисел 0-9 в бинарную матрицу чисел 0-1"
      ],
      "metadata": {
        "collapsed": false,
        "pycharm": {
          "name": "#%% md\n"
        },
        "id": "SSxJVxkYApRG"
      }
    },
    {
      "cell_type": "code",
      "execution_count": 18,
      "outputs": [],
      "source": [
        "y_train = keras.utils.to_categorical(y_train, num_classes)\n",
        "y_test = keras.utils.to_categorical(y_test, num_classes)\n",
        "\n",
        "x_train = x_train.astype('float32')\n",
        "x_test = x_test.astype('float32')\n",
        "x_train /= 255\n",
        "x_test /= 255\n",
        "\n"
      ],
      "metadata": {
        "pycharm": {
          "name": "#%%\n"
        },
        "id": "L8lCSQ3aApRG"
      }
    },
    {
      "cell_type": "markdown",
      "source": [
        "## Конфигурирование нейросети"
      ],
      "metadata": {
        "collapsed": false,
        "pycharm": {
          "name": "#%% md\n"
        },
        "id": "bfkpBhMKApRH"
      }
    },
    {
      "cell_type": "code",
      "execution_count": 19,
      "outputs": [],
      "source": [
        "def bild_model(koef_core = 1, num_layers = 1):\n",
        "    model = Sequential()\n",
        "\n",
        "    # слои нейросети отвественные за свертку и max-pooling\n",
        "    model.add(Conv2D(32 * koef_core, (3, 3), padding='same', input_shape=x_train.shape[1:]))\n",
        "    model.add(Activation('relu'))\n",
        "\n",
        "    for _ in range(num_layers):\n",
        "        model.add(Conv2D(32 * koef_core, (3, 3)))\n",
        "        model.add(Activation('relu'))\n",
        "\n",
        "    model.add(MaxPooling2D(pool_size=(2, 2)))\n",
        "    model.add(Dropout(0.25))\n",
        "\n",
        "    model.add(Conv2D(64 * koef_core, (3, 3), padding='same'))\n",
        "    model.add(Activation('relu'))\n",
        "    model.add(Conv2D(64 * koef_core, (3, 3)))\n",
        "    model.add(Activation('relu'))\n",
        "    model.add(MaxPooling2D(pool_size=(2, 2)))\n",
        "\n",
        "    model.add(Dropout(0.25))\n",
        "\n",
        "    # полносвязные слои нейронной сети\n",
        "    model.add(Flatten())\n",
        "    model.add(Dense(512))\n",
        "    model.add(Activation('relu'))\n",
        "    model.add(Dropout(0.5))\n",
        "    model.add(Dense(num_classes))\n",
        "    model.add(Activation('softmax'))\n",
        "\n",
        "    # компиляция модели\n",
        "    model.compile(loss='categorical_crossentropy',\n",
        "                  optimizer='SGD',\n",
        "                  metrics=['accuracy'])\n",
        "\n",
        "    return model"
      ],
      "metadata": {
        "pycharm": {
          "name": "#%%\n"
        },
        "id": "RQkdEYQLApRH"
      }
    },
    {
      "cell_type": "code",
      "execution_count": 20,
      "outputs": [
        {
          "output_type": "stream",
          "name": "stdout",
          "text": [
            "Epoch 1/10\n",
            "1563/1563 [==============================] - 9s 5ms/step - loss: 2.0889 - accuracy: 0.2223 - val_loss: 1.8656 - val_accuracy: 0.3490\n",
            "Epoch 2/10\n",
            "1563/1563 [==============================] - 8s 5ms/step - loss: 1.8152 - accuracy: 0.3416 - val_loss: 1.6886 - val_accuracy: 0.3883\n",
            "Epoch 3/10\n",
            "1563/1563 [==============================] - 8s 5ms/step - loss: 1.5858 - accuracy: 0.4212 - val_loss: 1.4125 - val_accuracy: 0.4901\n",
            "Epoch 4/10\n",
            "1563/1563 [==============================] - 8s 5ms/step - loss: 1.4656 - accuracy: 0.4676 - val_loss: 1.3531 - val_accuracy: 0.5066\n",
            "Epoch 5/10\n",
            "1563/1563 [==============================] - 7s 5ms/step - loss: 1.3752 - accuracy: 0.5043 - val_loss: 1.2476 - val_accuracy: 0.5578\n",
            "Epoch 6/10\n",
            "1563/1563 [==============================] - 7s 5ms/step - loss: 1.3001 - accuracy: 0.5355 - val_loss: 1.2071 - val_accuracy: 0.5668\n",
            "Epoch 7/10\n",
            "1563/1563 [==============================] - 8s 5ms/step - loss: 1.2454 - accuracy: 0.5572 - val_loss: 1.1244 - val_accuracy: 0.6056\n",
            "Epoch 8/10\n",
            "1563/1563 [==============================] - 8s 5ms/step - loss: 1.1921 - accuracy: 0.5752 - val_loss: 1.1063 - val_accuracy: 0.6073\n",
            "Epoch 9/10\n",
            "1563/1563 [==============================] - 8s 5ms/step - loss: 1.1494 - accuracy: 0.5932 - val_loss: 1.0357 - val_accuracy: 0.6353\n",
            "Epoch 10/10\n",
            "1563/1563 [==============================] - 8s 5ms/step - loss: 1.1048 - accuracy: 0.6079 - val_loss: 1.0607 - val_accuracy: 0.6302\n",
            "313/313 [==============================] - 1s 3ms/step - loss: 1.0607 - accuracy: 0.6302\n",
            "Epoch 1/10\n",
            "1563/1563 [==============================] - 9s 6ms/step - loss: 2.0909 - accuracy: 0.2207 - val_loss: 1.8893 - val_accuracy: 0.3297\n",
            "Epoch 2/10\n",
            "1563/1563 [==============================] - 9s 6ms/step - loss: 1.8437 - accuracy: 0.3286 - val_loss: 1.6927 - val_accuracy: 0.3964\n",
            "Epoch 3/10\n",
            "1563/1563 [==============================] - 9s 5ms/step - loss: 1.6555 - accuracy: 0.3942 - val_loss: 1.5020 - val_accuracy: 0.4621\n",
            "Epoch 4/10\n",
            "1563/1563 [==============================] - 9s 5ms/step - loss: 1.5192 - accuracy: 0.4433 - val_loss: 1.4885 - val_accuracy: 0.4719\n",
            "Epoch 5/10\n",
            "1563/1563 [==============================] - 8s 5ms/step - loss: 1.4198 - accuracy: 0.4820 - val_loss: 1.3142 - val_accuracy: 0.5200\n",
            "Epoch 6/10\n",
            "1563/1563 [==============================] - 9s 6ms/step - loss: 1.3407 - accuracy: 0.5178 - val_loss: 1.2612 - val_accuracy: 0.5419\n",
            "Epoch 7/10\n",
            "1563/1563 [==============================] - 9s 6ms/step - loss: 1.2687 - accuracy: 0.5444 - val_loss: 1.1714 - val_accuracy: 0.5879\n",
            "Epoch 8/10\n",
            "1563/1563 [==============================] - 9s 6ms/step - loss: 1.2068 - accuracy: 0.5689 - val_loss: 1.1221 - val_accuracy: 0.6046\n",
            "Epoch 9/10\n",
            "1563/1563 [==============================] - 9s 6ms/step - loss: 1.1531 - accuracy: 0.5891 - val_loss: 1.0443 - val_accuracy: 0.6307\n",
            "Epoch 10/10\n",
            "1563/1563 [==============================] - 8s 5ms/step - loss: 1.0971 - accuracy: 0.6087 - val_loss: 1.0363 - val_accuracy: 0.6373\n",
            "313/313 [==============================] - 1s 3ms/step - loss: 1.0363 - accuracy: 0.6373\n",
            "Epoch 1/10\n",
            "1563/1563 [==============================] - 13s 8ms/step - loss: 2.0863 - accuracy: 0.2256 - val_loss: 1.8807 - val_accuracy: 0.3508\n",
            "Epoch 2/10\n",
            "1563/1563 [==============================] - 12s 8ms/step - loss: 1.7664 - accuracy: 0.3627 - val_loss: 1.5654 - val_accuracy: 0.4286\n",
            "Epoch 3/10\n",
            "1563/1563 [==============================] - 12s 8ms/step - loss: 1.5460 - accuracy: 0.4397 - val_loss: 1.3688 - val_accuracy: 0.5052\n",
            "Epoch 4/10\n",
            "1563/1563 [==============================] - 12s 8ms/step - loss: 1.4067 - accuracy: 0.4930 - val_loss: 1.2696 - val_accuracy: 0.5444\n",
            "Epoch 5/10\n",
            "1563/1563 [==============================] - 12s 8ms/step - loss: 1.3076 - accuracy: 0.5305 - val_loss: 1.2379 - val_accuracy: 0.5635\n",
            "Epoch 6/10\n",
            "1563/1563 [==============================] - 12s 8ms/step - loss: 1.2249 - accuracy: 0.5664 - val_loss: 1.1118 - val_accuracy: 0.6078\n",
            "Epoch 7/10\n",
            "1563/1563 [==============================] - 12s 8ms/step - loss: 1.1536 - accuracy: 0.5922 - val_loss: 1.0434 - val_accuracy: 0.6328\n",
            "Epoch 8/10\n",
            "1563/1563 [==============================] - 12s 8ms/step - loss: 1.0887 - accuracy: 0.6155 - val_loss: 1.0237 - val_accuracy: 0.6416\n",
            "Epoch 9/10\n",
            "1563/1563 [==============================] - 12s 8ms/step - loss: 1.0387 - accuracy: 0.6333 - val_loss: 0.9446 - val_accuracy: 0.6724\n",
            "Epoch 10/10\n",
            "1563/1563 [==============================] - 12s 8ms/step - loss: 0.9878 - accuracy: 0.6512 - val_loss: 0.9382 - val_accuracy: 0.6711\n",
            "313/313 [==============================] - 1s 4ms/step - loss: 0.9382 - accuracy: 0.6711\n",
            "Epoch 1/10\n",
            "1563/1563 [==============================] - 15s 9ms/step - loss: 2.0777 - accuracy: 0.2378 - val_loss: 1.8863 - val_accuracy: 0.3405\n",
            "Epoch 2/10\n",
            "1563/1563 [==============================] - 14s 9ms/step - loss: 1.7852 - accuracy: 0.3568 - val_loss: 1.5791 - val_accuracy: 0.4301\n",
            "Epoch 3/10\n",
            "1563/1563 [==============================] - 14s 9ms/step - loss: 1.5807 - accuracy: 0.4251 - val_loss: 1.4376 - val_accuracy: 0.4765\n",
            "Epoch 4/10\n",
            "1563/1563 [==============================] - 14s 9ms/step - loss: 1.4471 - accuracy: 0.4757 - val_loss: 1.3302 - val_accuracy: 0.5326\n",
            "Epoch 5/10\n",
            "1563/1563 [==============================] - 14s 9ms/step - loss: 1.3472 - accuracy: 0.5171 - val_loss: 1.2185 - val_accuracy: 0.5584\n",
            "Epoch 6/10\n",
            "1563/1563 [==============================] - 14s 9ms/step - loss: 1.2621 - accuracy: 0.5473 - val_loss: 1.1692 - val_accuracy: 0.5766\n",
            "Epoch 7/10\n",
            "1563/1563 [==============================] - 14s 9ms/step - loss: 1.1842 - accuracy: 0.5780 - val_loss: 1.0664 - val_accuracy: 0.6218\n",
            "Epoch 8/10\n",
            "1563/1563 [==============================] - 14s 9ms/step - loss: 1.1148 - accuracy: 0.6032 - val_loss: 1.0508 - val_accuracy: 0.6271\n",
            "Epoch 9/10\n",
            "1563/1563 [==============================] - 14s 9ms/step - loss: 1.0506 - accuracy: 0.6287 - val_loss: 0.9933 - val_accuracy: 0.6496\n",
            "Epoch 10/10\n",
            "1563/1563 [==============================] - 14s 9ms/step - loss: 0.9927 - accuracy: 0.6487 - val_loss: 0.9281 - val_accuracy: 0.6670\n",
            "313/313 [==============================] - 1s 4ms/step - loss: 0.9281 - accuracy: 0.6670\n"
          ]
        }
      ],
      "source": [
        "result = []\n",
        "for koef_core in [1, 2]:\n",
        "  for num_layers in [1,2]:\n",
        "    model = bild_model(koef_core=koef_core, num_layers=num_layers)\n",
        "    history = model.fit(x_train, y_train,\n",
        "              batch_size=batch_size,\n",
        "              epochs=epochs,\n",
        "              validation_data=(x_test, y_test),\n",
        "              shuffle=True)\n",
        "    scores = model.evaluate(x_test, y_test, verbose=1)\n",
        "    result.append([koef_core, num_layers, history.history['loss'][-1], history.history['accuracy'][-1], scores[0], scores[1]])"
      ],
      "metadata": {
        "pycharm": {
          "name": "#%%\n"
        },
        "colab": {
          "base_uri": "https://localhost:8080/"
        },
        "id": "L6onZOmJApRH",
        "outputId": "83637d22-fedc-4850-e1b5-db1e9c3fb396"
      }
    },
    {
      "cell_type": "code",
      "execution_count": 23,
      "outputs": [
        {
          "output_type": "execute_result",
          "data": {
            "text/plain": [
              "   core  layers  loss train  accuracy train  loss test  accuracy test\n",
              "0     1       1    1.104780         0.60790   1.060724         0.6302\n",
              "1     1       2    1.097117         0.60872   1.036278         0.6373\n",
              "2     2       1    0.987845         0.65122   0.938222         0.6711\n",
              "3     2       2    0.992726         0.64874   0.928064         0.6670"
            ],
            "text/html": [
              "\n",
              "  <div id=\"df-b42793e6-001d-4595-95da-4a60e2659e59\">\n",
              "    <div class=\"colab-df-container\">\n",
              "      <div>\n",
              "<style scoped>\n",
              "    .dataframe tbody tr th:only-of-type {\n",
              "        vertical-align: middle;\n",
              "    }\n",
              "\n",
              "    .dataframe tbody tr th {\n",
              "        vertical-align: top;\n",
              "    }\n",
              "\n",
              "    .dataframe thead th {\n",
              "        text-align: right;\n",
              "    }\n",
              "</style>\n",
              "<table border=\"1\" class=\"dataframe\">\n",
              "  <thead>\n",
              "    <tr style=\"text-align: right;\">\n",
              "      <th></th>\n",
              "      <th>core</th>\n",
              "      <th>layers</th>\n",
              "      <th>loss train</th>\n",
              "      <th>accuracy train</th>\n",
              "      <th>loss test</th>\n",
              "      <th>accuracy test</th>\n",
              "    </tr>\n",
              "  </thead>\n",
              "  <tbody>\n",
              "    <tr>\n",
              "      <th>0</th>\n",
              "      <td>1</td>\n",
              "      <td>1</td>\n",
              "      <td>1.104780</td>\n",
              "      <td>0.60790</td>\n",
              "      <td>1.060724</td>\n",
              "      <td>0.6302</td>\n",
              "    </tr>\n",
              "    <tr>\n",
              "      <th>1</th>\n",
              "      <td>1</td>\n",
              "      <td>2</td>\n",
              "      <td>1.097117</td>\n",
              "      <td>0.60872</td>\n",
              "      <td>1.036278</td>\n",
              "      <td>0.6373</td>\n",
              "    </tr>\n",
              "    <tr>\n",
              "      <th>2</th>\n",
              "      <td>2</td>\n",
              "      <td>1</td>\n",
              "      <td>0.987845</td>\n",
              "      <td>0.65122</td>\n",
              "      <td>0.938222</td>\n",
              "      <td>0.6711</td>\n",
              "    </tr>\n",
              "    <tr>\n",
              "      <th>3</th>\n",
              "      <td>2</td>\n",
              "      <td>2</td>\n",
              "      <td>0.992726</td>\n",
              "      <td>0.64874</td>\n",
              "      <td>0.928064</td>\n",
              "      <td>0.6670</td>\n",
              "    </tr>\n",
              "  </tbody>\n",
              "</table>\n",
              "</div>\n",
              "      <button class=\"colab-df-convert\" onclick=\"convertToInteractive('df-b42793e6-001d-4595-95da-4a60e2659e59')\"\n",
              "              title=\"Convert this dataframe to an interactive table.\"\n",
              "              style=\"display:none;\">\n",
              "        \n",
              "  <svg xmlns=\"http://www.w3.org/2000/svg\" height=\"24px\"viewBox=\"0 0 24 24\"\n",
              "       width=\"24px\">\n",
              "    <path d=\"M0 0h24v24H0V0z\" fill=\"none\"/>\n",
              "    <path d=\"M18.56 5.44l.94 2.06.94-2.06 2.06-.94-2.06-.94-.94-2.06-.94 2.06-2.06.94zm-11 1L8.5 8.5l.94-2.06 2.06-.94-2.06-.94L8.5 2.5l-.94 2.06-2.06.94zm10 10l.94 2.06.94-2.06 2.06-.94-2.06-.94-.94-2.06-.94 2.06-2.06.94z\"/><path d=\"M17.41 7.96l-1.37-1.37c-.4-.4-.92-.59-1.43-.59-.52 0-1.04.2-1.43.59L10.3 9.45l-7.72 7.72c-.78.78-.78 2.05 0 2.83L4 21.41c.39.39.9.59 1.41.59.51 0 1.02-.2 1.41-.59l7.78-7.78 2.81-2.81c.8-.78.8-2.07 0-2.86zM5.41 20L4 18.59l7.72-7.72 1.47 1.35L5.41 20z\"/>\n",
              "  </svg>\n",
              "      </button>\n",
              "      \n",
              "  <style>\n",
              "    .colab-df-container {\n",
              "      display:flex;\n",
              "      flex-wrap:wrap;\n",
              "      gap: 12px;\n",
              "    }\n",
              "\n",
              "    .colab-df-convert {\n",
              "      background-color: #E8F0FE;\n",
              "      border: none;\n",
              "      border-radius: 50%;\n",
              "      cursor: pointer;\n",
              "      display: none;\n",
              "      fill: #1967D2;\n",
              "      height: 32px;\n",
              "      padding: 0 0 0 0;\n",
              "      width: 32px;\n",
              "    }\n",
              "\n",
              "    .colab-df-convert:hover {\n",
              "      background-color: #E2EBFA;\n",
              "      box-shadow: 0px 1px 2px rgba(60, 64, 67, 0.3), 0px 1px 3px 1px rgba(60, 64, 67, 0.15);\n",
              "      fill: #174EA6;\n",
              "    }\n",
              "\n",
              "    [theme=dark] .colab-df-convert {\n",
              "      background-color: #3B4455;\n",
              "      fill: #D2E3FC;\n",
              "    }\n",
              "\n",
              "    [theme=dark] .colab-df-convert:hover {\n",
              "      background-color: #434B5C;\n",
              "      box-shadow: 0px 1px 3px 1px rgba(0, 0, 0, 0.15);\n",
              "      filter: drop-shadow(0px 1px 2px rgba(0, 0, 0, 0.3));\n",
              "      fill: #FFFFFF;\n",
              "    }\n",
              "  </style>\n",
              "\n",
              "      <script>\n",
              "        const buttonEl =\n",
              "          document.querySelector('#df-b42793e6-001d-4595-95da-4a60e2659e59 button.colab-df-convert');\n",
              "        buttonEl.style.display =\n",
              "          google.colab.kernel.accessAllowed ? 'block' : 'none';\n",
              "\n",
              "        async function convertToInteractive(key) {\n",
              "          const element = document.querySelector('#df-b42793e6-001d-4595-95da-4a60e2659e59');\n",
              "          const dataTable =\n",
              "            await google.colab.kernel.invokeFunction('convertToInteractive',\n",
              "                                                     [key], {});\n",
              "          if (!dataTable) return;\n",
              "\n",
              "          const docLinkHtml = 'Like what you see? Visit the ' +\n",
              "            '<a target=\"_blank\" href=https://colab.research.google.com/notebooks/data_table.ipynb>data table notebook</a>'\n",
              "            + ' to learn more about interactive tables.';\n",
              "          element.innerHTML = '';\n",
              "          dataTable['output_type'] = 'display_data';\n",
              "          await google.colab.output.renderOutput(dataTable, element);\n",
              "          const docLink = document.createElement('div');\n",
              "          docLink.innerHTML = docLinkHtml;\n",
              "          element.appendChild(docLink);\n",
              "        }\n",
              "      </script>\n",
              "    </div>\n",
              "  </div>\n",
              "  "
            ]
          },
          "metadata": {},
          "execution_count": 23
        }
      ],
      "source": [
        "# проверка работы обученной модели\n",
        "pd.DataFrame(result, columns=['core', 'layers', 'loss train','accuracy train','loss test','accuracy test'])"
      ],
      "metadata": {
        "pycharm": {
          "name": "#%%\n"
        },
        "colab": {
          "base_uri": "https://localhost:8080/",
          "height": 175
        },
        "id": "nNfGAOTOApRH",
        "outputId": "7d81c8dc-681d-41cc-b119-8d6db7ac9b2e"
      }
    },
    {
      "cell_type": "code",
      "source": [
        ""
      ],
      "metadata": {
        "id": "GsjtRY2dBNjE"
      },
      "execution_count": null,
      "outputs": []
    }
  ],
  "metadata": {
    "kernelspec": {
      "display_name": "Python 3",
      "language": "python",
      "name": "python3"
    },
    "language_info": {
      "codemirror_mode": {
        "name": "ipython",
        "version": 2
      },
      "file_extension": ".py",
      "mimetype": "text/x-python",
      "name": "python",
      "nbconvert_exporter": "python",
      "pygments_lexer": "ipython2",
      "version": "2.7.6"
    },
    "colab": {
      "name": "home04.ipynb",
      "provenance": []
    },
    "accelerator": "GPU"
  },
  "nbformat": 4,
  "nbformat_minor": 0
}