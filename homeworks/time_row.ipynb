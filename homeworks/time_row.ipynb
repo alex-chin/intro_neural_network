{
 "cells": [
  {
   "cell_type": "code",
   "execution_count": 24,
   "outputs": [],
   "source": [
    "import pandas as pd\n",
    "import time\n",
    "import datetime"
   ],
   "metadata": {
    "collapsed": false,
    "pycharm": {
     "name": "#%%\n"
    }
   }
  },
  {
   "cell_type": "code",
   "execution_count": 4,
   "outputs": [
    {
     "data": {
      "text/plain": "           Time           Name                 Class                Sender  \\\n0  20:11:29.810      afterOpen        yii\\base\\Event     yii\\db\\Connection   \n1  20:11:29.878  beforeRequest        yii\\base\\Event   yii\\web\\Application   \n2  20:11:29.894   beforeAction  yii\\base\\ActionEvent   yii\\web\\Application   \n3  20:11:29.933           init        yii\\base\\Event  app\\models\\CityQuery   \n4  20:11:29.958           init        yii\\base\\Event  app\\models\\CityQuery   \n\n  Static  \n0    Нет  \n1    Нет  \n2    Нет  \n3    Нет  \n4    Нет  ",
      "text/html": "<div>\n<style scoped>\n    .dataframe tbody tr th:only-of-type {\n        vertical-align: middle;\n    }\n\n    .dataframe tbody tr th {\n        vertical-align: top;\n    }\n\n    .dataframe thead th {\n        text-align: right;\n    }\n</style>\n<table border=\"1\" class=\"dataframe\">\n  <thead>\n    <tr style=\"text-align: right;\">\n      <th></th>\n      <th>Time</th>\n      <th>Name</th>\n      <th>Class</th>\n      <th>Sender</th>\n      <th>Static</th>\n    </tr>\n  </thead>\n  <tbody>\n    <tr>\n      <th>0</th>\n      <td>20:11:29.810</td>\n      <td>afterOpen</td>\n      <td>yii\\base\\Event</td>\n      <td>yii\\db\\Connection</td>\n      <td>Нет</td>\n    </tr>\n    <tr>\n      <th>1</th>\n      <td>20:11:29.878</td>\n      <td>beforeRequest</td>\n      <td>yii\\base\\Event</td>\n      <td>yii\\web\\Application</td>\n      <td>Нет</td>\n    </tr>\n    <tr>\n      <th>2</th>\n      <td>20:11:29.894</td>\n      <td>beforeAction</td>\n      <td>yii\\base\\ActionEvent</td>\n      <td>yii\\web\\Application</td>\n      <td>Нет</td>\n    </tr>\n    <tr>\n      <th>3</th>\n      <td>20:11:29.933</td>\n      <td>init</td>\n      <td>yii\\base\\Event</td>\n      <td>app\\models\\CityQuery</td>\n      <td>Нет</td>\n    </tr>\n    <tr>\n      <th>4</th>\n      <td>20:11:29.958</td>\n      <td>init</td>\n      <td>yii\\base\\Event</td>\n      <td>app\\models\\CityQuery</td>\n      <td>Нет</td>\n    </tr>\n  </tbody>\n</table>\n</div>"
     },
     "execution_count": 4,
     "metadata": {},
     "output_type": "execute_result"
    }
   ],
   "source": [
    "df = pd.read_csv('timerow.csv', delimiter=';')\n",
    "df.head()"
   ],
   "metadata": {
    "collapsed": false,
    "pycharm": {
     "name": "#%%\n"
    }
   }
  },
  {
   "cell_type": "code",
   "execution_count": 15,
   "outputs": [
    {
     "data": {
      "text/plain": "           Time           Name                 Class                Sender  \\\n0  20:11:29.810      afterOpen        yii\\base\\Event     yii\\db\\Connection   \n1  20:11:29.878  beforeRequest        yii\\base\\Event   yii\\web\\Application   \n2  20:11:29.894   beforeAction  yii\\base\\ActionEvent   yii\\web\\Application   \n3  20:11:29.933           init        yii\\base\\Event  app\\models\\CityQuery   \n4  20:11:29.958           init        yii\\base\\Event  app\\models\\CityQuery   \n\n  Static              time_label  \n0    Нет 1900-01-01 20:11:29.810  \n1    Нет 1900-01-01 20:11:29.878  \n2    Нет 1900-01-01 20:11:29.894  \n3    Нет 1900-01-01 20:11:29.933  \n4    Нет 1900-01-01 20:11:29.958  ",
      "text/html": "<div>\n<style scoped>\n    .dataframe tbody tr th:only-of-type {\n        vertical-align: middle;\n    }\n\n    .dataframe tbody tr th {\n        vertical-align: top;\n    }\n\n    .dataframe thead th {\n        text-align: right;\n    }\n</style>\n<table border=\"1\" class=\"dataframe\">\n  <thead>\n    <tr style=\"text-align: right;\">\n      <th></th>\n      <th>Time</th>\n      <th>Name</th>\n      <th>Class</th>\n      <th>Sender</th>\n      <th>Static</th>\n      <th>time_label</th>\n    </tr>\n  </thead>\n  <tbody>\n    <tr>\n      <th>0</th>\n      <td>20:11:29.810</td>\n      <td>afterOpen</td>\n      <td>yii\\base\\Event</td>\n      <td>yii\\db\\Connection</td>\n      <td>Нет</td>\n      <td>1900-01-01 20:11:29.810</td>\n    </tr>\n    <tr>\n      <th>1</th>\n      <td>20:11:29.878</td>\n      <td>beforeRequest</td>\n      <td>yii\\base\\Event</td>\n      <td>yii\\web\\Application</td>\n      <td>Нет</td>\n      <td>1900-01-01 20:11:29.878</td>\n    </tr>\n    <tr>\n      <th>2</th>\n      <td>20:11:29.894</td>\n      <td>beforeAction</td>\n      <td>yii\\base\\ActionEvent</td>\n      <td>yii\\web\\Application</td>\n      <td>Нет</td>\n      <td>1900-01-01 20:11:29.894</td>\n    </tr>\n    <tr>\n      <th>3</th>\n      <td>20:11:29.933</td>\n      <td>init</td>\n      <td>yii\\base\\Event</td>\n      <td>app\\models\\CityQuery</td>\n      <td>Нет</td>\n      <td>1900-01-01 20:11:29.933</td>\n    </tr>\n    <tr>\n      <th>4</th>\n      <td>20:11:29.958</td>\n      <td>init</td>\n      <td>yii\\base\\Event</td>\n      <td>app\\models\\CityQuery</td>\n      <td>Нет</td>\n      <td>1900-01-01 20:11:29.958</td>\n    </tr>\n  </tbody>\n</table>\n</div>"
     },
     "execution_count": 15,
     "metadata": {},
     "output_type": "execute_result"
    }
   ],
   "source": [
    "df['time_label'] = 0\n",
    "df.time_label = df.apply(lambda x: datetime.datetime.strptime(x['Time'], '%H:%M:%S.%f'),  axis=1)\n",
    "df.head()"
   ],
   "metadata": {
    "collapsed": false,
    "pycharm": {
     "name": "#%%\n"
    }
   }
  },
  {
   "cell_type": "code",
   "execution_count": 20,
   "outputs": [
    {
     "data": {
      "text/plain": "           Time           Name                 Class                Sender  \\\n0  20:11:29.810      afterOpen        yii\\base\\Event     yii\\db\\Connection   \n1  20:11:29.878  beforeRequest        yii\\base\\Event   yii\\web\\Application   \n2  20:11:29.894   beforeAction  yii\\base\\ActionEvent   yii\\web\\Application   \n3  20:11:29.933           init        yii\\base\\Event  app\\models\\CityQuery   \n4  20:11:29.958           init        yii\\base\\Event  app\\models\\CityQuery   \n\n  Static              time_label             delta_time  \n0    Нет 1900-01-01 20:11:29.810                    NaT  \n1    Нет 1900-01-01 20:11:29.878 0 days 00:00:00.068000  \n2    Нет 1900-01-01 20:11:29.894 0 days 00:00:00.016000  \n3    Нет 1900-01-01 20:11:29.933 0 days 00:00:00.039000  \n4    Нет 1900-01-01 20:11:29.958 0 days 00:00:00.025000  ",
      "text/html": "<div>\n<style scoped>\n    .dataframe tbody tr th:only-of-type {\n        vertical-align: middle;\n    }\n\n    .dataframe tbody tr th {\n        vertical-align: top;\n    }\n\n    .dataframe thead th {\n        text-align: right;\n    }\n</style>\n<table border=\"1\" class=\"dataframe\">\n  <thead>\n    <tr style=\"text-align: right;\">\n      <th></th>\n      <th>Time</th>\n      <th>Name</th>\n      <th>Class</th>\n      <th>Sender</th>\n      <th>Static</th>\n      <th>time_label</th>\n      <th>delta_time</th>\n    </tr>\n  </thead>\n  <tbody>\n    <tr>\n      <th>0</th>\n      <td>20:11:29.810</td>\n      <td>afterOpen</td>\n      <td>yii\\base\\Event</td>\n      <td>yii\\db\\Connection</td>\n      <td>Нет</td>\n      <td>1900-01-01 20:11:29.810</td>\n      <td>NaT</td>\n    </tr>\n    <tr>\n      <th>1</th>\n      <td>20:11:29.878</td>\n      <td>beforeRequest</td>\n      <td>yii\\base\\Event</td>\n      <td>yii\\web\\Application</td>\n      <td>Нет</td>\n      <td>1900-01-01 20:11:29.878</td>\n      <td>0 days 00:00:00.068000</td>\n    </tr>\n    <tr>\n      <th>2</th>\n      <td>20:11:29.894</td>\n      <td>beforeAction</td>\n      <td>yii\\base\\ActionEvent</td>\n      <td>yii\\web\\Application</td>\n      <td>Нет</td>\n      <td>1900-01-01 20:11:29.894</td>\n      <td>0 days 00:00:00.016000</td>\n    </tr>\n    <tr>\n      <th>3</th>\n      <td>20:11:29.933</td>\n      <td>init</td>\n      <td>yii\\base\\Event</td>\n      <td>app\\models\\CityQuery</td>\n      <td>Нет</td>\n      <td>1900-01-01 20:11:29.933</td>\n      <td>0 days 00:00:00.039000</td>\n    </tr>\n    <tr>\n      <th>4</th>\n      <td>20:11:29.958</td>\n      <td>init</td>\n      <td>yii\\base\\Event</td>\n      <td>app\\models\\CityQuery</td>\n      <td>Нет</td>\n      <td>1900-01-01 20:11:29.958</td>\n      <td>0 days 00:00:00.025000</td>\n    </tr>\n  </tbody>\n</table>\n</div>"
     },
     "execution_count": 20,
     "metadata": {},
     "output_type": "execute_result"
    }
   ],
   "source": [
    "df['delta_time'] = 0\n",
    "df['delta_time'] = df.time_label.diff()\n",
    "df.head()"
   ],
   "metadata": {
    "collapsed": false,
    "pycharm": {
     "name": "#%%\n"
    }
   }
  },
  {
   "cell_type": "code",
   "execution_count": 23,
   "outputs": [
    {
     "data": {
      "text/plain": "              Time          Name                 Class  \\\n1051  20:11:34.974   afterRender    yii\\base\\ViewEvent   \n1047  20:11:33.602      afterRun  yii\\base\\WidgetEvent   \n51    20:11:30.992          init        yii\\base\\Event   \n1840  20:11:37.060     beforeRun  yii\\base\\WidgetEvent   \n1814  20:11:36.600      afterRun  yii\\base\\WidgetEvent   \n1852  20:11:37.445       endPage        yii\\base\\Event   \n143   20:11:31.636          init        yii\\base\\Event   \n1606  20:11:35.661  beforeRender    yii\\base\\ViewEvent   \n\n                              Sender Static              time_label  \\\n1051         rmrevin\\yii\\minify\\View    Нет 1900-01-01 20:11:34.974   \n1047          kartik\\select2\\Select2    Нет 1900-01-01 20:11:33.602   \n51              app\\models\\CityQuery    Нет 1900-01-01 20:11:30.992   \n1840  kartik\\datetime\\DateTimePicker    Нет 1900-01-01 20:11:37.060   \n1814         yii\\widgets\\MaskedInput    Нет 1900-01-01 20:11:36.600   \n1852         rmrevin\\yii\\minify\\View    Нет 1900-01-01 20:11:37.445   \n143             app\\models\\CityQuery    Нет 1900-01-01 20:11:31.636   \n1606         rmrevin\\yii\\minify\\View    Нет 1900-01-01 20:11:35.661   \n\n                 delta_time  \n1051 0 days 00:00:01.367000  \n1047 0 days 00:00:00.944000  \n51   0 days 00:00:00.708000  \n1840 0 days 00:00:00.385000  \n1814 0 days 00:00:00.371000  \n1852 0 days 00:00:00.339000  \n143  0 days 00:00:00.111000  \n1606 0 days 00:00:00.096000  ",
      "text/html": "<div>\n<style scoped>\n    .dataframe tbody tr th:only-of-type {\n        vertical-align: middle;\n    }\n\n    .dataframe tbody tr th {\n        vertical-align: top;\n    }\n\n    .dataframe thead th {\n        text-align: right;\n    }\n</style>\n<table border=\"1\" class=\"dataframe\">\n  <thead>\n    <tr style=\"text-align: right;\">\n      <th></th>\n      <th>Time</th>\n      <th>Name</th>\n      <th>Class</th>\n      <th>Sender</th>\n      <th>Static</th>\n      <th>time_label</th>\n      <th>delta_time</th>\n    </tr>\n  </thead>\n  <tbody>\n    <tr>\n      <th>1051</th>\n      <td>20:11:34.974</td>\n      <td>afterRender</td>\n      <td>yii\\base\\ViewEvent</td>\n      <td>rmrevin\\yii\\minify\\View</td>\n      <td>Нет</td>\n      <td>1900-01-01 20:11:34.974</td>\n      <td>0 days 00:00:01.367000</td>\n    </tr>\n    <tr>\n      <th>1047</th>\n      <td>20:11:33.602</td>\n      <td>afterRun</td>\n      <td>yii\\base\\WidgetEvent</td>\n      <td>kartik\\select2\\Select2</td>\n      <td>Нет</td>\n      <td>1900-01-01 20:11:33.602</td>\n      <td>0 days 00:00:00.944000</td>\n    </tr>\n    <tr>\n      <th>51</th>\n      <td>20:11:30.992</td>\n      <td>init</td>\n      <td>yii\\base\\Event</td>\n      <td>app\\models\\CityQuery</td>\n      <td>Нет</td>\n      <td>1900-01-01 20:11:30.992</td>\n      <td>0 days 00:00:00.708000</td>\n    </tr>\n    <tr>\n      <th>1840</th>\n      <td>20:11:37.060</td>\n      <td>beforeRun</td>\n      <td>yii\\base\\WidgetEvent</td>\n      <td>kartik\\datetime\\DateTimePicker</td>\n      <td>Нет</td>\n      <td>1900-01-01 20:11:37.060</td>\n      <td>0 days 00:00:00.385000</td>\n    </tr>\n    <tr>\n      <th>1814</th>\n      <td>20:11:36.600</td>\n      <td>afterRun</td>\n      <td>yii\\base\\WidgetEvent</td>\n      <td>yii\\widgets\\MaskedInput</td>\n      <td>Нет</td>\n      <td>1900-01-01 20:11:36.600</td>\n      <td>0 days 00:00:00.371000</td>\n    </tr>\n    <tr>\n      <th>1852</th>\n      <td>20:11:37.445</td>\n      <td>endPage</td>\n      <td>yii\\base\\Event</td>\n      <td>rmrevin\\yii\\minify\\View</td>\n      <td>Нет</td>\n      <td>1900-01-01 20:11:37.445</td>\n      <td>0 days 00:00:00.339000</td>\n    </tr>\n    <tr>\n      <th>143</th>\n      <td>20:11:31.636</td>\n      <td>init</td>\n      <td>yii\\base\\Event</td>\n      <td>app\\models\\CityQuery</td>\n      <td>Нет</td>\n      <td>1900-01-01 20:11:31.636</td>\n      <td>0 days 00:00:00.111000</td>\n    </tr>\n    <tr>\n      <th>1606</th>\n      <td>20:11:35.661</td>\n      <td>beforeRender</td>\n      <td>yii\\base\\ViewEvent</td>\n      <td>rmrevin\\yii\\minify\\View</td>\n      <td>Нет</td>\n      <td>1900-01-01 20:11:35.661</td>\n      <td>0 days 00:00:00.096000</td>\n    </tr>\n  </tbody>\n</table>\n</div>"
     },
     "execution_count": 23,
     "metadata": {},
     "output_type": "execute_result"
    }
   ],
   "source": [
    "df.sort_values(by='delta_time', ascending=False).head(8)"
   ],
   "metadata": {
    "collapsed": false,
    "pycharm": {
     "name": "#%%\n"
    }
   }
  },
  {
   "cell_type": "code",
   "execution_count": 38,
   "outputs": [],
   "source": [
    "def v_t(n):\n",
    "    return  df.iloc[n-1:n+2]"
   ],
   "metadata": {
    "collapsed": false,
    "pycharm": {
     "name": "#%%\n"
    }
   }
  },
  {
   "cell_type": "code",
   "execution_count": 39,
   "outputs": [
    {
     "data": {
      "text/plain": "              Time          Name                 Class  \\\n1050  20:11:33.607      afterRun  yii\\base\\WidgetEvent   \n1051  20:11:34.974   afterRender    yii\\base\\ViewEvent   \n1052  20:11:34.976  beforeRender    yii\\base\\ViewEvent   \n\n                       Sender Static  \n1050   kartik\\select2\\Select2    Нет  \n1051  rmrevin\\yii\\minify\\View    Нет  \n1052  rmrevin\\yii\\minify\\View    Нет  ",
      "text/html": "<div>\n<style scoped>\n    .dataframe tbody tr th:only-of-type {\n        vertical-align: middle;\n    }\n\n    .dataframe tbody tr th {\n        vertical-align: top;\n    }\n\n    .dataframe thead th {\n        text-align: right;\n    }\n</style>\n<table border=\"1\" class=\"dataframe\">\n  <thead>\n    <tr style=\"text-align: right;\">\n      <th></th>\n      <th>Time</th>\n      <th>Name</th>\n      <th>Class</th>\n      <th>Sender</th>\n      <th>Static</th>\n    </tr>\n  </thead>\n  <tbody>\n    <tr>\n      <th>1050</th>\n      <td>20:11:33.607</td>\n      <td>afterRun</td>\n      <td>yii\\base\\WidgetEvent</td>\n      <td>kartik\\select2\\Select2</td>\n      <td>Нет</td>\n    </tr>\n    <tr>\n      <th>1051</th>\n      <td>20:11:34.974</td>\n      <td>afterRender</td>\n      <td>yii\\base\\ViewEvent</td>\n      <td>rmrevin\\yii\\minify\\View</td>\n      <td>Нет</td>\n    </tr>\n    <tr>\n      <th>1052</th>\n      <td>20:11:34.976</td>\n      <td>beforeRender</td>\n      <td>yii\\base\\ViewEvent</td>\n      <td>rmrevin\\yii\\minify\\View</td>\n      <td>Нет</td>\n    </tr>\n  </tbody>\n</table>\n</div>"
     },
     "execution_count": 39,
     "metadata": {},
     "output_type": "execute_result"
    }
   ],
   "source": [
    "v_t(1051)"
   ],
   "metadata": {
    "collapsed": false,
    "pycharm": {
     "name": "#%%\n"
    }
   }
  },
  {
   "cell_type": "code",
   "execution_count": 40,
   "outputs": [
    {
     "data": {
      "text/plain": "              Time       Name                 Class                  Sender  \\\n1046  20:11:32.658  beforeRun  yii\\base\\WidgetEvent  kartik\\select2\\Select2   \n1047  20:11:33.602   afterRun  yii\\base\\WidgetEvent  kartik\\select2\\Select2   \n1048  20:11:33.603       init        yii\\base\\Event  kartik\\select2\\Select2   \n\n     Static  \n1046    Нет  \n1047    Нет  \n1048    Нет  ",
      "text/html": "<div>\n<style scoped>\n    .dataframe tbody tr th:only-of-type {\n        vertical-align: middle;\n    }\n\n    .dataframe tbody tr th {\n        vertical-align: top;\n    }\n\n    .dataframe thead th {\n        text-align: right;\n    }\n</style>\n<table border=\"1\" class=\"dataframe\">\n  <thead>\n    <tr style=\"text-align: right;\">\n      <th></th>\n      <th>Time</th>\n      <th>Name</th>\n      <th>Class</th>\n      <th>Sender</th>\n      <th>Static</th>\n    </tr>\n  </thead>\n  <tbody>\n    <tr>\n      <th>1046</th>\n      <td>20:11:32.658</td>\n      <td>beforeRun</td>\n      <td>yii\\base\\WidgetEvent</td>\n      <td>kartik\\select2\\Select2</td>\n      <td>Нет</td>\n    </tr>\n    <tr>\n      <th>1047</th>\n      <td>20:11:33.602</td>\n      <td>afterRun</td>\n      <td>yii\\base\\WidgetEvent</td>\n      <td>kartik\\select2\\Select2</td>\n      <td>Нет</td>\n    </tr>\n    <tr>\n      <th>1048</th>\n      <td>20:11:33.603</td>\n      <td>init</td>\n      <td>yii\\base\\Event</td>\n      <td>kartik\\select2\\Select2</td>\n      <td>Нет</td>\n    </tr>\n  </tbody>\n</table>\n</div>"
     },
     "execution_count": 40,
     "metadata": {},
     "output_type": "execute_result"
    }
   ],
   "source": [
    "v_t(1047)"
   ],
   "metadata": {
    "collapsed": false,
    "pycharm": {
     "name": "#%%\n"
    }
   }
  },
  {
   "cell_type": "code",
   "execution_count": 41,
   "outputs": [
    {
     "data": {
      "text/plain": "            Time       Name           Class                      Sender Static\n50  20:11:30.284  afterFind  yii\\base\\Event        app\\models\\shop\\Shop    Нет\n51  20:11:30.992       init  yii\\base\\Event        app\\models\\CityQuery    Нет\n52  20:11:31.003       init  yii\\base\\Event  app\\models\\shop\\ShopsQuery    Нет",
      "text/html": "<div>\n<style scoped>\n    .dataframe tbody tr th:only-of-type {\n        vertical-align: middle;\n    }\n\n    .dataframe tbody tr th {\n        vertical-align: top;\n    }\n\n    .dataframe thead th {\n        text-align: right;\n    }\n</style>\n<table border=\"1\" class=\"dataframe\">\n  <thead>\n    <tr style=\"text-align: right;\">\n      <th></th>\n      <th>Time</th>\n      <th>Name</th>\n      <th>Class</th>\n      <th>Sender</th>\n      <th>Static</th>\n    </tr>\n  </thead>\n  <tbody>\n    <tr>\n      <th>50</th>\n      <td>20:11:30.284</td>\n      <td>afterFind</td>\n      <td>yii\\base\\Event</td>\n      <td>app\\models\\shop\\Shop</td>\n      <td>Нет</td>\n    </tr>\n    <tr>\n      <th>51</th>\n      <td>20:11:30.992</td>\n      <td>init</td>\n      <td>yii\\base\\Event</td>\n      <td>app\\models\\CityQuery</td>\n      <td>Нет</td>\n    </tr>\n    <tr>\n      <th>52</th>\n      <td>20:11:31.003</td>\n      <td>init</td>\n      <td>yii\\base\\Event</td>\n      <td>app\\models\\shop\\ShopsQuery</td>\n      <td>Нет</td>\n    </tr>\n  </tbody>\n</table>\n</div>"
     },
     "execution_count": 41,
     "metadata": {},
     "output_type": "execute_result"
    }
   ],
   "source": [
    "v_t(51)"
   ],
   "metadata": {
    "collapsed": false,
    "pycharm": {
     "name": "#%%\n"
    }
   }
  },
  {
   "cell_type": "code",
   "execution_count": 42,
   "outputs": [
    {
     "data": {
      "text/plain": "              Time       Name                 Class  \\\n1839  20:11:36.675       init        yii\\base\\Event   \n1840  20:11:37.060  beforeRun  yii\\base\\WidgetEvent   \n1841  20:11:37.060   afterRun  yii\\base\\WidgetEvent   \n\n                              Sender Static  \n1839  kartik\\datetime\\DateTimePicker    Нет  \n1840  kartik\\datetime\\DateTimePicker    Нет  \n1841  kartik\\datetime\\DateTimePicker    Нет  ",
      "text/html": "<div>\n<style scoped>\n    .dataframe tbody tr th:only-of-type {\n        vertical-align: middle;\n    }\n\n    .dataframe tbody tr th {\n        vertical-align: top;\n    }\n\n    .dataframe thead th {\n        text-align: right;\n    }\n</style>\n<table border=\"1\" class=\"dataframe\">\n  <thead>\n    <tr style=\"text-align: right;\">\n      <th></th>\n      <th>Time</th>\n      <th>Name</th>\n      <th>Class</th>\n      <th>Sender</th>\n      <th>Static</th>\n    </tr>\n  </thead>\n  <tbody>\n    <tr>\n      <th>1839</th>\n      <td>20:11:36.675</td>\n      <td>init</td>\n      <td>yii\\base\\Event</td>\n      <td>kartik\\datetime\\DateTimePicker</td>\n      <td>Нет</td>\n    </tr>\n    <tr>\n      <th>1840</th>\n      <td>20:11:37.060</td>\n      <td>beforeRun</td>\n      <td>yii\\base\\WidgetEvent</td>\n      <td>kartik\\datetime\\DateTimePicker</td>\n      <td>Нет</td>\n    </tr>\n    <tr>\n      <th>1841</th>\n      <td>20:11:37.060</td>\n      <td>afterRun</td>\n      <td>yii\\base\\WidgetEvent</td>\n      <td>kartik\\datetime\\DateTimePicker</td>\n      <td>Нет</td>\n    </tr>\n  </tbody>\n</table>\n</div>"
     },
     "execution_count": 42,
     "metadata": {},
     "output_type": "execute_result"
    }
   ],
   "source": [
    "v_t(1840)"
   ],
   "metadata": {
    "collapsed": false,
    "pycharm": {
     "name": "#%%\n"
    }
   }
  },
  {
   "cell_type": "code",
   "execution_count": 43,
   "outputs": [
    {
     "data": {
      "text/plain": "              Time       Name                 Class                    Sender  \\\n1813  20:11:36.229  beforeRun  yii\\base\\WidgetEvent   yii\\widgets\\MaskedInput   \n1814  20:11:36.600   afterRun  yii\\base\\WidgetEvent   yii\\widgets\\MaskedInput   \n1815  20:11:36.602  beforeRun  yii\\base\\WidgetEvent  yii\\bootstrap\\ActiveForm   \n\n     Static  \n1813    Нет  \n1814    Нет  \n1815    Нет  ",
      "text/html": "<div>\n<style scoped>\n    .dataframe tbody tr th:only-of-type {\n        vertical-align: middle;\n    }\n\n    .dataframe tbody tr th {\n        vertical-align: top;\n    }\n\n    .dataframe thead th {\n        text-align: right;\n    }\n</style>\n<table border=\"1\" class=\"dataframe\">\n  <thead>\n    <tr style=\"text-align: right;\">\n      <th></th>\n      <th>Time</th>\n      <th>Name</th>\n      <th>Class</th>\n      <th>Sender</th>\n      <th>Static</th>\n    </tr>\n  </thead>\n  <tbody>\n    <tr>\n      <th>1813</th>\n      <td>20:11:36.229</td>\n      <td>beforeRun</td>\n      <td>yii\\base\\WidgetEvent</td>\n      <td>yii\\widgets\\MaskedInput</td>\n      <td>Нет</td>\n    </tr>\n    <tr>\n      <th>1814</th>\n      <td>20:11:36.600</td>\n      <td>afterRun</td>\n      <td>yii\\base\\WidgetEvent</td>\n      <td>yii\\widgets\\MaskedInput</td>\n      <td>Нет</td>\n    </tr>\n    <tr>\n      <th>1815</th>\n      <td>20:11:36.602</td>\n      <td>beforeRun</td>\n      <td>yii\\base\\WidgetEvent</td>\n      <td>yii\\bootstrap\\ActiveForm</td>\n      <td>Нет</td>\n    </tr>\n  </tbody>\n</table>\n</div>"
     },
     "execution_count": 43,
     "metadata": {},
     "output_type": "execute_result"
    }
   ],
   "source": [
    "v_t(1814)"
   ],
   "metadata": {
    "collapsed": false,
    "pycharm": {
     "name": "#%%\n"
    }
   }
  },
  {
   "cell_type": "code",
   "execution_count": 44,
   "outputs": [
    {
     "data": {
      "text/plain": "              Time         Name               Class                   Sender  \\\n1851  20:11:37.106      endBody      yii\\base\\Event  rmrevin\\yii\\minify\\View   \n1852  20:11:37.445      endPage      yii\\base\\Event  rmrevin\\yii\\minify\\View   \n1853  20:11:37.447  afterRender  yii\\base\\ViewEvent  rmrevin\\yii\\minify\\View   \n\n     Static  \n1851    Нет  \n1852    Нет  \n1853    Нет  ",
      "text/html": "<div>\n<style scoped>\n    .dataframe tbody tr th:only-of-type {\n        vertical-align: middle;\n    }\n\n    .dataframe tbody tr th {\n        vertical-align: top;\n    }\n\n    .dataframe thead th {\n        text-align: right;\n    }\n</style>\n<table border=\"1\" class=\"dataframe\">\n  <thead>\n    <tr style=\"text-align: right;\">\n      <th></th>\n      <th>Time</th>\n      <th>Name</th>\n      <th>Class</th>\n      <th>Sender</th>\n      <th>Static</th>\n    </tr>\n  </thead>\n  <tbody>\n    <tr>\n      <th>1851</th>\n      <td>20:11:37.106</td>\n      <td>endBody</td>\n      <td>yii\\base\\Event</td>\n      <td>rmrevin\\yii\\minify\\View</td>\n      <td>Нет</td>\n    </tr>\n    <tr>\n      <th>1852</th>\n      <td>20:11:37.445</td>\n      <td>endPage</td>\n      <td>yii\\base\\Event</td>\n      <td>rmrevin\\yii\\minify\\View</td>\n      <td>Нет</td>\n    </tr>\n    <tr>\n      <th>1853</th>\n      <td>20:11:37.447</td>\n      <td>afterRender</td>\n      <td>yii\\base\\ViewEvent</td>\n      <td>rmrevin\\yii\\minify\\View</td>\n      <td>Нет</td>\n    </tr>\n  </tbody>\n</table>\n</div>"
     },
     "execution_count": 44,
     "metadata": {},
     "output_type": "execute_result"
    }
   ],
   "source": [
    "v_t(1852)"
   ],
   "metadata": {
    "collapsed": false,
    "pycharm": {
     "name": "#%%\n"
    }
   }
  },
  {
   "cell_type": "code",
   "execution_count": null,
   "outputs": [],
   "source": [],
   "metadata": {
    "collapsed": false,
    "pycharm": {
     "name": "#%%\n"
    }
   }
  }
 ],
 "metadata": {
  "kernelspec": {
   "display_name": "Python 3",
   "language": "python",
   "name": "python3"
  },
  "language_info": {
   "codemirror_mode": {
    "name": "ipython",
    "version": 2
   },
   "file_extension": ".py",
   "mimetype": "text/x-python",
   "name": "python",
   "nbconvert_exporter": "python",
   "pygments_lexer": "ipython2",
   "version": "2.7.6"
  }
 },
 "nbformat": 4,
 "nbformat_minor": 0
}