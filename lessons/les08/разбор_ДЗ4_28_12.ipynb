{
  "nbformat": 4,
  "nbformat_minor": 0,
  "metadata": {
    "colab": {
      "name": "разбор ДЗ4 28_12.ipynb",
      "provenance": [],
      "collapsed_sections": [],
      "machine_shape": "hm"
    },
    "kernelspec": {
      "name": "python3",
      "display_name": "Python 3"
    },
    "accelerator": "GPU"
  },
  "cells": [
    {
      "cell_type": "markdown",
      "metadata": {
        "id": "eUy0000jIUuh"
      },
      "source": [
        "# Разбор ДЗ4\n",
        "Вариант 2. (сложный)\n",
        "    1. реализовать нейронную сеть в схеме AlexNet на сifar10.\n",
        "    2. оценить рост точности при увеличении ширины сети (больше ядер)\n",
        "    3. оценить рост точности при увеличении глубины сети (больше слоев)\n"
      ]
    },
    {
      "cell_type": "code",
      "metadata": {
        "id": "HeyrSETEITbm"
      },
      "source": [
        "# The full neural network code!\n",
        "###############################\n",
        "import numpy as np\n",
        "import pandas as pd\n",
        "#import mnist\n",
        "import tensorflow\n",
        "from tensorflow.keras.models import Sequential\n",
        "from tensorflow.keras.layers import Dense\n",
        "from tensorflow.keras.utils import to_categorical\n",
        "from tensorflow.keras.datasets import cifar10\n",
        "\n"
      ],
      "execution_count": null,
      "outputs": []
    },
    {
      "cell_type": "markdown",
      "metadata": {
        "id": "4K3a9LQOXHg4"
      },
      "source": [
        "\n",
        "\n",
        "Можно обрабатывать данные - это улучшит результат. \n",
        "\n"
      ]
    },
    {
      "cell_type": "code",
      "metadata": {
        "id": "HcOQiVbaIaW9",
        "colab": {
          "base_uri": "https://localhost:8080/",
          "height": 50
        },
        "outputId": "42584e27-8bef-4f56-f362-f9ee9c6664a2"
      },
      "source": [
        "(train_images,train_labels),(test_images,test_labels)=cifar10.load_data()\n",
        "\n",
        "# Normalize the images.\n",
        "train_images = (train_images / 255) - 0.5\n",
        "test_images = (test_images / 255) - 0.5\n",
        "\n",
        "# Flatten the images.\n",
        "\n",
        "\n",
        "train_labels = to_categorical(train_labels)\n",
        "test_labels = to_categorical(test_labels)\n",
        "#"
      ],
      "execution_count": null,
      "outputs": [
        {
          "output_type": "stream",
          "text": [
            "Downloading data from https://www.cs.toronto.edu/~kriz/cifar-10-python.tar.gz\n",
            "170500096/170498071 [==============================] - 11s 0us/step\n"
          ],
          "name": "stdout"
        }
      ]
    },
    {
      "cell_type": "code",
      "metadata": {
        "id": "Waiie8OZfrOA"
      },
      "source": [
        "from tensorflow.keras.models import Model "
      ],
      "execution_count": null,
      "outputs": []
    },
    {
      "cell_type": "markdown",
      "metadata": {
        "id": "HiCdyupggzwX"
      },
      "source": [
        "## AlexNet\n",
        "\n",
        "https://habr.com/ru/company/nix/blog/430524/\n",
        "\n",
        "\n",
        "Использование блоков линейной ректификации (ReLU) в качестве нелинейностей.\n",
        "\n",
        "Использование методики отбрасывания для выборочного игнорирования отдельных нейронов в ходе обучения, что позволяет избежать переобучения модели.\n",
        "\n",
        "Перекрытие max pooling, что позволяет избежать эффектов усреднения average pooling."
      ]
    },
    {
      "cell_type": "code",
      "metadata": {
        "id": "qhvLTu4AJIou"
      },
      "source": [
        "# соберу генерацию модели в функцию\n",
        "def neuron_net(layerList = [8,16,32,64,128], kernel_size_=[5,3,3,3,3]):\n",
        "  # Используеv функциональное API\n",
        "  # первый слой всегда 32х32х3 входов\n",
        "  \n",
        "  # в передаваемых параметрах :layerList = [8,16,32,64,128] - число ядер по слоям, в kernel_size_=[5,3,3,3,3] - размеры ядер по слоям\n",
        "  # инициализация  модели\n",
        "  input1= tensorflow.keras.layers.Input(shape=(32,32,3))\n",
        "  # первый сверточный слой\n",
        "  x1 = tensorflow.keras.layers.Conv2D(layerList[0], kernel_size=(kernel_size_[0], kernel_size_[0]), strides=(1, 1), activation='relu',  padding=\"same\")(input1)\n",
        "  # второй пуллинговый слой\n",
        "  x2 = tensorflow.keras.layers.MaxPooling2D(pool_size=(2, 2), strides=(1, 1), padding='same')(x1)\n",
        "\n",
        "  # третий сверточный слой\n",
        "  x3 = tensorflow.keras.layers.Conv2D(layerList[1], kernel_size=(kernel_size_[1], kernel_size_[1]), strides=(1, 1), activation='relu', padding='same')(x2)\n",
        "\n",
        "  # четвертый пуллинговый слой\n",
        "  x4 = tensorflow.keras.layers.MaxPooling2D(pool_size=(2, 2), strides=(2, 2), padding='same')(x3)\n",
        "\n",
        "  # пятый блок  слоев свертки без изменения размеров\n",
        "  x5 = tensorflow.keras.layers.Conv2D(layerList[2], kernel_size=(kernel_size_[2], kernel_size_[2]), strides=(1, 1), activation='relu', padding='same')(x4)\n",
        "  x5 = tensorflow.keras.layers.Conv2D(layerList[3], kernel_size=(kernel_size_[3], kernel_size_[3]), strides=(1, 1), activation='relu', padding='same')(x5)\n",
        "  x5 = tensorflow.keras.layers.Conv2D(layerList[4], kernel_size=(kernel_size_[4], kernel_size_[4]), strides=(1, 1), activation='relu', padding='same')(x5)\n",
        "  x5 = tensorflow.keras.layers.MaxPooling2D(pool_size=(2, 2), strides=(2, 2), padding='same')(x5)\n",
        "\n",
        "  # векторизирую CNN выход, чтобы можно было его присоединить к полносвязногому слою\n",
        "  x6 = tensorflow.keras.layers.Flatten()(x5)\n",
        "\n",
        "  # шестой полносвязный слой\n",
        "  x7 = tensorflow.keras.layers.Dense(84, activation='relu')(x6)\n",
        "\n",
        "  # выходной слой с функцией активации softmax\n",
        "  out_x = tensorflow.keras.layers.Dense(10, activation='softmax')(x7)\n",
        "\n",
        "  model = Model(inputs = input1, outputs = out_x)\n",
        "  model3 = Model(inputs = input1, outputs = x3) # эТО ДЛЯ ПОСМОТРЕТЬ ВНУТРИ\n",
        "  model5 = Model(inputs = input1, outputs = x5)  # эТО ДЛЯ ПОСМОТРЕТЬ ВНУТРИ\n",
        "# компилияция модели\n",
        "  model.compile(loss=tensorflow.keras.losses.categorical_crossentropy, optimizer='SGD', metrics=[\"accuracy\"])\n",
        "\n",
        "  return model, model3,model5"
      ],
      "execution_count": null,
      "outputs": []
    },
    {
      "cell_type": "code",
      "metadata": {
        "id": "Ty54FFTTKSpB",
        "colab": {
          "base_uri": "https://localhost:8080/",
          "height": 115
        },
        "outputId": "4aa71dc2-4552-4fd4-96fd-4adeab021380"
      },
      "source": [
        "### Эксперимент\n",
        "epochs = 100\n",
        "Error_exp_ = pd.DataFrame(data=np.array([[0,0,0,0,0]]),columns = ['neuron','batch_size','epoch','error','accuracy'])\n",
        "ik=0\n",
        "for neuron_ in [64,128]:\n",
        "  # меняю число нейронов скрытого слоя\n",
        "  #print(neuron_)\n",
        "  for batch_size_ in [50, 100,200]:\n",
        "    # меняю размер пакета для обучения\n",
        "    eerors = []\n",
        "    acc =[]\n",
        "    for j in range(3):\n",
        "      # будем делать несколько перезапусков - сейчас 3\n",
        "      \n",
        "      # создаем сеть\n",
        "      model, model3,model5 = neuron_net(layerList = [neuron_,16,32,64,128],kernel_size_=[5,3,3,3,3])\n",
        "      # учим сеть и проверяем сразу, т.к. включаю validation_split=0.2\n",
        "      history = model.fit(train_images, train_labels, epochs=5, batch_size=32, validation_split=0.2, verbose=0)\n",
        "      # записываю результаты валидации, а не обучения - это честно\n",
        "      eerors.append(history.history['val_loss'][-1])\n",
        "      acc.append(history.history['val_accuracy'][-1])\n",
        "    # Табличка !!!! \n",
        "    Error_exp_.loc[ik,['neuron','batch_size','epoch','error','accuracy']] = [neuron_,batch_size_,epochs ,np.mean(eerors),np.mean(acc)]\n",
        "    ik +=1\n",
        "\n",
        "\n",
        "# Predict on the first 5 test images.\n",
        "predictions = model.predict(test_images[:5])\n",
        "\n",
        "# Print our model's predictions.\n",
        "print(np.argmax(predictions, axis=1)) # [7, 2, 1, 0, 4]\n",
        "\n",
        "# Check our predictions against the ground truths.\n",
        "print(test_labels[:5]) # [7, 2, 1, 0, 4]"
      ],
      "execution_count": null,
      "outputs": [
        {
          "output_type": "stream",
          "text": [
            "[5 1 0 8 6]\n",
            "[[0. 0. 0. 1. 0. 0. 0. 0. 0. 0.]\n",
            " [0. 0. 0. 0. 0. 0. 0. 0. 1. 0.]\n",
            " [0. 0. 0. 0. 0. 0. 0. 0. 1. 0.]\n",
            " [1. 0. 0. 0. 0. 0. 0. 0. 0. 0.]\n",
            " [0. 0. 0. 0. 0. 0. 1. 0. 0. 0.]]\n"
          ],
          "name": "stdout"
        }
      ]
    },
    {
      "cell_type": "code",
      "metadata": {
        "id": "7sBCELqDdpDh",
        "colab": {
          "base_uri": "https://localhost:8080/",
          "height": 537
        },
        "outputId": "6fc16e34-d89f-495e-c042-65fffe71b1b4"
      },
      "source": [
        "# Покажем нашУ модельку\n",
        "model.summary()"
      ],
      "execution_count": null,
      "outputs": [
        {
          "output_type": "stream",
          "text": [
            "Model: \"model_51\"\n",
            "_________________________________________________________________\n",
            "Layer (type)                 Output Shape              Param #   \n",
            "=================================================================\n",
            "input_18 (InputLayer)        [(None, 32, 32, 3)]       0         \n",
            "_________________________________________________________________\n",
            "conv2d_85 (Conv2D)           (None, 32, 32, 128)       9728      \n",
            "_________________________________________________________________\n",
            "max_pooling2d_51 (MaxPooling (None, 32, 32, 128)       0         \n",
            "_________________________________________________________________\n",
            "conv2d_86 (Conv2D)           (None, 32, 32, 16)        18448     \n",
            "_________________________________________________________________\n",
            "max_pooling2d_52 (MaxPooling (None, 16, 16, 16)        0         \n",
            "_________________________________________________________________\n",
            "conv2d_87 (Conv2D)           (None, 16, 16, 32)        4640      \n",
            "_________________________________________________________________\n",
            "conv2d_88 (Conv2D)           (None, 16, 16, 64)        18496     \n",
            "_________________________________________________________________\n",
            "conv2d_89 (Conv2D)           (None, 16, 16, 128)       73856     \n",
            "_________________________________________________________________\n",
            "max_pooling2d_53 (MaxPooling (None, 8, 8, 128)         0         \n",
            "_________________________________________________________________\n",
            "flatten_17 (Flatten)         (None, 8192)              0         \n",
            "_________________________________________________________________\n",
            "dense_34 (Dense)             (None, 84)                688212    \n",
            "_________________________________________________________________\n",
            "dense_35 (Dense)             (None, 10)                850       \n",
            "=================================================================\n",
            "Total params: 814,230\n",
            "Trainable params: 814,230\n",
            "Non-trainable params: 0\n",
            "_________________________________________________________________\n"
          ],
          "name": "stdout"
        }
      ]
    },
    {
      "cell_type": "code",
      "metadata": {
        "id": "ef4a__JGMvXT",
        "colab": {
          "base_uri": "https://localhost:8080/",
          "height": 220
        },
        "outputId": "59e76c86-44e5-430a-fd61-eb25e720ee9b"
      },
      "source": [
        "# табличка !!!!\n",
        "Error_exp_"
      ],
      "execution_count": null,
      "outputs": [
        {
          "output_type": "execute_result",
          "data": {
            "text/html": [
              "<div>\n",
              "<style scoped>\n",
              "    .dataframe tbody tr th:only-of-type {\n",
              "        vertical-align: middle;\n",
              "    }\n",
              "\n",
              "    .dataframe tbody tr th {\n",
              "        vertical-align: top;\n",
              "    }\n",
              "\n",
              "    .dataframe thead th {\n",
              "        text-align: right;\n",
              "    }\n",
              "</style>\n",
              "<table border=\"1\" class=\"dataframe\">\n",
              "  <thead>\n",
              "    <tr style=\"text-align: right;\">\n",
              "      <th></th>\n",
              "      <th>neuron</th>\n",
              "      <th>batch_size</th>\n",
              "      <th>epoch</th>\n",
              "      <th>error</th>\n",
              "      <th>accuracy</th>\n",
              "    </tr>\n",
              "  </thead>\n",
              "  <tbody>\n",
              "    <tr>\n",
              "      <th>0</th>\n",
              "      <td>64.0</td>\n",
              "      <td>50.0</td>\n",
              "      <td>100.0</td>\n",
              "      <td>1.067934</td>\n",
              "      <td>0.625967</td>\n",
              "    </tr>\n",
              "    <tr>\n",
              "      <th>1</th>\n",
              "      <td>64.0</td>\n",
              "      <td>100.0</td>\n",
              "      <td>100.0</td>\n",
              "      <td>1.088103</td>\n",
              "      <td>0.617667</td>\n",
              "    </tr>\n",
              "    <tr>\n",
              "      <th>2</th>\n",
              "      <td>64.0</td>\n",
              "      <td>200.0</td>\n",
              "      <td>100.0</td>\n",
              "      <td>1.061037</td>\n",
              "      <td>0.626800</td>\n",
              "    </tr>\n",
              "    <tr>\n",
              "      <th>3</th>\n",
              "      <td>128.0</td>\n",
              "      <td>50.0</td>\n",
              "      <td>100.0</td>\n",
              "      <td>1.064574</td>\n",
              "      <td>0.620567</td>\n",
              "    </tr>\n",
              "    <tr>\n",
              "      <th>4</th>\n",
              "      <td>128.0</td>\n",
              "      <td>100.0</td>\n",
              "      <td>100.0</td>\n",
              "      <td>1.058547</td>\n",
              "      <td>0.623900</td>\n",
              "    </tr>\n",
              "    <tr>\n",
              "      <th>5</th>\n",
              "      <td>128.0</td>\n",
              "      <td>200.0</td>\n",
              "      <td>100.0</td>\n",
              "      <td>1.086864</td>\n",
              "      <td>0.615167</td>\n",
              "    </tr>\n",
              "  </tbody>\n",
              "</table>\n",
              "</div>"
            ],
            "text/plain": [
              "   neuron  batch_size  epoch     error  accuracy\n",
              "0    64.0        50.0  100.0  1.067934  0.625967\n",
              "1    64.0       100.0  100.0  1.088103  0.617667\n",
              "2    64.0       200.0  100.0  1.061037  0.626800\n",
              "3   128.0        50.0  100.0  1.064574  0.620567\n",
              "4   128.0       100.0  100.0  1.058547  0.623900\n",
              "5   128.0       200.0  100.0  1.086864  0.615167"
            ]
          },
          "metadata": {
            "tags": []
          },
          "execution_count": 9
        }
      ]
    },
    {
      "cell_type": "code",
      "metadata": {
        "id": "GB9FPKEUNjV2",
        "colab": {
          "base_uri": "https://localhost:8080/",
          "height": 333
        },
        "outputId": "92bc22d0-300a-40f0-b42b-fcd5c1fd88b0"
      },
      "source": [
        "import matplotlib.pyplot as plt\n",
        "\n",
        "# ГРАФИКИ !!!!! - это будет точность от числа нейронов по размерам пакетов(batch_size)\n",
        "e1 = Error_exp_.loc[Error_exp_['batch_size']==200,['neuron','accuracy']]\n",
        "e2 = Error_exp_.loc[Error_exp_['batch_size']==50,['neuron','accuracy']]\n",
        "e3 = Error_exp_.loc[Error_exp_['batch_size']==100,['neuron','accuracy']]\n",
        "plt.figure(figsize=(16,5))\n",
        "\n",
        "plt.xlabel('neuron')\n",
        "plt.ylabel('accuracy')\n",
        "plt.plot(e1['neuron'],e1['accuracy'],label = 'batch_size = 200')\n",
        "plt.plot(e2['neuron'],e2['accuracy'],label = 'batch_size= 50')\n",
        "plt.plot(e3['neuron'],e3['accuracy'],label = 'batch_size = 100')\n",
        "plt.legend()\n",
        "plt.show()"
      ],
      "execution_count": null,
      "outputs": [
        {
          "output_type": "display_data",
          "data": {
            "image/png": "[encoded data removed]",
            "text/plain": [
              "<Figure size 1152x360 with 1 Axes>"
            ]
          },
          "metadata": {
            "tags": []
          }
        }
      ]
    },
    {
      "cell_type": "code",
      "metadata": {
        "id": "2MYMUyFbRN7Y"
      },
      "source": [
        ""
      ],
      "execution_count": null,
      "outputs": []
    },
    {
      "cell_type": "markdown",
      "metadata": {
        "id": "NWEbQUtLRYlQ"
      },
      "source": [
        "# Анализ сводной таблицы и графики :\n",
        "\n",
        " - Нужно сделать больше экспериментов и посмотреть на конструкцию модели еще как-то :) \n",
        "\n",
        "\n",
        "# Рекомендации:\n",
        "Строим цикл для изменения размера ядер и их числа\n",
        "Строим цикл для изменения число слоев - нужно перерабатывать модель  в автоматом заполняемую (свертки блока 5 можно автоматизировать)\n",
        "Первый полносвязный слой - нужно переопределить число нейронов и посмотреть на широком эксперименте, что получится\n",
        "\n",
        "\n",
        "нейронки работают от случайной начальной точки - делаем много перезапусков (больше 3) для анализа архитектуры и осредняем результаты\n",
        "\n",
        "нейронки работают от случайной начальной точки - делаем много перезапусков дляпоиска лучшего варианта, если делаем обучение для работы\n",
        "\n",
        "Делаем таблички и графики\n",
        "\n",
        "Проводим анализ результатов: оцениваем средние ошибки(точности) архитектур и дисперсии ошибок (точности) - потом делаем выводы!!\n",
        "\n",
        "Для этой задачи можно проверить влияние размера выборки, включать/выключать нормализацию данных, проверить поведение по числу эпох, изменять параметры оптимизатора, брать разные активации, разное число слоев, разный loss и т.п."
      ]
    },
    {
      "cell_type": "code",
      "metadata": {
        "id": "4l5rWeSgS6KJ"
      },
      "source": [
        ""
      ],
      "execution_count": null,
      "outputs": []
    }
  ]
}