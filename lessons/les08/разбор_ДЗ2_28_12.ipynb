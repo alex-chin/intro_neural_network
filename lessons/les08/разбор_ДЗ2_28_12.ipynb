{
  "nbformat": 4,
  "nbformat_minor": 0,
  "metadata": {
    "colab": {
      "name": "разбор ДЗ2 28_12.ipynb",
      "provenance": [],
      "collapsed_sections": []
    },
    "kernelspec": {
      "name": "python3",
      "display_name": "Python 3"
    },
    "accelerator": "GPU"
  },
  "cells": [
    {
      "cell_type": "markdown",
      "metadata": {
        "id": "eUy0000jIUuh"
      },
      "source": [
        "# Разбор ДЗ2\n",
        "\n",
        "1. Попробуйте обучить нейронную сеть на Keras на Fashion-MNIST датасете.\n",
        "2. Опишите в комментарии к уроку - какой результата вы добились от нейросети? Что помогло вам улучшить ее точность?"
      ]
    },
    {
      "cell_type": "code",
      "metadata": {
        "id": "HeyrSETEITbm"
      },
      "source": [
        "# The full neural network code!\n",
        "###############################\n",
        "import numpy as np\n",
        "import pandas as pd\n",
        "#import mnist\n",
        "import tensorflow\n",
        "from tensorflow.keras.models import Sequential\n",
        "from tensorflow.keras.layers import Dense\n",
        "from tensorflow.keras.utils import to_categorical\n",
        "from tensorflow.keras.datasets import fashion_mnist\n",
        "\n"
      ],
      "execution_count": null,
      "outputs": []
    },
    {
      "cell_type": "code",
      "metadata": {
        "id": "HcOQiVbaIaW9",
        "colab": {
          "base_uri": "https://localhost:8080/",
          "height": 163
        },
        "outputId": "c6aa693f-b5f2-4900-9ee4-c624da70da94"
      },
      "source": [
        "(train_images,train_labels),(test_images,test_labels)=fashion_mnist.load_data()\n",
        "\n",
        "#train_images = mnist.train_images()\n",
        "#train_labels = mnist.train_labels()\n",
        "#test_images = mnist.test_images()\n",
        "#test_labels = mnist.test_labels()\n",
        "\n",
        "# Normalize the images.\n",
        "train_images = (train_images / 255) - 0.5\n",
        "test_images = (test_images / 255) - 0.5\n",
        "\n",
        "# Flatten the images.\n",
        "train_images = train_images.reshape((-1, 784))\n",
        "test_images = test_images.reshape((-1, 784))\n",
        "train_labels = to_categorical(train_labels)\n",
        "test_labels = to_categorical(test_labels)"
      ],
      "execution_count": null,
      "outputs": [
        {
          "output_type": "stream",
          "text": [
            "Downloading data from https://storage.googleapis.com/tensorflow/tf-keras-datasets/train-labels-idx1-ubyte.gz\n",
            "32768/29515 [=================================] - 0s 0us/step\n",
            "Downloading data from https://storage.googleapis.com/tensorflow/tf-keras-datasets/train-images-idx3-ubyte.gz\n",
            "26427392/26421880 [==============================] - 1s 0us/step\n",
            "Downloading data from https://storage.googleapis.com/tensorflow/tf-keras-datasets/t10k-labels-idx1-ubyte.gz\n",
            "8192/5148 [===============================================] - 0s 0us/step\n",
            "Downloading data from https://storage.googleapis.com/tensorflow/tf-keras-datasets/t10k-images-idx3-ubyte.gz\n",
            "4423680/4422102 [==============================] - 0s 0us/step\n"
          ],
          "name": "stdout"
        }
      ]
    },
    {
      "cell_type": "code",
      "metadata": {
        "id": "qhvLTu4AJIou"
      },
      "source": [
        "# соберу генерацию модели в функцию\n",
        "def neuron_net(layerList = [64,32]):\n",
        "  # layerList = [64,32] - список , который передает число слоев (сколько элементов в списке, столько слоев) и число нейронов в слое (значение  каждого элемента списка)\n",
        "  model = Sequential()\n",
        "  # первый слой всегда 784 входа\n",
        "  model.add(Dense(layerList[0], activation='relu', input_shape=(784,)))\n",
        "  for i in range(len(layerList)-1):\n",
        "    # число скрытых слоев определим автоматом по длине списка layerList, а число нейронов берем из этого списка по порядку\n",
        "    model.add(Dense(layerList[i+1], activation='relu'))\n",
        "  model.add(Dense(10, activation='softmax'))\n",
        "  # последний слой всегда 10 выходов - такая задача\n",
        "\n",
        "  # Compile the model.\n",
        "  model.compile(optimizer='adam', loss='categorical_crossentropy',  metrics=['accuracy'])\n",
        "  return model"
      ],
      "execution_count": null,
      "outputs": []
    },
    {
      "cell_type": "code",
      "metadata": {
        "id": "Ty54FFTTKSpB",
        "colab": {
          "base_uri": "https://localhost:8080/",
          "height": 126
        },
        "outputId": "684b2f20-3455-45ae-f62e-f46cb04f39fe"
      },
      "source": [
        "### Эксперимент\n",
        "epochs = 100\n",
        "Error_exp_ = pd.DataFrame(data=np.array([[0,0,0,0,0]]),columns = ['neuron','batch_size','epoch','error','accuracy'])\n",
        "ik=0\n",
        "for neuron_ in [64,128,256]:\n",
        "  # меняю число нейронов скрытого слоя\n",
        "  #print(neuron_)\n",
        "  for batch_size_ in [10, 50,100]:\n",
        "    # меняю размер пакета для обучения\n",
        "    eerors = []\n",
        "    acc =[]\n",
        "    for j in range(3):\n",
        "      # будем делать несколько перезапусков - сейчас 3\n",
        "      \n",
        "      # создаем сеть\n",
        "      model = neuron_net(layerList = [neuron_,64])\n",
        "      # учим сеть и проверяем сразу, т.к. включаю validation_split=0.2\n",
        "      history = model.fit(train_images, train_labels, epochs=5, batch_size=32, validation_split=0.2, verbose=0)\n",
        "      # записываю результаты валидации, а не обучения - это честно\n",
        "      eerors.append(history.history['val_loss'][-1])\n",
        "      acc.append(history.history['val_accuracy'][-1])\n",
        "    # Табличка !!!! \n",
        "    Error_exp_.loc[ik,['neuron','batch_size','epoch','error','accuracy']] = [neuron_,batch_size_,epochs ,np.mean(eerors),np.mean(acc)]\n",
        "    ik +=1\n",
        "\n",
        "\n",
        "# Predict on the first 5 test images.\n",
        "predictions = model.predict(test_images[:5])\n",
        "\n",
        "# Print our model's predictions.\n",
        "print(np.argmax(predictions, axis=1)) # [7, 2, 1, 0, 4]\n",
        "\n",
        "# Check our predictions against the ground truths.\n",
        "print(test_labels[:5]) # [7, 2, 1, 0, 4]"
      ],
      "execution_count": null,
      "outputs": [
        {
          "output_type": "stream",
          "text": [
            "[9 2 1 1 6]\n",
            "[[0. 0. 0. 0. 0. 0. 0. 0. 0. 1.]\n",
            " [0. 0. 1. 0. 0. 0. 0. 0. 0. 0.]\n",
            " [0. 1. 0. 0. 0. 0. 0. 0. 0. 0.]\n",
            " [0. 1. 0. 0. 0. 0. 0. 0. 0. 0.]\n",
            " [0. 0. 0. 0. 0. 0. 1. 0. 0. 0.]]\n"
          ],
          "name": "stdout"
        }
      ]
    },
    {
      "cell_type": "code",
      "metadata": {
        "id": "ef4a__JGMvXT",
        "colab": {
          "base_uri": "https://localhost:8080/",
          "height": 318
        },
        "outputId": "0909643b-4a6b-4eac-b70a-e26764cac08c"
      },
      "source": [
        "Error_exp_"
      ],
      "execution_count": null,
      "outputs": [
        {
          "output_type": "execute_result",
          "data": {
            "text/html": [
              "<div>\n",
              "<style scoped>\n",
              "    .dataframe tbody tr th:only-of-type {\n",
              "        vertical-align: middle;\n",
              "    }\n",
              "\n",
              "    .dataframe tbody tr th {\n",
              "        vertical-align: top;\n",
              "    }\n",
              "\n",
              "    .dataframe thead th {\n",
              "        text-align: right;\n",
              "    }\n",
              "</style>\n",
              "<table border=\"1\" class=\"dataframe\">\n",
              "  <thead>\n",
              "    <tr style=\"text-align: right;\">\n",
              "      <th></th>\n",
              "      <th>neuron</th>\n",
              "      <th>batch_size</th>\n",
              "      <th>epoch</th>\n",
              "      <th>error</th>\n",
              "      <th>accuracy</th>\n",
              "    </tr>\n",
              "  </thead>\n",
              "  <tbody>\n",
              "    <tr>\n",
              "      <th>0</th>\n",
              "      <td>64.0</td>\n",
              "      <td>10.0</td>\n",
              "      <td>100.0</td>\n",
              "      <td>0.367845</td>\n",
              "      <td>0.866444</td>\n",
              "    </tr>\n",
              "    <tr>\n",
              "      <th>1</th>\n",
              "      <td>64.0</td>\n",
              "      <td>50.0</td>\n",
              "      <td>100.0</td>\n",
              "      <td>0.346772</td>\n",
              "      <td>0.875528</td>\n",
              "    </tr>\n",
              "    <tr>\n",
              "      <th>2</th>\n",
              "      <td>64.0</td>\n",
              "      <td>100.0</td>\n",
              "      <td>100.0</td>\n",
              "      <td>0.349339</td>\n",
              "      <td>0.871389</td>\n",
              "    </tr>\n",
              "    <tr>\n",
              "      <th>3</th>\n",
              "      <td>128.0</td>\n",
              "      <td>10.0</td>\n",
              "      <td>100.0</td>\n",
              "      <td>0.348243</td>\n",
              "      <td>0.874556</td>\n",
              "    </tr>\n",
              "    <tr>\n",
              "      <th>4</th>\n",
              "      <td>128.0</td>\n",
              "      <td>50.0</td>\n",
              "      <td>100.0</td>\n",
              "      <td>0.352232</td>\n",
              "      <td>0.871667</td>\n",
              "    </tr>\n",
              "    <tr>\n",
              "      <th>5</th>\n",
              "      <td>128.0</td>\n",
              "      <td>100.0</td>\n",
              "      <td>100.0</td>\n",
              "      <td>0.335866</td>\n",
              "      <td>0.879000</td>\n",
              "    </tr>\n",
              "    <tr>\n",
              "      <th>6</th>\n",
              "      <td>256.0</td>\n",
              "      <td>10.0</td>\n",
              "      <td>100.0</td>\n",
              "      <td>0.347651</td>\n",
              "      <td>0.874944</td>\n",
              "    </tr>\n",
              "    <tr>\n",
              "      <th>7</th>\n",
              "      <td>256.0</td>\n",
              "      <td>50.0</td>\n",
              "      <td>100.0</td>\n",
              "      <td>0.340856</td>\n",
              "      <td>0.876861</td>\n",
              "    </tr>\n",
              "    <tr>\n",
              "      <th>8</th>\n",
              "      <td>256.0</td>\n",
              "      <td>100.0</td>\n",
              "      <td>100.0</td>\n",
              "      <td>0.339448</td>\n",
              "      <td>0.878306</td>\n",
              "    </tr>\n",
              "  </tbody>\n",
              "</table>\n",
              "</div>"
            ],
            "text/plain": [
              "   neuron  batch_size  epoch     error  accuracy\n",
              "0    64.0        10.0  100.0  0.367845  0.866444\n",
              "1    64.0        50.0  100.0  0.346772  0.875528\n",
              "2    64.0       100.0  100.0  0.349339  0.871389\n",
              "3   128.0        10.0  100.0  0.348243  0.874556\n",
              "4   128.0        50.0  100.0  0.352232  0.871667\n",
              "5   128.0       100.0  100.0  0.335866  0.879000\n",
              "6   256.0        10.0  100.0  0.347651  0.874944\n",
              "7   256.0        50.0  100.0  0.340856  0.876861\n",
              "8   256.0       100.0  100.0  0.339448  0.878306"
            ]
          },
          "metadata": {
            "tags": []
          },
          "execution_count": 5
        }
      ]
    },
    {
      "cell_type": "code",
      "metadata": {
        "id": "GB9FPKEUNjV2",
        "colab": {
          "base_uri": "https://localhost:8080/",
          "height": 334
        },
        "outputId": "6e0a4d1d-3298-404f-a4c5-8999c4ab841b"
      },
      "source": [
        "import matplotlib.pyplot as plt\n",
        "\n",
        "# ГРАФИКИ !!!!! - это будет точность от числа нейронов по размерам пакетов(batch_size)\n",
        "e1 = Error_exp_.loc[Error_exp_['batch_size']==10,['neuron','accuracy']]\n",
        "e2 = Error_exp_.loc[Error_exp_['batch_size']==50,['neuron','accuracy']]\n",
        "e3 = Error_exp_.loc[Error_exp_['batch_size']==100,['neuron','accuracy']]\n",
        "plt.figure(figsize=(16,5))\n",
        "\n",
        "plt.xlabel('neuron')\n",
        "plt.ylabel('accuracy')\n",
        "plt.plot(e1['neuron'],e1['accuracy'],label = 'batch_size = 10')\n",
        "plt.plot(e2['neuron'],e2['accuracy'],label = 'batch_size= 50')\n",
        "plt.plot(e3['neuron'],e3['accuracy'],label = 'batch_size = 100')\n",
        "plt.legend()\n",
        "plt.show()"
      ],
      "execution_count": null,
      "outputs": [
        {
          "output_type": "display_data",
          "data": {
            "image/png": "[encoded data removed]",
            "text/plain": [
              "<Figure size 1152x360 with 1 Axes>"
            ]
          },
          "metadata": {
            "tags": [],
            "needs_background": "light"
          }
        }
      ]
    },
    {
      "cell_type": "code",
      "metadata": {
        "id": "2MYMUyFbRN7Y"
      },
      "source": [
        ""
      ],
      "execution_count": null,
      "outputs": []
    },
    {
      "cell_type": "markdown",
      "metadata": {
        "id": "NWEbQUtLRYlQ"
      },
      "source": [
        "# Анализ сводной таблицы и графики :\n",
        "\n",
        " - больше нейронов - чаще выше точность обучения (при одинаковом размере пакетов)(для пакета batch_size=10 упала, надо провести больше перезапусков сети)\n",
        "\n",
        " - Больше нейронов - выше точность (не сильно)\n",
        "\n",
        "# Рекомендации:\n",
        "нейронки работают от случайной начальной точки - делаем много перезапусков для анализа архитектуры и осредняем результаты\n",
        "\n",
        "нейронки работают от случайной начальной точки - делаем много перезапусков дляпоиска лучшего варианта, если делаем обучение для работы\n",
        "\n",
        "Делаем таблички и графики\n",
        "\n",
        "Проводим анализ результатов: оцениваем средние ошибки(точности) архитектур и дисперсии ошибок (точности) - потом делаем выводы!!\n",
        "\n",
        "Для этой задачи можно проверить влияние размера выборки, включать/выключать нормализацию данных, проверить поведение по числу эпох, изменять параметры оптимизатора, брать разные активации, разное число слоев, разный loss и т.п."
      ]
    },
    {
      "cell_type": "code",
      "metadata": {
        "id": "4l5rWeSgS6KJ"
      },
      "source": [
        ""
      ],
      "execution_count": null,
      "outputs": []
    }
  ]
}