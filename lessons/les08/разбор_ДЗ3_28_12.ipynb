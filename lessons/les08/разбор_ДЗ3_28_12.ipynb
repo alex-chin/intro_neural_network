{
  "nbformat": 4,
  "nbformat_minor": 0,
  "metadata": {
    "colab": {
      "name": "разбор ДЗ3 28_12.ipynb",
      "provenance": [],
      "collapsed_sections": []
    },
    "kernelspec": {
      "name": "python3",
      "display_name": "Python 3"
    },
    "accelerator": "GPU"
  },
  "cells": [
    {
      "cell_type": "markdown",
      "metadata": {
        "id": "eUy0000jIUuh"
      },
      "source": [
        "# Разбор ДЗ3\n",
        "\n",
        "1.Попробуйте обучить нейронную сеть на TensorFlow 2 на любом датасете (fachion_mnist, imdb_reviews, boston_housing ). Опишите в комментарии к уроку - какой результата вы добились от нейросети? Что помогло вам улучшить ее точность?\n",
        "\n",
        "*2. Поработайте с документацией TensorFlow 2. Найдите полезные команды не разобранные на уроке.\n",
        "\n",
        "3. Постройте сеть на Dense слоях с использование нескольких нитей графа вычислений. (concatenate, Add, .…)"
      ]
    },
    {
      "cell_type": "code",
      "metadata": {
        "id": "HeyrSETEITbm"
      },
      "source": [
        "# The full neural network code!\n",
        "###############################\n",
        "import numpy as np\n",
        "import pandas as pd\n",
        "#import mnist\n",
        "import tensorflow\n",
        "from tensorflow.keras.models import Sequential\n",
        "from tensorflow.keras.layers import Dense\n",
        "from tensorflow.keras.utils import to_categorical\n",
        "from tensorflow.keras.datasets import boston_housing\n",
        "\n"
      ],
      "execution_count": null,
      "outputs": []
    },
    {
      "cell_type": "code",
      "metadata": {
        "id": "IW8WVKS4nVvk",
        "colab": {
          "base_uri": "https://localhost:8080/",
          "height": 90
        },
        "outputId": "b508a2e3-2cf1-445e-dee9-2cf68e4eebb1"
      },
      "source": [
        "x = tensorflow.constant([[1, 2, 3], [4, 5, 6]])\n",
        "tensorflow.transpose(x)\n",
        "\n"
      ],
      "execution_count": null,
      "outputs": [
        {
          "output_type": "execute_result",
          "data": {
            "text/plain": [
              "<tf.Tensor: shape=(3, 2), dtype=int32, numpy=\n",
              "array([[1, 4],\n",
              "       [2, 5],\n",
              "       [3, 6]], dtype=int32)>"
            ]
          },
          "metadata": {
            "tags": []
          },
          "execution_count": 3
        }
      ]
    },
    {
      "cell_type": "code",
      "metadata": {
        "id": "_WFl-IOUntWF",
        "colab": {
          "base_uri": "https://localhost:8080/",
          "height": 126
        },
        "outputId": "26f7ec72-cb01-42ac-d472-13caa5c0ad27"
      },
      "source": [
        "x = tensorflow.Variable(tensorflow.random.uniform([5, 3], 0, 10))\n",
        "x"
      ],
      "execution_count": null,
      "outputs": [
        {
          "output_type": "execute_result",
          "data": {
            "text/plain": [
              "<tf.Variable 'Variable:0' shape=(5, 3) dtype=float32, numpy=\n",
              "array([[4.56048  , 2.0489585, 2.2623491],\n",
              "       [2.047168 , 3.0145276, 6.9125757],\n",
              "       [9.738837 , 2.1307564, 4.761648 ],\n",
              "       [6.6235104, 2.9567337, 6.415663 ],\n",
              "       [8.442517 , 4.289179 , 8.820345 ]], dtype=float32)>"
            ]
          },
          "metadata": {
            "tags": []
          },
          "execution_count": 10
        }
      ]
    },
    {
      "cell_type": "code",
      "metadata": {
        "id": "9EQkrTNPoAzZ",
        "colab": {
          "base_uri": "https://localhost:8080/",
          "height": 35
        },
        "outputId": "da248bd9-32bb-47eb-9935-9b8f6b8058d1"
      },
      "source": [
        "s0, s1, s2 = tensorflow.split(tensorflow.round(x), num_or_size_splits=3, axis=1)\n",
        "tensorflow.shape(s0).numpy()"
      ],
      "execution_count": null,
      "outputs": [
        {
          "output_type": "execute_result",
          "data": {
            "text/plain": [
              "array([5, 1], dtype=int32)"
            ]
          },
          "metadata": {
            "tags": []
          },
          "execution_count": 16
        }
      ]
    },
    {
      "cell_type": "code",
      "metadata": {
        "id": "QBjjybKMojjQ",
        "colab": {
          "base_uri": "https://localhost:8080/",
          "height": 54
        },
        "outputId": "4199e061-9067-410f-cc48-e29f54e684c3"
      },
      "source": [
        "y, idx = tensorflow.unique(tensorflow.squeeze(s0))\n",
        "y,idx"
      ],
      "execution_count": null,
      "outputs": [
        {
          "output_type": "execute_result",
          "data": {
            "text/plain": [
              "(<tf.Tensor: shape=(5,), dtype=float32, numpy=array([ 5.,  2., 10.,  7.,  8.], dtype=float32)>,\n",
              " <tf.Tensor: shape=(5,), dtype=int32, numpy=array([0, 1, 2, 3, 4], dtype=int32)>)"
            ]
          },
          "metadata": {
            "tags": []
          },
          "execution_count": 17
        }
      ]
    },
    {
      "cell_type": "code",
      "metadata": {
        "id": "TMHcNMiHpfmV",
        "colab": {
          "base_uri": "https://localhost:8080/",
          "height": 126
        },
        "outputId": "bf3bbb74-7757-4859-e335-47893587e481"
      },
      "source": [
        "tensorflow.math.cos(s0)"
      ],
      "execution_count": null,
      "outputs": [
        {
          "output_type": "execute_result",
          "data": {
            "text/plain": [
              "<tf.Tensor: shape=(5, 1), dtype=float32, numpy=\n",
              "array([[ 0.28366217],\n",
              "       [-0.4161468 ],\n",
              "       [-0.8390715 ],\n",
              "       [ 0.75390226],\n",
              "       [-0.14550003]], dtype=float32)>"
            ]
          },
          "metadata": {
            "tags": []
          },
          "execution_count": 18
        }
      ]
    },
    {
      "cell_type": "markdown",
      "metadata": {
        "id": "4K3a9LQOXHg4"
      },
      "source": [
        "Задача регрессии !!!!!!\n",
        "\n",
        "Можно обрабатывать данные - это улучшит результат. \n",
        "\n",
        "Пропускаю этот этап и пойду строить сеть сразу."
      ]
    },
    {
      "cell_type": "code",
      "metadata": {
        "id": "HcOQiVbaIaW9"
      },
      "source": [
        "(train_data,train_labels),(test_data,test_labels)=boston_housing.load_data()\n",
        "#"
      ],
      "execution_count": null,
      "outputs": []
    },
    {
      "cell_type": "code",
      "metadata": {
        "id": "qhvLTu4AJIou"
      },
      "source": [
        "# соберу генерацию модели в функцию\n",
        "def neuron_net(layerList = [10,5]):\n",
        "  # в функцию в списке передаю число нейронов по слоям (сразу знаем сколько будет слоев и нейронов в них)\n",
        "  # Используеv функциональное API\n",
        "  # первый слой всегда 13 входов\n",
        "  # сеть будет иметь 2 нити - первая нить изменяемая по layerList, вторая нить всегда содержит один полносвязный слой с 5-ю нейронами (это х2)\n",
        "  first_input = tensorflow.keras.layers.Input(shape=(13, ))\n",
        "  x1 = Dense(layerList[0], activation='relu')(first_input) # первая нить\n",
        "  x2 = Dense(5, activation='relu')(first_input) # вторая нить\n",
        "  for i in range(len(layerList)-1):\n",
        "    # число скрытых слоев определим автоматом по длине списка layerList, а число нейронов берем из этого списка по порядку\n",
        "    x1 = Dense(layerList[i+1], activation='relu')(x1)\n",
        "  merge_two = tensorflow.keras.layers.concatenate([x1, x2])\n",
        "  out_all = Dense(1, activation='linear')(merge_two)\n",
        "  # последний слой всегда 1 выход и линейная активация - такая задача - регрессия\n",
        "  model = tensorflow.keras.models.Model(inputs=[first_input], outputs=out_all)\n",
        "  # Compile the model. метрику и лосс определяю по регрессии\n",
        "  model.compile(optimizer='adam', loss='mse',  metrics=['mse'])\n",
        "  return model"
      ],
      "execution_count": null,
      "outputs": []
    },
    {
      "cell_type": "code",
      "metadata": {
        "id": "Ty54FFTTKSpB",
        "colab": {
          "base_uri": "https://localhost:8080/",
          "height": 115
        },
        "outputId": "c13b4cad-8a4a-4b4b-baa1-10df730a753b"
      },
      "source": [
        "### Эксперимент\n",
        "epochs = 100\n",
        "Error_exp_ = pd.DataFrame(data=np.array([[0,0,0,0,0]]),columns = ['neuron','batch_size','epoch','error','val_mse'])\n",
        "ik=0\n",
        "for neuron_ in [64,128,256]:\n",
        "  # меняю число нейронов скрытого слоя\n",
        "  #print(neuron_)\n",
        "  for batch_size_ in [10, 50,100]:\n",
        "    # меняю размер пакета для обучения\n",
        "    eerors = []\n",
        "    acc =[]\n",
        "    for j in range(3):\n",
        "      # будем делать несколько перезапусков - сейчас 3\n",
        "      \n",
        "      # создаем сеть\n",
        "      model = neuron_net(layerList = [neuron_,64])\n",
        "      # учим сеть и проверяем сразу, т.к. включаю validation_split=0.2\n",
        "      history = model.fit(train_data, train_labels, epochs=5, batch_size=32, validation_data=(test_data,test_labels), verbose=0)\n",
        "      # записываю результаты валидации, а не обучения - это честно\n",
        "      eerors.append(history.history['val_loss'][-1])\n",
        "      acc.append(history.history['val_mse'][-1])\n",
        "    # Табличка !!!! \n",
        "    Error_exp_.loc[ik,['neuron','batch_size','epoch','error','val_mse']] = [neuron_,batch_size_,epochs ,np.mean(eerors),np.mean(acc)]\n",
        "    ik +=1\n",
        "\n",
        "\n",
        "# Predict on the first 5 test images.\n",
        "predictions = model.predict(test_data[:5])\n",
        "\n",
        "# Print our model's predictions.\n",
        "print(predictions) # [7, 2, 1, 0, 4]\n",
        "\n",
        "# Check our predictions against the ground truths.\n",
        "print(test_labels[:5]) # [7, 2, 1, 0, 4]"
      ],
      "execution_count": null,
      "outputs": [
        {
          "output_type": "stream",
          "text": [
            "[[14.953605]\n",
            " [25.11012 ]\n",
            " [31.146982]\n",
            " [19.024776]\n",
            " [29.331923]]\n",
            "[ 7.2 18.8 19.  27.  22.2]\n"
          ],
          "name": "stdout"
        }
      ]
    },
    {
      "cell_type": "code",
      "metadata": {
        "id": "7sBCELqDdpDh",
        "colab": {
          "base_uri": "https://localhost:8080/",
          "height": 466
        },
        "outputId": "1bd333c3-4462-4f7c-f98f-6cd1aaf91571"
      },
      "source": [
        "# Покажем наше чудовище\n",
        "tensorflow.keras.utils.plot_model(model ,to_file='new_model.png')"
      ],
      "execution_count": null,
      "outputs": [
        {
          "output_type": "execute_result",
          "data": {
            "image/png": "[encoded data removed]",
            "text/plain": [
              "<IPython.core.display.Image object>"
            ]
          },
          "metadata": {
            "tags": []
          },
          "execution_count": 19
        }
      ]
    },
    {
      "cell_type": "code",
      "metadata": {
        "id": "ef4a__JGMvXT",
        "colab": {
          "base_uri": "https://localhost:8080/",
          "height": 306
        },
        "outputId": "45ab1db7-cb3e-42eb-fed8-c2b44805dd1d"
      },
      "source": [
        "# табличка !!!!\n",
        "Error_exp_"
      ],
      "execution_count": null,
      "outputs": [
        {
          "output_type": "execute_result",
          "data": {
            "text/html": [
              "<div>\n",
              "<style scoped>\n",
              "    .dataframe tbody tr th:only-of-type {\n",
              "        vertical-align: middle;\n",
              "    }\n",
              "\n",
              "    .dataframe tbody tr th {\n",
              "        vertical-align: top;\n",
              "    }\n",
              "\n",
              "    .dataframe thead th {\n",
              "        text-align: right;\n",
              "    }\n",
              "</style>\n",
              "<table border=\"1\" class=\"dataframe\">\n",
              "  <thead>\n",
              "    <tr style=\"text-align: right;\">\n",
              "      <th></th>\n",
              "      <th>neuron</th>\n",
              "      <th>batch_size</th>\n",
              "      <th>epoch</th>\n",
              "      <th>error</th>\n",
              "      <th>val_mse</th>\n",
              "    </tr>\n",
              "  </thead>\n",
              "  <tbody>\n",
              "    <tr>\n",
              "      <th>0</th>\n",
              "      <td>64.0</td>\n",
              "      <td>10.0</td>\n",
              "      <td>100.0</td>\n",
              "      <td>94.859019</td>\n",
              "      <td>73.920517</td>\n",
              "    </tr>\n",
              "    <tr>\n",
              "      <th>1</th>\n",
              "      <td>64.0</td>\n",
              "      <td>50.0</td>\n",
              "      <td>100.0</td>\n",
              "      <td>96.472529</td>\n",
              "      <td>78.352320</td>\n",
              "    </tr>\n",
              "    <tr>\n",
              "      <th>2</th>\n",
              "      <td>64.0</td>\n",
              "      <td>100.0</td>\n",
              "      <td>100.0</td>\n",
              "      <td>86.874357</td>\n",
              "      <td>72.053684</td>\n",
              "    </tr>\n",
              "    <tr>\n",
              "      <th>3</th>\n",
              "      <td>128.0</td>\n",
              "      <td>10.0</td>\n",
              "      <td>100.0</td>\n",
              "      <td>91.933932</td>\n",
              "      <td>76.434591</td>\n",
              "    </tr>\n",
              "    <tr>\n",
              "      <th>4</th>\n",
              "      <td>128.0</td>\n",
              "      <td>50.0</td>\n",
              "      <td>100.0</td>\n",
              "      <td>94.745115</td>\n",
              "      <td>64.815578</td>\n",
              "    </tr>\n",
              "    <tr>\n",
              "      <th>5</th>\n",
              "      <td>128.0</td>\n",
              "      <td>100.0</td>\n",
              "      <td>100.0</td>\n",
              "      <td>109.994695</td>\n",
              "      <td>72.253742</td>\n",
              "    </tr>\n",
              "    <tr>\n",
              "      <th>6</th>\n",
              "      <td>256.0</td>\n",
              "      <td>10.0</td>\n",
              "      <td>100.0</td>\n",
              "      <td>90.287417</td>\n",
              "      <td>63.613831</td>\n",
              "    </tr>\n",
              "    <tr>\n",
              "      <th>7</th>\n",
              "      <td>256.0</td>\n",
              "      <td>50.0</td>\n",
              "      <td>100.0</td>\n",
              "      <td>94.281530</td>\n",
              "      <td>62.970320</td>\n",
              "    </tr>\n",
              "    <tr>\n",
              "      <th>8</th>\n",
              "      <td>256.0</td>\n",
              "      <td>100.0</td>\n",
              "      <td>100.0</td>\n",
              "      <td>96.466220</td>\n",
              "      <td>68.955372</td>\n",
              "    </tr>\n",
              "  </tbody>\n",
              "</table>\n",
              "</div>"
            ],
            "text/plain": [
              "   neuron  batch_size  epoch       error    val_mse\n",
              "0    64.0        10.0  100.0   94.859019  73.920517\n",
              "1    64.0        50.0  100.0   96.472529  78.352320\n",
              "2    64.0       100.0  100.0   86.874357  72.053684\n",
              "3   128.0        10.0  100.0   91.933932  76.434591\n",
              "4   128.0        50.0  100.0   94.745115  64.815578\n",
              "5   128.0       100.0  100.0  109.994695  72.253742\n",
              "6   256.0        10.0  100.0   90.287417  63.613831\n",
              "7   256.0        50.0  100.0   94.281530  62.970320\n",
              "8   256.0       100.0  100.0   96.466220  68.955372"
            ]
          },
          "metadata": {
            "tags": []
          },
          "execution_count": 20
        }
      ]
    },
    {
      "cell_type": "code",
      "metadata": {
        "id": "GB9FPKEUNjV2",
        "colab": {
          "base_uri": "https://localhost:8080/",
          "height": 333
        },
        "outputId": "718ca3d5-5370-448c-882e-3fd7fce01e70"
      },
      "source": [
        "import matplotlib.pyplot as plt\n",
        "\n",
        "# ГРАФИКИ !!!!! - это будет точность от числа нейронов по размерам пакетов(batch_size)\n",
        "e1 = Error_exp_.loc[Error_exp_['batch_size']==10,['neuron','val_mse']]\n",
        "e2 = Error_exp_.loc[Error_exp_['batch_size']==50,['neuron','val_mse']]\n",
        "e3 = Error_exp_.loc[Error_exp_['batch_size']==100,['neuron','val_mse']]\n",
        "plt.figure(figsize=(16,5))\n",
        "\n",
        "plt.xlabel('neuron')\n",
        "plt.ylabel('val_mse')\n",
        "plt.plot(e1['neuron'],e1['val_mse'],label = 'batch_size = 10')\n",
        "plt.plot(e2['neuron'],e2['val_mse'],label = 'batch_size= 50')\n",
        "plt.plot(e3['neuron'],e3['val_mse'],label = 'batch_size = 100')\n",
        "plt.legend()\n",
        "plt.show()"
      ],
      "execution_count": null,
      "outputs": [
        {
          "output_type": "display_data",
          "data": {
            "image/png": "[encoded data removed]",
            "text/plain": [
              "<Figure size 1152x360 with 1 Axes>"
            ]
          },
          "metadata": {
            "tags": []
          }
        }
      ]
    },
    {
      "cell_type": "code",
      "metadata": {
        "id": "2MYMUyFbRN7Y"
      },
      "source": [
        ""
      ],
      "execution_count": null,
      "outputs": []
    },
    {
      "cell_type": "markdown",
      "metadata": {
        "id": "NWEbQUtLRYlQ"
      },
      "source": [
        "# Анализ сводной таблицы и графики :\n",
        "\n",
        " - Нужно сделать больше экспериментов и посмотреть на конструкцию модели еще как-то :) \n",
        "\n",
        "\n",
        "# Рекомендации:\n",
        "\n",
        "Думаем над задачей - возможно в выделении нитей есть смысл (здесь похоже не было)\n",
        "\n",
        "нейронки работают от случайной начальной точки - делаем много перезапусков для анализа архитектуры и осредняем результаты\n",
        "\n",
        "нейронки работают от случайной начальной точки - делаем много перезапусков дляпоиска лучшего варианта, если делаем обучение для работы\n",
        "\n",
        "Делаем таблички и графики\n",
        "\n",
        "Проводим анализ результатов: оцениваем средние ошибки(точности) архитектур и дисперсии ошибок (точности) - потом делаем выводы!!\n",
        "\n",
        "Для этой задачи можно проверить влияние размера выборки, включать/выключать нормализацию данных, проверить поведение по числу эпох, изменять параметры оптимизатора, брать разные активации, разное число слоев, разный loss и т.п."
      ]
    },
    {
      "cell_type": "code",
      "metadata": {
        "id": "4l5rWeSgS6KJ"
      },
      "source": [
        ""
      ],
      "execution_count": null,
      "outputs": []
    }
  ]
}