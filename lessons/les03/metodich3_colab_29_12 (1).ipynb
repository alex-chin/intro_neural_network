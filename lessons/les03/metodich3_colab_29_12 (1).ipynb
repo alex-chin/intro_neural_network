{
 "cells": [
  {
   "cell_type": "markdown",
   "metadata": {
    "id": "j9uRd98UFzPL",
    "pycharm": {
     "name": "#%% md\n"
    }
   },
   "source": [
    "# Введение в искусственные нейронные сети\n",
    "# Урок 3. TensorFlow"
   ]
  },
  {
   "cell_type": "markdown",
   "metadata": {
    "id": "k3iOZn2wFzPQ",
    "pycharm": {
     "name": "#%% md\n"
    }
   },
   "source": [
    "## Содержание методического пособия:\n",
    "\n",
    "\n",
    "<ol>\n",
    "<li>Что такое TensorFlow</li>\n",
    "<li>Основы синтаксиса TensorFlow</li>\n",
    "<li>Пример нейросети на TensorFlow</li>\n",
    "</ol>"
   ]
  },
  {
   "cell_type": "markdown",
   "metadata": {
    "id": "Sx3Su3u6FzPS",
    "pycharm": {
     "name": "#%% md\n"
    }
   },
   "source": [
    "## Что такое TensorFlow\n",
    "\n",
    "TensorFlow - это фреймворк для создания ML моделей. TensorFlow предназначен в первую очередь для Deep Learning, т.е. создания современных нейросетей. Однако в TensorFlow также есть поддержка некоторых классических ML алгоритмов: K-means clustering, Random Forests, Support Vector Machines, Gaussian Mixture Model clustering, Linear/logistic regression.\n",
    "\n",
    "TensorFlow выпустила компания Google в 2015. TensorFlow - это opensource проект. На данный момент это один из основных инструментов для создания нейросетей в рабочих целях. TensorFlow позволяет создавать нейронные сети как для кластеров из большого количества вычислительных устройств, так и для устройств с относительно небольшой вычислитей мощностью, таких как смартфоны и одноплатные компьютеры.\n",
    "\n",
    "TensorFlow применяется самой компанией Google для ее поиска, почты, переводчика, распознования голоса, внутренних нужд наподобие мониторинга оборудования. TensorFlow используется различными компаниями для различных проектов связанных с компьютерным зрением, решением задач ранжирования и т.д.\n"
   ]
  },
  {
   "cell_type": "markdown",
   "metadata": {
    "id": "mBqyxNwdFzPU",
    "pycharm": {
     "name": "#%% md\n"
    }
   },
   "source": [
    "## Основы синтаксиса TensorFlow\n",
    "\n",
    "Процесс создания нейросети на TensorFlow схож с разобранным нами процессом обучения нейросети на Keras. Отличее здесь в том, что здесь нам нужно прописать больше деталей в коде. \n",
    "\n",
    "Название TensorFlow означает поток тензоров. Тензоры - это массивы. Данные в компьютере предствлены часто в виде массивах и работа с этими массивами подразумевает их преобразования. Преобразования осуществляются через, к примеру, математические операции. Работа TensorFlow складывается из цепочки преобразований тензоров, т.е. данных. Сами операции осуществляющие преобразование данных представлены в TensorFlow в виде графов. Особенностью TensorFlow версии 1 является то, что сначала необходимо декларировать переменные и вычисления, которые будут совершенны над ними, а потом уже непосредственно запускать работу над данными. "
   ]
  },
  {
   "cell_type": "markdown",
   "metadata": {
    "id": "NTDIFFhhFzPW",
    "pycharm": {
     "name": "#%% md\n"
    }
   },
   "source": [
    "Давайте рассмотрим базовые вещи в синтаксисе Tensorflow 2."
   ]
  },
  {
   "cell_type": "markdown",
   "metadata": {
    "id": "BuAYrRxLFzPY",
    "pycharm": {
     "name": "#%% md\n"
    }
   },
   "source": [
    "Выведем строку Hello world, а также версию tensorflow"
   ]
  },
  {
   "cell_type": "code",
   "execution_count": null,
   "metadata": {
    "id": "A4Hcl_IoHv7n",
    "pycharm": {
     "name": "#%%\n"
    }
   },
   "outputs": [],
   "source": [
    "#!pip install --upgrade pip\n",
    "#!pip install tensorflow\n",
    "#!pip install tf-nightly"
   ]
  },
  {
   "cell_type": "code",
   "execution_count": 1,
   "metadata": {
    "executionInfo": {
     "elapsed": 445,
     "status": "ok",
     "timestamp": 1649783948300,
     "user": {
      "displayName": "Mariia Korliakova",
      "userId": "14165537686129864864"
     },
     "user_tz": -180
    },
    "id": "ad84hsn2Gwhi",
    "pycharm": {
     "name": "#%%\n"
    }
   },
   "outputs": [],
   "source": [
    "%tensorflow_version 2.x"
   ]
  },
  {
   "cell_type": "code",
   "execution_count": 1,
   "metadata": {
    "colab": {
     "base_uri": "https://localhost:8080/"
    },
    "executionInfo": {
     "elapsed": 5370,
     "status": "ok",
     "timestamp": 1649783960863,
     "user": {
      "displayName": "Mariia Korliakova",
      "userId": "14165537686129864864"
     },
     "user_tz": -180
    },
    "id": "75BVCTdbFzPa",
    "outputId": "e2f0459e-87ee-4415-83e8-c95fb0c7448b",
    "pycharm": {
     "name": "#%%\n"
    }
   },
   "outputs": [
    {
     "name": "stdout",
     "output_type": "stream",
     "text": [
      "2.8.0\n",
      "TensorFlow 2.0 Hello World\r\n"
     ]
    }
   ],
   "source": [
    "import tensorflow as tf\n",
    "print(tf.__version__)\n",
    "msg = tf.constant('TensorFlow 2.0 Hello World')\n",
    "tf.print(msg)"
   ]
  },
  {
   "cell_type": "markdown",
   "metadata": {
    "id": "S4ZN0rdqFzPh",
    "pycharm": {
     "name": "#%% md\n"
    }
   },
   "source": [
    "Пример создания тензора - "
   ]
  },
  {
   "cell_type": "code",
   "execution_count": 2,
   "metadata": {
    "colab": {
     "base_uri": "https://localhost:8080/"
    },
    "executionInfo": {
     "elapsed": 571,
     "status": "ok",
     "timestamp": 1649784158012,
     "user": {
      "displayName": "Mariia Korliakova",
      "userId": "14165537686129864864"
     },
     "user_tz": -180
    },
    "id": "VATG0L6IFzPj",
    "outputId": "4c56b720-55b6-488d-b3b5-c1b362cc62ad",
    "pycharm": {
     "name": "#%%\n"
    }
   },
   "outputs": [
    {
     "name": "stdout",
     "output_type": "stream",
     "text": [
      "tf.Tensor(\n",
      "[[3 2]\n",
      " [5 2]], shape=(2, 2), dtype=int32)\n"
     ]
    }
   ],
   "source": [
    "A = tf.constant( [[3, 2], \n",
    "                 [5, 2]])\n",
    "\n",
    "print(A)"
   ]
  },
  {
   "cell_type": "code",
   "execution_count": 3,
   "metadata": {
    "colab": {
     "base_uri": "https://localhost:8080/"
    },
    "executionInfo": {
     "elapsed": 447,
     "status": "ok",
     "timestamp": 1649784268964,
     "user": {
      "displayName": "Mariia Korliakova",
      "userId": "14165537686129864864"
     },
     "user_tz": -180
    },
    "id": "zO731BJ7cUBG",
    "outputId": "7279d3eb-214f-4e2c-e29c-fd43dae63802",
    "pycharm": {
     "name": "#%%\n"
    }
   },
   "outputs": [
    {
     "data": {
      "text/plain": "<tf.Variable 'Variable:0' shape=(2, 1) dtype=float32, numpy=\narray([[1.],\n       [2.]], dtype=float32)>"
     },
     "execution_count": 3,
     "metadata": {},
     "output_type": "execute_result"
    }
   ],
   "source": [
    "w = tf.Variable([[1.], [2.]])\n",
    "w"
   ]
  },
  {
   "cell_type": "markdown",
   "metadata": {
    "id": "PoSPW2QuREEv",
    "pycharm": {
     "name": "#%% md\n"
    }
   },
   "source": [
    "Тензор, заполненный только единицами"
   ]
  },
  {
   "cell_type": "code",
   "execution_count": 4,
   "metadata": {
    "colab": {
     "base_uri": "https://localhost:8080/"
    },
    "executionInfo": {
     "elapsed": 453,
     "status": "ok",
     "timestamp": 1649784565684,
     "user": {
      "displayName": "Mariia Korliakova",
      "userId": "14165537686129864864"
     },
     "user_tz": -180
    },
    "id": "g4OGJqgiQvY-",
    "outputId": "5f8fdff7-7cba-4a3e-d148-fcbffc9070f0",
    "pycharm": {
     "name": "#%%\n"
    }
   },
   "outputs": [
    {
     "name": "stdout",
     "output_type": "stream",
     "text": [
      "tf.Tensor(\n",
      "[[[1.]\n",
      "  [1.]]\n",
      "\n",
      " [[1.]\n",
      "  [1.]]\n",
      "\n",
      " [[1.]\n",
      "  [1.]]], shape=(3, 2, 1), dtype=float32)\n"
     ]
    }
   ],
   "source": [
    "x = tf.ones(shape=(3, 2, 1))\n",
    "print(x)"
   ]
  },
  {
   "cell_type": "markdown",
   "metadata": {
    "id": "lVQVuCv5RIU5",
    "pycharm": {
     "name": "#%% md\n"
    }
   },
   "source": [
    "Тензор, заполненный только нулями:"
   ]
  },
  {
   "cell_type": "code",
   "execution_count": 5,
   "metadata": {
    "colab": {
     "base_uri": "https://localhost:8080/"
    },
    "executionInfo": {
     "elapsed": 429,
     "status": "ok",
     "timestamp": 1649784585449,
     "user": {
      "displayName": "Mariia Korliakova",
      "userId": "14165537686129864864"
     },
     "user_tz": -180
    },
    "id": "C2T4MAHCQ4Fn",
    "outputId": "e28d204f-afb2-4173-99f8-841bad2cdb6f",
    "pycharm": {
     "name": "#%%\n"
    }
   },
   "outputs": [
    {
     "name": "stdout",
     "output_type": "stream",
     "text": [
      "tf.Tensor(\n",
      "[[[0. 0. 0.]\n",
      "  [0. 0. 0.]]\n",
      "\n",
      " [[0. 0. 0.]\n",
      "  [0. 0. 0.]]], shape=(2, 2, 3), dtype=float32)\n"
     ]
    }
   ],
   "source": [
    "x = tf.zeros(shape=(2, 2,3))\n",
    "print(x)"
   ]
  },
  {
   "cell_type": "markdown",
   "metadata": {
    "id": "wZRIvAwdRNGt",
    "pycharm": {
     "name": "#%% md\n"
    }
   },
   "source": [
    "Cлучайные тензоры"
   ]
  },
  {
   "cell_type": "code",
   "execution_count": 6,
   "metadata": {
    "colab": {
     "base_uri": "https://localhost:8080/"
    },
    "executionInfo": {
     "elapsed": 422,
     "status": "ok",
     "timestamp": 1649784702193,
     "user": {
      "displayName": "Mariia Korliakova",
      "userId": "14165537686129864864"
     },
     "user_tz": -180
    },
    "id": "h6ker3veRBrQ",
    "outputId": "426ffbbd-450c-4b06-b452-68ba1624d86f",
    "pycharm": {
     "name": "#%%\n"
    }
   },
   "outputs": [
    {
     "name": "stdout",
     "output_type": "stream",
     "text": [
      "tf.Tensor(\n",
      "[[ 1.796742  ]\n",
      " [-0.6557646 ]\n",
      " [-0.27258092]], shape=(3, 1), dtype=float32)\n"
     ]
    }
   ],
   "source": [
    "x = tf.random.normal(shape=(3, 1), mean=0., stddev=1.)\n",
    "print(x)"
   ]
  },
  {
   "cell_type": "code",
   "execution_count": 7,
   "metadata": {
    "colab": {
     "base_uri": "https://localhost:8080/"
    },
    "executionInfo": {
     "elapsed": 1098,
     "status": "ok",
     "timestamp": 1649784730890,
     "user": {
      "displayName": "Mariia Korliakova",
      "userId": "14165537686129864864"
     },
     "user_tz": -180
    },
    "id": "YLjXW-uFRfTB",
    "outputId": "ff78679c-e591-4f03-a28a-ac9477675007",
    "pycharm": {
     "name": "#%%\n"
    }
   },
   "outputs": [
    {
     "name": "stdout",
     "output_type": "stream",
     "text": [
      "<tf.Variable 'Variable:0' shape=(3, 1) dtype=float32, numpy=\n",
      "array([[-0.84828264],\n",
      "       [-0.17066531],\n",
      "       [ 0.43747318]], dtype=float32)>\n"
     ]
    }
   ],
   "source": [
    "v = tf.Variable(initial_value=tf.random.normal(shape=(3, 1)))\n",
    "print(v)"
   ]
  },
  {
   "cell_type": "markdown",
   "metadata": {
    "id": "ueNZM4bARngO",
    "pycharm": {
     "name": "#%% md\n"
    }
   },
   "source": [
    "Состояние переменной можно изменить с помощью метода assign"
   ]
  },
  {
   "cell_type": "code",
   "execution_count": 8,
   "metadata": {
    "colab": {
     "base_uri": "https://localhost:8080/"
    },
    "executionInfo": {
     "elapsed": 446,
     "status": "ok",
     "timestamp": 1649784761651,
     "user": {
      "displayName": "Mariia Korliakova",
      "userId": "14165537686129864864"
     },
     "user_tz": -180
    },
    "id": "s4VMhhuBRlgp",
    "outputId": "91cc9e43-8190-4a15-c0af-a6b5f8b1fd4b",
    "pycharm": {
     "name": "#%%\n"
    }
   },
   "outputs": [
    {
     "data": {
      "text/plain": "<tf.Variable 'UnreadVariable' shape=(3, 1) dtype=float32, numpy=\narray([[1.],\n       [1.],\n       [1.]], dtype=float32)>"
     },
     "execution_count": 8,
     "metadata": {},
     "output_type": "execute_result"
    }
   ],
   "source": [
    "v.assign(tf.ones((3, 1)))"
   ]
  },
  {
   "cell_type": "code",
   "execution_count": 9,
   "metadata": {
    "colab": {
     "base_uri": "https://localhost:8080/"
    },
    "executionInfo": {
     "elapsed": 439,
     "status": "ok",
     "timestamp": 1649784796334,
     "user": {
      "displayName": "Mariia Korliakova",
      "userId": "14165537686129864864"
     },
     "user_tz": -180
    },
    "id": "SejHNh3QRwXu",
    "outputId": "d8d05ec0-7ac2-4ef4-ded5-703e3bbdacad",
    "pycharm": {
     "name": "#%%\n"
    }
   },
   "outputs": [
    {
     "data": {
      "text/plain": "<tf.Variable 'UnreadVariable' shape=(3, 1) dtype=float32, numpy=\narray([[3.],\n       [1.],\n       [1.]], dtype=float32)>"
     },
     "execution_count": 9,
     "metadata": {},
     "output_type": "execute_result"
    }
   ],
   "source": [
    "v[0, 0].assign(3.)"
   ]
  },
  {
   "cell_type": "markdown",
   "metadata": {
    "id": "XTfjbLKLFzPx",
    "pycharm": {
     "name": "#%% md\n"
    }
   },
   "source": [
    "Пример изменения размерности тензора - "
   ]
  },
  {
   "cell_type": "code",
   "execution_count": 10,
   "metadata": {
    "colab": {
     "base_uri": "https://localhost:8080/"
    },
    "executionInfo": {
     "elapsed": 987,
     "status": "ok",
     "timestamp": 1649784967309,
     "user": {
      "displayName": "Mariia Korliakova",
      "userId": "14165537686129864864"
     },
     "user_tz": -180
    },
    "id": "Yk_mB4qGFzPz",
    "outputId": "3c5fff13-a611-47cf-cfff-3b86a0761b2b",
    "pycharm": {
     "name": "#%%\n"
    }
   },
   "outputs": [
    {
     "name": "stdout",
     "output_type": "stream",
     "text": [
      "BEFORE [[3 2]\n",
      " [5 2]\n",
      " [9 5]\n",
      " [1 3]]\n",
      "AFTER [[3 2 5 2]\n",
      " [9 5 1 3]]\n"
     ]
    }
   ],
   "source": [
    "tensor = tf.constant([[3, 2], \n",
    "                      [5, 2], \n",
    "                      [9, 5], \n",
    "                      [1, 3]])\n",
    "\n",
    "resh_tensor = tf.reshape(tensor = tensor, shape = [2, 4]) \n",
    "\n",
    "print(f'BEFORE {tensor.numpy()}')\n",
    "print(f'AFTER {resh_tensor.numpy()}')"
   ]
  },
  {
   "cell_type": "markdown",
   "metadata": {
    "id": "van47kdAFzPp",
    "pycharm": {
     "name": "#%% md\n"
    }
   },
   "source": [
    "Пример сложения тензеров - "
   ]
  },
  {
   "cell_type": "code",
   "execution_count": 11,
   "metadata": {
    "colab": {
     "base_uri": "https://localhost:8080/"
    },
    "executionInfo": {
     "elapsed": 1087,
     "status": "ok",
     "timestamp": 1649784995473,
     "user": {
      "displayName": "Mariia Korliakova",
      "userId": "14165537686129864864"
     },
     "user_tz": -180
    },
    "id": "wYwJYGSvFzPr",
    "outputId": "4f1b965b-8b56-4ac8-d5cf-16bbd494ad4a",
    "pycharm": {
     "name": "#%%\n"
    }
   },
   "outputs": [
    {
     "name": "stdout",
     "output_type": "stream",
     "text": [
      "[[3 2]\n",
      " [5 2]\n",
      " [9 5]\n",
      " [1 3]]\n"
     ]
    }
   ],
   "source": [
    "B = tf.constant([[9, 5], \n",
    "                 [1, 3]])\n",
    "\n",
    "AB = tf.concat(values=[A, B], axis=0)\n",
    "print(AB.numpy())"
   ]
  },
  {
   "cell_type": "markdown",
   "metadata": {
    "id": "rDoym3IkSN-k",
    "pycharm": {
     "name": "#%% md\n"
    }
   },
   "source": [
    "Для переменных можно еще и так (добавить к тому. что есть)"
   ]
  },
  {
   "cell_type": "code",
   "execution_count": 12,
   "metadata": {
    "colab": {
     "base_uri": "https://localhost:8080/"
    },
    "executionInfo": {
     "elapsed": 424,
     "status": "ok",
     "timestamp": 1649785131234,
     "user": {
      "displayName": "Mariia Korliakova",
      "userId": "14165537686129864864"
     },
     "user_tz": -180
    },
    "id": "zmPnlSvTRUqk",
    "outputId": "b5a14609-f278-4f88-e9ec-8d7594dcd9e6",
    "pycharm": {
     "name": "#%%\n"
    }
   },
   "outputs": [
    {
     "data": {
      "text/plain": "<tf.Variable 'UnreadVariable' shape=(3, 1) dtype=float32, numpy=\narray([[4.],\n       [2.],\n       [2.]], dtype=float32)>"
     },
     "execution_count": 12,
     "metadata": {},
     "output_type": "execute_result"
    }
   ],
   "source": [
    "v.assign_add(tf.ones((3, 1)))"
   ]
  },
  {
   "cell_type": "markdown",
   "metadata": {
    "id": "txp4OBMXFzP6",
    "pycharm": {
     "name": "#%% md\n"
    }
   },
   "source": [
    "Пример умножения матриц, одной из самых частых операций в машинном обучении - "
   ]
  },
  {
   "cell_type": "code",
   "execution_count": 13,
   "metadata": {
    "colab": {
     "base_uri": "https://localhost:8080/"
    },
    "executionInfo": {
     "elapsed": 1022,
     "status": "ok",
     "timestamp": 1649785162169,
     "user": {
      "displayName": "Mariia Korliakova",
      "userId": "14165537686129864864"
     },
     "user_tz": -180
    },
    "id": "2VM7TqHlFzP8",
    "outputId": "7b557993-3637-4709-ca7e-4dbd7db97ad9",
    "pycharm": {
     "name": "#%%\n"
    }
   },
   "outputs": [
    {
     "name": "stdout",
     "output_type": "stream",
     "text": [
      "tf.Tensor(\n",
      "[[  30   70]\n",
      " [1000 9000]], shape=(2, 2), dtype=int32)\n"
     ]
    }
   ],
   "source": [
    "A = tf.constant([[3, 7], \n",
    "                 [1, 9]])\n",
    "\n",
    "\n",
    "B = tf.constant([[10, 10],\n",
    "                 [1000, 1000]])\n",
    "\n",
    "AB = tf.multiply(A, B)\n",
    "print(AB)\n"
   ]
  },
  {
   "cell_type": "code",
   "execution_count": 14,
   "metadata": {
    "colab": {
     "base_uri": "https://localhost:8080/"
    },
    "executionInfo": {
     "elapsed": 405,
     "status": "ok",
     "timestamp": 1649785186987,
     "user": {
      "displayName": "Mariia Korliakova",
      "userId": "14165537686129864864"
     },
     "user_tz": -180
    },
    "id": "qCCRCUpj9aPF",
    "outputId": "6ac07d0f-3486-42e2-c9c7-8c1b29363c87",
    "pycharm": {
     "name": "#%%\n"
    }
   },
   "outputs": [
    {
     "name": "stdout",
     "output_type": "stream",
     "text": [
      "tf.Tensor([[10 15]], shape=(1, 2), dtype=int32)\n",
      "(1, 2)\n",
      "<dtype: 'int32'>\n"
     ]
    }
   ],
   "source": [
    "x = tf.matmul([[5]], [[2, 3]])\n",
    "print(x)\n",
    "print(x.shape)\n",
    "print(x.dtype)"
   ]
  },
  {
   "cell_type": "markdown",
   "metadata": {
    "id": "YuV-xpouSe97",
    "pycharm": {
     "name": "#%% md\n"
    }
   },
   "source": [
    "Можно много всякого похожего на numpy"
   ]
  },
  {
   "cell_type": "code",
   "execution_count": 15,
   "metadata": {
    "colab": {
     "base_uri": "https://localhost:8080/"
    },
    "executionInfo": {
     "elapsed": 2324,
     "status": "ok",
     "timestamp": 1649785251224,
     "user": {
      "displayName": "Mariia Korliakova",
      "userId": "14165537686129864864"
     },
     "user_tz": -180
    },
    "id": "mctsk4y8SnCp",
    "outputId": "6cebcf0b-895f-46c1-f317-c280aec8af1e",
    "pycharm": {
     "name": "#%%\n"
    }
   },
   "outputs": [
    {
     "name": "stdout",
     "output_type": "stream",
     "text": [
      "tf.Tensor(\n",
      "[[2. 2.]\n",
      " [2. 2.]], shape=(2, 2), dtype=float32)\n",
      "tf.Tensor(\n",
      "[[4. 4.]\n",
      " [4. 4.]], shape=(2, 2), dtype=float32)\n",
      "tf.Tensor(\n",
      "[[1.4142134 1.4142134]\n",
      " [1.4142134 1.4142134]], shape=(2, 2), dtype=float32)\n",
      "tf.Tensor(\n",
      "[[5.414213 5.414213]\n",
      " [5.414213 5.414213]], shape=(2, 2), dtype=float32)\n",
      "tf.Tensor(\n",
      "[[16. 16.]\n",
      " [16. 16.]], shape=(2, 2), dtype=float32)\n",
      "tf.Tensor(\n",
      "[[86.62741 86.62741]\n",
      " [86.62741 86.62741]], shape=(2, 2), dtype=float32)\n"
     ]
    }
   ],
   "source": [
    "a = tf.ones((2, 2)) * 2\n",
    "print(a)\n",
    "b = tf.square(a)\n",
    "print(b)\n",
    "c = tf.sqrt(a)\n",
    "print(c)\n",
    "d = b + c\n",
    "print(d)\n",
    "e = tf.matmul(a, b)\n",
    "print(e)\n",
    "e *= d\n",
    "print(e)\n",
    "\n"
   ]
  },
  {
   "cell_type": "code",
   "execution_count": 16,
   "metadata": {
    "colab": {
     "base_uri": "https://localhost:8080/"
    },
    "executionInfo": {
     "elapsed": 454,
     "status": "ok",
     "timestamp": 1649785375404,
     "user": {
      "displayName": "Mariia Korliakova",
      "userId": "14165537686129864864"
     },
     "user_tz": -180
    },
    "id": "5zd1GMQ0-o80",
    "outputId": "cef4e540-e7e2-442c-c740-b7d033b2c3d7",
    "pycharm": {
     "name": "#%%\n"
    }
   },
   "outputs": [
    {
     "name": "stdout",
     "output_type": "stream",
     "text": [
      "превратим numpy arrays в Tensors \n",
      "tf.Tensor(\n",
      "[[42. 42. 42.]\n",
      " [42. 42. 42.]\n",
      " [42. 42. 42.]], shape=(3, 3), dtype=float64)\n",
      "добавим к тензору 1 \n",
      "[[43. 43. 43.]\n",
      " [43. 43. 43.]\n",
      " [43. 43. 43.]]\n",
      " .numpy() превратим тензор в  numpy array\n",
      "[[42. 42. 42.]\n",
      " [42. 42. 42.]\n",
      " [42. 42. 42.]]\n"
     ]
    }
   ],
   "source": [
    "import numpy as np\n",
    "\n",
    "ndarray = np.ones([3, 3])\n",
    "\n",
    "print(\"превратим numpy arrays в Tensors \")\n",
    "tensor = tf.multiply(ndarray, 42)\n",
    "print(tensor)\n",
    "\n",
    "\n",
    "print(\"добавим к тензору 1 \")\n",
    "print(np.add(tensor, 1))\n",
    "\n",
    "print(\" .numpy() превратим тензор в  numpy array\")\n",
    "print(tensor.numpy())"
   ]
  },
  {
   "cell_type": "markdown",
   "metadata": {
    "id": "VKoCavodWLb-",
    "pycharm": {
     "name": "#%% md\n"
    }
   },
   "source": [
    "Проверяем работу GPU\n",
    "\n",
    "https://www.tensorflow.org/guide/gpu"
   ]
  },
  {
   "cell_type": "code",
   "execution_count": 17,
   "metadata": {
    "colab": {
     "base_uri": "https://localhost:8080/"
    },
    "executionInfo": {
     "elapsed": 5,
     "status": "ok",
     "timestamp": 1649785480392,
     "user": {
      "displayName": "Mariia Korliakova",
      "userId": "14165537686129864864"
     },
     "user_tz": -180
    },
    "id": "iwFVgO3t_Ghj",
    "outputId": "44a156cb-df58-460c-a1d8-fa7c6b6f61fe",
    "pycharm": {
     "name": "#%%\n"
    }
   },
   "outputs": [
    {
     "name": "stdout",
     "output_type": "stream",
     "text": [
      "есть ли доступные GPU: \n",
      "[]\n",
      "тензор на GPU #0:  \n",
      "False\n"
     ]
    }
   ],
   "source": [
    "x = tf.random.uniform([3, 3])\n",
    "\n",
    "print(\"есть ли доступные GPU: \")\n",
    "print(tf.config.experimental.list_physical_devices(\"GPU\"))\n",
    "\n",
    "\n",
    "print(\"тензор на GPU #0:  \"),\n",
    "print(x.device.endswith('GPU:0'))\n"
   ]
  },
  {
   "cell_type": "markdown",
   "metadata": {
    "id": "MR36oPW2WSUh",
    "pycharm": {
     "name": "#%% md\n"
    }
   },
   "source": [
    "Сделаем по 10 циклов на GPU и CPU:"
   ]
  },
  {
   "cell_type": "code",
   "execution_count": 27,
   "metadata": {
    "colab": {
     "base_uri": "https://localhost:8080/"
    },
    "executionInfo": {
     "elapsed": 1027,
     "status": "ok",
     "timestamp": 1649785655217,
     "user": {
      "displayName": "Mariia Korliakova",
      "userId": "14165537686129864864"
     },
     "user_tz": -180
    },
    "id": "oajro_Ip_hap",
    "outputId": "2b5beef8-bea6-4ff2-cb02-d8d1909a3c7c",
    "pycharm": {
     "name": "#%%\n"
    }
   },
   "outputs": [
    {
     "name": "stdout",
     "output_type": "stream",
     "text": [
      " CPU работает:\n",
      "10 циклов: 250.71ms\n",
      " какой GPU:\n",
      "10 циклов: 0.80ms\n"
     ]
    }
   ],
   "source": [
    "import time\n",
    "\n",
    "def time_matmul(x):\n",
    "  start = time.time()\n",
    "  for loop in range(10):\n",
    "    tf.matmul(x, x)\n",
    "\n",
    "  result = time.time()-start\n",
    "\n",
    "  print(\"10 циклов: {:0.2f}ms\".format(1000*result))\n",
    "\n",
    "# исполнение CPU\n",
    "print(\" CPU работает:\")\n",
    "with tf.device(\"CPU:0\"):\n",
    "  x = tf.random.uniform([1000, 1000])\n",
    "  assert x.device.endswith(\"CPU:0\")\n",
    "  time_matmul(x)\n",
    "\n",
    "# исполнение на GPU #0 , если доступен\n",
    "if tf.config.experimental.list_physical_devices(\"GPU\"):\n",
    "  print(\" какой GPU:\")\n",
    "  with tf.device(\"GPU:0\"): # или GPU:1 , для 2х GPU, GPU:2 для 3х  и т.д.\n",
    "    x = tf.random.uniform([1000, 1000])\n",
    "    assert x.device.endswith(\"GPU:0\")\n",
    "    time_matmul(x)"
   ]
  },
  {
   "cell_type": "markdown",
   "metadata": {
    "id": "bbWKa7DaTQIN",
    "pycharm": {
     "name": "#%% md\n"
    }
   },
   "source": [
    "ГЛАВНЫЙ ФОКУС!!!\n",
    "Вычисляем производные (для дифференцируемых функций)"
   ]
  },
  {
   "cell_type": "code",
   "execution_count": 29,
   "metadata": {
    "colab": {
     "base_uri": "https://localhost:8080/"
    },
    "executionInfo": {
     "elapsed": 1007,
     "status": "ok",
     "timestamp": 1649785998507,
     "user": {
      "displayName": "Mariia Korliakova",
      "userId": "14165537686129864864"
     },
     "user_tz": -180
    },
    "id": "d2-w6y0fTOuP",
    "outputId": "59f96b73-367a-4d5f-ba15-fc6b72fc5c93",
    "pycharm": {
     "name": "#%%\n"
    }
   },
   "outputs": [
    {
     "name": "stdout",
     "output_type": "stream",
     "text": [
      "input_var :  <tf.Variable 'Variable:0' shape=() dtype=float32, numpy=3.0>\n",
      "result = input_var^2 :  tf.Tensor(9.0, shape=(), dtype=float32)\n",
      "gradient :  tf.Tensor(6.0, shape=(), dtype=float32)\n"
     ]
    }
   ],
   "source": [
    "input_var = tf.Variable(initial_value=3.)\n",
    "with tf.GradientTape() as tape:\n",
    "   result = tf.square(input_var)\n",
    "gradient = tape.gradient(result, input_var)\n",
    "\n",
    "print('input_var : ',input_var)\n",
    "print('result = input_var^2 : ',result)\n",
    "print('gradient : ',gradient)\n"
   ]
  },
  {
   "cell_type": "markdown",
   "metadata": {
    "id": "_8s-9c41UFQN",
    "pycharm": {
     "name": "#%% md\n"
    }
   },
   "source": [
    "Производная второго порядка:"
   ]
  },
  {
   "cell_type": "code",
   "execution_count": 30,
   "metadata": {
    "colab": {
     "base_uri": "https://localhost:8080/"
    },
    "executionInfo": {
     "elapsed": 1152,
     "status": "ok",
     "timestamp": 1649786195225,
     "user": {
      "displayName": "Mariia Korliakova",
      "userId": "14165537686129864864"
     },
     "user_tz": -180
    },
    "id": "fHlpsLfLUDtU",
    "outputId": "fb350ea1-0f99-4499-e376-61af1a694d57",
    "pycharm": {
     "name": "#%%\n"
    }
   },
   "outputs": [
    {
     "name": "stdout",
     "output_type": "stream",
     "text": [
      "x :  tf.Tensor(\n",
      "[  0.         4.9       19.6       44.100002  78.4      122.49999\n",
      " 176.40001  240.09999  313.6      396.9     ], shape=(10,), dtype=float32)\n",
      "t :  <tf.Variable 'Variable:0' shape=(10,) dtype=float32, numpy=array([0., 1., 2., 3., 4., 5., 6., 7., 8., 9.], dtype=float32)>\n",
      "v :  tf.Tensor(\n",
      "[ 0.        9.8      19.6      29.400002 39.2      49.       58.800003\n",
      " 68.600006 78.4      88.200005], shape=(10,), dtype=float32)\n",
      "a :  tf.Tensor([9.8 9.8 9.8 9.8 9.8 9.8 9.8 9.8 9.8 9.8], shape=(10,), dtype=float32)\n"
     ]
    }
   ],
   "source": [
    "import numpy as np\n",
    "import matplotlib.pyplot as plt\n",
    "\n",
    "input_t = tf.Variable(np.arange(10), dtype='float32') # t\n",
    "with tf.GradientTape() as outer_tape:\n",
    "  with tf.GradientTape() as inner_tape:\n",
    "    x =  4.9 * input_t ** 2  # g * t^2 /2\n",
    "  speed = inner_tape.gradient( x, input_t)  # g * t\n",
    "acceleration = outer_tape.gradient(speed, input_t)   # g \n",
    "\n",
    "\n",
    "print('x : ',x)\n",
    "print('t : ',input_t)\n",
    "print('v : ',speed)\n",
    "print('a : ',acceleration)"
   ]
  },
  {
   "cell_type": "code",
   "execution_count": 31,
   "metadata": {
    "colab": {
     "base_uri": "https://localhost:8080/",
     "height": 334
    },
    "executionInfo": {
     "elapsed": 662,
     "status": "ok",
     "timestamp": 1649786202573,
     "user": {
      "displayName": "Mariia Korliakova",
      "userId": "14165537686129864864"
     },
     "user_tz": -180
    },
    "id": "VeqHFTyFVOdc",
    "outputId": "823a355e-56d9-4fee-a71b-ad7ce77fd74d",
    "pycharm": {
     "name": "#%%\n"
    }
   },
   "outputs": [
    {
     "data": {
      "image/png": "[encoded data removed]",
      "text/plain": [
       "<Figure size 1152x360 with 1 Axes>"
      ]
     },
     "metadata": {},
     "output_type": "display_data"
    }
   ],
   "source": [
    "plt.figure(figsize=(16,5))\n",
    "plt.plot(input_t.numpy(), x.numpy(), label = 'x')\n",
    "plt.plot(input_t.numpy(), speed.numpy(), label = 'speed')\n",
    "plt.plot(input_t.numpy(), acceleration.numpy(), label = 'acceleration')\n",
    "plt.legend()\n",
    "plt.xlabel('t')\n",
    "plt.grid('on')\n",
    "plt.show()"
   ]
  },
  {
   "cell_type": "markdown",
   "metadata": {
    "id": "ya0ZTsC3DNBF",
    "pycharm": {
     "name": "#%% md\n"
    }
   },
   "source": [
    "В отличие от графического процессора, использование TPU требует явного подключения к работнику TPU. Поэтому необходимо настроить свое обучение и определение логического вывода, чтобы наблюдать ускорение\n",
    "\n",
    "пример работы с TPU на будущее\n",
    "\n",
    "https://www.tensorflow.org/guide/tpu\n",
    "\n",
    "https://colab.research.google.com/github/tensorflow/tpu/blob/master/tools/colab/shakespeare_with_tpu_and_keras.ipynb"
   ]
  },
  {
   "cell_type": "markdown",
   "metadata": {
    "id": "Tc9NTP1_FzQC",
    "pycharm": {
     "name": "#%% md\n"
    }
   },
   "source": [
    "Функции tensorflow призваны ускорить вычисления, давайте посмотрим на следующий пример - "
   ]
  },
  {
   "cell_type": "code",
   "execution_count": 32,
   "metadata": {
    "colab": {
     "base_uri": "https://localhost:8080/"
    },
    "executionInfo": {
     "elapsed": 2752,
     "status": "ok",
     "timestamp": 1649786870610,
     "user": {
      "displayName": "Mariia Korliakova",
      "userId": "14165537686129864864"
     },
     "user_tz": -180
    },
    "id": "qBUSq3dWHUjF",
    "outputId": "99898920-7951-489c-ce5a-5cf807327081",
    "pycharm": {
     "name": "#%%\n"
    }
   },
   "outputs": [
    {
     "name": "stdout",
     "output_type": "stream",
     "text": [
      "Downloading data from https://storage.googleapis.com/tensorflow/tf-keras-datasets/mnist.npz\n",
      "11493376/11490434 [==============================] - 1s 0us/step\n",
      "11501568/11490434 [==============================] - 1s 0us/step\n",
      "(60000, 784)\n",
      "(10000, 784)\n"
     ]
    }
   ],
   "source": [
    "from tensorflow.keras.datasets import mnist\n",
    "\n",
    "\n",
    "(train_images,train_labels),(test_images,testn_labels)=mnist.load_data()\n",
    "\n",
    "# Нормализация.\n",
    "train_images = (train_images / 255) * 2 - 1\n",
    "test_images = (test_images / 255) * 2 - 1\n",
    "\n",
    "# векторизация.\n",
    "train_images = train_images.reshape((-1, 784))\n",
    "test_images = test_images.reshape((-1, 784))\n",
    "\n",
    "print(train_images.shape) # (60000, 784)\n",
    "print(test_images.shape)  # (10000, 784)\n",
    "\n"
   ]
  },
  {
   "cell_type": "code",
   "execution_count": 33,
   "metadata": {
    "executionInfo": {
     "elapsed": 10,
     "status": "ok",
     "timestamp": 1649786911729,
     "user": {
      "displayName": "Mariia Korliakova",
      "userId": "14165537686129864864"
     },
     "user_tz": -180
    },
    "id": "ozb2tTqNIBzX",
    "pycharm": {
     "name": "#%%\n"
    }
   },
   "outputs": [],
   "source": [
    "from tensorflow.keras.models import Sequential\n",
    "from tensorflow.keras.layers import Dense\n",
    "from tensorflow.keras.utils import to_categorical"
   ]
  },
  {
   "cell_type": "code",
   "execution_count": 34,
   "metadata": {
    "executionInfo": {
     "elapsed": 445,
     "status": "ok",
     "timestamp": 1649786917198,
     "user": {
      "displayName": "Mariia Korliakova",
      "userId": "14165537686129864864"
     },
     "user_tz": -180
    },
    "id": "NInsePV5QKs4",
    "pycharm": {
     "name": "#%%\n"
    }
   },
   "outputs": [],
   "source": [
    "import matplotlib.pyplot as plt\n"
   ]
  },
  {
   "cell_type": "code",
   "execution_count": 35,
   "metadata": {
    "colab": {
     "base_uri": "https://localhost:8080/"
    },
    "executionInfo": {
     "elapsed": 998,
     "status": "ok",
     "timestamp": 1649786925590,
     "user": {
      "displayName": "Mariia Korliakova",
      "userId": "14165537686129864864"
     },
     "user_tz": -180
    },
    "id": "PIIwUIB_GWzd",
    "outputId": "4c300c49-ea1e-48ff-81c9-9be2b0aa5d98",
    "pycharm": {
     "name": "#%%\n"
    }
   },
   "outputs": [
    {
     "name": "stdout",
     "output_type": "stream",
     "text": [
      "Model: \"sequential\"\n",
      "_________________________________________________________________\n",
      " Layer (type)                Output Shape              Param #   \n",
      "=================================================================\n",
      " dense (Dense)               (None, 512)               401920    \n",
      "                                                                 \n",
      " dense_1 (Dense)             (None, 512)               262656    \n",
      "                                                                 \n",
      " dense_2 (Dense)             (None, 10)                5130      \n",
      "                                                                 \n",
      "=================================================================\n",
      "Total params: 669,706\n",
      "Trainable params: 669,706\n",
      "Non-trainable params: 0\n",
      "_________________________________________________________________\n"
     ]
    }
   ],
   "source": [
    "bigger_model = Sequential([\n",
    "    Dense( 512, activation='relu', input_shape=(784,)),\n",
    "    Dense(512, activation='linear'),\n",
    "    Dense(10, activation='softmax')\n",
    "])\n",
    "\n",
    "bigger_model.compile(optimizer='adam',\n",
    "                     loss='categorical_crossentropy',\n",
    "                     metrics=['accuracy'])\n",
    "\n",
    "bigger_model.summary()"
   ]
  },
  {
   "cell_type": "code",
   "execution_count": 38,
   "metadata": {
    "colab": {
     "base_uri": "https://localhost:8080/"
    },
    "executionInfo": {
     "elapsed": 1816,
     "status": "ok",
     "timestamp": 1649787126924,
     "user": {
      "displayName": "Mariia Korliakova",
      "userId": "14165537686129864864"
     },
     "user_tz": -180
    },
    "id": "FEjAQhBK0g9I",
    "outputId": "85a85cd5-5a11-4884-8f21-9004551702a5",
    "pycharm": {
     "name": "#%%\n"
    }
   },
   "outputs": [
    {
     "name": "stdout",
     "output_type": "stream",
     "text": [
      "24/24 [==============================] - 0s 11ms/step - loss: 0.1863 - accuracy: 0.9459 - val_loss: 0.1647 - val_accuracy: 0.9542\n"
     ]
    }
   ],
   "source": [
    "bigger_history = bigger_model.fit( train_images, to_categorical(train_labels,10),\n",
    "                                  epochs=1,\n",
    "                                  batch_size=2000, validation_split=0.2)"
   ]
  },
  {
   "cell_type": "markdown",
   "metadata": {
    "id": "EHMumt30YxTG",
    "pycharm": {
     "name": "#%% md\n"
    }
   },
   "source": [
    "Работа на GPU и СPU\n",
    "\n",
    "\n",
    "\n",
    "Строго GPU:"
   ]
  },
  {
   "cell_type": "code",
   "execution_count": 37,
   "metadata": {
    "colab": {
     "base_uri": "https://localhost:8080/"
    },
    "executionInfo": {
     "elapsed": 1856,
     "status": "ok",
     "timestamp": 1649787115975,
     "user": {
      "displayName": "Mariia Korliakova",
      "userId": "14165537686129864864"
     },
     "user_tz": -180
    },
    "id": "Bhi6IXWR0UFW",
    "outputId": "8fc1f0df-21ff-4828-b17d-54c326dc016e",
    "pycharm": {
     "name": "#%%\n"
    }
   },
   "outputs": [
    {
     "name": "stdout",
     "output_type": "stream",
     "text": [
      "On GPU:\n",
      "Epoch 1/2\n",
      "24/24 [==============================] - 0s 11ms/step - loss: 0.3373 - accuracy: 0.8992 - val_loss: 0.2590 - val_accuracy: 0.9233\n",
      "Epoch 2/2\n",
      "24/24 [==============================] - 0s 10ms/step - loss: 0.2405 - accuracy: 0.9309 - val_loss: 0.2000 - val_accuracy: 0.9435\n"
     ]
    }
   ],
   "source": [
    "print(\"On GPU:\")\n",
    "with tf.device(\"GPU:0\"):\n",
    "  \n",
    "  bigger_history = bigger_model.fit( train_images, to_categorical(train_labels,10),\n",
    "  epochs=2,\n",
    "  batch_size=2000, validation_split=0.2)"
   ]
  },
  {
   "cell_type": "markdown",
   "metadata": {
    "id": "d0HvzbRm1Nys",
    "pycharm": {
     "name": "#%% md\n"
    }
   },
   "source": [
    "Строго CPU:"
   ]
  },
  {
   "cell_type": "code",
   "execution_count": 40,
   "metadata": {
    "colab": {
     "base_uri": "https://localhost:8080/"
    },
    "executionInfo": {
     "elapsed": 5343,
     "status": "ok",
     "timestamp": 1649787253508,
     "user": {
      "displayName": "Mariia Korliakova",
      "userId": "14165537686129864864"
     },
     "user_tz": -180
    },
    "id": "UmAqbArVIkl9",
    "outputId": "e4b1f32b-5c81-4a79-a0db-270980745c45",
    "pycharm": {
     "name": "#%%\n"
    }
   },
   "outputs": [
    {
     "name": "stdout",
     "output_type": "stream",
     "text": [
      "On CPU:\n",
      "Epoch 1/2\n",
      "24/24 [==============================] - 3s 107ms/step - loss: 0.1052 - accuracy: 0.9702 - val_loss: 0.1190 - val_accuracy: 0.9655\n",
      "Epoch 2/2\n",
      "24/24 [==============================] - 3s 105ms/step - loss: 0.0907 - accuracy: 0.9744 - val_loss: 0.1151 - val_accuracy: 0.9653\n"
     ]
    }
   ],
   "source": [
    "print(\"On CPU:\")\n",
    "with tf.device(\"CPU:0\"):\n",
    "  \n",
    "  bigger_history = bigger_model.fit( train_images, to_categorical(train_labels,10),\n",
    "  epochs=2,\n",
    "  batch_size=2000, validation_split=0.2)\n"
   ]
  },
  {
   "cell_type": "code",
   "execution_count": 41,
   "metadata": {
    "colab": {
     "base_uri": "https://localhost:8080/",
     "height": 295
    },
    "executionInfo": {
     "elapsed": 509,
     "status": "ok",
     "timestamp": 1649787295116,
     "user": {
      "displayName": "Mariia Korliakova",
      "userId": "14165537686129864864"
     },
     "user_tz": -180
    },
    "id": "8RzpMwruRFdS",
    "outputId": "cadaa6b5-7a4c-48e4-9e88-a171ac2603e1",
    "pycharm": {
     "name": "#%%\n"
    }
   },
   "outputs": [
    {
     "data": {
      "image/png": "[encoded data removed]",
      "text/plain": [
       "<Figure size 432x288 with 1 Axes>"
      ]
     },
     "metadata": {},
     "output_type": "display_data"
    }
   ],
   "source": [
    "plt.plot(bigger_history.history['val_accuracy'] ,label='val')\n",
    "plt.plot(bigger_history.history['accuracy'] ,label='train')\n",
    "plt.legend()\n",
    "plt.xlabel('epoch')\n",
    "plt.ylabel('accuracy')\n",
    "plt.title('точность сети от эпох')\n",
    "plt.grid()\n",
    "plt.show()"
   ]
  },
  {
   "cell_type": "markdown",
   "metadata": {
    "id": "exJ9iaLC1Uuo",
    "pycharm": {
     "name": "#%% md\n"
    }
   },
   "source": [
    "Выбрать из возможностей CPU/GPU"
   ]
  },
  {
   "cell_type": "code",
   "execution_count": 42,
   "metadata": {
    "colab": {
     "base_uri": "https://localhost:8080/"
    },
    "executionInfo": {
     "elapsed": 993,
     "status": "ok",
     "timestamp": 1649787344992,
     "user": {
      "displayName": "Mariia Korliakova",
      "userId": "14165537686129864864"
     },
     "user_tz": -180
    },
    "id": "d2EKg1rQXGJl",
    "outputId": "16855918-d2cd-494b-d535-16223d3b4662",
    "pycharm": {
     "name": "#%%\n"
    }
   },
   "outputs": [
    {
     "name": "stdout",
     "output_type": "stream",
     "text": [
      "  GPU:\n",
      "24/24 [==============================] - 0s 11ms/step - loss: 0.0780 - accuracy: 0.9777 - val_loss: 0.1019 - val_accuracy: 0.9703\n"
     ]
    }
   ],
   "source": [
    "# исполнение на GPU #0 , если доступен\n",
    "if tf.config.experimental.list_physical_devices(\"GPU\"):\n",
    "  print(\"  GPU:\")\n",
    "  with tf.device(\"GPU:0\"): # или GPU:1 , для 2х GPU, GPU:2 для 3х  и т.д.\n",
    "    \n",
    "    bigger_model.fit( train_images, to_categorical(train_labels,10), epochs=1,batch_size=2000, validation_split=0.2)"
   ]
  },
  {
   "cell_type": "code",
   "execution_count": 43,
   "metadata": {
    "colab": {
     "base_uri": "https://localhost:8080/"
    },
    "executionInfo": {
     "elapsed": 1826,
     "status": "ok",
     "timestamp": 1649787362818,
     "user": {
      "displayName": "Mariia Korliakova",
      "userId": "14165537686129864864"
     },
     "user_tz": -180
    },
    "id": "1RIX-mfy4WPb",
    "outputId": "a141ed5d-8c5c-4896-aae1-ff43b0afe0be",
    "pycharm": {
     "name": "#%%\n"
    }
   },
   "outputs": [
    {
     "name": "stdout",
     "output_type": "stream",
     "text": [
      "240/240 [==============================] - 1s 4ms/step - loss: 0.1488 - accuracy: 0.9531 - val_loss: 0.1432 - val_accuracy: 0.9539\n"
     ]
    }
   ],
   "source": [
    "bigger_history = bigger_model.fit( train_images, to_categorical(train_labels,10),\n",
    "                                  epochs=1,\n",
    "                                  batch_size=200, validation_split=0.2)"
   ]
  },
  {
   "cell_type": "markdown",
   "metadata": {
    "id": "gHGTGmIGY_bW",
    "pycharm": {
     "name": "#%% md\n"
    }
   },
   "source": [
    "Построим еще моделей"
   ]
  },
  {
   "cell_type": "code",
   "execution_count": 44,
   "metadata": {
    "colab": {
     "base_uri": "https://localhost:8080/"
    },
    "executionInfo": {
     "elapsed": 3459,
     "status": "ok",
     "timestamp": 1649787400362,
     "user": {
      "displayName": "Mariia Korliakova",
      "userId": "14165537686129864864"
     },
     "user_tz": -180
    },
    "id": "2Zm-TPIKO-Y_",
    "outputId": "e6f4ba93-dd28-4e55-b38a-73f8796e9ebd",
    "pycharm": {
     "name": "#%%\n"
    }
   },
   "outputs": [
    {
     "name": "stdout",
     "output_type": "stream",
     "text": [
      "Epoch 1/5\n",
      "24/24 [==============================] - 1s 17ms/step - loss: 1.2960 - accuracy: 0.6566 - val_loss: 0.4167 - val_accuracy: 0.8722\n",
      "Epoch 2/5\n",
      "24/24 [==============================] - 0s 11ms/step - loss: 0.3671 - accuracy: 0.8907 - val_loss: 0.2815 - val_accuracy: 0.9170\n",
      "Epoch 3/5\n",
      "24/24 [==============================] - 0s 9ms/step - loss: 0.2638 - accuracy: 0.9230 - val_loss: 0.2154 - val_accuracy: 0.9377\n",
      "Epoch 4/5\n",
      "24/24 [==============================] - 0s 9ms/step - loss: 0.2012 - accuracy: 0.9422 - val_loss: 0.1806 - val_accuracy: 0.9488\n",
      "Epoch 5/5\n",
      "24/24 [==============================] - 0s 9ms/step - loss: 0.1629 - accuracy: 0.9530 - val_loss: 0.1549 - val_accuracy: 0.9559\n"
     ]
    }
   ],
   "source": [
    "bigger_model2 = Sequential([\n",
    "    Dense(512, activation='relu', input_shape=(784,)),\n",
    "    Dense(512, activation='linear'),\n",
    "    Dense(10, activation='softmax')\n",
    "])\n",
    "\n",
    "bigger_model2.compile(optimizer='adam',\n",
    "                     loss='categorical_crossentropy',\n",
    "                     metrics=['accuracy'])\n",
    "\n",
    "bigger_history2 = bigger_model2.fit( train_images, to_categorical(train_labels,10),\n",
    "  epochs=5,\n",
    "  batch_size=2000, validation_split=0.2\n",
    ")"
   ]
  },
  {
   "cell_type": "code",
   "execution_count": 45,
   "metadata": {
    "colab": {
     "base_uri": "https://localhost:8080/",
     "height": 295
    },
    "executionInfo": {
     "elapsed": 537,
     "status": "ok",
     "timestamp": 1649787405461,
     "user": {
      "displayName": "Mariia Korliakova",
      "userId": "14165537686129864864"
     },
     "user_tz": -180
    },
    "id": "PhX7tQdBSOI5",
    "outputId": "6b51e604-f9e4-4b2e-ae34-4ae0f38f3e0e",
    "pycharm": {
     "name": "#%%\n"
    }
   },
   "outputs": [
    {
     "data": {
      "image/png": "[encoded data removed]",
      "text/plain": [
       "<Figure size 432x288 with 1 Axes>"
      ]
     },
     "metadata": {},
     "output_type": "display_data"
    }
   ],
   "source": [
    "plt.plot(bigger_history2.history['val_accuracy'] ,label='val')\n",
    "plt.plot(bigger_history2.history['accuracy'] ,label='train')\n",
    "plt.legend()\n",
    "plt.xlabel('epoch')\n",
    "plt.ylabel('accuracy')\n",
    "plt.title('точность сети от эпох')\n",
    "plt.grid()\n",
    "plt.show()"
   ]
  },
  {
   "cell_type": "markdown",
   "metadata": {
    "id": "bAu48rK-ZEPe",
    "pycharm": {
     "name": "#%% md\n"
    }
   },
   "source": [
    "И еще одну"
   ]
  },
  {
   "cell_type": "code",
   "execution_count": null,
   "metadata": {
    "colab": {
     "background_save": true
    },
    "id": "o7Q0qQIxPg0q",
    "pycharm": {
     "name": "#%%\n"
    }
   },
   "outputs": [
    {
     "name": "stdout",
     "output_type": "stream",
     "text": [
      "Epoch 1/5\n",
      "24/24 [==============================] - 0s 12ms/step - loss: 0.0685 - accuracy: 0.9803 - val_loss: 0.1029 - val_accuracy: 0.9695\n",
      "Epoch 2/5\n",
      "24/24 [==============================] - 0s 10ms/step - loss: 0.0626 - accuracy: 0.9822 - val_loss: 0.1023 - val_accuracy: 0.9694\n",
      "Epoch 3/5\n",
      "24/24 [==============================] - 0s 9ms/step - loss: 0.0572 - accuracy: 0.9830 - val_loss: 0.1005 - val_accuracy: 0.9696\n",
      "Epoch 4/5\n",
      "24/24 [==============================] - 0s 9ms/step - loss: 0.0512 - accuracy: 0.9857 - val_loss: 0.0969 - val_accuracy: 0.9707\n",
      "Epoch 5/5\n",
      "24/24 [==============================] - 0s 10ms/step - loss: 0.0443 - accuracy: 0.9877 - val_loss: 0.0915 - val_accuracy: 0.9729\n"
     ]
    }
   ],
   "source": [
    "bigger_history3 = bigger_model2.fit( train_images, to_categorical(train_labels,10),\n",
    "  epochs=5,\n",
    "  batch_size=2000, validation_split=0.2\n",
    ")"
   ]
  },
  {
   "cell_type": "code",
   "execution_count": 47,
   "metadata": {
    "colab": {
     "base_uri": "https://localhost:8080/",
     "height": 295
    },
    "executionInfo": {
     "elapsed": 1230,
     "status": "ok",
     "timestamp": 1649787430556,
     "user": {
      "displayName": "Mariia Korliakova",
      "userId": "14165537686129864864"
     },
     "user_tz": -180
    },
    "id": "Rv6N5eMcRAQ_",
    "outputId": "6f4461f0-27ea-4011-9a14-c5b0d4982930",
    "pycharm": {
     "name": "#%%\n"
    }
   },
   "outputs": [
    {
     "data": {
      "image/png": "[encoded data removed]",
      "text/plain": [
       "<Figure size 432x288 with 1 Axes>"
      ]
     },
     "metadata": {},
     "output_type": "display_data"
    }
   ],
   "source": [
    "plt.plot(bigger_history3.history['val_accuracy'] ,label='val')\n",
    "plt.plot(bigger_history3.history['accuracy'] ,label='train')\n",
    "plt.legend()\n",
    "plt.xlabel('epoch')\n",
    "plt.ylabel('accuracy')\n",
    "plt.title('точность сети от эпох')\n",
    "plt.grid()\n",
    "plt.show()"
   ]
  },
  {
   "cell_type": "code",
   "execution_count": null,
   "metadata": {
    "colab": {
     "background_save": true,
     "base_uri": "https://localhost:8080/"
    },
    "executionInfo": {
     "elapsed": 10917,
     "status": "ok",
     "timestamp": 1646072236147,
     "user": {
      "displayName": "Mariia Korliakova",
      "photoUrl": "https://lh3.googleusercontent.com/a/default-user=s64",
      "userId": "14165537686129864864"
     },
     "user_tz": -180
    },
    "id": "bzdqOaHfPnqU",
    "outputId": "d7624dbf-54f8-42ad-8258-6c04ba74b79c",
    "pycharm": {
     "name": "#%%\n"
    }
   },
   "outputs": [
    {
     "name": "stdout",
     "output_type": "stream",
     "text": [
      "Epoch 1/30\n",
      "24/24 [==============================] - 3s 135ms/step - loss: 0.0706 - accuracy: 0.9800 - val_loss: 0.0983 - val_accuracy: 0.9705\n",
      "Epoch 2/30\n",
      "24/24 [==============================] - 3s 134ms/step - loss: 0.0624 - accuracy: 0.9828 - val_loss: 0.0997 - val_accuracy: 0.9711\n",
      "Epoch 3/30\n",
      "24/24 [==============================] - 3s 134ms/step - loss: 0.0579 - accuracy: 0.9836 - val_loss: 0.0934 - val_accuracy: 0.9728\n",
      "Epoch 4/30\n",
      "24/24 [==============================] - 3s 134ms/step - loss: 0.0512 - accuracy: 0.9860 - val_loss: 0.0913 - val_accuracy: 0.9737\n",
      "Epoch 5/30\n",
      "24/24 [==============================] - 3s 133ms/step - loss: 0.0459 - accuracy: 0.9875 - val_loss: 0.0905 - val_accuracy: 0.9729\n",
      "Epoch 6/30\n",
      "24/24 [==============================] - 3s 138ms/step - loss: 0.0433 - accuracy: 0.9879 - val_loss: 0.0894 - val_accuracy: 0.9731\n",
      "Epoch 7/30\n",
      "24/24 [==============================] - 3s 135ms/step - loss: 0.0385 - accuracy: 0.9900 - val_loss: 0.0853 - val_accuracy: 0.9759\n",
      "Epoch 8/30\n",
      "24/24 [==============================] - 3s 135ms/step - loss: 0.0345 - accuracy: 0.9908 - val_loss: 0.0863 - val_accuracy: 0.9741\n",
      "Epoch 9/30\n",
      "24/24 [==============================] - 3s 134ms/step - loss: 0.0315 - accuracy: 0.9918 - val_loss: 0.0843 - val_accuracy: 0.9758\n",
      "Epoch 10/30\n",
      "24/24 [==============================] - 3s 134ms/step - loss: 0.0282 - accuracy: 0.9928 - val_loss: 0.0927 - val_accuracy: 0.9741\n",
      "Epoch 11/30\n",
      "24/24 [==============================] - 3s 133ms/step - loss: 0.0270 - accuracy: 0.9929 - val_loss: 0.0888 - val_accuracy: 0.9760\n",
      "Epoch 12/30\n",
      "24/24 [==============================] - 3s 136ms/step - loss: 0.0234 - accuracy: 0.9944 - val_loss: 0.0845 - val_accuracy: 0.9757\n",
      "Epoch 13/30\n",
      "24/24 [==============================] - 3s 135ms/step - loss: 0.0214 - accuracy: 0.9950 - val_loss: 0.0904 - val_accuracy: 0.9744\n",
      "Epoch 14/30\n",
      "24/24 [==============================] - 3s 135ms/step - loss: 0.0190 - accuracy: 0.9956 - val_loss: 0.0875 - val_accuracy: 0.9763\n",
      "Epoch 15/30\n",
      "24/24 [==============================] - 3s 135ms/step - loss: 0.0164 - accuracy: 0.9970 - val_loss: 0.0856 - val_accuracy: 0.9767\n",
      "Epoch 16/30\n",
      "24/24 [==============================] - 3s 134ms/step - loss: 0.0148 - accuracy: 0.9968 - val_loss: 0.0829 - val_accuracy: 0.9773\n",
      "Epoch 17/30\n",
      "24/24 [==============================] - 3s 135ms/step - loss: 0.0130 - accuracy: 0.9975 - val_loss: 0.0862 - val_accuracy: 0.9764\n",
      "Epoch 18/30\n",
      "24/24 [==============================] - 3s 135ms/step - loss: 0.0114 - accuracy: 0.9979 - val_loss: 0.0846 - val_accuracy: 0.9778\n",
      "Epoch 19/30\n",
      "24/24 [==============================] - 3s 135ms/step - loss: 0.0100 - accuracy: 0.9986 - val_loss: 0.0848 - val_accuracy: 0.9768\n",
      "Epoch 20/30\n",
      "24/24 [==============================] - 3s 135ms/step - loss: 0.0085 - accuracy: 0.9989 - val_loss: 0.0856 - val_accuracy: 0.9775\n",
      "Epoch 21/30\n",
      "24/24 [==============================] - 3s 134ms/step - loss: 0.0077 - accuracy: 0.9992 - val_loss: 0.0887 - val_accuracy: 0.9772\n",
      "Epoch 22/30\n",
      "24/24 [==============================] - 3s 134ms/step - loss: 0.0070 - accuracy: 0.9994 - val_loss: 0.0868 - val_accuracy: 0.9777\n",
      "Epoch 23/30\n",
      "24/24 [==============================] - 3s 135ms/step - loss: 0.0062 - accuracy: 0.9995 - val_loss: 0.0852 - val_accuracy: 0.9780\n",
      "Epoch 24/30\n",
      "24/24 [==============================] - 3s 134ms/step - loss: 0.0054 - accuracy: 0.9997 - val_loss: 0.0885 - val_accuracy: 0.9783\n",
      "Epoch 25/30\n",
      "24/24 [==============================] - 3s 136ms/step - loss: 0.0045 - accuracy: 0.9997 - val_loss: 0.0873 - val_accuracy: 0.9786\n",
      "Epoch 26/30\n",
      "24/24 [==============================] - 3s 136ms/step - loss: 0.0043 - accuracy: 0.9998 - val_loss: 0.0885 - val_accuracy: 0.9777\n",
      "Epoch 27/30\n",
      "24/24 [==============================] - 3s 135ms/step - loss: 0.0040 - accuracy: 0.9999 - val_loss: 0.0904 - val_accuracy: 0.9774\n",
      "Epoch 28/30\n",
      "24/24 [==============================] - 3s 133ms/step - loss: 0.0036 - accuracy: 0.9999 - val_loss: 0.0896 - val_accuracy: 0.9776\n",
      "Epoch 29/30\n",
      "24/24 [==============================] - 3s 134ms/step - loss: 0.0033 - accuracy: 1.0000 - val_loss: 0.0915 - val_accuracy: 0.9778\n",
      "Epoch 30/30\n",
      "24/24 [==============================] - 3s 135ms/step - loss: 0.0032 - accuracy: 0.9999 - val_loss: 0.0907 - val_accuracy: 0.9772\n"
     ]
    }
   ],
   "source": [
    "bigger_history3 = bigger_model2.fit( train_images, to_categorical(train_labels,10),\n",
    "  epochs=30,\n",
    "  batch_size=2000, validation_split=0.2\n",
    ")"
   ]
  },
  {
   "cell_type": "code",
   "execution_count": null,
   "metadata": {
    "colab": {
     "background_save": true,
     "base_uri": "https://localhost:8080/",
     "height": 295
    },
    "executionInfo": {
     "elapsed": 392,
     "status": "ok",
     "timestamp": 1646072240136,
     "user": {
      "displayName": "Mariia Korliakova",
      "photoUrl": "https://lh3.googleusercontent.com/a/default-user=s64",
      "userId": "14165537686129864864"
     },
     "user_tz": -180
    },
    "id": "-YIEb3PpQGLF",
    "outputId": "3590bdb7-4c8b-400e-b777-0de99259b427",
    "pycharm": {
     "name": "#%%\n"
    }
   },
   "outputs": [
    {
     "data": {
      "image/png": "[encoded data removed]",
      "text/plain": [
       "<Figure size 432x288 with 1 Axes>"
      ]
     },
     "metadata": {},
     "output_type": "display_data"
    }
   ],
   "source": [
    "plt.plot(bigger_history3.history['val_accuracy'] ,label='val')\n",
    "plt.plot(bigger_history3.history['accuracy'] ,label='train')\n",
    "plt.legend()\n",
    "plt.xlabel('epoch')\n",
    "plt.ylabel('accuracy')\n",
    "plt.title('точность сети от эпох')\n",
    "plt.grid()\n",
    "plt.show()"
   ]
  },
  {
   "cell_type": "markdown",
   "metadata": {
    "id": "ubaqhSOiTj9R",
    "pycharm": {
     "name": "#%% md\n"
    }
   },
   "source": [
    "### Оптимизаторы"
   ]
  },
  {
   "cell_type": "code",
   "execution_count": null,
   "metadata": {
    "colab": {
     "background_save": true
    },
    "id": "5g3px8aXXse6",
    "pycharm": {
     "name": "#%%\n"
    }
   },
   "outputs": [],
   "source": [
    "from tensorflow.keras.optimizers import Adam, SGD, RMSprop, Adagrad"
   ]
  },
  {
   "cell_type": "code",
   "execution_count": null,
   "metadata": {
    "colab": {
     "background_save": true,
     "base_uri": "https://localhost:8080/",
     "height": 295
    },
    "executionInfo": {
     "elapsed": 9698,
     "status": "ok",
     "timestamp": 1646072296123,
     "user": {
      "displayName": "Mariia Korliakova",
      "photoUrl": "https://lh3.googleusercontent.com/a/default-user=s64",
      "userId": "14165537686129864864"
     },
     "user_tz": -180
    },
    "id": "51b163fhReiz",
    "outputId": "d0323176-54ed-453f-fe02-753f169f7d30",
    "pycharm": {
     "name": "#%%\n"
    }
   },
   "outputs": [
    {
     "data": {
      "image/png": "[encoded data removed]",
      "text/plain": [
       "<Figure size 432x288 with 1 Axes>"
      ]
     },
     "metadata": {},
     "output_type": "display_data"
    }
   ],
   "source": [
    "for i in [0,1,2,3,4]:\n",
    "  bigger_model4 = Sequential([\n",
    "                              Dense(512, activation='relu', input_shape=(784,)),\n",
    "                              Dense(512, activation='linear'),\n",
    "                              Dense(10, activation='sigmoid')\n",
    "                              ])\n",
    "\n",
    "  bigger_model4.compile(optimizer='sgd',\n",
    "                        loss='categorical_crossentropy',\n",
    "                        metrics=['accuracy'])\n",
    "\n",
    "  bigger_history4 = bigger_model4.fit( train_images, to_categorical(train_labels,10),epochs=5,\n",
    "                                        batch_size=20000, validation_split=0.2, verbose = 0\n",
    "                                      )\n",
    "  plt.plot(bigger_history4.history['val_accuracy'],'.' )\n",
    "  plt.plot(bigger_history4.history['accuracy'] )\n",
    "plt.plot(bigger_history4.history['val_accuracy'],'.' ,label='val')\n",
    "plt.plot(bigger_history4.history['accuracy'] ,label='train')\n",
    "plt.grid()\n",
    "plt.legend()\n",
    "plt.xlabel('epoch')\n",
    "plt.ylabel('accuracy')\n",
    "plt.title('точность сети от эпох')\n",
    "plt.show()"
   ]
  },
  {
   "cell_type": "markdown",
   "metadata": {
    "id": "clLQq9qsUbuo",
    "pycharm": {
     "name": "#%% md\n"
    }
   },
   "source": [
    "Параметры оптимизаторов\n",
    "\n",
    "\n",
    "Задача на один класс: to_categorical(train_labels,10)[:,0] "
   ]
  },
  {
   "cell_type": "code",
   "execution_count": 42,
   "metadata": {
    "colab": {
     "base_uri": "https://localhost:8080/",
     "height": 295
    },
    "executionInfo": {
     "elapsed": 11669,
     "status": "ok",
     "timestamp": 1649782555157,
     "user": {
      "displayName": "Mariia Korliakova",
      "userId": "14165537686129864864"
     },
     "user_tz": -180
    },
    "id": "yjjhpVRlXn04",
    "outputId": "e16c7925-2d1f-4e40-ff1f-4a0bd13f2ab2",
    "pycharm": {
     "name": "#%%\n"
    }
   },
   "outputs": [
    {
     "data": {
      "image/png": "[encoded data removed]",
      "text/plain": [
       "<Figure size 432x288 with 1 Axes>"
      ]
     },
     "metadata": {},
     "output_type": "display_data"
    }
   ],
   "source": [
    "for i in [0,1]:\n",
    "  bigger_model4 = Sequential([\n",
    "                              Dense(512, activation='relu', input_shape=(784,)),\n",
    "                              Dense(512, activation='linear'),\n",
    "                              Dense(1, activation='sigmoid')  # нейронов на выходе 1 - для одного класса один выход ( бинарный классификатор)\n",
    "                              ])\n",
    "\n",
    "  bigger_model4.compile(optimizer= Adam(learning_rate=0.0001+0.01*i, beta_1=0.89) ,\n",
    "                        loss='binary_crossentropy',\n",
    "                        metrics=['accuracy'])\n",
    "\n",
    "  bigger_history4 = bigger_model4.fit( train_images, to_categorical(train_labels,10)[:,0],epochs=15,\n",
    "                                        batch_size=2000, validation_split=0.2, verbose = 0\n",
    "                                      )\n",
    "  plt.plot(bigger_history4.history['val_accuracy'],'.',label='val lr(' +str(0.0001+0.01*i)+')')\n",
    "  plt.plot(bigger_history4.history['accuracy'] ,label='train lr(' +str(0.0001+0.01*i)+')')\n",
    "\n",
    "plt.legend()\n",
    "plt.xlabel('epoch')\n",
    "plt.ylabel('accuracy')\n",
    "plt.title('точность сети от эпох')\n",
    "plt.grid()\n",
    "plt.show()"
   ]
  },
  {
   "cell_type": "code",
   "execution_count": 43,
   "metadata": {
    "executionInfo": {
     "elapsed": 22145,
     "status": "ok",
     "timestamp": 1649782577297,
     "user": {
      "displayName": "Mariia Korliakova",
      "userId": "14165537686129864864"
     },
     "user_tz": -180
    },
    "id": "Uzm1sfR8nE9i",
    "pycharm": {
     "name": "#%%\n"
    }
   },
   "outputs": [],
   "source": [
    "bigger_history4 = bigger_model4.fit( train_images, to_categorical(train_labels,10)[:,0],epochs=5,\n",
    "                                        batch_size=200, validation_split=0.2, verbose = 0\n",
    "                                      )"
   ]
  },
  {
   "cell_type": "markdown",
   "metadata": {
    "id": "jYysdyb-CaWM",
    "pycharm": {
     "name": "#%% md\n"
    }
   },
   "source": [
    "# Классификация изображений одежды"
   ]
  },
  {
   "cell_type": "markdown",
   "metadata": {
    "id": "FbVhjPpzn6BM",
    "pycharm": {
     "name": "#%% md\n"
    }
   },
   "source": [
    "Давайте разберем использование tensorflow 2 на примере датасета с одеждой. В это датасете будут находиться маленькие изображения на белом фоне, такие как кросовки, футболки и прочее.\n",
    "\n",
    "В данном случае мы будем использовать High API от TensorFlow"
   ]
  },
  {
   "cell_type": "code",
   "execution_count": null,
   "metadata": {
    "colab": {
     "base_uri": "https://localhost:8080/"
    },
    "executionInfo": {
     "elapsed": 400,
     "status": "ok",
     "timestamp": 1646072577488,
     "user": {
      "displayName": "Mariia Korliakova",
      "photoUrl": "https://lh3.googleusercontent.com/a/default-user=s64",
      "userId": "14165537686129864864"
     },
     "user_tz": -180
    },
    "id": "dzLKpmZICaWN",
    "outputId": "7def09f3-67a5-4dae-feb4-49ce524e3edc",
    "pycharm": {
     "name": "#%%\n"
    }
   },
   "outputs": [
    {
     "name": "stdout",
     "output_type": "stream",
     "text": [
      "2.8.0\n"
     ]
    }
   ],
   "source": [
    "from __future__ import absolute_import, division, print_function, unicode_literals\n",
    "\n",
    "# TensorFlow and tf.keras\n",
    "\n",
    "from tensorflow import keras\n",
    "\n",
    "# Helper libraries\n",
    "import numpy as np\n",
    "import matplotlib.pyplot as plt\n",
    "\n",
    "print(tf.__version__)"
   ]
  },
  {
   "cell_type": "markdown",
   "metadata": {
    "id": "yR0EdgrLCaWR",
    "pycharm": {
     "name": "#%% md\n"
    }
   },
   "source": [
    "## Импортируем Fashion MNIST датасет"
   ]
  },
  {
   "cell_type": "markdown",
   "metadata": {
    "id": "DLdCchMdCaWQ",
    "pycharm": {
     "name": "#%% md\n"
    }
   },
   "source": [
    "Мы будет использовать следующий датасет -  [Fashion MNIST](https://github.com/zalandoresearch/fashion-mnist) Этот датасет содержит 70,000 черно-белых изображений в 10 категориях. Изображения имеют разрешение 28x28 пикселей.\n",
    "\n",
    "<table>\n",
    "  <tr><td>\n",
    "    <img src=\"https://tensorflow.org/images/fashion-mnist-sprite.png\"\n",
    "         alt=\"Fashion MNIST sprite\"  width=\"600\">\n",
    "  </td></tr>\n",
    "  <tr><td align=\"center\">\n",
    "    <b>Figure 1.</b> <a href=\"https://github.com/zalandoresearch/fashion-mnist\">Fashion-MNIST samples</a> (by Zalando, MIT License).<br/>&nbsp;\n",
    "  </td></tr>\n",
    "</table>\n",
    "\n",
    "Долгое время в машинном обучение для программ Hello world использовался датасет MNIST с рукописными цифрами. Данный датасет призван несколько усложнить задачу распознования но также подходит в качестве программы Hello world.\n",
    "\n",
    "В этом датасете 60 000 тренировочных изображений и 10 000 тестовых."
   ]
  },
  {
   "cell_type": "code",
   "execution_count": 45,
   "metadata": {
    "colab": {
     "base_uri": "https://localhost:8080/"
    },
    "executionInfo": {
     "elapsed": 1436,
     "status": "ok",
     "timestamp": 1649782578734,
     "user": {
      "displayName": "Mariia Korliakova",
      "userId": "14165537686129864864"
     },
     "user_tz": -180
    },
    "id": "7MqDQO0KCaWS",
    "outputId": "de9634b6-b148-4cf4-93d3-4e0622823997",
    "pycharm": {
     "name": "#%%\n"
    }
   },
   "outputs": [
    {
     "name": "stdout",
     "output_type": "stream",
     "text": [
      "Downloading data from https://storage.googleapis.com/tensorflow/tf-keras-datasets/train-labels-idx1-ubyte.gz\n",
      "32768/29515 [=================================] - 0s 0us/step\n",
      "40960/29515 [=========================================] - 0s 0us/step\n",
      "Downloading data from https://storage.googleapis.com/tensorflow/tf-keras-datasets/train-images-idx3-ubyte.gz\n",
      "26427392/26421880 [==============================] - 0s 0us/step\n",
      "26435584/26421880 [==============================] - 0s 0us/step\n",
      "Downloading data from https://storage.googleapis.com/tensorflow/tf-keras-datasets/t10k-labels-idx1-ubyte.gz\n",
      "16384/5148 [===============================================================================================] - 0s 0us/step\n",
      "Downloading data from https://storage.googleapis.com/tensorflow/tf-keras-datasets/t10k-images-idx3-ubyte.gz\n",
      "4423680/4422102 [==============================] - 0s 0us/step\n",
      "4431872/4422102 [==============================] - 0s 0us/step\n"
     ]
    }
   ],
   "source": [
    "fashion_mnist = keras.datasets.fashion_mnist\n",
    "\n",
    "(train_images, train_labels), (test_images, test_labels) = fashion_mnist.load_data()"
   ]
  },
  {
   "cell_type": "markdown",
   "metadata": {
    "id": "t9FDsUlxCaWW",
    "pycharm": {
     "name": "#%% md\n"
    }
   },
   "source": [
    "Датасет содержит следующие классы:\n",
    "\n",
    "<table>\n",
    "  <tr>\n",
    "    <th>Label</th>\n",
    "    <th>Class</th>\n",
    "  </tr>\n",
    "  <tr>\n",
    "    <td>0</td>\n",
    "    <td>T-shirt/top</td>\n",
    "  </tr>\n",
    "  <tr>\n",
    "    <td>1</td>\n",
    "    <td>Trouser</td>\n",
    "  </tr>\n",
    "    <tr>\n",
    "    <td>2</td>\n",
    "    <td>Pullover</td>\n",
    "  </tr>\n",
    "    <tr>\n",
    "    <td>3</td>\n",
    "    <td>Dress</td>\n",
    "  </tr>\n",
    "    <tr>\n",
    "    <td>4</td>\n",
    "    <td>Coat</td>\n",
    "  </tr>\n",
    "    <tr>\n",
    "    <td>5</td>\n",
    "    <td>Sandal</td>\n",
    "  </tr>\n",
    "    <tr>\n",
    "    <td>6</td>\n",
    "    <td>Shirt</td>\n",
    "  </tr>\n",
    "    <tr>\n",
    "    <td>7</td>\n",
    "    <td>Sneaker</td>\n",
    "  </tr>\n",
    "    <tr>\n",
    "    <td>8</td>\n",
    "    <td>Bag</td>\n",
    "  </tr>\n",
    "    <tr>\n",
    "    <td>9</td>\n",
    "    <td>Ankle boot</td>\n",
    "  </tr>\n",
    "</table>\n",
    "\n",
    "Каждому классу обозначенному цифрой мы можем присвоить текстовое значение -"
   ]
  },
  {
   "cell_type": "code",
   "execution_count": 46,
   "metadata": {
    "executionInfo": {
     "elapsed": 43,
     "status": "ok",
     "timestamp": 1649782578737,
     "user": {
      "displayName": "Mariia Korliakova",
      "userId": "14165537686129864864"
     },
     "user_tz": -180
    },
    "id": "IjnLH5S2CaWx",
    "pycharm": {
     "name": "#%%\n"
    }
   },
   "outputs": [],
   "source": [
    "class_names = ['T-shirt/top', 'Trouser', 'Pullover', 'Dress', 'Coat',\n",
    "               'Sandal', 'Shirt', 'Sneaker', 'Bag', 'Ankle boot']"
   ]
  },
  {
   "cell_type": "markdown",
   "metadata": {
    "id": "Brm0b_KACaWX",
    "pycharm": {
     "name": "#%% md\n"
    }
   },
   "source": [
    "## Анализ датасета \n",
    "\n",
    "Давайте посмотрим структуры полученного массива данных:"
   ]
  },
  {
   "cell_type": "code",
   "execution_count": 47,
   "metadata": {
    "colab": {
     "base_uri": "https://localhost:8080/"
    },
    "executionInfo": {
     "elapsed": 45,
     "status": "ok",
     "timestamp": 1649782578740,
     "user": {
      "displayName": "Mariia Korliakova",
      "userId": "14165537686129864864"
     },
     "user_tz": -180
    },
    "id": "zW5k_xz1CaWX",
    "outputId": "312ee347-8c71-48c2-952a-e4f68ccee3fb",
    "pycharm": {
     "name": "#%%\n"
    }
   },
   "outputs": [
    {
     "data": {
      "text/plain": [
       "(60000, 28, 28)"
      ]
     },
     "execution_count": 47,
     "metadata": {},
     "output_type": "execute_result"
    }
   ],
   "source": [
    "train_images.shape"
   ]
  },
  {
   "cell_type": "code",
   "execution_count": 48,
   "metadata": {
    "colab": {
     "base_uri": "https://localhost:8080/"
    },
    "executionInfo": {
     "elapsed": 37,
     "status": "ok",
     "timestamp": 1649782578741,
     "user": {
      "displayName": "Mariia Korliakova",
      "userId": "14165537686129864864"
     },
     "user_tz": -180
    },
    "id": "TRFYHB2mCaWb",
    "outputId": "637d6bb5-21bd-4fda-92fc-abcc5f66e5f6",
    "pycharm": {
     "name": "#%%\n"
    }
   },
   "outputs": [
    {
     "data": {
      "text/plain": [
       "60000"
      ]
     },
     "execution_count": 48,
     "metadata": {},
     "output_type": "execute_result"
    }
   ],
   "source": [
    "len(train_labels)"
   ]
  },
  {
   "cell_type": "code",
   "execution_count": 49,
   "metadata": {
    "colab": {
     "base_uri": "https://localhost:8080/"
    },
    "executionInfo": {
     "elapsed": 31,
     "status": "ok",
     "timestamp": 1649782578743,
     "user": {
      "displayName": "Mariia Korliakova",
      "userId": "14165537686129864864"
     },
     "user_tz": -180
    },
    "id": "XKnCTHz4CaWg",
    "outputId": "615b7073-6099-4862-8706-7cbda1f24170",
    "pycharm": {
     "name": "#%%\n"
    }
   },
   "outputs": [
    {
     "data": {
      "text/plain": [
       "array([9, 0, 0, ..., 3, 0, 5], dtype=uint8)"
      ]
     },
     "execution_count": 49,
     "metadata": {},
     "output_type": "execute_result"
    }
   ],
   "source": [
    "train_labels"
   ]
  },
  {
   "cell_type": "markdown",
   "metadata": {
    "id": "TMPI88iZpO2T",
    "pycharm": {
     "name": "#%% md\n"
    }
   },
   "source": [
    "Проанализируем тестовую выборку:"
   ]
  },
  {
   "cell_type": "code",
   "execution_count": 50,
   "metadata": {
    "colab": {
     "base_uri": "https://localhost:8080/"
    },
    "executionInfo": {
     "elapsed": 26,
     "status": "ok",
     "timestamp": 1649782578744,
     "user": {
      "displayName": "Mariia Korliakova",
      "userId": "14165537686129864864"
     },
     "user_tz": -180
    },
    "id": "2KFnYlcwCaWl",
    "outputId": "77418a8b-7b25-454a-b224-889f551a04b1",
    "pycharm": {
     "name": "#%%\n"
    }
   },
   "outputs": [
    {
     "data": {
      "text/plain": [
       "(10000, 28, 28)"
      ]
     },
     "execution_count": 50,
     "metadata": {},
     "output_type": "execute_result"
    }
   ],
   "source": [
    "test_images.shape"
   ]
  },
  {
   "cell_type": "code",
   "execution_count": 51,
   "metadata": {
    "colab": {
     "base_uri": "https://localhost:8080/"
    },
    "executionInfo": {
     "elapsed": 21,
     "status": "ok",
     "timestamp": 1649782578745,
     "user": {
      "displayName": "Mariia Korliakova",
      "userId": "14165537686129864864"
     },
     "user_tz": -180
    },
    "id": "iJmPr5-ACaWn",
    "outputId": "d2023cce-1a9d-4974-9521-c98f2929ff44",
    "pycharm": {
     "name": "#%%\n"
    }
   },
   "outputs": [
    {
     "data": {
      "text/plain": [
       "10000"
      ]
     },
     "execution_count": 51,
     "metadata": {},
     "output_type": "execute_result"
    }
   ],
   "source": [
    "len(test_labels)"
   ]
  },
  {
   "cell_type": "code",
   "execution_count": 52,
   "metadata": {
    "executionInfo": {
     "elapsed": 17,
     "status": "ok",
     "timestamp": 1649782578747,
     "user": {
      "displayName": "Mariia Korliakova",
      "userId": "14165537686129864864"
     },
     "user_tz": -180
    },
    "id": "1PHqiEKY8Ktu",
    "pycharm": {
     "name": "#%%\n"
    }
   },
   "outputs": [],
   "source": [
    "y_train_labels = to_categorical(train_labels)\n",
    "y_test_labels = to_categorical(test_labels)"
   ]
  },
  {
   "cell_type": "markdown",
   "metadata": {
    "id": "ES6uQoLKCaWr",
    "pycharm": {
     "name": "#%% md\n"
    }
   },
   "source": [
    "## Preprocess the data\n",
    "\n",
    "Давайте взглянем на конкретный пример изображений с помощью matplotlib:"
   ]
  },
  {
   "cell_type": "code",
   "execution_count": 53,
   "metadata": {
    "colab": {
     "base_uri": "https://localhost:8080/",
     "height": 266
    },
    "executionInfo": {
     "elapsed": 19,
     "status": "ok",
     "timestamp": 1649782578749,
     "user": {
      "displayName": "Mariia Korliakova",
      "userId": "14165537686129864864"
     },
     "user_tz": -180
    },
    "id": "m4VEw8Ud9Quh",
    "outputId": "8c6facec-12f6-4838-9bf9-8c4dd8d3bdd5",
    "pycharm": {
     "name": "#%%\n"
    }
   },
   "outputs": [
    {
     "data": {
      "image/png": "[encoded data removed]",
      "text/plain": [
       "<Figure size 432x288 with 2 Axes>"
      ]
     },
     "metadata": {},
     "output_type": "display_data"
    }
   ],
   "source": [
    "plt.figure()\n",
    "plt.imshow(train_images[1110])\n",
    "plt.colorbar()\n",
    "plt.grid(False)\n",
    "plt.show()"
   ]
  },
  {
   "cell_type": "markdown",
   "metadata": {
    "id": "Wz7l27Lz9S1P",
    "pycharm": {
     "name": "#%% md\n"
    }
   },
   "source": [
    "Для процесса обучения нейронной сети нам важно перевести данные из диапазона от 0 до 255 в диапазон от 0 до 1:"
   ]
  },
  {
   "cell_type": "code",
   "execution_count": 54,
   "metadata": {
    "executionInfo": {
     "elapsed": 19,
     "status": "ok",
     "timestamp": 1649782578751,
     "user": {
      "displayName": "Mariia Korliakova",
      "userId": "14165537686129864864"
     },
     "user_tz": -180
    },
    "id": "bW5WzIPlCaWv",
    "pycharm": {
     "name": "#%%\n"
    }
   },
   "outputs": [],
   "source": [
    "train_images = train_images / 255.0\n",
    "\n",
    "test_images = test_images / 255.0"
   ]
  },
  {
   "cell_type": "markdown",
   "metadata": {
    "id": "Ee638AlnCaWz",
    "pycharm": {
     "name": "#%% md\n"
    }
   },
   "source": [
    "Посмотрим первые 25 изображений:"
   ]
  },
  {
   "cell_type": "code",
   "execution_count": 55,
   "metadata": {
    "colab": {
     "base_uri": "https://localhost:8080/",
     "height": 589
    },
    "executionInfo": {
     "elapsed": 2105,
     "status": "ok",
     "timestamp": 1649782580838,
     "user": {
      "displayName": "Mariia Korliakova",
      "userId": "14165537686129864864"
     },
     "user_tz": -180
    },
    "id": "oZTImqg_CaW1",
    "outputId": "b5dc0394-c9f2-41dd-b2b5-0d786d729aa0",
    "pycharm": {
     "name": "#%%\n"
    }
   },
   "outputs": [
    {
     "data": {
      "image/png": "[encoded data removed]",
      "text/plain": [
       "<Figure size 720x720 with 25 Axes>"
      ]
     },
     "metadata": {},
     "output_type": "display_data"
    }
   ],
   "source": [
    "plt.figure(figsize=(10,10))\n",
    "for i in range(25):\n",
    "    plt.subplot(5,5,i+1)\n",
    "    plt.xticks([])\n",
    "    plt.yticks([])\n",
    "    plt.grid(False)\n",
    "    plt.imshow(train_images[i], cmap=plt.cm.binary)\n",
    "    plt.xlabel(class_names[train_labels[i]])\n",
    "plt.show()"
   ]
  },
  {
   "cell_type": "markdown",
   "metadata": {
    "id": "59veuiEZCaW4",
    "pycharm": {
     "name": "#%% md\n"
    }
   },
   "source": [
    "## Построение модели\n",
    "\n",
    "Построение нейронной сети подразумевает конфигурацию ее слоев и последующую компиляцию."
   ]
  },
  {
   "cell_type": "markdown",
   "metadata": {
    "id": "Gxg1XGm0eOBy",
    "pycharm": {
     "name": "#%% md\n"
    }
   },
   "source": [
    "### Определение слоев\n",
    "\n",
    "Давайте создадим 3 слоя нейронной сети с помощью функционала Keras.layers"
   ]
  },
  {
   "cell_type": "code",
   "execution_count": 56,
   "metadata": {
    "executionInfo": {
     "elapsed": 41,
     "status": "ok",
     "timestamp": 1649782580841,
     "user": {
      "displayName": "Mariia Korliakova",
      "userId": "14165537686129864864"
     },
     "user_tz": -180
    },
    "id": "bSwpguOgo66i",
    "pycharm": {
     "name": "#%%\n"
    }
   },
   "outputs": [],
   "source": [
    "from tensorflow.keras.layers import Input, Flatten\n",
    "from tensorflow.keras.models import Model\n",
    "import tensorflow"
   ]
  },
  {
   "cell_type": "code",
   "execution_count": 57,
   "metadata": {
    "executionInfo": {
     "elapsed": 42,
     "status": "ok",
     "timestamp": 1649782580843,
     "user": {
      "displayName": "Mariia Korliakova",
      "userId": "14165537686129864864"
     },
     "user_tz": -180
    },
    "id": "9ODch-OFCaW4",
    "pycharm": {
     "name": "#%%\n"
    }
   },
   "outputs": [],
   "source": [
    "model = keras.Sequential([\n",
    "    keras.layers.Flatten(input_shape=(28, 28)),\n",
    "    keras.layers.Dense(128, activation='relu'),\n",
    "    keras.layers.Dense(10)\n",
    "])"
   ]
  },
  {
   "cell_type": "markdown",
   "metadata": {
    "id": "SPGsEc5l4_8J",
    "pycharm": {
     "name": "#%% md\n"
    }
   },
   "source": [
    "Соберем модель в функциональной форме (функциональное API Keras) \n",
    "\n",
    "Сеть собираем как последовательности соединей узлов:\n",
    " \n",
    " вход -> слой 1 -> слой 2 -> выход\n",
    "\n",
    " связь идет через тензоры"
   ]
  },
  {
   "cell_type": "code",
   "execution_count": 58,
   "metadata": {
    "colab": {
     "base_uri": "https://localhost:8080/"
    },
    "executionInfo": {
     "elapsed": 44,
     "status": "ok",
     "timestamp": 1649782580845,
     "user": {
      "displayName": "Mariia Korliakova",
      "userId": "14165537686129864864"
     },
     "user_tz": -180
    },
    "id": "pCb24tU45MXG",
    "outputId": "9cca06b1-66d1-44c7-d4f5-e28ad0cabf98",
    "pycharm": {
     "name": "#%%\n"
    }
   },
   "outputs": [
    {
     "name": "stdout",
     "output_type": "stream",
     "text": [
      "Model: \"sequential_9\"\n",
      "_________________________________________________________________\n",
      " Layer (type)                Output Shape              Param #   \n",
      "=================================================================\n",
      " flatten (Flatten)           (None, 784)               0         \n",
      "                                                                 \n",
      " dense_27 (Dense)            (None, 128)               100480    \n",
      "                                                                 \n",
      " dense_28 (Dense)            (None, 10)                1290      \n",
      "                                                                 \n",
      "=================================================================\n",
      "Total params: 101,770\n",
      "Trainable params: 101,770\n",
      "Non-trainable params: 0\n",
      "_________________________________________________________________\n"
     ]
    }
   ],
   "source": [
    "model.summary()"
   ]
  },
  {
   "cell_type": "code",
   "execution_count": 59,
   "metadata": {
    "executionInfo": {
     "elapsed": 31,
     "status": "ok",
     "timestamp": 1649782580847,
     "user": {
      "displayName": "Mariia Korliakova",
      "userId": "14165537686129864864"
     },
     "user_tz": -180
    },
    "id": "P9V7ENde4t1S",
    "pycharm": {
     "name": "#%%\n"
    }
   },
   "outputs": [],
   "source": [
    "inputs = Input( shape=(28, 28))\n",
    "x_1 = keras.layers.Flatten()(inputs)\n",
    "x = keras.layers.Dense(128, activation='relu')(x_1)\n",
    "outputs = keras.layers.Dense(10)(x)\n",
    "\n",
    "model = keras.Model(  inputs,outputs)"
   ]
  },
  {
   "cell_type": "code",
   "execution_count": 60,
   "metadata": {
    "colab": {
     "base_uri": "https://localhost:8080/"
    },
    "executionInfo": {
     "elapsed": 33,
     "status": "ok",
     "timestamp": 1649782580849,
     "user": {
      "displayName": "Mariia Korliakova",
      "userId": "14165537686129864864"
     },
     "user_tz": -180
    },
    "id": "Cu7Rm7zw6Una",
    "outputId": "b2082114-2567-461a-b80b-457dbfb49ae7",
    "pycharm": {
     "name": "#%%\n"
    }
   },
   "outputs": [
    {
     "name": "stdout",
     "output_type": "stream",
     "text": [
      "Model: \"model\"\n",
      "_________________________________________________________________\n",
      " Layer (type)                Output Shape              Param #   \n",
      "=================================================================\n",
      " input_1 (InputLayer)        [(None, 28, 28)]          0         \n",
      "                                                                 \n",
      " flatten_1 (Flatten)         (None, 784)               0         \n",
      "                                                                 \n",
      " dense_29 (Dense)            (None, 128)               100480    \n",
      "                                                                 \n",
      " dense_30 (Dense)            (None, 10)                1290      \n",
      "                                                                 \n",
      "=================================================================\n",
      "Total params: 101,770\n",
      "Trainable params: 101,770\n",
      "Non-trainable params: 0\n",
      "_________________________________________________________________\n"
     ]
    }
   ],
   "source": [
    "model.summary()"
   ]
  },
  {
   "cell_type": "markdown",
   "metadata": {
    "id": "gut8A_7rCaW6",
    "pycharm": {
     "name": "#%% md\n"
    }
   },
   "source": [
    "Первый слой, `tf.keras.layers.Flatten`, трасформирует двумерный массив на входе в одномерный массив.\n",
    "\n",
    "Получившиеся 784(28 x 28) входных нейрона присоединяем к полносвязному слою из 128 нейронов , которые будут использовать функцию активации relu. В выходном слое будет 10 нейронов, по числу классов, которые он должен предсказывать. В нем будет использоваться функция активации softmax и он будет давать предсказание от 0 до 1, где 1 это стопроцентная вероятность.\n",
    "\n",
    "### Компиляция модели\n",
    "\n",
    "Давайте вспомним ключевые понятия, которые нам понадобяться при компиляции:\n",
    "\n",
    "* *Loss function* — меряет как точно работает нейросеть.\n",
    "* *Optimizer* — определяет способ корректировки весов.\n",
    "* *Metrics* — определяет за какие характеристики будут отражаться в процессе обучения."
   ]
  },
  {
   "cell_type": "code",
   "execution_count": 61,
   "metadata": {
    "executionInfo": {
     "elapsed": 25,
     "status": "ok",
     "timestamp": 1649782580851,
     "user": {
      "displayName": "Mariia Korliakova",
      "userId": "14165537686129864864"
     },
     "user_tz": -180
    },
    "id": "Lhan11blCaW7",
    "pycharm": {
     "name": "#%%\n"
    }
   },
   "outputs": [],
   "source": [
    "model.compile(optimizer='adam',\n",
    "              loss=tf.keras.losses.CategoricalCrossentropy(from_logits=True),\n",
    "              metrics=['accuracy'])"
   ]
  },
  {
   "cell_type": "markdown",
   "metadata": {
    "id": "qKF6uW-BCaW-",
    "pycharm": {
     "name": "#%% md\n"
    }
   },
   "source": [
    "## Тренировка модели\n",
    "\n",
    "Здесь все стандартно - данные передаются в нейросеть и сопоставляются изображения и лейблы.\n",
    "\n"
   ]
  },
  {
   "cell_type": "markdown",
   "metadata": {
    "id": "Z4P4zIV7E28Z",
    "pycharm": {
     "name": "#%% md\n"
    }
   },
   "source": [
    "### Передача данных в модель\n",
    "\n",
    "Команда непосредственно запускающая процесс обучения называется - `model.fit`:"
   ]
  },
  {
   "cell_type": "code",
   "execution_count": 62,
   "metadata": {
    "colab": {
     "base_uri": "https://localhost:8080/"
    },
    "executionInfo": {
     "elapsed": 2095,
     "status": "ok",
     "timestamp": 1649782582922,
     "user": {
      "displayName": "Mariia Korliakova",
      "userId": "14165537686129864864"
     },
     "user_tz": -180
    },
    "id": "xvwvpA64CaW_",
    "outputId": "12d5ce79-a455-4613-f02a-83f67fd7c272",
    "pycharm": {
     "name": "#%%\n"
    }
   },
   "outputs": [
    {
     "name": "stdout",
     "output_type": "stream",
     "text": [
      "Epoch 1/3\n",
      "60/60 [==============================] - 1s 14ms/step - loss: 0.8331 - accuracy: 0.7266\n",
      "Epoch 2/3\n",
      "60/60 [==============================] - 1s 14ms/step - loss: 0.5068 - accuracy: 0.8292\n",
      "Epoch 3/3\n",
      "60/60 [==============================] - 1s 14ms/step - loss: 0.4527 - accuracy: 0.8469\n"
     ]
    },
    {
     "data": {
      "text/plain": [
       "<keras.callbacks.History at 0x7f223c141850>"
      ]
     },
     "execution_count": 62,
     "metadata": {},
     "output_type": "execute_result"
    }
   ],
   "source": [
    "model.fit(train_images, y_train_labels, epochs=3, batch_size=1000)"
   ]
  },
  {
   "cell_type": "code",
   "execution_count": 63,
   "metadata": {
    "colab": {
     "base_uri": "https://localhost:8080/"
    },
    "executionInfo": {
     "elapsed": 580,
     "status": "ok",
     "timestamp": 1649782583500,
     "user": {
      "displayName": "Mariia Korliakova",
      "userId": "14165537686129864864"
     },
     "user_tz": -180
    },
    "id": "VflXLEeECaXC",
    "outputId": "fe63b535-60c8-406e-dc20-a6e3da939cdb",
    "pycharm": {
     "name": "#%%\n"
    }
   },
   "outputs": [
    {
     "name": "stdout",
     "output_type": "stream",
     "text": [
      "313/313 - 1s - loss: 0.4732 - accuracy: 0.8343 - 510ms/epoch - 2ms/step\n",
      "\n",
      "Test accuracy: 0.8342999815940857\n"
     ]
    }
   ],
   "source": [
    "test_loss, test_acc = model.evaluate(test_images,  y_test_labels, verbose=2)\n",
    "\n",
    "print('\\nTest accuracy:', test_acc)"
   ]
  },
  {
   "cell_type": "markdown",
   "metadata": {
    "id": "ThiOOMngFzRw",
    "pycharm": {
     "name": "#%% md\n"
    }
   },
   "source": [
    "В выводе выше мы следим за точностью в процессе обучения, проверяем точность на тестовых данных и меняем параметры нейросети если точность на тестовых данных нас не устраивает."
   ]
  },
  {
   "cell_type": "code",
   "execution_count": 64,
   "metadata": {
    "executionInfo": {
     "elapsed": 390,
     "status": "ok",
     "timestamp": 1649782583889,
     "user": {
      "displayName": "Mariia Korliakova",
      "userId": "14165537686129864864"
     },
     "user_tz": -180
    },
    "id": "lr_bHCQ8p8rY",
    "pycharm": {
     "name": "#%%\n"
    }
   },
   "outputs": [],
   "source": [
    "y_p = model.predict(test_images[:1,:,:])"
   ]
  },
  {
   "cell_type": "code",
   "execution_count": 65,
   "metadata": {
    "colab": {
     "base_uri": "https://localhost:8080/"
    },
    "executionInfo": {
     "elapsed": 17,
     "status": "ok",
     "timestamp": 1649782583891,
     "user": {
      "displayName": "Mariia Korliakova",
      "userId": "14165537686129864864"
     },
     "user_tz": -180
    },
    "id": "X5ZI0O2aqGBs",
    "outputId": "84dbb8ce-12c6-4688-8dee-463f6428a2fb",
    "pycharm": {
     "name": "#%%\n"
    }
   },
   "outputs": [
    {
     "data": {
      "text/plain": [
       "array([[-4.2665415 , -5.422572  , -4.8480906 , -4.8303146 , -3.4427595 ,\n",
       "         3.294786  , -3.960819  ,  3.2304397 , -0.04271834,  4.8344865 ]],\n",
       "      dtype=float32)"
      ]
     },
     "execution_count": 65,
     "metadata": {},
     "output_type": "execute_result"
    }
   ],
   "source": [
    "y_p"
   ]
  },
  {
   "cell_type": "code",
   "execution_count": 66,
   "metadata": {
    "colab": {
     "base_uri": "https://localhost:8080/"
    },
    "executionInfo": {
     "elapsed": 9,
     "status": "ok",
     "timestamp": 1649782583892,
     "user": {
      "displayName": "Mariia Korliakova",
      "userId": "14165537686129864864"
     },
     "user_tz": -180
    },
    "id": "fKG0Dm1jp355",
    "outputId": "52985101-8de0-47ce-aa3b-de2b2e83829b",
    "pycharm": {
     "name": "#%%\n"
    }
   },
   "outputs": [
    {
     "data": {
      "text/plain": [
       "9"
      ]
     },
     "execution_count": 66,
     "metadata": {},
     "output_type": "execute_result"
    }
   ],
   "source": [
    "np.argmax(y_p[0])"
   ]
  },
  {
   "cell_type": "markdown",
   "metadata": {
    "id": "v-PyD1SYE28q",
    "pycharm": {
     "name": "#%% md\n"
    }
   },
   "source": [
    "### Предсказания нейросети\n",
    "\n",
    "Команды ниже позволяют проверить работу натренированной ранее нейросети - "
   ]
  },
  {
   "cell_type": "code",
   "execution_count": 67,
   "metadata": {
    "executionInfo": {
     "elapsed": 5,
     "status": "ok",
     "timestamp": 1649782583893,
     "user": {
      "displayName": "Mariia Korliakova",
      "userId": "14165537686129864864"
     },
     "user_tz": -180
    },
    "id": "DnfNA0CrQLSD",
    "pycharm": {
     "name": "#%%\n"
    }
   },
   "outputs": [],
   "source": [
    "probability_model = tf.keras.Sequential([model, \n",
    "                                         tf.keras.layers.Softmax()])"
   ]
  },
  {
   "cell_type": "code",
   "execution_count": 68,
   "metadata": {
    "executionInfo": {
     "elapsed": 589,
     "status": "ok",
     "timestamp": 1649782584478,
     "user": {
      "displayName": "Mariia Korliakova",
      "userId": "14165537686129864864"
     },
     "user_tz": -180
    },
    "id": "Gl91RPhdCaXI",
    "pycharm": {
     "name": "#%%\n"
    }
   },
   "outputs": [],
   "source": [
    "predictions = probability_model.predict(test_images)"
   ]
  },
  {
   "cell_type": "code",
   "execution_count": 69,
   "metadata": {
    "colab": {
     "base_uri": "https://localhost:8080/"
    },
    "executionInfo": {
     "elapsed": 33,
     "status": "ok",
     "timestamp": 1649782584482,
     "user": {
      "displayName": "Mariia Korliakova",
      "userId": "14165537686129864864"
     },
     "user_tz": -180
    },
    "id": "3DmJEUinCaXK",
    "outputId": "d536e6bd-61d4-4393-b3df-25cd747dccc3",
    "pycharm": {
     "name": "#%%\n"
    }
   },
   "outputs": [
    {
     "data": {
      "text/plain": [
       "0.99999994"
      ]
     },
     "execution_count": 69,
     "metadata": {},
     "output_type": "execute_result"
    }
   ],
   "source": [
    "predictions[0].sum()"
   ]
  },
  {
   "cell_type": "code",
   "execution_count": 70,
   "metadata": {
    "colab": {
     "base_uri": "https://localhost:8080/"
    },
    "executionInfo": {
     "elapsed": 25,
     "status": "ok",
     "timestamp": 1649782584485,
     "user": {
      "displayName": "Mariia Korliakova",
      "userId": "14165537686129864864"
     },
     "user_tz": -180
    },
    "id": "qsqenuPnCaXO",
    "outputId": "1f239bb4-515a-4003-cb56-7054d3bcfcc2",
    "pycharm": {
     "name": "#%%\n"
    }
   },
   "outputs": [
    {
     "data": {
      "text/plain": [
       "9"
      ]
     },
     "execution_count": 70,
     "metadata": {},
     "output_type": "execute_result"
    }
   ],
   "source": [
    "np.argmax(predictions[0])"
   ]
  },
  {
   "cell_type": "code",
   "execution_count": 71,
   "metadata": {
    "colab": {
     "base_uri": "https://localhost:8080/"
    },
    "executionInfo": {
     "elapsed": 474,
     "status": "ok",
     "timestamp": 1649782584943,
     "user": {
      "displayName": "Mariia Korliakova",
      "userId": "14165537686129864864"
     },
     "user_tz": -180
    },
    "id": "Sd7Pgsu6CaXP",
    "outputId": "0d926813-beab-46cf-9922-2fe2d1d4cea5",
    "pycharm": {
     "name": "#%%\n"
    }
   },
   "outputs": [
    {
     "data": {
      "text/plain": [
       "9"
      ]
     },
     "execution_count": 71,
     "metadata": {},
     "output_type": "execute_result"
    }
   ],
   "source": [
    "test_labels[0]"
   ]
  },
  {
   "cell_type": "code",
   "execution_count": 72,
   "metadata": {
    "executionInfo": {
     "elapsed": 9,
     "status": "ok",
     "timestamp": 1649782584945,
     "user": {
      "displayName": "Mariia Korliakova",
      "userId": "14165537686129864864"
     },
     "user_tz": -180
    },
    "id": "DvYmmrpIy6Y1",
    "pycharm": {
     "name": "#%%\n"
    }
   },
   "outputs": [],
   "source": [
    "def plot_image(i, predictions_array, true_label, img):\n",
    "  predictions_array, true_label, img = predictions_array, true_label[i], img[i]\n",
    "  plt.grid(False)\n",
    "  plt.xticks([])\n",
    "  plt.yticks([])\n",
    "\n",
    "  plt.imshow(img, cmap=plt.cm.binary)\n",
    "\n",
    "  predicted_label = np.argmax(predictions_array)\n",
    "  if predicted_label == true_label:\n",
    "    color = 'blue'\n",
    "  else:\n",
    "    color = 'red'\n",
    "\n",
    "  plt.xlabel(\"{} {:2.0f}% ({})\".format(class_names[predicted_label],\n",
    "                                100*np.max(predictions_array),\n",
    "                                class_names[true_label]),\n",
    "                                color=color)\n",
    "\n",
    "def plot_value_array(i, predictions_array, true_label):\n",
    "  predictions_array, true_label = predictions_array, true_label[i]\n",
    "  plt.grid(False)\n",
    "  plt.xticks(range(10))\n",
    "  plt.yticks([])\n",
    "  thisplot = plt.bar(range(10), predictions_array, color=\"#777777\")\n",
    "  plt.ylim([0, 1])\n",
    "  predicted_label = np.argmax(predictions_array)\n",
    "\n",
    "  thisplot[predicted_label].set_color('red')\n",
    "  thisplot[true_label].set_color('blue')"
   ]
  },
  {
   "cell_type": "markdown",
   "metadata": {
    "id": "Zh9yABaME29S",
    "pycharm": {
     "name": "#%% md\n"
    }
   },
   "source": [
    "### Проверка предсказаний\n",
    "\n",
    "Matplotlib нам дает возможность посмотреть наше предсказание графически:"
   ]
  },
  {
   "cell_type": "code",
   "execution_count": 73,
   "metadata": {
    "colab": {
     "base_uri": "https://localhost:8080/",
     "height": 211
    },
    "executionInfo": {
     "elapsed": 10,
     "status": "ok",
     "timestamp": 1649782584947,
     "user": {
      "displayName": "Mariia Korliakova",
      "userId": "14165537686129864864"
     },
     "user_tz": -180
    },
    "id": "HV5jw-5HwSmO",
    "outputId": "df2f307e-6d40-4a3f-fc90-3a4b62cb8553",
    "pycharm": {
     "name": "#%%\n"
    }
   },
   "outputs": [
    {
     "data": {
      "image/png": "[encoded data removed]",
      "text/plain": [
       "<Figure size 432x216 with 2 Axes>"
      ]
     },
     "metadata": {},
     "output_type": "display_data"
    }
   ],
   "source": [
    "i = 101\n",
    "plt.figure(figsize=(6,3))\n",
    "plt.subplot(1,2,1)\n",
    "plot_image(i, predictions[i], test_labels, test_images)\n",
    "plt.subplot(1,2,2)\n",
    "plot_value_array(i, predictions[i],  test_labels)\n",
    "plt.show()"
   ]
  },
  {
   "cell_type": "code",
   "execution_count": 74,
   "metadata": {
    "colab": {
     "base_uri": "https://localhost:8080/",
     "height": 211
    },
    "executionInfo": {
     "elapsed": 8,
     "status": "ok",
     "timestamp": 1649782584948,
     "user": {
      "displayName": "Mariia Korliakova",
      "userId": "14165537686129864864"
     },
     "user_tz": -180
    },
    "id": "Ko-uzOufSCSe",
    "outputId": "52ce1ad8-2389-44f7-ff78-081ac9997b32",
    "pycharm": {
     "name": "#%%\n"
    }
   },
   "outputs": [
    {
     "data": {
      "image/png": "[encoded data removed]",
      "text/plain": [
       "<Figure size 432x216 with 2 Axes>"
      ]
     },
     "metadata": {},
     "output_type": "display_data"
    }
   ],
   "source": [
    "i = 5\n",
    "plt.figure(figsize=(6,3))\n",
    "plt.subplot(1,2,1)\n",
    "plot_image(i, predictions[i], test_labels, test_images)\n",
    "plt.subplot(1,2,2)\n",
    "plot_value_array(i, predictions[i],  test_labels)\n",
    "plt.show()"
   ]
  },
  {
   "cell_type": "markdown",
   "metadata": {
    "id": "kgdvGD52CaXR",
    "pycharm": {
     "name": "#%% md\n"
    }
   },
   "source": [
    "Давайте сделаем еще несколько предсказаний - "
   ]
  },
  {
   "cell_type": "code",
   "execution_count": 75,
   "metadata": {
    "colab": {
     "base_uri": "https://localhost:8080/",
     "height": 729
    },
    "executionInfo": {
     "elapsed": 2409,
     "status": "ok",
     "timestamp": 1649782587351,
     "user": {
      "displayName": "Mariia Korliakova",
      "userId": "14165537686129864864"
     },
     "user_tz": -180
    },
    "id": "hQlnbqaw2Qu_",
    "outputId": "ed20624f-e379-412a-d2b0-b54b5abbb623",
    "pycharm": {
     "name": "#%%\n"
    }
   },
   "outputs": [
    {
     "data": {
      "image/png": "[encoded data removed]",
      "text/plain": [
       "<Figure size 864x720 with 30 Axes>"
      ]
     },
     "metadata": {},
     "output_type": "display_data"
    }
   ],
   "source": [
    "\n",
    "num_rows = 5\n",
    "num_cols = 3\n",
    "num_images = num_rows*num_cols\n",
    "plt.figure(figsize=(2*2*num_cols, 2*num_rows))\n",
    "for i in range(num_images):\n",
    "  plt.subplot(num_rows, 2*num_cols, 2*i+1)\n",
    "  plot_image(i, predictions[i], test_labels, test_images)\n",
    "  plt.subplot(num_rows, 2*num_cols, 2*i+2)\n",
    "  plot_value_array(i, predictions[i], test_labels)\n",
    "plt.tight_layout()\n",
    "plt.show()"
   ]
  },
  {
   "cell_type": "markdown",
   "metadata": {
    "id": "R32zteKHCaXT",
    "pycharm": {
     "name": "#%% md\n"
    }
   },
   "source": [
    "## Использование полученной модели\n",
    "\n",
    "Давайте возьмем одно изображение из тестовой выборке и посмотрим предсказание нейронной сети - "
   ]
  },
  {
   "cell_type": "code",
   "execution_count": 76,
   "metadata": {
    "colab": {
     "base_uri": "https://localhost:8080/"
    },
    "executionInfo": {
     "elapsed": 0,
     "status": "ok",
     "timestamp": 1649782587359,
     "user": {
      "displayName": "Mariia Korliakova",
      "userId": "14165537686129864864"
     },
     "user_tz": -180
    },
    "id": "yRJ7JU7JCaXT",
    "outputId": "e721bc8d-a50f-4162-eede-8223fc3b3033",
    "pycharm": {
     "name": "#%%\n"
    }
   },
   "outputs": [
    {
     "name": "stdout",
     "output_type": "stream",
     "text": [
      "(28, 28)\n"
     ]
    }
   ],
   "source": [
    "\n",
    "img1 = test_images[1]\n",
    "\n",
    "print(img1.shape)"
   ]
  },
  {
   "cell_type": "code",
   "execution_count": 77,
   "metadata": {
    "colab": {
     "base_uri": "https://localhost:8080/"
    },
    "executionInfo": {
     "elapsed": 21,
     "status": "ok",
     "timestamp": 1649782587354,
     "user": {
      "displayName": "Mariia Korliakova",
      "userId": "14165537686129864864"
     },
     "user_tz": -180
    },
    "id": "lDFh5yF_CaXW",
    "outputId": "f791b2c9-7f64-4445-aade-c8d5c8a4ac04",
    "pycharm": {
     "name": "#%%\n"
    }
   },
   "outputs": [
    {
     "name": "stdout",
     "output_type": "stream",
     "text": [
      "(1, 28, 28)\n"
     ]
    }
   ],
   "source": [
    "# Add the image to a batch where it's the only member.\n",
    "img = (np.expand_dims(img1,0))\n",
    "\n",
    "print(img.shape)"
   ]
  },
  {
   "cell_type": "code",
   "execution_count": 78,
   "metadata": {
    "colab": {
     "base_uri": "https://localhost:8080/"
    },
    "executionInfo": {
     "elapsed": 13,
     "status": "ok",
     "timestamp": 1649782587356,
     "user": {
      "displayName": "Mariia Korliakova",
      "userId": "14165537686129864864"
     },
     "user_tz": -180
    },
    "id": "o_rzNSdrCaXY",
    "outputId": "9e41fd7c-85ca-4879-c5d3-3731bc5f0fbc",
    "pycharm": {
     "name": "#%%\n"
    }
   },
   "outputs": [
    {
     "name": "stdout",
     "output_type": "stream",
     "text": [
      "[[4.8923015e-04 4.9852738e-06 9.2123640e-01 5.3609525e-05 4.5440122e-03\n",
      "  1.7610377e-07 7.3626690e-02 4.8211402e-10 4.4909844e-05 5.7742806e-09]]\n"
     ]
    }
   ],
   "source": [
    "predictions_single = probability_model.predict(img)\n",
    "\n",
    "print(predictions_single)"
   ]
  },
  {
   "cell_type": "code",
   "execution_count": 79,
   "metadata": {
    "colab": {
     "base_uri": "https://localhost:8080/",
     "height": 300
    },
    "executionInfo": {
     "elapsed": 463,
     "status": "ok",
     "timestamp": 1649782587813,
     "user": {
      "displayName": "Mariia Korliakova",
      "userId": "14165537686129864864"
     },
     "user_tz": -180
    },
    "id": "6Ai-cpLjO-3A",
    "outputId": "643354d6-9bf3-4c0d-ec83-85bc13bec2fe",
    "pycharm": {
     "name": "#%%\n"
    }
   },
   "outputs": [
    {
     "data": {
      "image/png": "[encoded data removed]",
      "text/plain": [
       "<Figure size 432x288 with 1 Axes>"
      ]
     },
     "metadata": {},
     "output_type": "display_data"
    }
   ],
   "source": [
    "plot_value_array(1, predictions_single[0], test_labels)\n",
    "_ = plt.xticks(range(10), class_names, rotation=45)"
   ]
  },
  {
   "cell_type": "markdown",
   "metadata": {
    "id": "cU1Y2OAMCaXb",
    "pycharm": {
     "name": "#%% md\n"
    }
   },
   "source": [
    "`keras.Model.predict` возвращает список списков — по одному списку для каждого предсказания в батче. Нам нужны предсказания только для одного изображения:"
   ]
  },
  {
   "cell_type": "code",
   "execution_count": 80,
   "metadata": {
    "colab": {
     "base_uri": "https://localhost:8080/"
    },
    "executionInfo": {
     "elapsed": 18,
     "status": "ok",
     "timestamp": 1649782587815,
     "user": {
      "displayName": "Mariia Korliakova",
      "userId": "14165537686129864864"
     },
     "user_tz": -180
    },
    "id": "2tRmdq_8CaXb",
    "outputId": "711de2cf-623b-483c-8fab-6ce00f3e4cd9",
    "pycharm": {
     "name": "#%%\n"
    }
   },
   "outputs": [
    {
     "data": {
      "text/plain": [
       "2"
      ]
     },
     "execution_count": 80,
     "metadata": {},
     "output_type": "execute_result"
    }
   ],
   "source": [
    "np.argmax(predictions_single[0])"
   ]
  },
  {
   "cell_type": "markdown",
   "metadata": {
    "id": "oiAdZfhLtMJ5",
    "pycharm": {
     "name": "#%% md\n"
    }
   },
   "source": [
    "## **Проведем анализ работы модели по слоям**\n",
    "\n",
    "Состояние узлов в сети по эпохам (пакетам) и слоям можно оценить используя средства tensorflow через объект GradientTape() - исполняет шаг вычисления градиента для модели по ее loss для всех тренируемых весов модели (<имя модели>.trainable_weights) (см. https://www.tensorflow.org/guide/basic_training_loops, https://www.tensorflow.org/api_docs/python/tf/GradientTape)\n",
    "\n",
    "\n",
    "данные для обучения получим из tensorflow.data.Dataset (https://www.tensorflow.org/guide/data), куда передаем выборку , а на выходе получаем генератор пакетов заданного размера"
   ]
  },
  {
   "cell_type": "code",
   "execution_count": 81,
   "metadata": {
    "executionInfo": {
     "elapsed": 7,
     "status": "ok",
     "timestamp": 1649782587819,
     "user": {
      "displayName": "Mariia Korliakova",
      "userId": "14165537686129864864"
     },
     "user_tz": -180
    },
    "id": "X_NOoAuiKZko",
    "pycharm": {
     "name": "#%%\n"
    }
   },
   "outputs": [],
   "source": [
    "import tensorflow.nn as nn"
   ]
  },
  {
   "cell_type": "code",
   "execution_count": 82,
   "metadata": {
    "colab": {
     "base_uri": "https://localhost:8080/"
    },
    "executionInfo": {
     "elapsed": 6722,
     "status": "ok",
     "timestamp": 1649782594535,
     "user": {
      "displayName": "Mariia Korliakova",
      "userId": "14165537686129864864"
     },
     "user_tz": -180
    },
    "id": "OCMo1w13mswi",
    "outputId": "079968c9-3865-470c-eab1-9c97f2b7092f",
    "pycharm": {
     "name": "#%%\n"
    }
   },
   "outputs": [
    {
     "name": "stdout",
     "output_type": "stream",
     "text": [
      "Начинаем эпоху 0\n",
      "Потери на обучении (для одного пакета) на шаге 0: 0.09004516899585724\n",
      "Уже увидели: 64 примеров\n",
      "Потери на обучении (для одного пакета) на шаге 20: 0.09001050889492035\n",
      "Уже увидели: 1344 примеров\n",
      "Потери на обучении (для одного пакета) на шаге 40: 0.08997665345668793\n",
      "Уже увидели: 2624 примеров\n",
      "Потери на обучении (для одного пакета) на шаге 60: 0.08999767154455185\n",
      "Уже увидели: 3904 примеров\n",
      "Потери на обучении (для одного пакета) на шаге 80: 0.09003796428442001\n",
      "Уже увидели: 5184 примеров\n",
      "Начинаем эпоху 1\n",
      "Потери на обучении (для одного пакета) на шаге 0: 0.09004421532154083\n",
      "Уже увидели: 64 примеров\n",
      "Потери на обучении (для одного пакета) на шаге 20: 0.0900055393576622\n",
      "Уже увидели: 1344 примеров\n",
      "Потери на обучении (для одного пакета) на шаге 40: 0.08997657895088196\n",
      "Уже увидели: 2624 примеров\n",
      "Потери на обучении (для одного пакета) на шаге 60: 0.08999642729759216\n",
      "Уже увидели: 3904 примеров\n",
      "Потери на обучении (для одного пакета) на шаге 80: 0.09003658592700958\n",
      "Уже увидели: 5184 примеров\n"
     ]
    }
   ],
   "source": [
    "# собираем сеть\n",
    "\n",
    "level =20\n",
    "inputs = Input(shape=(28,28), name='digits') \n",
    "x=Flatten()(inputs)\n",
    "for i in range(level):\n",
    "  x = Dense(64,  name='dense_'+str(i))(x) \n",
    "  \n",
    "  #x = tf.nn.relu(x)\n",
    "  #x = Dense(64, name='dense_'+str(i))(x)\n",
    "  #x = nn.sigmoid(x) \n",
    "  x = tf.nn.relu(x)\n",
    "x = Dense(10,name='predictions')(x) \n",
    "outputs =nn.softmax(x)\n",
    "modelg = Model(inputs=inputs, outputs=outputs) \n",
    "\n",
    "\n",
    "\n",
    "\n",
    "# Создадим экземпляр оптимизатора. \n",
    "optimizer = tensorflow.keras.optimizers.SGD(learning_rate=1e-3) \n",
    "# Instantiate a loss function. \n",
    "loss_fn = tensorflow.keras.losses.MeanSquaredError() #(from_logits=True) \n",
    "# Подготовим тренировочный датасет. \n",
    "batch_size = 64 \n",
    "# Итерируем по эпохам.\n",
    "grad_log=[]\n",
    "\n",
    "epochs=2  # учим немного, т.к. задача посмотреть , что происходит с градиентом\n",
    "for epoch in range(epochs): \n",
    "  print('Начинаем эпоху %d' % (epoch,)) \n",
    "  # Итерируем по пакетам в датасете. \n",
    "   \n",
    "  for step, (x_batch_train, y_batch_train) in enumerate(zip(train_images[:100,:,:], y_train_labels[:100])):\n",
    "    # Откроем GradientTape чтобы записать операции # выполняемые во время прямого прохода, \n",
    "    #включающего автодифференцирование. \n",
    "    with tensorflow.GradientTape() as tape: \n",
    "      # Запустим прямой проход слоя. \n",
    "      # Операции применяемые слоем к своим \n",
    "      # входным данным будут записаны \n",
    "      # на GradientTape. \n",
    "      loggits = modelg(x_batch_train.reshape((1,28,28))) \n",
    "      # loggits для пакета  - выходы модели \n",
    "      # Вычислим значение потерь для этого пакета. \n",
    "      y_batch_train = y_batch_train.reshape(1,10)\n",
    "      y_s=y_batch_train.shape\n",
    "      y  = tensorflow.reshape( y_batch_train,shape=(y_s[0],10,1))\n",
    "      l = tensorflow.reshape( loggits,shape=(y_s[0],10,1))\n",
    "      # вызываем лосс\n",
    "      loss_value = loss_fn(y, l) \n",
    "      # Используем gradient tape для автоматического извлечения градиентов \n",
    "      # обучаемых переменных относительно потерь. \n",
    "      grads = tape.gradient(loss_value, modelg.trainable_weights) \n",
    "      g_g=[]\n",
    "      w_w =[]\n",
    "      # пишем логи для сохранения значений градиента и веса по одной цепи \n",
    "      # (0-й канал распространения активности)\n",
    "      for g_s in grads:\n",
    "        # допишем логи значений градиента в зависимости от размера тензора градиента\n",
    "        if len(g_s.numpy().shape)==1:\n",
    "         \n",
    "          g_g.append(g_s.numpy()[0])\n",
    "        if len(g_s.numpy().shape)==2:\n",
    "          \n",
    "          g_g.append(g_s.numpy()[0,0]) \n",
    "        if len(g_s.numpy().shape)==3:\n",
    "          \n",
    "          g_g.append(g_s.numpy()[0,0,0]) \n",
    "        if len(g_s.numpy().shape)==4:\n",
    "          \n",
    "          g_g.append(g_s.numpy()[0,0,0,0])  \n",
    "\n",
    "              \n",
    "      # добавляем текущие логи по слоям к общей записи\n",
    "      grad_log.append(g_g)\n",
    "\n",
    "      # Выполним один шаг градиентного спуска обновив # значение переменных минимизирующих потери. \n",
    "      optimizer.apply_gradients(zip(grads, modelg.trainable_weights)) \n",
    "      # Пишем лог каждые 200 пакетов. \n",
    "      if step % 20 == 0: \n",
    "        print('Потери на обучении (для одного пакета) на шаге %s: %s' % (step, float(loss_value))) \n",
    "        print('Уже увидели: %s примеров' % ((step + 1) * batch_size))\n",
    "grad_log=np.array(grad_log)\n",
    "\n"
   ]
  },
  {
   "cell_type": "code",
   "execution_count": null,
   "metadata": {
    "colab": {
     "base_uri": "https://localhost:8080/"
    },
    "executionInfo": {
     "elapsed": 519,
     "status": "ok",
     "timestamp": 1646074172050,
     "user": {
      "displayName": "Mariia Korliakova",
      "photoUrl": "https://lh3.googleusercontent.com/a/default-user=s64",
      "userId": "14165537686129864864"
     },
     "user_tz": -180
    },
    "id": "InVNvyKeu1Nm",
    "outputId": "8fb071c5-9dc0-4e8d-e17b-a706a7891e35",
    "pycharm": {
     "name": "#%%\n"
    }
   },
   "outputs": [
    {
     "name": "stdout",
     "output_type": "stream",
     "text": [
      "Model: \"model_3\"\n",
      "_________________________________________________________________\n",
      " Layer (type)                Output Shape              Param #   \n",
      "=================================================================\n",
      " digits (InputLayer)         [(None, 28, 28)]          0         \n",
      "                                                                 \n",
      " flatten_4 (Flatten)         (None, 784)               0         \n",
      "                                                                 \n",
      " dense_0 (Dense)             (None, 64)                50240     \n",
      "                                                                 \n",
      " tf.nn.relu (TFOpLambda)     (None, 64)                0         \n",
      "                                                                 \n",
      " dense_1 (Dense)             (None, 64)                4160      \n",
      "                                                                 \n",
      " tf.nn.relu_1 (TFOpLambda)   (None, 64)                0         \n",
      "                                                                 \n",
      " dense_2 (Dense)             (None, 64)                4160      \n",
      "                                                                 \n",
      " tf.nn.relu_2 (TFOpLambda)   (None, 64)                0         \n",
      "                                                                 \n",
      " dense_3 (Dense)             (None, 64)                4160      \n",
      "                                                                 \n",
      " tf.nn.relu_3 (TFOpLambda)   (None, 64)                0         \n",
      "                                                                 \n",
      " dense_4 (Dense)             (None, 64)                4160      \n",
      "                                                                 \n",
      " tf.nn.relu_4 (TFOpLambda)   (None, 64)                0         \n",
      "                                                                 \n",
      " dense_5 (Dense)             (None, 64)                4160      \n",
      "                                                                 \n",
      " tf.nn.relu_5 (TFOpLambda)   (None, 64)                0         \n",
      "                                                                 \n",
      " dense_6 (Dense)             (None, 64)                4160      \n",
      "                                                                 \n",
      " tf.nn.relu_6 (TFOpLambda)   (None, 64)                0         \n",
      "                                                                 \n",
      " dense_7 (Dense)             (None, 64)                4160      \n",
      "                                                                 \n",
      " tf.nn.relu_7 (TFOpLambda)   (None, 64)                0         \n",
      "                                                                 \n",
      " dense_8 (Dense)             (None, 64)                4160      \n",
      "                                                                 \n",
      " tf.nn.relu_8 (TFOpLambda)   (None, 64)                0         \n",
      "                                                                 \n",
      " dense_9 (Dense)             (None, 64)                4160      \n",
      "                                                                 \n",
      " tf.nn.relu_9 (TFOpLambda)   (None, 64)                0         \n",
      "                                                                 \n",
      " dense_10 (Dense)            (None, 64)                4160      \n",
      "                                                                 \n",
      " tf.nn.relu_10 (TFOpLambda)  (None, 64)                0         \n",
      "                                                                 \n",
      " dense_11 (Dense)            (None, 64)                4160      \n",
      "                                                                 \n",
      " tf.nn.relu_11 (TFOpLambda)  (None, 64)                0         \n",
      "                                                                 \n",
      " dense_12 (Dense)            (None, 64)                4160      \n",
      "                                                                 \n",
      " tf.nn.relu_12 (TFOpLambda)  (None, 64)                0         \n",
      "                                                                 \n",
      " dense_13 (Dense)            (None, 64)                4160      \n",
      "                                                                 \n",
      " tf.nn.relu_13 (TFOpLambda)  (None, 64)                0         \n",
      "                                                                 \n",
      " dense_14 (Dense)            (None, 64)                4160      \n",
      "                                                                 \n",
      " tf.nn.relu_14 (TFOpLambda)  (None, 64)                0         \n",
      "                                                                 \n",
      " dense_15 (Dense)            (None, 64)                4160      \n",
      "                                                                 \n",
      " tf.nn.relu_15 (TFOpLambda)  (None, 64)                0         \n",
      "                                                                 \n",
      " dense_16 (Dense)            (None, 64)                4160      \n",
      "                                                                 \n",
      " tf.nn.relu_16 (TFOpLambda)  (None, 64)                0         \n",
      "                                                                 \n",
      " dense_17 (Dense)            (None, 64)                4160      \n",
      "                                                                 \n",
      " tf.nn.relu_17 (TFOpLambda)  (None, 64)                0         \n",
      "                                                                 \n",
      " dense_18 (Dense)            (None, 64)                4160      \n",
      "                                                                 \n",
      " tf.nn.relu_18 (TFOpLambda)  (None, 64)                0         \n",
      "                                                                 \n",
      " dense_19 (Dense)            (None, 64)                4160      \n",
      "                                                                 \n",
      " tf.nn.relu_19 (TFOpLambda)  (None, 64)                0         \n",
      "                                                                 \n",
      " predictions (Dense)         (None, 10)                650       \n",
      "                                                                 \n",
      " tf.nn.softmax_1 (TFOpLambda  (None, 10)               0         \n",
      " )                                                               \n",
      "                                                                 \n",
      "=================================================================\n",
      "Total params: 129,930\n",
      "Trainable params: 129,930\n",
      "Non-trainable params: 0\n",
      "_________________________________________________________________\n"
     ]
    }
   ],
   "source": [
    "modelg.summary()"
   ]
  },
  {
   "cell_type": "code",
   "execution_count": null,
   "metadata": {
    "colab": {
     "base_uri": "https://localhost:8080/",
     "height": 305
    },
    "executionInfo": {
     "elapsed": 591,
     "status": "ok",
     "timestamp": 1646074175033,
     "user": {
      "displayName": "Mariia Korliakova",
      "photoUrl": "https://lh3.googleusercontent.com/a/default-user=s64",
      "userId": "14165537686129864864"
     },
     "user_tz": -180
    },
    "id": "PN7GXEPBri2u",
    "outputId": "90114c3e-c986-41cc-b133-61b7b11ad8b7",
    "pycharm": {
     "name": "#%%\n"
    }
   },
   "outputs": [
    {
     "data": {
      "image/png": "[encoded data removed]",
      "text/plain": [
       "<Figure size 1152x360 with 1 Axes>"
      ]
     },
     "metadata": {},
     "output_type": "display_data"
    }
   ],
   "source": [
    "plt.figure(figsize=(16,5))\n",
    "plt.title('Градиент по слоям')\n",
    "plt.xlabel('№ layer')\n",
    "plt.ylabel('grad')\n",
    "plt.grid()\n",
    "plt.plot(np.abs(grad_log[0,:]),'-ob',label='step 0')\n",
    "plt.plot(np.abs(grad_log[10,:]),label='step 10')\n",
    "plt.plot(np.abs(grad_log[100,:]),label='step 100')\n",
    "#plt.plot(np.abs(grad_log[700,:]),label='step 700')\n",
    "plt.legend()\n",
    "plt.show()"
   ]
  },
  {
   "cell_type": "markdown",
   "metadata": {
    "id": "Eh-unHPRwe7M",
    "pycharm": {
     "name": "#%% md\n"
    }
   },
   "source": [
    "### Сделаем анализ ошибок модели"
   ]
  },
  {
   "cell_type": "code",
   "execution_count": null,
   "metadata": {
    "id": "5c6MdztxalDc",
    "pycharm": {
     "name": "#%%\n"
    }
   },
   "outputs": [],
   "source": [
    "from sklearn.metrics import confusion_matrix, ConfusionMatrixDisplay"
   ]
  },
  {
   "cell_type": "code",
   "execution_count": null,
   "metadata": {
    "colab": {
     "base_uri": "https://localhost:8080/"
    },
    "executionInfo": {
     "elapsed": 432,
     "status": "ok",
     "timestamp": 1646074219395,
     "user": {
      "displayName": "Mariia Korliakova",
      "photoUrl": "https://lh3.googleusercontent.com/a/default-user=s64",
      "userId": "14165537686129864864"
     },
     "user_tz": -180
    },
    "id": "ApcYAUE4dr8q",
    "outputId": "ebeeaebe-d5be-4fba-dabe-6e47cf83e445",
    "pycharm": {
     "name": "#%%\n"
    }
   },
   "outputs": [
    {
     "data": {
      "text/plain": [
       "array([9, 2, 1, 1, 6, 1, 4, 6, 5, 7])"
      ]
     },
     "execution_count": 103,
     "metadata": {},
     "output_type": "execute_result"
    }
   ],
   "source": [
    "y_pred = np.argmax(probability_model.predict(test_images), axis=1)\n",
    "y_pred[:10]"
   ]
  },
  {
   "cell_type": "code",
   "execution_count": null,
   "metadata": {
    "colab": {
     "base_uri": "https://localhost:8080/"
    },
    "executionInfo": {
     "elapsed": 294,
     "status": "ok",
     "timestamp": 1646074220861,
     "user": {
      "displayName": "Mariia Korliakova",
      "photoUrl": "https://lh3.googleusercontent.com/a/default-user=s64",
      "userId": "14165537686129864864"
     },
     "user_tz": -180
    },
    "id": "DG7c3AV9ekyg",
    "outputId": "970d3bf6-da19-4e35-aaa7-c389e2eabce5",
    "pycharm": {
     "name": "#%%\n"
    }
   },
   "outputs": [
    {
     "name": "stdout",
     "output_type": "stream",
     "text": [
      "[[756   5  13  55   5   1 145   0  20   0]\n",
      " [  4 952   5  30   4   0   3   0   2   0]\n",
      " [ 11   3 675   8 168   1 120   0  14   0]\n",
      " [ 16  16  12 848  42   1  61   0   4   0]\n",
      " [  0   2  67  31 779   1 113   0   7   0]\n",
      " [  1   0   0   1   0 903   0  48   5  42]\n",
      " [100   4  85  36  96   0 650   0  29   0]\n",
      " [  0   0   0   0   0  38   0 890   0  72]\n",
      " [  0   1   5   8   4   6  21   6 949   0]\n",
      " [  0   0   0   0   0  12   1  29   1 957]]\n"
     ]
    }
   ],
   "source": [
    "CM = confusion_matrix(test_labels,y_pred)\n",
    "print(CM)"
   ]
  },
  {
   "cell_type": "code",
   "execution_count": 88,
   "metadata": {
    "colab": {
     "base_uri": "https://localhost:8080/",
     "height": 279
    },
    "executionInfo": {
     "elapsed": 678,
     "status": "ok",
     "timestamp": 1649782596277,
     "user": {
      "displayName": "Mariia Korliakova",
      "userId": "14165537686129864864"
     },
     "user_tz": -180
    },
    "id": "V2kt2VW0i82L",
    "outputId": "e85444e7-d350-4aa3-a1a2-7d69a54edd74",
    "pycharm": {
     "name": "#%%\n"
    }
   },
   "outputs": [
    {
     "data": {
      "image/png": "[encoded data removed]",
      "text/plain": [
       "<Figure size 432x288 with 2 Axes>"
      ]
     },
     "metadata": {},
     "output_type": "display_data"
    }
   ],
   "source": [
    "disp = ConfusionMatrixDisplay(confusion_matrix=CM, display_labels=np.arange(10))\n",
    "\n",
    "disp.plot( values_format ='.3g')\n",
    "plt.show()"
   ]
  },
  {
   "cell_type": "code",
   "execution_count": null,
   "metadata": {
    "colab": {
     "base_uri": "https://localhost:8080/",
     "height": 279
    },
    "executionInfo": {
     "elapsed": 288,
     "status": "ok",
     "timestamp": 1646074271176,
     "user": {
      "displayName": "Mariia Korliakova",
      "photoUrl": "https://lh3.googleusercontent.com/a/default-user=s64",
      "userId": "14165537686129864864"
     },
     "user_tz": -180
    },
    "id": "Rvd8zftsgWEC",
    "outputId": "1494f35c-26e6-43a0-8d03-3b57b5b3dbab",
    "pycharm": {
     "name": "#%%\n"
    }
   },
   "outputs": [
    {
     "data": {
      "image/png": "[encoded data removed]",
      "text/plain": [
       "<Figure size 432x288 with 2 Axes>"
      ]
     },
     "metadata": {},
     "output_type": "display_data"
    }
   ],
   "source": [
    "plt.imshow(CM, cmap='hot', interpolation='nearest')\n",
    "plt.colorbar()\n",
    "plt.yticks(ticks=np.arange(10))\n",
    "plt.xticks(ticks=np.arange(10))\n",
    "plt.xlabel('предсказаны')\n",
    "plt.ylabel('истина')\n",
    "plt.show()"
   ]
  },
  {
   "cell_type": "markdown",
   "metadata": {
    "id": "FEq8mmOM3knb",
    "pycharm": {
     "name": "#%% md\n"
    }
   },
   "source": [
    "Сеть делает ошибки. Можно их попробовать исправить, если сделать комбинацию сетей (ансамбль) . Проверим вариант усреднения."
   ]
  },
  {
   "cell_type": "markdown",
   "metadata": {
    "id": "hcSnl7L5FzTA",
    "pycharm": {
     "name": "#%% md\n"
    }
   },
   "source": [
    "Нейросеть при хорошо подобранных параметрах должна была выдать корректное предсказание\n",
    "\n",
    "\n",
    "Реализуем одинаковые сети в разном стиле:\n",
    "- model1 - линейная модель через список\n",
    "- model2 - линейная модель через добавление слоев по очереди\n",
    "- model3 - модель через функциональное описание\n",
    "\n",
    "У всех 3-х сетей предпоследний слой линейный (это не правильно для классификации и сделано, что бы модель была совсем простой)\n",
    "\n",
    "\n"
   ]
  },
  {
   "cell_type": "code",
   "execution_count": 90,
   "metadata": {
    "colab": {
     "base_uri": "https://localhost:8080/"
    },
    "executionInfo": {
     "elapsed": 41339,
     "status": "ok",
     "timestamp": 1649782637614,
     "user": {
      "displayName": "Mariia Korliakova",
      "userId": "14165537686129864864"
     },
     "user_tz": -180
    },
    "id": "pyurjN_EJN9P",
    "outputId": "567b1084-4d0e-4f8d-dfba-00dc2a3a99ce",
    "pycharm": {
     "name": "#%%\n"
    }
   },
   "outputs": [
    {
     "name": "stdout",
     "output_type": "stream",
     "text": [
      "Epoch 1/10\n"
     ]
    },
    {
     "name": "stderr",
     "output_type": "stream",
     "text": [
      "/usr/local/lib/python3.7/dist-packages/tensorflow/python/util/dispatch.py:1082: UserWarning: \"`sparse_categorical_crossentropy` received `from_logits=True`, but the `output` argument was produced by a sigmoid or softmax activation and thus does not represent logits. Was this intended?\"\n",
      "  return dispatch_target(*args, **kwargs)\n"
     ]
    },
    {
     "name": "stdout",
     "output_type": "stream",
     "text": [
      "30/30 [==============================] - 1s 25ms/step - loss: 2.2817 - accuracy: 0.1971\n",
      "Epoch 2/10\n",
      "30/30 [==============================] - 1s 24ms/step - loss: 2.1299 - accuracy: 0.4155\n",
      "Epoch 3/10\n",
      "30/30 [==============================] - 1s 25ms/step - loss: 2.0463 - accuracy: 0.5209\n",
      "Epoch 4/10\n",
      "30/30 [==============================] - 1s 25ms/step - loss: 1.9756 - accuracy: 0.5564\n",
      "Epoch 5/10\n",
      "30/30 [==============================] - 1s 25ms/step - loss: 1.9107 - accuracy: 0.5731\n",
      "Epoch 6/10\n",
      "30/30 [==============================] - 1s 25ms/step - loss: 1.8506 - accuracy: 0.5894\n",
      "Epoch 7/10\n",
      "30/30 [==============================] - 1s 25ms/step - loss: 1.7948 - accuracy: 0.6030\n",
      "Epoch 8/10\n",
      "30/30 [==============================] - 1s 24ms/step - loss: 1.7429 - accuracy: 0.6150\n",
      "Epoch 9/10\n",
      "30/30 [==============================] - 1s 25ms/step - loss: 1.6946 - accuracy: 0.6274\n",
      "Epoch 10/10\n",
      "30/30 [==============================] - 1s 25ms/step - loss: 1.6495 - accuracy: 0.6359\n",
      "Epoch 1/10\n",
      "30/30 [==============================] - 2s 40ms/step - loss: 1.2972 - accuracy: 0.6074\n",
      "Epoch 2/10\n",
      "30/30 [==============================] - 1s 39ms/step - loss: 0.8162 - accuracy: 0.7342\n",
      "Epoch 3/10\n",
      "30/30 [==============================] - 1s 40ms/step - loss: 0.7112 - accuracy: 0.7614\n",
      "Epoch 4/10\n",
      "30/30 [==============================] - 1s 40ms/step - loss: 0.6500 - accuracy: 0.7795\n",
      "Epoch 5/10\n",
      "30/30 [==============================] - 1s 40ms/step - loss: 0.6134 - accuracy: 0.7870\n",
      "Epoch 6/10\n",
      "30/30 [==============================] - 1s 40ms/step - loss: 0.5789 - accuracy: 0.7997\n",
      "Epoch 7/10\n",
      "30/30 [==============================] - 1s 40ms/step - loss: 0.5637 - accuracy: 0.8034\n",
      "Epoch 8/10\n",
      "30/30 [==============================] - 1s 39ms/step - loss: 0.5392 - accuracy: 0.8102\n",
      "Epoch 9/10\n",
      "30/30 [==============================] - 1s 40ms/step - loss: 0.5337 - accuracy: 0.8106\n",
      "Epoch 10/10\n",
      "30/30 [==============================] - 1s 40ms/step - loss: 0.5168 - accuracy: 0.8179\n",
      "Epoch 1/10\n",
      "30/30 [==============================] - 2s 39ms/step - loss: 0.9676 - accuracy: 0.6769\n",
      "Epoch 2/10\n",
      "30/30 [==============================] - 1s 40ms/step - loss: 0.5431 - accuracy: 0.8167\n",
      "Epoch 3/10\n",
      "30/30 [==============================] - 1s 39ms/step - loss: 0.4763 - accuracy: 0.8389\n",
      "Epoch 4/10\n",
      "30/30 [==============================] - 1s 39ms/step - loss: 0.4457 - accuracy: 0.8479\n",
      "Epoch 5/10\n",
      "30/30 [==============================] - 1s 39ms/step - loss: 0.4205 - accuracy: 0.8560\n",
      "Epoch 6/10\n",
      "30/30 [==============================] - 1s 39ms/step - loss: 0.4017 - accuracy: 0.8625\n",
      "Epoch 7/10\n",
      "30/30 [==============================] - 1s 40ms/step - loss: 0.3884 - accuracy: 0.8663\n",
      "Epoch 8/10\n",
      "30/30 [==============================] - 1s 40ms/step - loss: 0.3781 - accuracy: 0.8680\n",
      "Epoch 9/10\n",
      "30/30 [==============================] - 1s 38ms/step - loss: 0.3657 - accuracy: 0.8736\n",
      "Epoch 10/10\n",
      "30/30 [==============================] - 1s 40ms/step - loss: 0.3540 - accuracy: 0.8767\n"
     ]
    }
   ],
   "source": [
    "# заполняем модель списком\n",
    "model1 = keras.Sequential([\n",
    "    keras.layers.Flatten(input_shape=(28, 28)),\n",
    "    keras.layers.Dense(128, activation='sigmoid'),\n",
    "    keras.layers.Dense(10, activation='softmax')\n",
    "])\n",
    "\n",
    "# заполняем модель , добавляя слои последовательно \n",
    "model2 = keras.Sequential()\n",
    "model2.add(keras.layers.Flatten(input_shape=(28, 28)))\n",
    "model2.add(keras.layers.Dense(256, activation='linear'))\n",
    "model2.add(keras.layers.Dense(10, activation='softmax'))\n",
    "\n",
    "\n",
    "# Заполняем модель, формируя граф передачи тензоров\n",
    "x_input = keras.layers.Input(shape=(28,28))\n",
    "x3 = keras.layers.Flatten()(x_input)\n",
    "x3 = keras.layers.Dense(256, activation='relu')(x3)\n",
    "x_output = keras.layers.Dense(10, activation='softmax')(x3)\n",
    "model3=keras.models.Model(x_input,x_output)\n",
    "\n",
    "model1.compile(optimizer='sgd',\n",
    "              loss=tf.keras.losses.SparseCategoricalCrossentropy(from_logits=True),\n",
    "              metrics=['accuracy'])\n",
    "model2.compile(optimizer='rmsprop',\n",
    "              loss=tf.keras.losses.SparseCategoricalCrossentropy(from_logits=True),\n",
    "              metrics=['accuracy'])\n",
    "model3.compile(optimizer='adam',\n",
    "              loss=tf.keras.losses.SparseCategoricalCrossentropy(from_logits=True),\n",
    "              metrics=['accuracy'])\n",
    "\n",
    "hist1=model1.fit(train_images, train_labels, epochs=10, batch_size = 2000)\n",
    "hist2=model2.fit(train_images, train_labels, epochs=10, batch_size = 2000)\n",
    "hist3=model3.fit(train_images, train_labels, epochs=10, batch_size = 2000)\n",
    "\n"
   ]
  },
  {
   "cell_type": "code",
   "execution_count": null,
   "metadata": {
    "colab": {
     "base_uri": "https://localhost:8080/"
    },
    "executionInfo": {
     "elapsed": 7306,
     "status": "ok",
     "timestamp": 1646074324982,
     "user": {
      "displayName": "Mariia Korliakova",
      "photoUrl": "https://lh3.googleusercontent.com/a/default-user=s64",
      "userId": "14165537686129864864"
     },
     "user_tz": -180
    },
    "id": "5xdAX6COhDUd",
    "outputId": "c59b2280-c215-4ef7-e0e5-909720392265",
    "pycharm": {
     "name": "#%%\n"
    }
   },
   "outputs": [
    {
     "name": "stdout",
     "output_type": "stream",
     "text": [
      "Epoch 1/10\n",
      "30/30 [==============================] - 0s 7ms/step - loss: 1.6736 - accuracy: 0.6347\n",
      "Epoch 2/10\n",
      "30/30 [==============================] - 0s 6ms/step - loss: 1.6297 - accuracy: 0.6410\n",
      "Epoch 3/10\n",
      "30/30 [==============================] - 0s 6ms/step - loss: 1.5883 - accuracy: 0.6493\n",
      "Epoch 4/10\n",
      "30/30 [==============================] - 0s 6ms/step - loss: 1.5494 - accuracy: 0.6547\n",
      "Epoch 5/10\n",
      "30/30 [==============================] - 0s 6ms/step - loss: 1.5128 - accuracy: 0.6581\n",
      "Epoch 6/10\n",
      "30/30 [==============================] - 0s 6ms/step - loss: 1.4785 - accuracy: 0.6654\n",
      "Epoch 7/10\n",
      "30/30 [==============================] - 0s 7ms/step - loss: 1.4461 - accuracy: 0.6700\n",
      "Epoch 8/10\n",
      "30/30 [==============================] - 0s 6ms/step - loss: 1.4157 - accuracy: 0.6732\n",
      "Epoch 9/10\n",
      "30/30 [==============================] - 0s 6ms/step - loss: 1.3870 - accuracy: 0.6775\n",
      "Epoch 10/10\n",
      "30/30 [==============================] - 0s 6ms/step - loss: 1.3600 - accuracy: 0.6809\n",
      "Epoch 1/10\n",
      "30/30 [==============================] - 0s 7ms/step - loss: 0.5171 - accuracy: 0.8160\n",
      "Epoch 2/10\n",
      "30/30 [==============================] - 0s 7ms/step - loss: 0.5082 - accuracy: 0.8210\n",
      "Epoch 3/10\n",
      "30/30 [==============================] - 0s 7ms/step - loss: 0.4895 - accuracy: 0.8288\n",
      "Epoch 4/10\n",
      "30/30 [==============================] - 0s 7ms/step - loss: 0.4987 - accuracy: 0.8253\n",
      "Epoch 5/10\n",
      "30/30 [==============================] - 0s 7ms/step - loss: 0.4846 - accuracy: 0.8266\n",
      "Epoch 6/10\n",
      "30/30 [==============================] - 0s 7ms/step - loss: 0.4813 - accuracy: 0.8310\n",
      "Epoch 7/10\n",
      "30/30 [==============================] - 0s 8ms/step - loss: 0.4763 - accuracy: 0.8317\n",
      "Epoch 8/10\n",
      "30/30 [==============================] - 0s 7ms/step - loss: 0.4702 - accuracy: 0.8334\n",
      "Epoch 9/10\n",
      "30/30 [==============================] - 0s 8ms/step - loss: 0.4668 - accuracy: 0.8360\n",
      "Epoch 10/10\n",
      "30/30 [==============================] - 0s 8ms/step - loss: 0.4609 - accuracy: 0.8388\n",
      "Epoch 1/10\n",
      "30/30 [==============================] - 0s 7ms/step - loss: 0.3465 - accuracy: 0.8790\n",
      "Epoch 2/10\n",
      "30/30 [==============================] - 0s 7ms/step - loss: 0.3393 - accuracy: 0.8820\n",
      "Epoch 3/10\n",
      "30/30 [==============================] - 0s 7ms/step - loss: 0.3364 - accuracy: 0.8812\n",
      "Epoch 4/10\n",
      "30/30 [==============================] - 0s 7ms/step - loss: 0.3243 - accuracy: 0.8861\n",
      "Epoch 5/10\n",
      "30/30 [==============================] - 0s 7ms/step - loss: 0.3181 - accuracy: 0.8875\n",
      "Epoch 6/10\n",
      "30/30 [==============================] - 0s 7ms/step - loss: 0.3116 - accuracy: 0.8893\n",
      "Epoch 7/10\n",
      "30/30 [==============================] - 0s 7ms/step - loss: 0.3047 - accuracy: 0.8917\n",
      "Epoch 8/10\n",
      "30/30 [==============================] - 0s 7ms/step - loss: 0.3023 - accuracy: 0.8926\n",
      "Epoch 9/10\n",
      "30/30 [==============================] - 0s 7ms/step - loss: 0.2975 - accuracy: 0.8952\n",
      "Epoch 10/10\n",
      "30/30 [==============================] - 0s 7ms/step - loss: 0.2904 - accuracy: 0.8972\n"
     ]
    }
   ],
   "source": [
    "hist1=model1.fit(train_images, train_labels, epochs=10, batch_size = 2000)\n",
    "hist2=model2.fit(train_images, train_labels, epochs=10, batch_size = 2000)\n",
    "hist3=model3.fit(train_images, train_labels, epochs=10, batch_size = 2000)"
   ]
  },
  {
   "cell_type": "code",
   "execution_count": null,
   "metadata": {
    "colab": {
     "base_uri": "https://localhost:8080/",
     "height": 295
    },
    "executionInfo": {
     "elapsed": 324,
     "status": "ok",
     "timestamp": 1646074331879,
     "user": {
      "displayName": "Mariia Korliakova",
      "photoUrl": "https://lh3.googleusercontent.com/a/default-user=s64",
      "userId": "14165537686129864864"
     },
     "user_tz": -180
    },
    "id": "N8SMebNEMi37",
    "outputId": "96ddde52-8fcb-4c71-9b3e-ef69c9c5cc77",
    "pycharm": {
     "name": "#%%\n"
    }
   },
   "outputs": [
    {
     "data": {
      "image/png": "[encoded data removed]",
      "text/plain": [
       "<Figure size 432x288 with 1 Axes>"
      ]
     },
     "metadata": {},
     "output_type": "display_data"
    }
   ],
   "source": [
    "plt.plot(hist1.history['accuracy'],label='model1 acc sgd')\n",
    "plt.plot(hist2.history['accuracy'],label='model2 acc rmsprop')\n",
    "plt.plot(hist3.history['accuracy'],label ='model3 acc adam')\n",
    "plt.title('точность сетей от эпох')\n",
    "plt.xlabel('эпоха')\n",
    "plt.legend()\n",
    "plt.show()"
   ]
  },
  {
   "cell_type": "code",
   "execution_count": null,
   "metadata": {
    "id": "iD4oM4JhPHWn",
    "pycharm": {
     "name": "#%%\n"
    }
   },
   "outputs": [],
   "source": [
    "y_pred1 = np.argmax(model1.predict(test_images),axis=1)\n",
    "y_pred2 = np.argmax(model2.predict(test_images),axis=1)\n",
    "y_pred3 = np.argmax(model3.predict(test_images),axis=1)\n",
    "\n",
    "CM1 = confusion_matrix(test_labels,y_pred1)\n",
    "CM2 = confusion_matrix(test_labels,y_pred2)\n",
    "CM3 = confusion_matrix(test_labels,y_pred3)"
   ]
  },
  {
   "cell_type": "code",
   "execution_count": null,
   "metadata": {
    "colab": {
     "base_uri": "https://localhost:8080/",
     "height": 293
    },
    "executionInfo": {
     "elapsed": 2383,
     "status": "ok",
     "timestamp": 1646074367655,
     "user": {
      "displayName": "Mariia Korliakova",
      "photoUrl": "https://lh3.googleusercontent.com/a/default-user=s64",
      "userId": "14165537686129864864"
     },
     "user_tz": -180
    },
    "id": "_3DBsXLN-Q2T",
    "outputId": "54ea8739-e95b-421c-9a44-2cf07dbe66f7",
    "pycharm": {
     "name": "#%%\n"
    }
   },
   "outputs": [
    {
     "data": {
      "image/png": "[encoded data removed]",
      "text/plain": [
       "<Figure size 1296x432 with 6 Axes>"
      ]
     },
     "metadata": {},
     "output_type": "display_data"
    }
   ],
   "source": [
    "\n",
    "fig, (ax1, ax2, ax3) = plt.subplots(1, 3, figsize=(18, 6))\n",
    "disp1 = ConfusionMatrixDisplay(confusion_matrix=CM1, display_labels=np.arange(10))\n",
    "disp1.plot( ax=ax1, values_format ='.3g')\n",
    "disp2 = ConfusionMatrixDisplay(confusion_matrix=CM2, display_labels=np.arange(10))\n",
    "disp2.plot( ax=ax2, values_format ='.3g')\n",
    "disp3 = ConfusionMatrixDisplay(confusion_matrix=CM3, display_labels=np.arange(10))\n",
    "disp3.plot( ax=ax3, values_format ='.3g')\n",
    "plt.show()"
   ]
  },
  {
   "cell_type": "code",
   "execution_count": null,
   "metadata": {
    "id": "stCJv8cZMQZf",
    "pycharm": {
     "name": "#%%\n"
    }
   },
   "outputs": [],
   "source": [
    "# сохранить модели на диск.\n",
    "model1.save_weights('model1.h5')\n",
    "model2.save_weights('model2.h5')\n",
    "model3.save_weights('model3.h5')\n",
    "# прочитать модели с диска (перед этим, нужно положить их в каталог для работы виртуальной машины Колаборатории):\n",
    "# model.load_weights('model.h5')"
   ]
  },
  {
   "cell_type": "markdown",
   "metadata": {
    "id": "tBd6kDX9qCZ1",
    "pycharm": {
     "name": "#%% md\n"
    }
   },
   "source": [
    "Выгрузим на локальную машину нашу модель"
   ]
  },
  {
   "cell_type": "code",
   "execution_count": null,
   "metadata": {
    "colab": {
     "base_uri": "https://localhost:8080/",
     "height": 17
    },
    "executionInfo": {
     "elapsed": 314,
     "status": "ok",
     "timestamp": 1646074433768,
     "user": {
      "displayName": "Mariia Korliakova",
      "photoUrl": "https://lh3.googleusercontent.com/a/default-user=s64",
      "userId": "14165537686129864864"
     },
     "user_tz": -180
    },
    "id": "2mIfT7C773y4",
    "outputId": "a11dd341-e694-4485-a42d-02041e28d0b6",
    "pycharm": {
     "name": "#%%\n"
    }
   },
   "outputs": [
    {
     "data": {
      "application/javascript": [
       "\n",
       "    async function download(id, filename, size) {\n",
       "      if (!google.colab.kernel.accessAllowed) {\n",
       "        return;\n",
       "      }\n",
       "      const div = document.createElement('div');\n",
       "      const label = document.createElement('label');\n",
       "      label.textContent = `Downloading \"${filename}\": `;\n",
       "      div.appendChild(label);\n",
       "      const progress = document.createElement('progress');\n",
       "      progress.max = size;\n",
       "      div.appendChild(progress);\n",
       "      document.body.appendChild(div);\n",
       "\n",
       "      const buffers = [];\n",
       "      let downloaded = 0;\n",
       "\n",
       "      const channel = await google.colab.kernel.comms.open(id);\n",
       "      // Send a message to notify the kernel that we're ready.\n",
       "      channel.send({})\n",
       "\n",
       "      for await (const message of channel.messages) {\n",
       "        // Send a message to notify the kernel that we're ready.\n",
       "        channel.send({})\n",
       "        if (message.buffers) {\n",
       "          for (const buffer of message.buffers) {\n",
       "            buffers.push(buffer);\n",
       "            downloaded += buffer.byteLength;\n",
       "            progress.value = downloaded;\n",
       "          }\n",
       "        }\n",
       "      }\n",
       "      const blob = new Blob(buffers, {type: 'application/binary'});\n",
       "      const a = document.createElement('a');\n",
       "      a.href = window.URL.createObjectURL(blob);\n",
       "      a.download = filename;\n",
       "      div.appendChild(a);\n",
       "      a.click();\n",
       "      div.remove();\n",
       "    }\n",
       "  "
      ],
      "text/plain": [
       "<IPython.core.display.Javascript object>"
      ]
     },
     "metadata": {},
     "output_type": "display_data"
    },
    {
     "data": {
      "application/javascript": [
       "download(\"download_3e3adce2-a940-492a-940c-67f698848410\", \"model1.h5\", 421584)"
      ],
      "text/plain": [
       "<IPython.core.display.Javascript object>"
      ]
     },
     "metadata": {},
     "output_type": "display_data"
    }
   ],
   "source": [
    "from google.colab import files\n",
    "\n",
    "files.download('model1.h5')"
   ]
  },
  {
   "cell_type": "code",
   "execution_count": null,
   "metadata": {
    "colab": {
     "base_uri": "https://localhost:8080/"
    },
    "executionInfo": {
     "elapsed": 22,
     "status": "ok",
     "timestamp": 1646067720571,
     "user": {
      "displayName": "Mariia Korliakova",
      "photoUrl": "https://lh3.googleusercontent.com/a/default-user=s64",
      "userId": "14165537686129864864"
     },
     "user_tz": -180
    },
    "id": "rGZ0VmTDWiSi",
    "outputId": "2d38a65a-39ec-4771-8cd6-98754d882970",
    "pycharm": {
     "name": "#%%\n"
    }
   },
   "outputs": [
    {
     "data": {
      "text/plain": [
       "<KerasTensor: shape=(None, 256) dtype=float32 (created by layer 'dense_35')>"
      ]
     },
     "execution_count": 97,
     "metadata": {},
     "output_type": "execute_result"
    }
   ],
   "source": [
    "x3"
   ]
  },
  {
   "cell_type": "markdown",
   "metadata": {
    "id": "RP9nm6V6qS7q",
    "pycharm": {
     "name": "#%% md\n"
    }
   },
   "source": [
    "Сделаем предсказание на тестовом изображении"
   ]
  },
  {
   "cell_type": "code",
   "execution_count": null,
   "metadata": {
    "id": "QvkvodqxWmVn",
    "pycharm": {
     "name": "#%%\n"
    }
   },
   "outputs": [],
   "source": [
    "y_pred = model3.predict(test_images)\n",
    "y_pred_arg = np.argmax(y_pred, axis=1)\n"
   ]
  },
  {
   "cell_type": "markdown",
   "metadata": {
    "id": "b2WJFW5kqagU",
    "pycharm": {
     "name": "#%% md\n"
    }
   },
   "source": [
    "Отобразим значения на выходах сети (10 выходов - 10 точек графика)"
   ]
  },
  {
   "cell_type": "code",
   "execution_count": null,
   "metadata": {
    "colab": {
     "base_uri": "https://localhost:8080/",
     "height": 295
    },
    "executionInfo": {
     "elapsed": 8,
     "status": "ok",
     "timestamp": 1646074452517,
     "user": {
      "displayName": "Mariia Korliakova",
      "photoUrl": "https://lh3.googleusercontent.com/a/default-user=s64",
      "userId": "14165537686129864864"
     },
     "user_tz": -180
    },
    "id": "EF18AOsTbsih",
    "outputId": "92674883-d69c-4869-86ef-e0906bed250b",
    "pycharm": {
     "name": "#%%\n"
    }
   },
   "outputs": [
    {
     "data": {
      "image/png": "[encoded data removed]",
      "text/plain": [
       "<Figure size 432x288 with 1 Axes>"
      ]
     },
     "metadata": {},
     "output_type": "display_data"
    }
   ],
   "source": [
    "N = 10 \n",
    "plt.plot(y_pred[N,:])\n",
    "plt.title('объект ' +class_names[test_labels[N]]+ '  No-'+str(test_labels[N]))\n",
    "plt.xlabel('номер выхода сети')\n",
    "plt.ylabel('значение на выходе')\n",
    "plt.show()"
   ]
  },
  {
   "cell_type": "code",
   "execution_count": null,
   "metadata": {
    "colab": {
     "base_uri": "https://localhost:8080/"
    },
    "executionInfo": {
     "elapsed": 1986,
     "status": "ok",
     "timestamp": 1646074463985,
     "user": {
      "displayName": "Mariia Korliakova",
      "photoUrl": "https://lh3.googleusercontent.com/a/default-user=s64",
      "userId": "14165537686129864864"
     },
     "user_tz": -180
    },
    "id": "K0cGPgqBc-sb",
    "outputId": "125d45fc-67f3-4c85-aace-eaed18a38371",
    "pycharm": {
     "name": "#%%\n"
    }
   },
   "outputs": [
    {
     "name": "stderr",
     "output_type": "stream",
     "text": [
      "/usr/local/lib/python3.7/dist-packages/tensorflow/python/util/dispatch.py:1082: UserWarning: \"`sparse_categorical_crossentropy` received `from_logits=True`, but the `output` argument was produced by a sigmoid or softmax activation and thus does not represent logits. Was this intended?\"\n",
      "  return dispatch_target(*args, **kwargs)\n"
     ]
    },
    {
     "name": "stdout",
     "output_type": "stream",
     "text": [
      "313/313 - 1s - loss: 0.3503 - accuracy: 0.8769 - 834ms/epoch - 3ms/step\n"
     ]
    }
   ],
   "source": [
    "test_loss, test_acc = model3.evaluate(test_images,  test_labels, verbose=2)"
   ]
  },
  {
   "cell_type": "markdown",
   "metadata": {
    "id": "f_dWDPIIuE6e",
    "pycharm": {
     "name": "#%% md\n"
    }
   },
   "source": [
    "### **Ансамбль сетей**\n",
    "\n",
    "Использование функционального API для построения сложных сетей"
   ]
  },
  {
   "cell_type": "code",
   "execution_count": null,
   "metadata": {
    "id": "3cJ-0N8Es0gB",
    "pycharm": {
     "name": "#%%\n"
    }
   },
   "outputs": [],
   "source": [
    "input1 = keras.layers.Input(shape=(28, 28))\n",
    "x1= keras.layers.Flatten()(input1)\n",
    "x1 = keras.layers.Dense(128, activation='relu')(x1)\n",
    "x1 =keras.layers.Dense(10, activation='softmax')(x1)\n",
    "\n",
    "model11 =keras.models.Model(inputs=input1,outputs=x1)\n",
    "\n",
    "#input2 = keras.layers.Input(shape=(28, 28))\n",
    "x2= keras.layers.Flatten()(input1)\n",
    "x2 = keras.layers.Dense(256, activation='relu')(x2)\n",
    "x2=keras.layers.Dense(10, activation='softmax')(x2)\n",
    "\n",
    "model22 =keras.models.Model(inputs=input1,outputs=x2)\n",
    "#input3 = keras.layers.Input(shape=(28, 28))\n",
    "x3= keras.layers.Flatten()(input1)\n",
    "x3 = keras.layers.Dense(256, activation='relu')(x3)\n",
    "x3=keras.layers.Dense(10, activation='softmax')(x3)\n",
    "\n",
    "\n",
    "model33 =keras.models.Model(inputs=[input1],outputs=x3)\n",
    "\n",
    "# усредняем выходы сетей\n",
    "out_all = keras.layers.Average()([model11.output,model22.output,model33.output])\n",
    "out_all = keras.layers.Softmax()(out_all)\n",
    "\n",
    "model_all=keras.models.Model(inputs =[input1],outputs =out_all)#, input2,input2,input3\n",
    "model_all.compile(optimizer=tf.keras.optimizers.Adagrad(learning_rate=0.1, epsilon=1e-08, decay=0.0),\n",
    "              loss=tf.keras.losses.SparseCategoricalCrossentropy(from_logits=True),\n",
    "              metrics=['accuracy'])\n",
    "\n",
    "\n",
    "model11.load_weights('model1.h5')\n",
    "model22.load_weights('model2.h5')\n",
    "model33.load_weights('model3.h5')"
   ]
  },
  {
   "cell_type": "code",
   "execution_count": null,
   "metadata": {
    "colab": {
     "base_uri": "https://localhost:8080/"
    },
    "executionInfo": {
     "elapsed": 265,
     "status": "ok",
     "timestamp": 1646074660323,
     "user": {
      "displayName": "Mariia Korliakova",
      "photoUrl": "https://lh3.googleusercontent.com/a/default-user=s64",
      "userId": "14165537686129864864"
     },
     "user_tz": -180
    },
    "id": "zdNzWR6Se6fZ",
    "outputId": "714146cf-63d6-4943-d46f-9b8b73176274",
    "pycharm": {
     "name": "#%%\n"
    }
   },
   "outputs": [
    {
     "data": {
      "text/plain": [
       "<keras.optimizer_v2.adam.Adam at 0x7fe6322a1d50>"
      ]
     },
     "execution_count": 119,
     "metadata": {},
     "output_type": "execute_result"
    }
   ],
   "source": [
    "tf.keras.optimizers.Adam()"
   ]
  },
  {
   "cell_type": "code",
   "execution_count": null,
   "metadata": {
    "colab": {
     "base_uri": "https://localhost:8080/"
    },
    "executionInfo": {
     "elapsed": 405,
     "status": "ok",
     "timestamp": 1646074662101,
     "user": {
      "displayName": "Mariia Korliakova",
      "photoUrl": "https://lh3.googleusercontent.com/a/default-user=s64",
      "userId": "14165537686129864864"
     },
     "user_tz": -180
    },
    "id": "uyUsa1Afs6cW",
    "outputId": "785026a5-5ab0-4446-ddb6-fd648629fe0e",
    "pycharm": {
     "name": "#%%\n"
    }
   },
   "outputs": [
    {
     "name": "stdout",
     "output_type": "stream",
     "text": [
      "Model: \"model_12\"\n",
      "__________________________________________________________________________________________________\n",
      " Layer (type)                   Output Shape         Param #     Connected to                     \n",
      "==================================================================================================\n",
      " input_5 (InputLayer)           [(None, 28, 28)]     0           []                               \n",
      "                                                                                                  \n",
      " flatten_11 (Flatten)           (None, 784)          0           ['input_5[0][0]']                \n",
      "                                                                                                  \n",
      " flatten_12 (Flatten)           (None, 784)          0           ['input_5[0][0]']                \n",
      "                                                                                                  \n",
      " flatten_13 (Flatten)           (None, 784)          0           ['input_5[0][0]']                \n",
      "                                                                                                  \n",
      " dense_57 (Dense)               (None, 128)          100480      ['flatten_11[0][0]']             \n",
      "                                                                                                  \n",
      " dense_59 (Dense)               (None, 256)          200960      ['flatten_12[0][0]']             \n",
      "                                                                                                  \n",
      " dense_61 (Dense)               (None, 256)          200960      ['flatten_13[0][0]']             \n",
      "                                                                                                  \n",
      " dense_58 (Dense)               (None, 10)           1290        ['dense_57[0][0]']               \n",
      "                                                                                                  \n",
      " dense_60 (Dense)               (None, 10)           2570        ['dense_59[0][0]']               \n",
      "                                                                                                  \n",
      " dense_62 (Dense)               (None, 10)           2570        ['dense_61[0][0]']               \n",
      "                                                                                                  \n",
      " average_1 (Average)            (None, 10)           0           ['dense_58[0][0]',               \n",
      "                                                                  'dense_60[0][0]',               \n",
      "                                                                  'dense_62[0][0]']               \n",
      "                                                                                                  \n",
      " softmax_2 (Softmax)            (None, 10)           0           ['average_1[0][0]']              \n",
      "                                                                                                  \n",
      "==================================================================================================\n",
      "Total params: 508,830\n",
      "Trainable params: 508,830\n",
      "Non-trainable params: 0\n",
      "__________________________________________________________________________________________________\n"
     ]
    }
   ],
   "source": [
    "model_all.summary()"
   ]
  },
  {
   "cell_type": "code",
   "execution_count": null,
   "metadata": {
    "id": "ET_usPF9ejrP",
    "pycharm": {
     "name": "#%%\n"
    }
   },
   "outputs": [],
   "source": [
    "from tensorflow.keras.utils import plot_model"
   ]
  },
  {
   "cell_type": "code",
   "execution_count": null,
   "metadata": {
    "colab": {
     "base_uri": "https://localhost:8080/",
     "height": 564
    },
    "executionInfo": {
     "elapsed": 850,
     "status": "ok",
     "timestamp": 1646074689082,
     "user": {
      "displayName": "Mariia Korliakova",
      "photoUrl": "https://lh3.googleusercontent.com/a/default-user=s64",
      "userId": "14165537686129864864"
     },
     "user_tz": -180
    },
    "id": "T8L3JBiWewft",
    "outputId": "b020a630-dc57-4228-c174-8e973941db24",
    "pycharm": {
     "name": "#%%\n"
    }
   },
   "outputs": [
    {
     "data": {
      "image/png": "[encoded data removed]",
      "text/plain": [
       "<IPython.core.display.Image object>"
      ]
     },
     "execution_count": 122,
     "metadata": {},
     "output_type": "execute_result"
    }
   ],
   "source": [
    "plot_model(model_all,to_file='new_model-all.png')"
   ]
  },
  {
   "cell_type": "code",
   "execution_count": null,
   "metadata": {
    "colab": {
     "base_uri": "https://localhost:8080/"
    },
    "executionInfo": {
     "elapsed": 277,
     "status": "ok",
     "timestamp": 1646074709424,
     "user": {
      "displayName": "Mariia Korliakova",
      "photoUrl": "https://lh3.googleusercontent.com/a/default-user=s64",
      "userId": "14165537686129864864"
     },
     "user_tz": -180
    },
    "id": "9nqTRLVhts6i",
    "outputId": "3e10857d-b319-4e2e-db68-8ddadf66bd02",
    "pycharm": {
     "name": "#%%\n"
    }
   },
   "outputs": [
    {
     "name": "stdout",
     "output_type": "stream",
     "text": [
      "[[0.08800506 0.0873861  0.19669797 0.08738803 0.09663904 0.08735407\n",
      "  0.09357546 0.08735342 0.08822367 0.08737717]]\n"
     ]
    }
   ],
   "source": [
    "predictions_single=model_all.predict([img])#,img,img\n",
    "\n",
    "print(predictions_single)"
   ]
  },
  {
   "cell_type": "code",
   "execution_count": null,
   "metadata": {
    "colab": {
     "base_uri": "https://localhost:8080/",
     "height": 300
    },
    "executionInfo": {
     "elapsed": 529,
     "status": "ok",
     "timestamp": 1646074711342,
     "user": {
      "displayName": "Mariia Korliakova",
      "photoUrl": "https://lh3.googleusercontent.com/a/default-user=s64",
      "userId": "14165537686129864864"
     },
     "user_tz": -180
    },
    "id": "ZRejlxRetwpq",
    "outputId": "0f57ae7f-2876-49b5-bd0b-3671628ce6e4",
    "pycharm": {
     "name": "#%%\n"
    }
   },
   "outputs": [
    {
     "data": {
      "image/png": "[encoded data removed]",
      "text/plain": [
       "<Figure size 432x288 with 1 Axes>"
      ]
     },
     "metadata": {},
     "output_type": "display_data"
    }
   ],
   "source": [
    "plot_value_array(1, predictions_single[0], test_labels)\n",
    "_ = plt.xticks(range(10), class_names, rotation=45)"
   ]
  },
  {
   "cell_type": "code",
   "execution_count": null,
   "metadata": {
    "id": "OnUoZIIgt10d",
    "pycharm": {
     "name": "#%%\n"
    }
   },
   "outputs": [],
   "source": [
    "y_test_pred= model_all.predict([test_images[:10,:,:]])#,test_images[:10,:,:],test_images[:10,:,:]]) #  test_labels[:10])"
   ]
  },
  {
   "cell_type": "code",
   "execution_count": null,
   "metadata": {
    "colab": {
     "base_uri": "https://localhost:8080/"
    },
    "executionInfo": {
     "elapsed": 277,
     "status": "ok",
     "timestamp": 1646074729882,
     "user": {
      "displayName": "Mariia Korliakova",
      "photoUrl": "https://lh3.googleusercontent.com/a/default-user=s64",
      "userId": "14165537686129864864"
     },
     "user_tz": -180
    },
    "id": "P4Ys6l9qwBir",
    "outputId": "4b4ceb8c-0f72-4c45-fb51-d66d79745bb5",
    "pycharm": {
     "name": "#%%\n"
    }
   },
   "outputs": [
    {
     "data": {
      "text/plain": [
       "array([9, 2, 1, 1, 6, 1, 4, 6, 5, 7])"
      ]
     },
     "execution_count": 126,
     "metadata": {},
     "output_type": "execute_result"
    }
   ],
   "source": [
    "np.argmax(y_test_pred,axis=1)"
   ]
  },
  {
   "cell_type": "code",
   "execution_count": null,
   "metadata": {
    "colab": {
     "base_uri": "https://localhost:8080/"
    },
    "executionInfo": {
     "elapsed": 6,
     "status": "ok",
     "timestamp": 1646074733173,
     "user": {
      "displayName": "Mariia Korliakova",
      "photoUrl": "https://lh3.googleusercontent.com/a/default-user=s64",
      "userId": "14165537686129864864"
     },
     "user_tz": -180
    },
    "id": "DDEvC-EpwJ1P",
    "outputId": "e9738093-9e43-4cbe-981c-60e33e3937d1",
    "pycharm": {
     "name": "#%%\n"
    }
   },
   "outputs": [
    {
     "data": {
      "text/plain": [
       "array([9, 2, 1, 1, 6, 1, 4, 6, 5, 7], dtype=uint8)"
      ]
     },
     "execution_count": 127,
     "metadata": {},
     "output_type": "execute_result"
    }
   ],
   "source": [
    "test_labels[:10]"
   ]
  },
  {
   "cell_type": "code",
   "execution_count": null,
   "metadata": {
    "id": "rWwZOIi_1Hgp",
    "pycharm": {
     "name": "#%%\n"
    }
   },
   "outputs": [],
   "source": [
    "model_all.save('model_all.h5')"
   ]
  },
  {
   "cell_type": "code",
   "execution_count": null,
   "metadata": {
    "colab": {
     "base_uri": "https://localhost:8080/",
     "height": 279
    },
    "executionInfo": {
     "elapsed": 1642,
     "status": "ok",
     "timestamp": 1646074752705,
     "user": {
      "displayName": "Mariia Korliakova",
      "photoUrl": "https://lh3.googleusercontent.com/a/default-user=s64",
      "userId": "14165537686129864864"
     },
     "user_tz": -180
    },
    "id": "IkT0L8D-Oi4x",
    "outputId": "5011a067-c755-4974-f840-7d2569ceeb71",
    "pycharm": {
     "name": "#%%\n"
    }
   },
   "outputs": [
    {
     "data": {
      "image/png": "[encoded data removed]",
      "text/plain": [
       "<Figure size 432x288 with 2 Axes>"
      ]
     },
     "metadata": {},
     "output_type": "display_data"
    }
   ],
   "source": [
    "y_pred_all = np.argmax(model_all.predict([test_images]), axis=1)#,test_images,test_images]),axis=1)\n",
    "\n",
    "CM_all = confusion_matrix(test_labels,y_pred_all)\n",
    "disp_all = ConfusionMatrixDisplay(confusion_matrix=CM_all, display_labels=np.arange(10))\n",
    "disp_all.plot(  values_format ='.3g')\n",
    "plt.show()"
   ]
  },
  {
   "cell_type": "code",
   "execution_count": null,
   "metadata": {
    "colab": {
     "base_uri": "https://localhost:8080/"
    },
    "executionInfo": {
     "elapsed": 27,
     "status": "ok",
     "timestamp": 1646067725547,
     "user": {
      "displayName": "Mariia Korliakova",
      "photoUrl": "https://lh3.googleusercontent.com/a/default-user=s64",
      "userId": "14165537686129864864"
     },
     "user_tz": -180
    },
    "id": "NtG0lRz1TfO2",
    "outputId": "3d318ca1-020e-458c-e905-941308c402e5",
    "pycharm": {
     "name": "#%%\n"
    }
   },
   "outputs": [
    {
     "data": {
      "text/plain": [
       "(60000,)"
      ]
     },
     "execution_count": 113,
     "metadata": {},
     "output_type": "execute_result"
    }
   ],
   "source": [
    "train_labels.shape"
   ]
  },
  {
   "cell_type": "code",
   "execution_count": null,
   "metadata": {
    "colab": {
     "base_uri": "https://localhost:8080/"
    },
    "executionInfo": {
     "elapsed": 2233,
     "status": "ok",
     "timestamp": 1646074777160,
     "user": {
      "displayName": "Mariia Korliakova",
      "photoUrl": "https://lh3.googleusercontent.com/a/default-user=s64",
      "userId": "14165537686129864864"
     },
     "user_tz": -180
    },
    "id": "ieChLpxhBicr",
    "outputId": "69ad0e2c-3537-48aa-ed60-75b640a92a35",
    "pycharm": {
     "name": "#%%\n"
    }
   },
   "outputs": [
    {
     "name": "stdout",
     "output_type": "stream",
     "text": [
      "Epoch 1/5\n",
      "32/32 [==============================] - 1s 5ms/step - loss: 2.2280 - accuracy: 0.1210\n",
      "Epoch 2/5\n",
      "32/32 [==============================] - 0s 5ms/step - loss: 2.2226 - accuracy: 0.1300\n",
      "Epoch 3/5\n",
      "32/32 [==============================] - 0s 5ms/step - loss: 2.2198 - accuracy: 0.1380\n",
      "Epoch 4/5\n",
      "32/32 [==============================] - 0s 5ms/step - loss: 2.2180 - accuracy: 0.1410\n",
      "Epoch 5/5\n",
      "32/32 [==============================] - 0s 5ms/step - loss: 2.2167 - accuracy: 0.1350\n"
     ]
    }
   ],
   "source": [
    "#hist1=model_all.fit( [train_images[:1000,:,:],train_images[:1000,:,:],train_images[:1000,:,:]], train_labels[:1000], epochs=5)\n",
    "hist1=model_all.fit( [train_images[:1000,:,:]], train_labels[:1000], epochs=5)"
   ]
  },
  {
   "cell_type": "code",
   "execution_count": null,
   "metadata": {
    "colab": {
     "base_uri": "https://localhost:8080/",
     "height": 279
    },
    "executionInfo": {
     "elapsed": 1787,
     "status": "ok",
     "timestamp": 1646074798086,
     "user": {
      "displayName": "Mariia Korliakova",
      "photoUrl": "https://lh3.googleusercontent.com/a/default-user=s64",
      "userId": "14165537686129864864"
     },
     "user_tz": -180
    },
    "id": "Z1O8A5dlBfq0",
    "outputId": "ba4111b2-8b68-4423-bdc1-888d5e08d196",
    "pycharm": {
     "name": "#%%\n"
    }
   },
   "outputs": [
    {
     "data": {
      "image/png": "[encoded data removed]",
      "text/plain": [
       "<Figure size 432x288 with 2 Axes>"
      ]
     },
     "metadata": {},
     "output_type": "display_data"
    }
   ],
   "source": [
    "y_pred_all = np.argmax(model_all.predict([test_images]),axis=1)\n",
    "#y_pred_all = np.argmax(model_all.predict([test_images,test_images,test_images]),axis=1)\n",
    "\n",
    "CM_all = confusion_matrix(test_labels,y_pred_all)\n",
    "disp_all = ConfusionMatrixDisplay(confusion_matrix=CM_all, display_labels=np.arange(10))\n",
    "disp_all.plot(  values_format ='.3g')\n",
    "plt.show()"
   ]
  },
  {
   "cell_type": "code",
   "execution_count": null,
   "metadata": {
    "id": "NBqrv8dfXNyR",
    "pycharm": {
     "name": "#%%\n"
    }
   },
   "outputs": [],
   "source": [
    "from tensorflow.keras.layers import Concatenate "
   ]
  },
  {
   "cell_type": "markdown",
   "metadata": {
    "id": "4ZwrQaKpT9x0",
    "pycharm": {
     "name": "#%% md\n"
    }
   },
   "source": [
    "можно отделить плохой класс от остальных новой моделью:\n",
    "- обучаем класс 6 против всех\n",
    "- выход стал бинарным на выходе часть вектора про 6-й класс (выборка разбалансирована) \n",
    "- по итогам такой классификации отделим "
   ]
  },
  {
   "cell_type": "code",
   "execution_count": null,
   "metadata": {
    "colab": {
     "base_uri": "https://localhost:8080/"
    },
    "executionInfo": {
     "elapsed": 79735,
     "status": "ok",
     "timestamp": 1646074960395,
     "user": {
      "displayName": "Mariia Korliakova",
      "photoUrl": "https://lh3.googleusercontent.com/a/default-user=s64",
      "userId": "14165537686129864864"
     },
     "user_tz": -180
    },
    "id": "_v4dFXMxYShj",
    "outputId": "1a109e20-8cc9-47aa-89e3-e98d3cb291de",
    "pycharm": {
     "name": "#%%\n"
    }
   },
   "outputs": [
    {
     "name": "stdout",
     "output_type": "stream",
     "text": [
      "Epoch 1/10\n",
      "1500/1500 [==============================] - 10s 6ms/step - loss: 0.1950 - recall: 0.2942 - precision: 0.7164 - val_loss: 0.1571 - val_recall: 0.4587 - val_precision: 0.7761\n",
      "Epoch 2/10\n",
      "1500/1500 [==============================] - 8s 5ms/step - loss: 0.1597 - recall: 0.4945 - precision: 0.7506 - val_loss: 0.1448 - val_recall: 0.4708 - val_precision: 0.8075\n",
      "Epoch 3/10\n",
      "1500/1500 [==============================] - 8s 5ms/step - loss: 0.1480 - recall: 0.5432 - precision: 0.7714 - val_loss: 0.1433 - val_recall: 0.6580 - val_precision: 0.6994\n",
      "Epoch 4/10\n",
      "1500/1500 [==============================] - 8s 5ms/step - loss: 0.1408 - recall: 0.5714 - precision: 0.7776 - val_loss: 0.1367 - val_recall: 0.6040 - val_precision: 0.7543\n",
      "Epoch 5/10\n",
      "1500/1500 [==============================] - 8s 5ms/step - loss: 0.1343 - recall: 0.6024 - precision: 0.7889 - val_loss: 0.1337 - val_recall: 0.5283 - val_precision: 0.8192\n",
      "Epoch 6/10\n",
      "1500/1500 [==============================] - 8s 5ms/step - loss: 0.1303 - recall: 0.6193 - precision: 0.7891 - val_loss: 0.1348 - val_recall: 0.6832 - val_precision: 0.7189\n",
      "Epoch 7/10\n",
      "1500/1500 [==============================] - 8s 5ms/step - loss: 0.1254 - recall: 0.6395 - precision: 0.8030 - val_loss: 0.1389 - val_recall: 0.6379 - val_precision: 0.7068\n",
      "Epoch 8/10\n",
      "1500/1500 [==============================] - 8s 5ms/step - loss: 0.1224 - recall: 0.6496 - precision: 0.8061 - val_loss: 0.1336 - val_recall: 0.7076 - val_precision: 0.6991\n",
      "Epoch 9/10\n",
      "1500/1500 [==============================] - 8s 5ms/step - loss: 0.1183 - recall: 0.6663 - precision: 0.8102 - val_loss: 0.1347 - val_recall: 0.5396 - val_precision: 0.8322\n",
      "Epoch 10/10\n",
      "1500/1500 [==============================] - 8s 5ms/step - loss: 0.1145 - recall: 0.6801 - precision: 0.8176 - val_loss: 0.1275 - val_recall: 0.5683 - val_precision: 0.8112\n"
     ]
    },
    {
     "data": {
      "text/plain": [
       "<keras.callbacks.History at 0x7fe62ee45dd0>"
      ]
     },
     "execution_count": 132,
     "metadata": {},
     "output_type": "execute_result"
    }
   ],
   "source": [
    "input6 = keras.layers.Input( shape=(28, 28) )\n",
    "x6= keras.layers.Flatten()(input6)\n",
    "x6 = keras.layers.Dense(256, activation='relu')(x6)\n",
    "x6=keras.layers.Dense(1, activation='sigmoid')(x6)\n",
    "\n",
    "\n",
    "model6 =Model(inputs=input6,outputs=x6)\n",
    "model6.compile(optimizer=tf.keras.optimizers.Adagrad(learning_rate=0.1, epsilon=1e-08, decay=0.0),\n",
    "              loss=tf.keras.losses.BinaryCrossentropy(),\n",
    "              metrics=[tf.keras.metrics.Recall(),tf.keras.metrics.Precision()])\n",
    "\n",
    "model6.fit(train_images,y_train_labels[:,6], epochs = 10, validation_split = 0.2)\n"
   ]
  },
  {
   "cell_type": "markdown",
   "metadata": {
    "id": "pZyy2UhoFzTB",
    "pycharm": {
     "name": "#%% md\n"
    }
   },
   "source": [
    "## Практическое задание\n",
    "\n",
    "  1. Постройте нейронную сеть(берем простую линейную сеть, которую разбирали на уроке: меняем число слоев, число нейронов , типы активации, тип оптимизатора)  на датасет from sklearn.datasets import load_boston. \n",
    "  2. Измените функцию потерь и метрику для этой задачи. Постройте 10-15 вариантов и сведите результаты их работы в таблицу  Опишите, какого результата вы добились от нейросети? Что помогло вам улучшить ее точность?\n",
    "\n",
    "  3. Поработайте с документацией TensorFlow 2. Найти 2-3 полезные команды TensorFlow, не разобранные на уроке (полезные для Вас).\n",
    "\n",
    "  1-2. (*)  Попробуйте обучить нейронную сеть на TensorFlow 2 на датасете imdb_reviews .Опишите, какого результата вы добились от нейросети? Что помогло вам улучшить ее точность?\n",
    "    \n",
    "    \n",
    "</ol>\n",
    "\n",
    "\n",
    "\n",
    "## Набор данных для последнего ДЗ\n",
    "\n",
    "- COVID 19 диагностика https://www.kaggle.com/andrewmvd/covid19-ct-scans\n",
    "\n",
    "- Распознавание изображений цифр в представлении языка жестов https://www.kaggle.com/ardamavi/sign-language-digits-dataset"
   ]
  },
  {
   "cell_type": "markdown",
   "metadata": {
    "id": "oNZ6hZcMFzTE",
    "pycharm": {
     "name": "#%% md\n"
    }
   },
   "source": [
    "## Дополнительные материалы\n",
    "\n",
    "<ol>\n",
    "    <li>www.tensorflow.org/api_docs</li>\n",
    "</ol>"
   ]
  },
  {
   "cell_type": "markdown",
   "metadata": {
    "id": "Q64Z2Kr_FzTF",
    "pycharm": {
     "name": "#%% md\n"
    }
   },
   "source": [
    "## Используемая литература \n",
    "\n",
    "Для подготовки данного методического пособия были использованы следующие ресурсы:\n",
    "<ol>\n",
    "    <li>https://www.tensorflow.org/</li>\n",
    "    <li>https://www.tensorflow.org/tutorials/keras/classification</li>\n",
    "    <li>Singh P., Manure A. - Learn TensorFlow 2.0 - 2020</li>\n",
    "    <li>Шакла Н. — Машинное обучение и TensorFlow 2019</li>\n",
    "    <li>Википедия</li>\n",
    "    \n",
    "</ol>"
   ]
  },
  {
   "cell_type": "code",
   "execution_count": null,
   "metadata": {
    "colab": {
     "base_uri": "https://localhost:8080/",
     "height": 75,
     "resources": {
      "http://localhost:8080/nbextensions/google.colab/files.js": {
       "data": "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",
       "headers": [
        [
         "content-type",
         "application/javascript"
        ]
       ],
       "ok": true,
       "status": 200,
       "status_text": ""
      }
     }
    },
    "executionInfo": {
     "elapsed": 21072,
     "status": "ok",
     "timestamp": 1646075671920,
     "user": {
      "displayName": "Mariia Korliakova",
      "photoUrl": "https://lh3.googleusercontent.com/a/default-user=s64",
      "userId": "14165537686129864864"
     },
     "user_tz": -180
    },
    "id": "FxPtQQcfwQbi",
    "outputId": "5b87eaf4-3bf3-4811-c8f2-623d2efd1054",
    "pycharm": {
     "name": "#%%\n"
    }
   },
   "outputs": [
    {
     "data": {
      "text/html": [
       "\n",
       "     <input type=\"file\" id=\"files-c8030542-5ce9-46c7-b974-43b4182f2b1d\" name=\"files[]\" multiple disabled\n",
       "        style=\"border:none\" />\n",
       "     <output id=\"result-c8030542-5ce9-46c7-b974-43b4182f2b1d\">\n",
       "      Upload widget is only available when the cell has been executed in the\n",
       "      current browser session. Please rerun this cell to enable.\n",
       "      </output>\n",
       "      <script src=\"/nbextensions/google.colab/files.js\"></script> "
      ],
      "text/plain": [
       "<IPython.core.display.HTML object>"
      ]
     },
     "metadata": {},
     "output_type": "display_data"
    },
    {
     "name": "stdout",
     "output_type": "stream",
     "text": [
      "Saving BP + pretrainedNet.ipynb to BP + pretrainedNet.ipynb\n"
     ]
    }
   ],
   "source": [
    "from google.colab import files\n",
    "\n",
    "uploaded = files.upload()\n"
   ]
  },
  {
   "cell_type": "code",
   "execution_count": null,
   "metadata": {
    "colab": {
     "base_uri": "https://localhost:8080/"
    },
    "executionInfo": {
     "elapsed": 55189,
     "status": "ok",
     "timestamp": 1646075758732,
     "user": {
      "displayName": "Mariia Korliakova",
      "photoUrl": "https://lh3.googleusercontent.com/a/default-user=s64",
      "userId": "14165537686129864864"
     },
     "user_tz": -180
    },
    "id": "xCkZ9iO0wc4Y",
    "outputId": "96830674-7308-405e-9a0e-6c6c18b457dc",
    "pycharm": {
     "name": "#%%\n"
    }
   },
   "outputs": [
    {
     "name": "stdout",
     "output_type": "stream",
     "text": [
      "Mounted at /gdrive\n"
     ]
    }
   ],
   "source": [
    "from google.colab import drive\n",
    "drive.mount('/gdrive')\n"
   ]
  }
 ],
 "metadata": {
  "accelerator": "GPU",
  "colab": {
   "collapsed_sections": [],
   "name": "metodich3_colab_29_12.ipynb",
   "version": ""
  },
  "kernelspec": {
   "display_name": "Python 3",
   "language": "python",
   "name": "python3"
  },
  "language_info": {
   "codemirror_mode": {
    "name": "ipython",
    "version": 3
   },
   "file_extension": ".py",
   "mimetype": "text/x-python",
   "name": "python",
   "nbconvert_exporter": "python",
   "pygments_lexer": "ipython3",
   "version": "3.7.6"
  }
 },
 "nbformat": 4,
 "nbformat_minor": 0
}