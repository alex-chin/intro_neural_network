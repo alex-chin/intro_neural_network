{
 "cells": [
  {
   "cell_type": "markdown",
   "metadata": {
    "id": "glKIcvbYlUUE",
    "pycharm": {
     "name": "#%% md\n"
    }
   },
   "source": [
    "Читаем библиотеки"
   ]
  },
  {
   "cell_type": "code",
   "execution_count": null,
   "metadata": {
    "id": "BOwsuGQQY9OL",
    "pycharm": {
     "name": "#%%\n"
    }
   },
   "outputs": [],
   "source": [
    "from tensorflow.keras.preprocessing.sequence import pad_sequences\n",
    "from tensorflow.keras.layers import Embedding, LSTM, Dense, Dropout, Bidirectional\n",
    "from tensorflow.keras.preprocessing.text import Tokenizer\n",
    "from tensorflow.keras.models import Sequential\n",
    "from tensorflow.keras.optimizers import Adam\n",
    "from tensorflow.keras import regularizers\n",
    "import tensorflow.keras.utils as ku \n",
    "import numpy as np "
   ]
  },
  {
   "cell_type": "code",
   "execution_count": null,
   "metadata": {
    "id": "o_-o-ECeV__M",
    "pycharm": {
     "name": "#%%\n"
    }
   },
   "outputs": [],
   "source": [
    "from tensorflow.keras.callbacks import EarlyStopping"
   ]
  },
  {
   "cell_type": "markdown",
   "metadata": {
    "id": "xx65KF8YiubY",
    "pycharm": {
     "name": "#%% md\n"
    }
   },
   "source": [
    "Разбор текста - Токенизация"
   ]
  },
  {
   "cell_type": "code",
   "execution_count": null,
   "metadata": {
    "colab": {
     "base_uri": "https://localhost:8080/"
    },
    "id": "-6b4_D1DUPQV",
    "outputId": "0c1ade47-f69b-462d-9243-2ec253f0761e",
    "pycharm": {
     "name": "#%%\n"
    }
   },
   "outputs": [
    {
     "output_type": "stream",
     "name": "stdout",
     "text": [
      "--2022-04-19 16:09:16--  https://storage.googleapis.com/laurencemoroney-blog.appspot.com/sonnets.txt\n",
      "Resolving storage.googleapis.com (storage.googleapis.com)... 64.233.182.128, 64.233.183.128, 142.250.152.128, ...\n",
      "Connecting to storage.googleapis.com (storage.googleapis.com)|64.233.182.128|:443... connected.\n",
      "HTTP request sent, awaiting response... 200 OK\n",
      "Length: 93578 (91K) [text/plain]\n",
      "Saving to: ‘/tmp/sonnets.txt’\n",
      "\n",
      "\r/tmp/sonnets.txt      0%[                    ]       0  --.-KB/s               \r/tmp/sonnets.txt    100%[===================>]  91.38K  --.-KB/s    in 0.001s  \n",
      "\n",
      "2022-04-19 16:09:16 (98.5 MB/s) - ‘/tmp/sonnets.txt’ saved [93578/93578]\n",
      "\n"
     ]
    }
   ],
   "source": [
    "# Создаем объект для токенизапции\n",
    "tokenizer = Tokenizer(   num_words=10000)\n",
    "!wget --no-check-certificate \\\n",
    "    https://storage.googleapis.com/laurencemoroney-blog.appspot.com/sonnets.txt \\\n",
    "    -O /tmp/sonnets.txt\n",
    "data = open('/tmp/sonnets.txt').read()\n",
    "#Читаем текст\n",
    "corpus = data.lower().split(\"\\n\")"
   ]
  },
  {
   "cell_type": "code",
   "execution_count": null,
   "metadata": {
    "colab": {
     "base_uri": "https://localhost:8080/"
    },
    "id": "h8AtaI3FUUXf",
    "outputId": "31696fd7-2b5b-4581-d0f1-095fa1f2b0e9",
    "pycharm": {
     "name": "#%%\n"
    }
   },
   "outputs": [
    {
     "output_type": "execute_result",
     "data": {
      "text/plain": [
       "['from fairest creatures we desire increase,',\n",
       " \"that thereby beauty's rose might never die,\",\n",
       " 'but as the riper should by time decease,',\n",
       " 'his tender heir might bear his memory:',\n",
       " 'but thou, contracted to thine own bright eyes,',\n",
       " \"feed'st thy light'st flame with self-substantial fuel,\",\n",
       " 'making a famine where abundance lies,',\n",
       " 'thyself thy foe, to thy sweet self too cruel.',\n",
       " \"thou that art now the world's fresh ornament\",\n",
       " 'and only herald to the gaudy spring,']"
      ]
     },
     "metadata": {},
     "execution_count": 4
    }
   ],
   "source": [
    "corpus[:10]"
   ]
  },
  {
   "cell_type": "markdown",
   "metadata": {
    "id": "kvj2zIe-jF2D",
    "pycharm": {
     "name": "#%% md\n"
    }
   },
   "source": [
    "Исполним токенизацию и кодирование"
   ]
  },
  {
   "cell_type": "code",
   "execution_count": null,
   "metadata": {
    "id": "PRnDnCW-Z7qv",
    "pycharm": {
     "name": "#%%\n"
    }
   },
   "outputs": [],
   "source": [
    "tokenizer.fit_on_texts( corpus)\n",
    "total_words = len(tokenizer.word_index) + 1\n",
    "\n",
    "# create input sequences using list of tokens\n",
    "input_sequences = []\n",
    "for line in corpus:\n",
    "\ttoken_list = tokenizer.texts_to_sequences([line])[0]\n",
    "\tfor i in range(1, len(token_list)):\n",
    "\t\tn_gram_sequence = token_list[:i+1]\n",
    "\t\tinput_sequences.append(n_gram_sequence)\n",
    "\n",
    "\n",
    "# pad sequences \n",
    "max_sequence_len = max([len(x) for x in input_sequences])\n",
    "input_sequences = np.array(pad_sequences(input_sequences, maxlen=max_sequence_len, padding='pre'))\n",
    "\n",
    "# create predictors and label\n",
    "predictors, label = input_sequences[:,:-1],input_sequences[:,-1]\n",
    "\n",
    "label = ku.to_categorical(label, num_classes=total_words)"
   ]
  },
  {
   "cell_type": "code",
   "execution_count": null,
   "metadata": {
    "colab": {
     "base_uri": "https://localhost:8080/"
    },
    "id": "LSGhbRqt8tim",
    "outputId": "ea453768-ed26-40c5-dd5a-3a472134dfb8",
    "pycharm": {
     "name": "#%%\n"
    }
   },
   "outputs": [
    {
     "output_type": "execute_result",
     "data": {
      "text/plain": [
       "[]"
      ]
     },
     "metadata": {},
     "execution_count": 6
    }
   ],
   "source": [
    "token_list"
   ]
  },
  {
   "cell_type": "code",
   "execution_count": null,
   "metadata": {
    "colab": {
     "base_uri": "https://localhost:8080/",
     "height": 125
    },
    "id": "zMuJEMRCiA_0",
    "outputId": "6cefc7c4-fa69-4a30-d1e6-65cea064a210",
    "pycharm": {
     "name": "#%%\n"
    }
   },
   "outputs": [
    {
     "output_type": "execute_result",
     "data": {
      "text/plain": [
       "'love'"
      ],
      "application/vnd.google.colaboratory.intrinsic+json": {
       "type": "string"
      }
     },
     "metadata": {},
     "execution_count": 7
    }
   ],
   "source": [
    "tokenizer.index_word[14]"
   ]
  },
  {
   "cell_type": "code",
   "execution_count": null,
   "metadata": {
    "colab": {
     "base_uri": "https://localhost:8080/"
    },
    "id": "GBEiqyoQhlEd",
    "outputId": "31950881-3c85-4f3c-ef93-b14ec183545d",
    "pycharm": {
     "name": "#%%\n"
    }
   },
   "outputs": [
    {
     "output_type": "execute_result",
     "data": {
      "text/plain": [
       "14"
      ]
     },
     "metadata": {},
     "execution_count": 8
    }
   ],
   "source": [
    "tokenizer.word_index['love']"
   ]
  },
  {
   "cell_type": "code",
   "execution_count": null,
   "metadata": {
    "colab": {
     "base_uri": "https://localhost:8080/"
    },
    "id": "KRj9wFSMhdWQ",
    "outputId": "30b6ef4d-a31b-44b3-bd50-83257e2077cd",
    "pycharm": {
     "name": "#%%\n"
    }
   },
   "outputs": [
    {
     "output_type": "execute_result",
     "data": {
      "text/plain": [
       "array([[  0,   0,   0,   0,   0,   0,   0,   0,   0,  16,  22],\n",
       "       [  0,   0,   0,   0,   0,   0,   0,   0,  16,  22,   2],\n",
       "       [  0,   0,   0,   0,   0,   0,   0,  16,  22,   2, 879],\n",
       "       [  0,   0,   0,   0,   0,   0,  16,  22,   2, 879,  61]],\n",
       "      dtype=int32)"
      ]
     },
     "metadata": {},
     "execution_count": 9
    }
   ],
   "source": [
    "input_sequences[11:15,:]"
   ]
  },
  {
   "cell_type": "code",
   "execution_count": null,
   "metadata": {
    "colab": {
     "base_uri": "https://localhost:8080/"
    },
    "id": "oEBa1IEtghmP",
    "outputId": "39e99ec9-5f0e-400f-ae02-1ee2b6dbf7af",
    "pycharm": {
     "name": "#%%\n"
    }
   },
   "outputs": [
    {
     "output_type": "execute_result",
     "data": {
      "text/plain": [
       "(15462, 3211)"
      ]
     },
     "metadata": {},
     "execution_count": 10
    }
   ],
   "source": [
    "label.shape"
   ]
  },
  {
   "cell_type": "markdown",
   "metadata": {
    "id": "0ZMOORKCjpUU",
    "pycharm": {
     "name": "#%% md\n"
    }
   },
   "source": [
    "Создаем сеть"
   ]
  },
  {
   "cell_type": "code",
   "execution_count": null,
   "metadata": {
    "id": "_UgOcPDkVlV8",
    "pycharm": {
     "name": "#%%\n"
    }
   },
   "outputs": [],
   "source": [
    "callback = EarlyStopping( monitor = 'val_accuracy', patience = 10) # создаем обратный вызов - calback - тут \"Ранний останов\""
   ]
  },
  {
   "cell_type": "code",
   "execution_count": null,
   "metadata": {
    "colab": {
     "base_uri": "https://localhost:8080/"
    },
    "id": "w9vH8Y59ajYL",
    "outputId": "a491b9eb-f868-4e4b-e5e9-9b061c8b7c30",
    "pycharm": {
     "name": "#%%\n"
    }
   },
   "outputs": [
    {
     "output_type": "stream",
     "name": "stdout",
     "text": [
      "Model: \"sequential\"\n",
      "_________________________________________________________________\n",
      " Layer (type)                Output Shape              Param #   \n",
      "=================================================================\n",
      " embedding (Embedding)       (None, 10, 256)           822016    \n",
      "                                                                 \n",
      " lstm (LSTM)                 (None, 128)               197120    \n",
      "                                                                 \n",
      " dropout (Dropout)           (None, 128)               0         \n",
      "                                                                 \n",
      " dense (Dense)               (None, 1605)              207045    \n",
      "                                                                 \n",
      " dense_1 (Dense)             (None, 3211)              5156866   \n",
      "                                                                 \n",
      "=================================================================\n",
      "Total params: 6,383,047\n",
      "Trainable params: 6,383,047\n",
      "Non-trainable params: 0\n",
      "_________________________________________________________________\n",
      "None\n"
     ]
    }
   ],
   "source": [
    "model = Sequential()\n",
    "model.add(Embedding(total_words, 256, input_length = max_sequence_len-1))  # вложение тренируемое для перехода от слова к его векторному коду \n",
    "# на вход вложения (эмбединга) передаем вектор словарь (длина равна словарю, вектор разреженный)), на выход строим вектор из n (тут 256) координат - он плотный\n",
    "#model.add(Bidirectional(LSTM(50, return_sequences = True)))\n",
    "\n",
    "model.add(LSTM(128 ))\n",
    "model.add(Dropout( 0.2))\n",
    "model.add(Dense(total_words/2, activation = 'relu', kernel_regularizer = regularizers.l2(0.01)))\n",
    "model.add(Dense(total_words, activation = 'softmax'))\n",
    "model.compile(loss = 'categorical_crossentropy', optimizer = 'adam', metrics = ['accuracy'])\n",
    "print(model.summary())\n"
   ]
  },
  {
   "cell_type": "code",
   "execution_count": null,
   "metadata": {
    "colab": {
     "base_uri": "https://localhost:8080/"
    },
    "id": "AIg2f1HBxqof",
    "outputId": "8505d498-ae1b-4af6-93a3-75a06ea22b77",
    "pycharm": {
     "name": "#%%\n"
    }
   },
   "outputs": [
    {
     "output_type": "stream",
     "name": "stdout",
     "text": [
      "Epoch 1/100\n",
      "387/387 [==============================] - 16s 16ms/step - loss: 6.9906 - accuracy: 0.0210 - val_loss: 6.7638 - val_accuracy: 0.0184\n",
      "Epoch 2/100\n",
      "387/387 [==============================] - 5s 13ms/step - loss: 6.4847 - accuracy: 0.0261 - val_loss: 6.9280 - val_accuracy: 0.0165\n",
      "Epoch 3/100\n",
      "387/387 [==============================] - 5s 14ms/step - loss: 6.3825 - accuracy: 0.0245 - val_loss: 7.0418 - val_accuracy: 0.0255\n",
      "Epoch 4/100\n",
      "387/387 [==============================] - 5s 14ms/step - loss: 6.2690 - accuracy: 0.0315 - val_loss: 7.2306 - val_accuracy: 0.0194\n",
      "Epoch 5/100\n",
      "387/387 [==============================] - 5s 14ms/step - loss: 6.1352 - accuracy: 0.0395 - val_loss: 7.2186 - val_accuracy: 0.0210\n",
      "Epoch 6/100\n",
      "387/387 [==============================] - 5s 13ms/step - loss: 6.0217 - accuracy: 0.0411 - val_loss: 7.3752 - val_accuracy: 0.0259\n",
      "Epoch 7/100\n",
      "387/387 [==============================] - 5s 14ms/step - loss: 5.9111 - accuracy: 0.0449 - val_loss: 7.5030 - val_accuracy: 0.0288\n",
      "Epoch 8/100\n",
      "387/387 [==============================] - 5s 13ms/step - loss: 5.7916 - accuracy: 0.0500 - val_loss: 7.6701 - val_accuracy: 0.0369\n",
      "Epoch 9/100\n",
      "387/387 [==============================] - 5s 13ms/step - loss: 5.6663 - accuracy: 0.0604 - val_loss: 8.0188 - val_accuracy: 0.0385\n",
      "Epoch 10/100\n",
      "387/387 [==============================] - 5s 13ms/step - loss: 5.5373 - accuracy: 0.0665 - val_loss: 8.0152 - val_accuracy: 0.0391\n",
      "Epoch 11/100\n",
      "387/387 [==============================] - 6s 14ms/step - loss: 5.4085 - accuracy: 0.0763 - val_loss: 8.2654 - val_accuracy: 0.0394\n",
      "Epoch 12/100\n",
      "387/387 [==============================] - 5s 13ms/step - loss: 5.2843 - accuracy: 0.0814 - val_loss: 8.4205 - val_accuracy: 0.0346\n",
      "Epoch 13/100\n",
      "387/387 [==============================] - 5s 13ms/step - loss: 5.1652 - accuracy: 0.0923 - val_loss: 8.7269 - val_accuracy: 0.0346\n",
      "Epoch 14/100\n",
      "387/387 [==============================] - 5s 13ms/step - loss: 5.0444 - accuracy: 0.1025 - val_loss: 8.9739 - val_accuracy: 0.0372\n",
      "Epoch 15/100\n",
      "387/387 [==============================] - 5s 14ms/step - loss: 4.9246 - accuracy: 0.1121 - val_loss: 9.1395 - val_accuracy: 0.0362\n",
      "Epoch 16/100\n",
      "387/387 [==============================] - 5s 13ms/step - loss: 4.8019 - accuracy: 0.1218 - val_loss: 9.4173 - val_accuracy: 0.0401\n",
      "Epoch 17/100\n",
      "387/387 [==============================] - 5s 13ms/step - loss: 4.6870 - accuracy: 0.1290 - val_loss: 9.9075 - val_accuracy: 0.0388\n",
      "Epoch 18/100\n",
      "387/387 [==============================] - 5s 13ms/step - loss: 4.5592 - accuracy: 0.1458 - val_loss: 10.1510 - val_accuracy: 0.0372\n",
      "Epoch 19/100\n",
      "387/387 [==============================] - 5s 14ms/step - loss: 4.4334 - accuracy: 0.1587 - val_loss: 10.4656 - val_accuracy: 0.0369\n",
      "Epoch 20/100\n",
      "387/387 [==============================] - 5s 13ms/step - loss: 4.3070 - accuracy: 0.1753 - val_loss: 10.8843 - val_accuracy: 0.0378\n",
      "Epoch 21/100\n",
      "387/387 [==============================] - 5s 13ms/step - loss: 4.1831 - accuracy: 0.1881 - val_loss: 11.4254 - val_accuracy: 0.0346\n",
      "Epoch 22/100\n",
      "387/387 [==============================] - 5s 13ms/step - loss: 4.0608 - accuracy: 0.2048 - val_loss: 11.6651 - val_accuracy: 0.0352\n",
      "Epoch 23/100\n",
      "387/387 [==============================] - 5s 13ms/step - loss: 3.9340 - accuracy: 0.2266 - val_loss: 12.3008 - val_accuracy: 0.0320\n",
      "Epoch 24/100\n",
      "387/387 [==============================] - 5s 14ms/step - loss: 3.8082 - accuracy: 0.2426 - val_loss: 12.5819 - val_accuracy: 0.0343\n",
      "Epoch 25/100\n",
      "387/387 [==============================] - 5s 14ms/step - loss: 3.6847 - accuracy: 0.2623 - val_loss: 13.2993 - val_accuracy: 0.0352\n",
      "Epoch 26/100\n",
      "387/387 [==============================] - 5s 14ms/step - loss: 3.5732 - accuracy: 0.2876 - val_loss: 13.6631 - val_accuracy: 0.0343\n"
     ]
    }
   ],
   "source": [
    " history = model.fit(predictors, label, epochs=100, validation_split=0.2, callbacks=[callback],verbose=1)"
   ]
  },
  {
   "cell_type": "markdown",
   "metadata": {
    "id": "qdhjEfBElNMC",
    "pycharm": {
     "name": "#%% md\n"
    }
   },
   "source": [
    "Тест\n"
   ]
  },
  {
   "cell_type": "code",
   "execution_count": null,
   "metadata": {
    "colab": {
     "base_uri": "https://localhost:8080/",
     "height": 573
    },
    "id": "1fXTEO3GJ282",
    "outputId": "5eb538ea-e2dd-4435-bdb6-f85d36e8b2dc",
    "pycharm": {
     "name": "#%%\n"
    }
   },
   "outputs": [
    {
     "output_type": "display_data",
     "data": {
      "text/plain": [
       "<Figure size 432x288 with 1 Axes>"
      ],
      "image/png": "[encoded data removed]"
     },
     "metadata": {
      "needs_background": "light"
     }
    },
    {
     "output_type": "display_data",
     "data": {
      "text/plain": [
       "<Figure size 432x288 with 1 Axes>"
      ],
      "image/png": "[encoded data removed]"
     },
     "metadata": {
      "needs_background": "light"
     }
    }
   ],
   "source": [
    "import matplotlib.pyplot as plt\n",
    "acc = history.history['accuracy']\n",
    "acc_v = history.history['val_accuracy']\n",
    "loss = history.history['loss']\n",
    "loss_v = history.history['val_loss']\n",
    "\n",
    "epochs = range(len(acc))\n",
    "\n",
    "plt.plot(epochs, acc, 'b', label='Train')\n",
    "plt.plot(epochs, acc_v, 'r', label='Test')\n",
    "plt.legend()\n",
    "plt.title('accuracy')\n",
    "plt.xlabel('eppch')\n",
    "plt.ylabel('acc')\n",
    "plt.grid()\n",
    "plt.figure()\n",
    "\n",
    "plt.plot(epochs, loss, 'b', label='Train')\n",
    "plt.plot(epochs, loss_v, 'r', label='Test')\n",
    "plt.title('loss')\n",
    "plt.xlabel('eppch')\n",
    "plt.ylabel('loss')\n",
    "plt.legend()\n",
    "plt.grid()\n",
    "plt.show()"
   ]
  },
  {
   "cell_type": "markdown",
   "metadata": {
    "id": "RxYwdExpNgLW",
    "pycharm": {
     "name": "#%% md\n"
    }
   },
   "source": [
    "Строим тест генератора"
   ]
  },
  {
   "cell_type": "code",
   "execution_count": null,
   "metadata": {
    "colab": {
     "base_uri": "https://localhost:8080/"
    },
    "id": "6Vc6PHgxa6Hm",
    "outputId": "b84fcf4d-b30d-4aed-bbea-a50b5c9edae1",
    "pycharm": {
     "name": "#%%\n"
    }
   },
   "outputs": [
    {
     "output_type": "stream",
     "name": "stdout",
     "text": [
      "[591, 18, 5, 352, 393]\n",
      "23\n",
      "[591, 18, 5, 352, 393, 23]\n",
      "19\n",
      "[591, 18, 5, 352, 393, 23, 19]\n",
      "112\n",
      "[591, 18, 5, 352, 393, 23, 19, 112]\n",
      "72\n",
      "[591, 18, 5, 352, 393, 23, 19, 112, 72]\n",
      "98\n",
      "[591, 18, 5, 352, 393, 23, 19, 112, 72, 98]\n",
      "75\n",
      "[591, 18, 5, 352, 393, 23, 19, 112, 72, 98, 75]\n",
      "72\n",
      "[591, 18, 5, 352, 393, 23, 19, 112, 72, 98, 75, 72]\n",
      "147\n",
      "[591, 18, 5, 352, 393, 23, 19, 112, 72, 98, 75, 72, 147]\n",
      "131\n",
      "[591, 18, 5, 352, 393, 23, 19, 112, 72, 98, 75, 72, 147, 131]\n",
      "603\n",
      "Help me Obi Wan Kenobi, you're my only hope all thee old eye new true eye ' alone told\n"
     ]
    }
   ],
   "source": [
    "# начальная строка\n",
    "seed_text = \"Help me Obi Wan Kenobi, you're my only hope\"\n",
    "#seed_text = \"machine learning is true\"\n",
    "next_words = 10\n",
    "# строим последовательность + новое предсказание  \n",
    "for _ in range(next_words):\n",
    "  # текущая последовательность (токенизация и дополнение)\n",
    "  token_list = tokenizer.texts_to_sequences([seed_text])[0]\n",
    "  print(token_list)\n",
    "  token_list = pad_sequences([token_list], maxlen = max_sequence_len-1, padding = 'pre')\n",
    "  # делаем предсказание (сразу как индекс класса - у нас 1 из 3211)\n",
    "  predicted = model.predict(token_list, verbose=0)\n",
    "  predict_ = np.argmax(predicted)\n",
    "  output_word = \"\"\n",
    "  print(predict_)\n",
    "  # добавим новое слово в последовательность\n",
    "  for word, index in tokenizer.word_index.items():\n",
    "    if index == predict_:\n",
    "      output_word = word\n",
    "      break\n",
    "  seed_text += \" \" + output_word\n",
    "print(seed_text)"
   ]
  },
  {
   "cell_type": "markdown",
   "metadata": {
    "id": "Z3frltcvNEKh",
    "pycharm": {
     "name": "#%% md\n"
    }
   },
   "source": [
    "Помоги мне, Оби-Ван Кеноби, ты моя единственная надежда, все твои старые глаза, новые истинные глаза, сказал один"
   ]
  },
  {
   "cell_type": "code",
   "execution_count": null,
   "metadata": {
    "id": "sblwgu02M4OA",
    "pycharm": {
     "name": "#%%\n"
    }
   },
   "outputs": [],
   "source": [
    "y_p=model.predict(token_list)"
   ]
  },
  {
   "cell_type": "code",
   "execution_count": null,
   "metadata": {
    "colab": {
     "base_uri": "https://localhost:8080/"
    },
    "id": "nG0XtgeLgkie",
    "outputId": "6595d1ae-c656-44c0-adc9-40e71b36ed8b",
    "pycharm": {
     "name": "#%%\n"
    }
   },
   "outputs": [
    {
     "output_type": "display_data",
     "data": {
      "text/plain": [
       "<Figure size 1152x288 with 1 Axes>"
      ],
      "image/png": "[encoded data removed]"
     },
     "metadata": {
      "needs_background": "light"
     }
    }
   ],
   "source": [
    "plt.figure(figsize=(16,4))\n",
    "plt.plot(y_p[0,:])\n",
    "plt.xlabel('номер слова')\n",
    "plt.ylabel('вероятность слова')\n",
    "plt.title('вероятности по словам')\n",
    "plt.grid('on')\n",
    "plt.show()"
   ]
  },
  {
   "cell_type": "code",
   "execution_count": null,
   "metadata": {
    "colab": {
     "base_uri": "https://localhost:8080/"
    },
    "id": "ZBaCLMR-mWVg",
    "outputId": "91bb7ca4-8eb9-4486-d8ca-40439bc8a1c5",
    "pycharm": {
     "name": "#%%\n"
    }
   },
   "outputs": [
    {
     "output_type": "execute_result",
     "data": {
      "text/plain": [
       "array([103, 156, 162, 191, 603])"
      ]
     },
     "metadata": {},
     "execution_count": 18
    }
   ],
   "source": [
    "ind_prob=np.where(y_p[0,:]>0.028)[0]\n",
    "ind_prob"
   ]
  },
  {
   "cell_type": "code",
   "execution_count": null,
   "metadata": {
    "colab": {
     "base_uri": "https://localhost:8080/"
    },
    "id": "rUVav3Pf0kqn",
    "outputId": "76eaddaa-d5b2-4702-8cf3-b892bf308b3b",
    "pycharm": {
     "name": "#%%\n"
    }
   },
   "outputs": [
    {
     "output_type": "stream",
     "name": "stdout",
     "text": [
      "did  :  0.039412502\n",
      "never  :  0.031566165\n",
      "had  :  0.074008256\n",
      "hold  :  0.04374742\n",
      "told  :  0.08444652\n"
     ]
    }
   ],
   "source": [
    "for i,ind in enumerate(ind_prob.tolist()):\n",
    "  print(tokenizer.index_word[ind], ' : ', y_p[0,ind])"
   ]
  },
  {
   "cell_type": "code",
   "execution_count": null,
   "metadata": {
    "colab": {
     "base_uri": "https://localhost:8080/"
    },
    "id": "q8alxdYvQtCr",
    "outputId": "d2a8dc0c-6cfc-4320-f7b5-e7851cce8023",
    "pycharm": {
     "name": "#%%\n"
    }
   },
   "outputs": [
    {
     "output_type": "stream",
     "name": "stdout",
     "text": [
      "[591, 18, 5, 352, 393]\n",
      "[591, 18, 5, 352, 393, 23]\n",
      "[591, 18, 5, 352, 393, 23, 18]\n",
      "[591, 18, 5, 352, 393, 23, 18, 112]\n",
      "[591, 18, 5, 352, 393, 23, 18, 112, 239]\n",
      "[591, 18, 5, 352, 393, 23, 18, 112, 239, 56]\n",
      "[591, 18, 5, 352, 393, 23, 18, 112, 239, 56, 147]\n",
      "[591, 18, 5, 352, 393, 23, 18, 112, 239, 56, 147, 147]\n",
      "[591, 18, 5, 352, 393, 23, 18, 112, 239, 56, 147, 147, 147]\n",
      "[591, 18, 5, 352, 393, 23, 18, 112, 239, 56, 147, 147, 147, 87]\n",
      "[591, 18, 5, 352, 393, 23, 18, 112, 239, 56, 147, 147, 147, 87, 2117]\n",
      "[591, 18, 5, 352, 393, 23, 18, 112, 239, 56, 147, 147, 147, 87, 2117, 1160]\n",
      "[591, 18, 5, 352, 393, 23, 18, 112, 239, 56, 147, 147, 147, 87, 2117, 1160, 2295]\n",
      "[591, 18, 5, 352, 393, 23, 18, 112, 239, 56, 147, 147, 147, 87, 2117, 1160, 2295, 1009]\n",
      "[591, 18, 5, 352, 393, 23, 18, 112, 239, 56, 147, 147, 147, 87, 2117, 1160, 2295, 1009, 25]\n",
      "Help me Obi Wan Kenobi, you're my only hope all me old great heart ' ' ' dost he's special disperse fix'd his quick\n"
     ]
    }
   ],
   "source": [
    "seed_text = \"Help me Obi Wan Kenobi, you're my only hope\"\n",
    "#seed_text = \"She is my girl, I see in\"\n",
    "next_words = 15\n",
    "  \n",
    "for _ in range(next_words):\n",
    "  token_list = tokenizer.texts_to_sequences([seed_text])[0]\n",
    "  print(token_list)\n",
    "  token_list = pad_sequences([token_list], maxlen = max_sequence_len-1, padding='pre')\n",
    "  #predicted = model.predict_classes(token_list, verbose=0)\n",
    "  output_word = \"\"\n",
    "  y_p = model.predict(token_list)\n",
    "  y_predict = y_p * np.random.random(  size = (1,y_p.shape[1]))\n",
    "  predicted_ind = np.argmax(y_predict,axis = 1)\n",
    "  for word, index in tokenizer.word_index.items():\n",
    "    if index == predicted_ind:\n",
    "      output_word = word\n",
    "      break\n",
    "  seed_text += \" \" + output_word\n",
    "print(seed_text)"
   ]
  },
  {
   "cell_type": "markdown",
   "metadata": {
    "id": "EpIvOvSQLsKF",
    "pycharm": {
     "name": "#%% md\n"
    }
   },
   "source": [
    "Помоги мне, Оби-Ван Кеноби, ты моя единственная надежда, все мое старое великое сердце. он специально рассредоточился\n"
   ]
  },
  {
   "cell_type": "code",
   "execution_count": null,
   "metadata": {
    "id": "n-M6K9YfLusE",
    "pycharm": {
     "name": "#%%\n"
    }
   },
   "outputs": [],
   "source": []
  }
 ],
 "metadata": {
  "accelerator": "GPU",
  "colab": {
   "collapsed_sections": [],
   "name": "Генератор_текста.ipynb",
   "provenance": []
  },
  "kernelspec": {
   "display_name": "Python 3",
   "name": "python3"
  }
 },
 "nbformat": 4,
 "nbformat_minor": 0
}