{
 "cells": [
  {
   "cell_type": "markdown",
   "metadata": {
    "id": "XvhEhpGm9U8z"
   },
   "source": [
    "# Введение в искусственные нейронные сети\n",
    "# Урок 2. Keras"
   ]
  },
  {
   "cell_type": "markdown",
   "metadata": {
    "id": "LmKjkEH-9U84"
   },
   "source": [
    "## Содержание методического пособия:\n",
    "\n",
    "\n",
    "<ol>\n",
    "<li>Способы создания нейросетей</li>\n",
    "<li>Что такое Keras</li>\n",
    "<li>Основы синтаксиса</li>\n",
    "<li>Простая нейросеть на Keras</li>\n",
    "</ol>"
   ]
  },
  {
   "cell_type": "markdown",
   "metadata": {
    "id": "9gV6aaON9U86"
   },
   "source": [
    "## Способы создания нейросетей\n",
    "\n",
    "Нейросети это математические модели. Программирую на любом языке можно решать задачи связанные с математикой. Однако встает вопрос какой язык подойдет для этого больше? Не считая учебных нейросетей, нейросети как правило работают с большим количеством данных. Поэтому, чтобы обучение нейросетей происходило с приемлимой скоростью нужно использовать быстрый язык. Например Си. Но так как язык Си это язык с низким уровнем абстракции то программировать и модифицировать на нем нейросети было бы крайне затруднительно. \n",
    "\n",
    "Хорошо может подойти для этих целей язык Python. Так как он с одной стороны имеет высокий уровень абстракции с другой стороны операции с массивами данных могут сделать его библиотеки написанные на Си. Таким способом мы пользовались на первых 2 уроках. Однако если писать нейросети таким образом то будет много повторяющегося кода поскольку архитектуры нейросетей остаются одинаковыми и зачастую у них только меняются параметры. Кроме этого нам может понадобиться хорошо знать архитектуры самых разных нейронных сетей чтобы реализовать их вручную. Работа таким образом затруднительна для людей не имеющих достаточной подготовки, а для имеющих может быть нааборот рутиной.\n",
    "\n",
    "Существуют фреймворки для созданий нейронных сетей. Они являются, пожалуй основным рабочим способом создания нейронных сетей. Вот их неполный перечень:\n",
    "\n",
    "1. TensorFlow\n",
    "2. PyTorch\n",
    "3. Keras\n",
    "4. Microsoft Cognitive Toolkit (CNTK)\n",
    "5. Caffe\n",
    "6. Apache MXNet\n",
    "\n",
    "Упрощение создания нейронных сетей не заканчивается на этих фрейворках. Существуют инструменты которые позволяют создавать нейронные сети без навыков программирования, строя нейросети графически. Примеры: Neural Designer, Deep Learning Studio.\n",
    "\n",
    "Но и на этом не заканчиваются способы создания нейросетей. Существуют инструменты самостоятельно создающие нейронные сети. Это так называемые AutoML инструменты. Вот примеры популярных из них:\n",
    "1. MLBox\n",
    "2. TPOT\n",
    "3. Autokeras\n",
    "\n",
    "Как вы возможно заметили что все эти инструменты отранжированы походы изложения в порядке возрастания уровня абстракции. Соответсвенно говоря о плюсах минусах того или иного инструмента мы должны понимать в принципе плюсы минусы повышения уровня абстракции. Чем он выше тем меньше производительность и тем меньше его гибкость и набоорот.\n",
    "\n",
    "Как уже было сказано наиболее востребованных в рабочих целях является тот уровень абстракции, который дают фреймворки. Будем изучать дальше и пользовать ими. Остается сделать выбор среди них. Самый популярный фреймворк для создания нейросетей TensorFlow. Самый популярный для обучения - Keras. На этом уроке мы изучим с вами Keras, а на следующим TensorFlow. Также стоит отметить, что эти фреймворки взаимосвязаны - Keras как правило работает поверх TensorFlow, а сам TensorFlow позволяет пользовать средствами Keras при необходимости.\n"
   ]
  },
  {
   "cell_type": "markdown",
   "metadata": {
    "id": "b1uUklH29U88"
   },
   "source": [
    "## Что такое Keras\n",
    "\n",
    "Keras появился относительно недавно - в 2015 г. Но за это время стал одним из самых популярных фреймоворков для создания нейросетей и фактически стандартом для использования его начинающими.\n",
    "\n",
    "В чем причина его популярности? Keras позволяет создовать на высоком уровне абстракции. Т.е. на не нужно вручную реализовать с помощью математикаподобного кода те или иные элементы нейронной сети. Мы можем оперировать слоями, количеством нейронов в них, выбором функции активации и т.д. В тоже время keras содержит инструментарий для всего того, что может понадобиться для работы - например ряд встроенных датасетов, возможность обрабатывать изображения.\n",
    "\n",
    "В техническом плане Keras это оболочка над инструментами меньшей степени абстракции. На выбор он может работать поверх TensorFlow, Microsoft Cognitive Toolkit, R, Theano, PlaidML.\n",
    "\n",
    "Keras пользуется также на соревнованиях Kaggle.\n",
    "\n",
    "Однако стоит отметить, что в реальных проектах чаще используется TensorFlow, который мы будем изучать в след. уроках.\n",
    "\n",
    "Keras как и любой высокобастрактный инструмент имеет изъяны в качестве меньшей гибкостью и производительснотью чем тот же tensorflow.\n",
    "\n",
    "Стоит также отметить, что Google официально поддерживает Keras, его автор François Chollet, является сотрудником Google. TensorFlow сам в свою очередь позволяет использовать возможности Keras, т.е. в нем заложена возможность переходить на более высокой уровень абстракции.\n",
    "\n",
    "В данном уроке мы с вами рассмотрим пример обучения нейронной сети с помощью Keras. Но прежде давайте посмотрим на основы синтаксиса Keras и стандартные задачи, которые нужно выполнить при обучении нейронной сети."
   ]
  },
  {
   "cell_type": "markdown",
   "metadata": {
    "id": "iRJ_I6hu9U8-"
   },
   "source": [
    "## Основы синтаксиса"
   ]
  },
  {
   "cell_type": "markdown",
   "metadata": {
    "id": "Sars-tTz9U9A"
   },
   "source": [
    "**Установка и работа с данными**"
   ]
  },
  {
   "cell_type": "markdown",
   "metadata": {
    "id": "8w3sHXOV9U9B"
   },
   "source": [
    "Для начала необходимо установить keras. Надо полагать вы хорошо знакомы с командой pip."
   ]
  },
  {
   "cell_type": "markdown",
   "metadata": {
    "id": "05hfRCv09U9D"
   },
   "source": [
    "sudo python3 pip install keras"
   ]
  },
  {
   "cell_type": "markdown",
   "metadata": {
    "id": "EAwWzAS29U9F"
   },
   "source": [
    "Давайте попробуем получить датасет mnist и проанализировать его содержимое.\n",
    "Это еще не будет синтаксис Keras, но это часто встречающаяся задача. Не обращайте внимание на предупреждения от TensorFlow. Их часто бывает много и их можно подавить при необходимости."
   ]
  },
  {
   "cell_type": "markdown",
   "metadata": {
    "id": "iKgNxL4G9U9H"
   },
   "source": [
    "    import numpy as np\n",
    "    import mnist\n",
    "    import keras\n",
    "\n",
    "    # The first time you run this might be a bit slow, since the\n",
    "    # mnist package has to download and cache the data.\n",
    "    train_images = mnist.train_images()\n",
    "    train_labels = mnist.train_labels()\n",
    "\n",
    "    print(train_images.shape) # (60000, 28, 28)\n",
    "    print(train_labels.shape) # (60000,)"
   ]
  },
  {
   "cell_type": "markdown",
   "metadata": {
    "id": "F_3tRtvg9U9J"
   },
   "source": [
    "Что в данном случае мы смогли с вами узнать? Что тренировочный датасет mnist состоит из 60000 изображений 28 на 28 пикселей. Такие небольшие датасеты с маленькими изображениями встретятся вам и в других учебных датасетах."
   ]
  },
  {
   "cell_type": "markdown",
   "metadata": {
    "id": "DZiKILQd9U9L"
   },
   "source": [
    "Что нам нужно делать теперь? Если датасет не имеет разделения на тренировочный и тестовый то поделить их. В нашем случае наш тренировочный датасет состоит из 60 000 изображений и тестовый из 10 000 и они поделены по умолчанию.\n",
    "\n",
    "Нам теперь нужно конверитировать значения пикселей из вида от 1 до 255 в набор значений от -0.5 до 0.5.\n",
    "\n"
   ]
  },
  {
   "cell_type": "code",
   "execution_count": null,
   "metadata": {
    "colab": {
     "base_uri": "https://localhost:8080/"
    },
    "id": "TQMMZ_jw9U9N",
    "outputId": "93f31946-19dc-45de-d399-9455b5e5d8b7"
   },
   "outputs": [
    {
     "name": "stdout",
     "output_type": "stream",
     "text": [
      "Downloading data from https://storage.googleapis.com/tensorflow/tf-keras-datasets/mnist.npz\n",
      "11493376/11490434 [==============================] - 0s 0us/step\n",
      "11501568/11490434 [==============================] - 0s 0us/step\n",
      "(60000, 784)\n",
      "(10000, 784)\n"
     ]
    }
   ],
   "source": [
    "import numpy as np\n",
    "#import mnist\n",
    "#import tensorflow as tf\n",
    "#import tf.kears as keras\n",
    "import keras\n",
    "from keras.datasets import mnist, boston_housing, fashion_mnist  # наборы для работы\n",
    "\n",
    "#train_images = mnist.train_images()\n",
    "#train_labels = mnist.train_labels()\n",
    "#test_images = mnist.test_images()\n",
    "#test_labels = mnist.test_labels()\n",
    "\n",
    "(train_imagesi,train_labels),(test_imagesi,testn_labels)=mnist.load_data()\n",
    "\n",
    "# Normalize the images.\n",
    "train_imagesi = (train_imagesi / 127) - 1\n",
    "test_imagesi = (test_imagesi / 127) - 1\n",
    "\n",
    "# Flatten the images.\n",
    "train_images = train_imagesi.reshape((-1, 784))\n",
    "test_images = test_imagesi.reshape((-1, 784))\n",
    "\n",
    "print(train_images.shape) # (60000, 784)\n",
    "print(test_images.shape)  # (10000, 784)"
   ]
  },
  {
   "cell_type": "code",
   "execution_count": null,
   "metadata": {
    "colab": {
     "base_uri": "https://localhost:8080/"
    },
    "id": "haGKRAidX8XT",
    "outputId": "f129ab62-6ebf-4519-ab51-a42483b52cf1"
   },
   "outputs": [
    {
     "data": {
      "text/plain": [
       "(28, 28)"
      ]
     },
     "execution_count": 2,
     "metadata": {},
     "output_type": "execute_result"
    }
   ],
   "source": [
    "n=1\n",
    "train_imagesi[n,:,:].shape"
   ]
  },
  {
   "cell_type": "code",
   "execution_count": null,
   "metadata": {
    "colab": {
     "base_uri": "https://localhost:8080/",
     "height": 35
    },
    "id": "3fwDFMMPJDFE",
    "outputId": "b738dbcf-1145-4831-fef2-e437fd6672c7"
   },
   "outputs": [
    {
     "data": {
      "application/vnd.google.colaboratory.intrinsic+json": {
       "type": "string"
      },
      "text/plain": [
       "'tensorflow'"
      ]
     },
     "execution_count": 3,
     "metadata": {},
     "output_type": "execute_result"
    }
   ],
   "source": [
    "keras.backend.backend()"
   ]
  },
  {
   "cell_type": "code",
   "execution_count": null,
   "metadata": {
    "id": "Jp0WM1sS1DFX"
   },
   "outputs": [],
   "source": [
    "import matplotlib.pyplot as plt"
   ]
  },
  {
   "cell_type": "code",
   "execution_count": null,
   "metadata": {
    "colab": {
     "base_uri": "https://localhost:8080/",
     "height": 282
    },
    "id": "1GG9Z5HDEEWW",
    "outputId": "117e4132-f8f4-4370-bb07-628a5b9197cd"
   },
   "outputs": [
    {
     "data": {
      "image/png": "[encoded data removed]",
      "text/plain": [
       "<Figure size 432x288 with 1 Axes>"
      ]
     },
     "metadata": {
      "needs_background": "light"
     },
     "output_type": "display_data"
    },
    {
     "name": "stdout",
     "output_type": "stream",
     "text": [
      "9\n"
     ]
    }
   ],
   "source": [
    "n = 2501\n",
    "plt.imshow(train_imagesi[n,:,:])\n",
    "plt.show()\n",
    "print(train_labels[n])"
   ]
  },
  {
   "cell_type": "code",
   "execution_count": null,
   "metadata": {
    "colab": {
     "base_uri": "https://localhost:8080/"
    },
    "id": "t58_YKCl38rz",
    "outputId": "f2b2b8f6-4f69-4a4d-a72b-2251b921254a"
   },
   "outputs": [
    {
     "data": {
      "text/plain": [
       "array([5, 0, 4, 1, 9, 2, 1, 3, 1, 4, 3, 5], dtype=uint8)"
      ]
     },
     "execution_count": 7,
     "metadata": {},
     "output_type": "execute_result"
    }
   ],
   "source": [
    "train_labels[:12]"
   ]
  },
  {
   "cell_type": "code",
   "execution_count": null,
   "metadata": {
    "colab": {
     "base_uri": "https://localhost:8080/"
    },
    "id": "1_Ae7niGnjb6",
    "outputId": "29f53600-66a4-4e82-8227-75ca69f3c187"
   },
   "outputs": [
    {
     "data": {
      "text/plain": [
       "array([-1.        , -1.        , -1.        , -1.        , -1.        ,\n",
       "       -0.90551181, -0.80314961, -0.80314961, -0.80314961, -0.80314961])"
      ]
     },
     "execution_count": 8,
     "metadata": {},
     "output_type": "execute_result"
    }
   ],
   "source": [
    "train_images[202,150:160]"
   ]
  },
  {
   "cell_type": "markdown",
   "metadata": {
    "id": "Y6btW5Oz9U9W"
   },
   "source": [
    "**Создание модели**"
   ]
  },
  {
   "cell_type": "markdown",
   "metadata": {
    "id": "jgVdsO619U9Y"
   },
   "source": [
    "После первичной подготовки данных дальше как правило следует создание модели нейронной сети, которая будет учиться на этих данных.\n",
    "\n",
    "Ниже типичный код учебной нейросети - "
   ]
  },
  {
   "cell_type": "markdown",
   "metadata": {
    "id": "rfu5k2FX9U9a"
   },
   "source": [
    "    # define the keras model\n",
    "    model = Sequential()\n",
    "    model.add(Dense(12, input_dim=8, activation='relu'))\n",
    "    model.add(Dense(8, activation='relu'))\n",
    "    model.add(Dense(1, activation='sigmoid'))"
   ]
  },
  {
   "cell_type": "markdown",
   "metadata": {
    "id": "lb6IkKpN9U9c"
   },
   "source": [
    "Давайте разберемся с теми командами, которые нам встетились в этом коде.\n",
    "\n",
    "Sequential - позволяет создать нейросети где слои имеют форму стека. Сигнал в них передается от одного слоя к другому. В противовес этой разновидности есть нейросети где сигнал может не сразу передаваться в следующий слой а попадать в цикл. Такие нейросети мы разберем в следующих уроках.\n",
    "\n",
    "Dense - позволяет каждому нейронну быть связанному с другим нейронном. В противовес этом может быть необходимость не делать так много связей. Неполносвязнные архитектуры мы также разберем на этом курсе, они основа компьютерного зрения.\n",
    "\n",
    "Цифры 12, 8, 1 обозначают количество нейронов в каждом конкретном слое\n",
    "\n",
    "Activation - позволяет определить формулу по которой будет активироваться нейрон."
   ]
  },
  {
   "cell_type": "markdown",
   "metadata": {
    "id": "iVWaIK2l9U9e"
   },
   "source": [
    "**Компиляция модели**\n",
    "\n",
    "На этапе компиляции модель с заданными параметрами ранее создается. Вот типичный учебный пример:"
   ]
  },
  {
   "cell_type": "markdown",
   "metadata": {
    "id": "B6m5CF1l9U9g"
   },
   "source": [
    "    \n",
    "    # создание keras модели\n",
    "    model.compile(loss='binary_crossentropy', optimizer='adam', metrics=['accuracy'])"
   ]
  },
  {
   "cell_type": "markdown",
   "metadata": {
    "id": "IDbetrHA9U9i"
   },
   "source": [
    "Однако на этой стадии мы должны сделать еще некоторые настройки нейронной сети. Разберем команды из кода выше.\n",
    "\n",
    "loss - позволяет задать формулы по которой будет определяться степень ошибки нейронной сети.\n",
    "\n",
    "optimizer - позволяет задать алгоритм, который будет осуществлять изменения весов по всей нейронной сети (backpropagation)\n",
    "\n",
    "metrics - позволяет опредилить кретирии по которым будет оцениваться степень обученности нейросети.\n",
    "    \n",
    "    "
   ]
  },
  {
   "cell_type": "markdown",
   "metadata": {
    "id": "KH-Cy6Iy9U9l"
   },
   "source": [
    "**Передача данных для обучения нейросети**\n",
    "\n",
    "После того как нейросеть создана можно передавать ей данные для обучения. Ниже типичный пример кода для этого.\n"
   ]
  },
  {
   "cell_type": "markdown",
   "metadata": {
    "id": "TweWbzvu9U9o"
   },
   "source": [
    "    # передача обучающего датасета keras модели\n",
    "    model.fit(X, y, epochs=150, batch_size=10, verbose=0)"
   ]
  },
  {
   "cell_type": "markdown",
   "metadata": {
    "id": "tFt0A6m59U9q"
   },
   "source": [
    "Разберем команды из этого примера.\n",
    "X, y - содержат все обучающие данные\n",
    "epochs - определяет сколько раз через нейросеть должен пройти весь набор данных\n",
    "bath_size - определяет количество обучающих примеров передающихся нейросети на каждой итерации обучения.\n",
    "verbose - позволяет определять информацию, котору вы видете во время обучения нейронной сети."
   ]
  },
  {
   "cell_type": "markdown",
   "metadata": {
    "id": "P7ERG-o79U9s"
   },
   "source": [
    "**Оценка обученности нейронной сети**\n",
    "\n",
    "Следующей стадией может быть проверка обученности нейронной сети. Команда Keras для этих целей - \n",
    "\n",
    "    results = model.evaluate(x_test, y_test, batch_size=128)\n",
    "    \n",
    "В данном случае мы просто указываем какую модель на каких данных мы хотим проверить"
   ]
  },
  {
   "cell_type": "markdown",
   "metadata": {
    "id": "UHT1j0AX9U9t"
   },
   "source": [
    "**Запуск нейронной сети для выполнения работы**\n",
    "\n",
    "На этой стадии мы можем попробовать запустить нейронную сеть на данных которые мы хотели бы чтобы она оценила. Осуществить распознования объекта на фотографии например.\n",
    "Вот код для этих целей - \n",
    "\n",
    "    predictions = model.predict(x_test[:3])\n",
    "    \n",
    "В качестве аргумента здесь указывается массив даныхх содержащих, например фотографию в виде массива чисел.    \n",
    "    "
   ]
  },
  {
   "cell_type": "markdown",
   "metadata": {
    "id": "LoL6FC9I9U9v"
   },
   "source": [
    "Мы с вами рассмотрели основные стадии процесса обучения нейросети и команды Keras, для этого. Безусловно здесь приведен далеко неполный перечень возможностей Keras. У Keras есть также возможность сохранять созданную нейросеть, запускать уже имеющиюся, различные средства для создания нейросетей разных архитектур и другое. С чем то из арсенала Keras мы с вами познакомимся по ходу курса, а с остальным вы можете познакомиться на сайте Keras в разделе документация."
   ]
  },
  {
   "cell_type": "markdown",
   "metadata": {
    "id": "jnUt9U3_9U9x"
   },
   "source": [
    "## Простая нейросеть на Keras"
   ]
  },
  {
   "cell_type": "markdown",
   "metadata": {
    "id": "SAa_Lfn89U9y"
   },
   "source": [
    "Давайте попрубуем сделать нейросеть на Keras использую полученные выше знания. Попробуем обучить нейросеть различать рукописные цифры."
   ]
  },
  {
   "cell_type": "code",
   "execution_count": null,
   "metadata": {
    "id": "hf6f_oe7EH7A"
   },
   "outputs": [],
   "source": [
    "# Код нейронной сети в Keras!\n",
    "###############################\n",
    "import numpy as np\n",
    "#import mnist\n",
    "from keras.models import Sequential\n",
    "from keras.layers import Dense\n",
    "from keras.datasets import mnist\n",
    "from tensorflow.keras.utils import to_categorical\n",
    "\n"
   ]
  },
  {
   "cell_type": "markdown",
   "metadata": {
    "id": "rlO6abtO0oFX"
   },
   "source": [
    "Размер набора входных данных для обучения "
   ]
  },
  {
   "cell_type": "code",
   "execution_count": null,
   "metadata": {
    "colab": {
     "base_uri": "https://localhost:8080/"
    },
    "id": "XLsN2KNiNHEf",
    "outputId": "b7f7a7f1-f9ae-4d18-f42a-3ba20ea32fc1"
   },
   "outputs": [
    {
     "data": {
      "text/plain": [
       "((60000, 784), (10000, 784))"
      ]
     },
     "execution_count": 10,
     "metadata": {},
     "output_type": "execute_result"
    }
   ],
   "source": [
    "train_images.shape,test_images.shape"
   ]
  },
  {
   "cell_type": "markdown",
   "metadata": {
    "id": "eHplAiIbpDLE"
   },
   "source": [
    "Собираем сеть по слоям через .add()"
   ]
  },
  {
   "cell_type": "code",
   "execution_count": null,
   "metadata": {
    "id": "b0-xDKrNHNrv"
   },
   "outputs": [],
   "source": [
    "model1 = Sequential(name='my_model')\n",
    "model1.add( Dense(   128, activation='relu', input_shape=(784,)))  \n",
    "# входной слой + поносвязный слой из 128 нейронов с активацией ReLU\n",
    "for k in range(2):\n",
    "  model1.add(Dense(  10+(10-k)*10, activation='tanh')) \n",
    "  # Скрытый слой k из 10+(10-k)*10 нейронов с активацией tanh\n",
    "\n",
    "model1.add(Dense(10, activation='softmax')) \n",
    "# выходной слой из 10 нейронов (сколько классов, столько нейронов) + активация softmax"
   ]
  },
  {
   "cell_type": "code",
   "execution_count": null,
   "metadata": {
    "id": "WjoJONokxO70"
   },
   "outputs": [],
   "source": [
    "#keras.losses.SparseCategoricalCrossentropy().\n",
    "#keras.losses.categorical_crossentropy()\n",
    "# keras.metrics.accuracy"
   ]
  },
  {
   "cell_type": "markdown",
   "metadata": {
    "id": "oZG48jgOpNmT"
   },
   "source": [
    "Компилируем сеть с оптимизатором , функцией потерь и метрикой:"
   ]
  },
  {
   "cell_type": "code",
   "execution_count": null,
   "metadata": {
    "id": "6pZ5taUWHke6"
   },
   "outputs": [],
   "source": [
    "model1.compile(\n",
    "  optimizer='adam', # оптимизатор\n",
    "  loss=keras.losses.CategoricalCrossentropy(), # функция потерь\n",
    "  metrics=['accuracy'], # метрика\n",
    ") "
   ]
  },
  {
   "cell_type": "markdown",
   "metadata": {
    "id": "d9Gi-C5ddKKL"
   },
   "source": [
    "Оптимизаторы:\n",
    "* SGD() (с или без моментум)\n",
    "* RMSprop()\n",
    "* Adam()\n",
    "* Adagrad()\n",
    "…\n",
    "\n",
    "Функции потерь:\n",
    "* CategoricalCrossentropy()\n",
    "* SparseCategoricalCrossentropy()\n",
    "* BinaryCrossentropy()\n",
    "* MeanSquaredError()\n",
    "* KLDivergence()\n",
    "* CosineSimilarity()\n",
    "…\n",
    "\n",
    "Метрики:\n",
    "* CategoricalAccuracy()\n",
    "* SparseCategoricalAccuracy()\n",
    "* BinaryAccuracy()\n",
    "* AUC()\n",
    "* Precision()\n",
    "* Recall()\n",
    "…"
   ]
  },
  {
   "cell_type": "markdown",
   "metadata": {
    "id": "kaOhpafIpZ5l"
   },
   "source": [
    "ПОсмотрим из чего она состоит:"
   ]
  },
  {
   "cell_type": "code",
   "execution_count": null,
   "metadata": {
    "colab": {
     "base_uri": "https://localhost:8080/"
    },
    "id": "MdAHcWIoE8rf",
    "outputId": "d4c85b95-c160-4c7d-9b3d-6a1ad5321a64"
   },
   "outputs": [
    {
     "name": "stdout",
     "output_type": "stream",
     "text": [
      "Model: \"my_model\"\n",
      "_________________________________________________________________\n",
      " Layer (type)                Output Shape              Param #   \n",
      "=================================================================\n",
      " dense_4 (Dense)             (None, 128)               100480    \n",
      "                                                                 \n",
      " dense_5 (Dense)             (None, 110)               14190     \n",
      "                                                                 \n",
      " dense_6 (Dense)             (None, 100)               11100     \n",
      "                                                                 \n",
      " dense_7 (Dense)             (None, 10)                1010      \n",
      "                                                                 \n",
      "=================================================================\n",
      "Total params: 126,780\n",
      "Trainable params: 126,780\n",
      "Non-trainable params: 0\n",
      "_________________________________________________________________\n"
     ]
    }
   ],
   "source": [
    "model1.summary()"
   ]
  },
  {
   "cell_type": "markdown",
   "metadata": {
    "id": "i2YcWu0upeWi"
   },
   "source": [
    "126 780 параметров в сети. Все будем обучать.\n",
    "\n",
    "Как считать параметры слоя: (число входов нейрона +1)*число нейронов\n",
    "\n",
    "\n",
    "Например, для 5 входов и 10 нейронов в слое - число настраиваемых параметров = (5+1)*10 = 60"
   ]
  },
  {
   "cell_type": "markdown",
   "metadata": {
    "id": "f-drP8y5USej"
   },
   "source": [
    "Еще один способ создать линейную модель"
   ]
  },
  {
   "cell_type": "code",
   "execution_count": null,
   "metadata": {
    "id": "vT7VLh_SEcZS"
   },
   "outputs": [],
   "source": [
    "\n",
    "# Build the model.\n",
    "model = Sequential([\n",
    "  Dense(128, activation='tanh', input_shape=(784,)),\n",
    "  Dense(110, activation='tanh'), # Скрытый слой из 110 нейронов с активацией tanh\n",
    "  Dense(100, activation='tanh'), # Скрытый слой k из 100 нейронов с активацией tanh\n",
    "  Dense(10, activation='softmax'),# выходной слой из 10 нейронов (сколько классов, столько нейронов) + активация softmax\n",
    "])\n",
    "\n",
    "# Compile the model.\n",
    "model.compile(\n",
    "  optimizer='adam',\n",
    "  loss='categorical_crossentropy',\n",
    "  metrics=['accuracy'],\n",
    ")"
   ]
  },
  {
   "cell_type": "code",
   "execution_count": null,
   "metadata": {
    "colab": {
     "base_uri": "https://localhost:8080/"
    },
    "id": "O5DOd_RAGZHQ",
    "outputId": "87692df8-03a0-4419-d42f-0f35d2dfd657"
   },
   "outputs": [
    {
     "name": "stdout",
     "output_type": "stream",
     "text": [
      "Model: \"sequential\"\n",
      "_________________________________________________________________\n",
      " Layer (type)                Output Shape              Param #   \n",
      "=================================================================\n",
      " dense_8 (Dense)             (None, 128)               100480    \n",
      "                                                                 \n",
      " dense_9 (Dense)             (None, 110)               14190     \n",
      "                                                                 \n",
      " dense_10 (Dense)            (None, 100)               11100     \n",
      "                                                                 \n",
      " dense_11 (Dense)            (None, 10)                1010      \n",
      "                                                                 \n",
      "=================================================================\n",
      "Total params: 126,780\n",
      "Trainable params: 126,780\n",
      "Non-trainable params: 0\n",
      "_________________________________________________________________\n"
     ]
    }
   ],
   "source": [
    "model.summary()"
   ]
  },
  {
   "cell_type": "markdown",
   "metadata": {
    "id": "D-ZKLY37Ulq7"
   },
   "source": [
    "Можно подсмотреть как наша модель описана после ее создания"
   ]
  },
  {
   "cell_type": "code",
   "execution_count": null,
   "metadata": {
    "colab": {
     "base_uri": "https://localhost:8080/"
    },
    "id": "p8zwmaHKzVUH",
    "outputId": "c2ebf1f3-c0e1-488a-82ab-cda0a245839d"
   },
   "outputs": [
    {
     "data": {
      "text/plain": [
       "{'layers': [{'class_name': 'InputLayer',\n",
       "   'config': {'batch_input_shape': (None, 784),\n",
       "    'dtype': 'float32',\n",
       "    'name': 'dense_8_input',\n",
       "    'ragged': False,\n",
       "    'sparse': False}},\n",
       "  {'class_name': 'Dense',\n",
       "   'config': {'activation': 'tanh',\n",
       "    'activity_regularizer': None,\n",
       "    'batch_input_shape': (None, 784),\n",
       "    'bias_constraint': None,\n",
       "    'bias_initializer': {'class_name': 'Zeros', 'config': {}},\n",
       "    'bias_regularizer': None,\n",
       "    'dtype': 'float32',\n",
       "    'kernel_constraint': None,\n",
       "    'kernel_initializer': {'class_name': 'GlorotUniform',\n",
       "     'config': {'seed': None}},\n",
       "    'kernel_regularizer': None,\n",
       "    'name': 'dense_8',\n",
       "    'trainable': True,\n",
       "    'units': 128,\n",
       "    'use_bias': True}},\n",
       "  {'class_name': 'Dense',\n",
       "   'config': {'activation': 'tanh',\n",
       "    'activity_regularizer': None,\n",
       "    'bias_constraint': None,\n",
       "    'bias_initializer': {'class_name': 'Zeros', 'config': {}},\n",
       "    'bias_regularizer': None,\n",
       "    'dtype': 'float32',\n",
       "    'kernel_constraint': None,\n",
       "    'kernel_initializer': {'class_name': 'GlorotUniform',\n",
       "     'config': {'seed': None}},\n",
       "    'kernel_regularizer': None,\n",
       "    'name': 'dense_9',\n",
       "    'trainable': True,\n",
       "    'units': 110,\n",
       "    'use_bias': True}},\n",
       "  {'class_name': 'Dense',\n",
       "   'config': {'activation': 'tanh',\n",
       "    'activity_regularizer': None,\n",
       "    'bias_constraint': None,\n",
       "    'bias_initializer': {'class_name': 'Zeros', 'config': {}},\n",
       "    'bias_regularizer': None,\n",
       "    'dtype': 'float32',\n",
       "    'kernel_constraint': None,\n",
       "    'kernel_initializer': {'class_name': 'GlorotUniform',\n",
       "     'config': {'seed': None}},\n",
       "    'kernel_regularizer': None,\n",
       "    'name': 'dense_10',\n",
       "    'trainable': True,\n",
       "    'units': 100,\n",
       "    'use_bias': True}},\n",
       "  {'class_name': 'Dense',\n",
       "   'config': {'activation': 'softmax',\n",
       "    'activity_regularizer': None,\n",
       "    'bias_constraint': None,\n",
       "    'bias_initializer': {'class_name': 'Zeros', 'config': {}},\n",
       "    'bias_regularizer': None,\n",
       "    'dtype': 'float32',\n",
       "    'kernel_constraint': None,\n",
       "    'kernel_initializer': {'class_name': 'GlorotUniform',\n",
       "     'config': {'seed': None}},\n",
       "    'kernel_regularizer': None,\n",
       "    'name': 'dense_11',\n",
       "    'trainable': True,\n",
       "    'units': 10,\n",
       "    'use_bias': True}}],\n",
       " 'name': 'sequential'}"
      ]
     },
     "execution_count": 18,
     "metadata": {},
     "output_type": "execute_result"
    }
   ],
   "source": [
    "model.get_config()"
   ]
  },
  {
   "cell_type": "markdown",
   "metadata": {
    "id": "Og3zBOXKUt6Q"
   },
   "source": [
    "Превратим выходы в векторые (OHE в keras - from keras.utils import to_categorical)"
   ]
  },
  {
   "cell_type": "code",
   "execution_count": null,
   "metadata": {
    "colab": {
     "base_uri": "https://localhost:8080/"
    },
    "id": "r4vfB93ZMa7k",
    "outputId": "36cfc87b-7c6b-46c4-83a9-0425cab38a51"
   },
   "outputs": [
    {
     "data": {
      "text/plain": [
       "array([5, 0, 4, 1, 9], dtype=uint8)"
      ]
     },
     "execution_count": 19,
     "metadata": {},
     "output_type": "execute_result"
    }
   ],
   "source": [
    "train_labels[:5]"
   ]
  },
  {
   "cell_type": "code",
   "execution_count": null,
   "metadata": {
    "id": "fXgYOrUwGwzG"
   },
   "outputs": [],
   "source": [
    "y_t = to_categorical( train_labels)\n",
    "y_tt = to_categorical(testn_labels)"
   ]
  },
  {
   "cell_type": "code",
   "execution_count": null,
   "metadata": {
    "colab": {
     "base_uri": "https://localhost:8080/"
    },
    "id": "HWKHT3kpG6yw",
    "outputId": "3d11771a-5173-4376-f050-7cb717a8d4dd"
   },
   "outputs": [
    {
     "data": {
      "text/plain": [
       "array([[0., 0., 0., 0., 0., 1., 0., 0., 0., 0.],\n",
       "       [1., 0., 0., 0., 0., 0., 0., 0., 0., 0.],\n",
       "       [0., 0., 0., 0., 1., 0., 0., 0., 0., 0.]], dtype=float32)"
      ]
     },
     "execution_count": 21,
     "metadata": {},
     "output_type": "execute_result"
    }
   ],
   "source": [
    "y_t[:3,:]"
   ]
  },
  {
   "cell_type": "code",
   "execution_count": null,
   "metadata": {
    "colab": {
     "base_uri": "https://localhost:8080/"
    },
    "id": "13v9kMf5Ouq_",
    "outputId": "f69443ad-e9af-416c-8e2b-88d39f055fa8"
   },
   "outputs": [
    {
     "data": {
      "text/plain": [
       "array([5, 0, 4, 1, 9], dtype=uint8)"
      ]
     },
     "execution_count": 22,
     "metadata": {},
     "output_type": "execute_result"
    }
   ],
   "source": [
    "train_labels[:5]"
   ]
  },
  {
   "cell_type": "markdown",
   "metadata": {
    "id": "Xk1EavOKVBqI"
   },
   "source": [
    "Посмотрим на реакции модели до обучения - уже можно:)"
   ]
  },
  {
   "cell_type": "code",
   "execution_count": null,
   "metadata": {
    "id": "x6q31tJQLuol"
   },
   "outputs": [],
   "source": [
    "y_pred = model.predict(test_images[:5,:])"
   ]
  },
  {
   "cell_type": "code",
   "execution_count": null,
   "metadata": {
    "colab": {
     "base_uri": "https://localhost:8080/"
    },
    "id": "qM07Ce8IMKPh",
    "outputId": "5ed2f830-ec30-4367-f51c-cb8cbe76e3a0"
   },
   "outputs": [
    {
     "data": {
      "text/plain": [
       "array([0.04657903, 0.15059394, 0.07146347, 0.0730085 , 0.17276295,\n",
       "       0.20548351, 0.09005112, 0.06577454, 0.05900445, 0.06527852],\n",
       "      dtype=float32)"
      ]
     },
     "execution_count": 24,
     "metadata": {},
     "output_type": "execute_result"
    }
   ],
   "source": [
    "y_pred[0,:]"
   ]
  },
  {
   "cell_type": "code",
   "execution_count": null,
   "metadata": {
    "colab": {
     "base_uri": "https://localhost:8080/"
    },
    "id": "iFZ8fTdWL-2x",
    "outputId": "39445312-cd45-44a6-c00f-2704a9caa068"
   },
   "outputs": [
    {
     "name": "stdout",
     "output_type": "stream",
     "text": [
      "[5 1 4 4 1]\n"
     ]
    }
   ],
   "source": [
    "y_class = np.argmax(y_pred, axis=1)\n",
    "print(y_class) # [7, 2, 1, 0, 4]"
   ]
  },
  {
   "cell_type": "code",
   "execution_count": null,
   "metadata": {
    "colab": {
     "base_uri": "https://localhost:8080/",
     "height": 281
    },
    "id": "4XpTnd6bO2lt",
    "outputId": "c5e891a2-25f4-4bec-bc8e-4a2c23bdb77b"
   },
   "outputs": [
    {
     "data": {
      "image/png": "[encoded data removed]",
      "text/plain": [
       "<Figure size 432x288 with 1 Axes>"
      ]
     },
     "metadata": {
      "needs_background": "light"
     },
     "output_type": "display_data"
    }
   ],
   "source": [
    "n = 1\n",
    "plt.imshow(test_imagesi[n,:,:])\n",
    "plt.title('цифра - '+str(y_class[n]))\n",
    "plt.show()"
   ]
  },
  {
   "cell_type": "markdown",
   "metadata": {
    "id": "emVGoAdNVSK-"
   },
   "source": [
    "Сделаем цикл тренировки модели"
   ]
  },
  {
   "cell_type": "code",
   "execution_count": null,
   "metadata": {
    "colab": {
     "base_uri": "https://localhost:8080/"
    },
    "id": "9lCF4zXv9U90",
    "outputId": "799a3905-7121-4789-d974-7c5ca5a91347"
   },
   "outputs": [
    {
     "name": "stdout",
     "output_type": "stream",
     "text": [
      "Epoch 1/2\n",
      "1500/1500 [==============================] - 10s 6ms/step - loss: 0.3195 - accuracy: 0.9003 - val_loss: 0.1848 - val_accuracy: 0.9427\n",
      "Epoch 2/2\n",
      "1500/1500 [==============================] - 6s 4ms/step - loss: 0.1652 - accuracy: 0.9482 - val_loss: 0.1419 - val_accuracy: 0.9585\n",
      "313/313 [==============================] - 1s 4ms/step - loss: 0.1441 - accuracy: 0.9534\n",
      "[7 2 1 0 4]\n",
      "[7 2 1 0 4]\n"
     ]
    }
   ],
   "source": [
    "\n",
    "# Train the model.\n",
    "model1.fit(    \n",
    "  train_images[:,:],\n",
    "\n",
    "  y_t[:,:],\n",
    "  epochs=2,\n",
    "  batch_size=32, validation_split=0.2\n",
    ")\n",
    "\n",
    "# Evaluate the model.\n",
    "model1.evaluate( \n",
    "  test_images,\n",
    "  y_tt\n",
    ")\n",
    "\n",
    "# Predict on the first 5 test images.\n",
    "predictions = model1.predict(test_images[:5])\n",
    "\n",
    "# Print our model's predictions.\n",
    "print(np.argmax(predictions, axis=1)) # [7, 2, 1, 0, 4]\n",
    "\n",
    "# Check our predictions against the ground truths.\n",
    "print(testn_labels[:5]) # [7, 2, 1, 0, 4]"
   ]
  },
  {
   "cell_type": "markdown",
   "metadata": {
    "id": "CUndBqeOVY1_"
   },
   "source": [
    "И можем еще один добавить (продолжаем от предществующего состояния)"
   ]
  },
  {
   "cell_type": "code",
   "execution_count": null,
   "metadata": {
    "colab": {
     "base_uri": "https://localhost:8080/"
    },
    "id": "z3Qc2u0mHfBJ",
    "outputId": "bc0140b4-4229-451f-be25-cf405611ea02"
   },
   "outputs": [
    {
     "name": "stdout",
     "output_type": "stream",
     "text": [
      "Epoch 1/15\n",
      "47/47 [==============================] - 0s 9ms/step - loss: 0.0368 - accuracy: 0.9895 - val_loss: 0.0950 - val_accuracy: 0.9726\n",
      "Epoch 2/15\n",
      "47/47 [==============================] - 0s 8ms/step - loss: 0.0301 - accuracy: 0.9922 - val_loss: 0.1021 - val_accuracy: 0.9717\n",
      "Epoch 3/15\n",
      "47/47 [==============================] - 0s 8ms/step - loss: 0.0247 - accuracy: 0.9939 - val_loss: 0.0917 - val_accuracy: 0.9751\n",
      "Epoch 4/15\n",
      "47/47 [==============================] - 0s 8ms/step - loss: 0.0226 - accuracy: 0.9944 - val_loss: 0.1015 - val_accuracy: 0.9707\n",
      "Epoch 5/15\n",
      "47/47 [==============================] - 0s 8ms/step - loss: 0.0250 - accuracy: 0.9932 - val_loss: 0.0956 - val_accuracy: 0.9730\n",
      "Epoch 6/15\n",
      "47/47 [==============================] - 0s 8ms/step - loss: 0.0233 - accuracy: 0.9937 - val_loss: 0.1163 - val_accuracy: 0.9672\n",
      "Epoch 7/15\n",
      "47/47 [==============================] - 0s 8ms/step - loss: 0.0210 - accuracy: 0.9943 - val_loss: 0.0956 - val_accuracy: 0.9738\n",
      "Epoch 8/15\n",
      "47/47 [==============================] - 0s 8ms/step - loss: 0.0203 - accuracy: 0.9946 - val_loss: 0.0969 - val_accuracy: 0.9732\n",
      "Epoch 9/15\n",
      "47/47 [==============================] - 0s 8ms/step - loss: 0.0131 - accuracy: 0.9971 - val_loss: 0.0964 - val_accuracy: 0.9737\n",
      "Epoch 10/15\n",
      "47/47 [==============================] - 0s 8ms/step - loss: 0.0114 - accuracy: 0.9975 - val_loss: 0.1003 - val_accuracy: 0.9732\n",
      "Epoch 11/15\n",
      "47/47 [==============================] - 0s 8ms/step - loss: 0.0104 - accuracy: 0.9979 - val_loss: 0.0982 - val_accuracy: 0.9741\n",
      "Epoch 12/15\n",
      "47/47 [==============================] - 0s 8ms/step - loss: 0.0083 - accuracy: 0.9987 - val_loss: 0.1008 - val_accuracy: 0.9726\n",
      "Epoch 13/15\n",
      "47/47 [==============================] - 0s 8ms/step - loss: 0.0065 - accuracy: 0.9992 - val_loss: 0.0940 - val_accuracy: 0.9746\n",
      "Epoch 14/15\n",
      "47/47 [==============================] - 0s 8ms/step - loss: 0.0057 - accuracy: 0.9994 - val_loss: 0.0981 - val_accuracy: 0.9744\n",
      "Epoch 15/15\n",
      "47/47 [==============================] - 0s 8ms/step - loss: 0.0054 - accuracy: 0.9994 - val_loss: 0.1052 - val_accuracy: 0.9732\n"
     ]
    },
    {
     "data": {
      "text/plain": [
       "<keras.callbacks.History at 0x7f2b396cf650>"
      ]
     },
     "execution_count": 29,
     "metadata": {},
     "output_type": "execute_result"
    }
   ],
   "source": [
    "model.fit(\n",
    "  train_images,\n",
    "  y_t,\n",
    "  epochs=15,\n",
    "  batch_size=1024, validation_split=0.2\n",
    ")"
   ]
  },
  {
   "cell_type": "markdown",
   "metadata": {
    "id": "EpxXh0NiVg8p"
   },
   "source": [
    "Сохраним модель на диск"
   ]
  },
  {
   "cell_type": "code",
   "execution_count": null,
   "metadata": {
    "id": "He1a5EemElpX"
   },
   "outputs": [],
   "source": [
    "# сохранить веса модели.\n",
    "model.save_weights('model.h5')\n",
    "\n",
    "# загрузить веса модели:\n",
    "# model.load_weights('model.h5')\n"
   ]
  },
  {
   "cell_type": "markdown",
   "metadata": {
    "id": "P5MHvkloVkqj"
   },
   "source": [
    "И еще тренируем (вторую модель)"
   ]
  },
  {
   "cell_type": "code",
   "execution_count": null,
   "metadata": {
    "colab": {
     "base_uri": "https://localhost:8080/"
    },
    "id": "1koJ2ivjLOrO",
    "outputId": "722b73b4-95e0-4a2c-d78f-04c6b8d9ba8f"
   },
   "outputs": [
    {
     "name": "stdout",
     "output_type": "stream",
     "text": [
      "Epoch 1/15\n",
      "47/47 [==============================] - 1s 10ms/step - loss: 0.0988 - accuracy: 0.9700 - val_loss: 0.1034 - val_accuracy: 0.9680\n",
      "Epoch 2/15\n",
      "47/47 [==============================] - 0s 8ms/step - loss: 0.0791 - accuracy: 0.9760 - val_loss: 0.0998 - val_accuracy: 0.9694\n",
      "Epoch 3/15\n",
      "47/47 [==============================] - 0s 8ms/step - loss: 0.0740 - accuracy: 0.9775 - val_loss: 0.0968 - val_accuracy: 0.9693\n",
      "Epoch 4/15\n",
      "47/47 [==============================] - 0s 9ms/step - loss: 0.0706 - accuracy: 0.9791 - val_loss: 0.0951 - val_accuracy: 0.9703\n",
      "Epoch 5/15\n",
      "47/47 [==============================] - 0s 8ms/step - loss: 0.0677 - accuracy: 0.9798 - val_loss: 0.0936 - val_accuracy: 0.9708\n",
      "Epoch 6/15\n",
      "47/47 [==============================] - 0s 9ms/step - loss: 0.0653 - accuracy: 0.9806 - val_loss: 0.0941 - val_accuracy: 0.9705\n",
      "Epoch 7/15\n",
      "47/47 [==============================] - 0s 8ms/step - loss: 0.0629 - accuracy: 0.9815 - val_loss: 0.0919 - val_accuracy: 0.9711\n",
      "Epoch 8/15\n",
      "47/47 [==============================] - 0s 9ms/step - loss: 0.0610 - accuracy: 0.9821 - val_loss: 0.0911 - val_accuracy: 0.9722\n",
      "Epoch 9/15\n",
      "47/47 [==============================] - 0s 8ms/step - loss: 0.0590 - accuracy: 0.9827 - val_loss: 0.0903 - val_accuracy: 0.9718\n",
      "Epoch 10/15\n",
      "47/47 [==============================] - 0s 8ms/step - loss: 0.0570 - accuracy: 0.9830 - val_loss: 0.0896 - val_accuracy: 0.9726\n",
      "Epoch 11/15\n",
      "47/47 [==============================] - 0s 8ms/step - loss: 0.0552 - accuracy: 0.9838 - val_loss: 0.0896 - val_accuracy: 0.9720\n",
      "Epoch 12/15\n",
      "47/47 [==============================] - 0s 8ms/step - loss: 0.0539 - accuracy: 0.9843 - val_loss: 0.0896 - val_accuracy: 0.9728\n",
      "Epoch 13/15\n",
      "47/47 [==============================] - 0s 8ms/step - loss: 0.0522 - accuracy: 0.9848 - val_loss: 0.0872 - val_accuracy: 0.9732\n",
      "Epoch 14/15\n",
      "47/47 [==============================] - 0s 8ms/step - loss: 0.0503 - accuracy: 0.9857 - val_loss: 0.0883 - val_accuracy: 0.9728\n",
      "Epoch 15/15\n",
      "47/47 [==============================] - 0s 8ms/step - loss: 0.0489 - accuracy: 0.9860 - val_loss: 0.0873 - val_accuracy: 0.9734\n",
      "313/313 [==============================] - 1s 4ms/step - loss: 0.0852 - accuracy: 0.9731\n",
      "[7 2 1 0 4]\n",
      "[7 2 1 0 4]\n"
     ]
    }
   ],
   "source": [
    "\n",
    "# Train the model. Вернем результаты по потерям и метрикам для всех эпох в hh \n",
    "hh = model1.fit( \n",
    "  train_images,\n",
    "  to_categorical(train_labels),\n",
    "  epochs=15,\n",
    "  batch_size=1024, validation_split=0.2\n",
    ")\n",
    "\n",
    "# Evaluate the model.\n",
    "model1.evaluate(\n",
    "  test_images,\n",
    "  to_categorical(testn_labels)\n",
    ")\n",
    "\n",
    "# Predict on the first 5 test images.\n",
    "predictions = model1.predict(test_images[:5])\n",
    "\n",
    "# Print our model's predictions.\n",
    "print(np.argmax(predictions, axis=1)) # [7, 2, 1, 0, 4]\n",
    "\n",
    "# Check our predictions against the ground truths.\n",
    "print(testn_labels[:5]) # [7, 2, 1, 0, 4]"
   ]
  },
  {
   "cell_type": "markdown",
   "metadata": {
    "id": "Ckh_q63TvAja"
   },
   "source": [
    "Посмотрим на возвращаемый словарь hh.history (там результаты по эпохам для потерь и метрик по обучению и тестам)"
   ]
  },
  {
   "cell_type": "code",
   "execution_count": null,
   "metadata": {
    "colab": {
     "base_uri": "https://localhost:8080/"
    },
    "id": "myewLXE4KTZ6",
    "outputId": "cf8b7ab3-5ecd-4bd5-d69d-55803c3d24b3"
   },
   "outputs": [
    {
     "data": {
      "text/plain": [
       "{'accuracy': [0.968625009059906,\n",
       "  0.9765625,\n",
       "  0.9781875014305115,\n",
       "  0.9795416593551636,\n",
       "  0.9800208210945129,\n",
       "  0.9808541536331177,\n",
       "  0.9817708134651184,\n",
       "  0.9822708368301392,\n",
       "  0.9831458330154419,\n",
       "  0.9837499856948853,\n",
       "  0.984000027179718,\n",
       "  0.9846041798591614,\n",
       "  0.9852708578109741,\n",
       "  0.9857083559036255,\n",
       "  0.9859374761581421],\n",
       " 'loss': [0.10207946598529816,\n",
       "  0.07955165952444077,\n",
       "  0.07449278980493546,\n",
       "  0.0711272805929184,\n",
       "  0.0687124952673912,\n",
       "  0.06634020805358887,\n",
       "  0.06387120485305786,\n",
       "  0.061848174780607224,\n",
       "  0.05986172333359718,\n",
       "  0.05801014229655266,\n",
       "  0.056437473744153976,\n",
       "  0.054641250520944595,\n",
       "  0.05276856943964958,\n",
       "  0.051021844148635864,\n",
       "  0.049695491790771484],\n",
       " 'val_accuracy': [0.9677500128746033,\n",
       "  0.9693333506584167,\n",
       "  0.9701666831970215,\n",
       "  0.9696666598320007,\n",
       "  0.9710833430290222,\n",
       "  0.9710833430290222,\n",
       "  0.971916675567627,\n",
       "  0.9715833067893982,\n",
       "  0.9714999794960022,\n",
       "  0.9712499976158142,\n",
       "  0.9715833067893982,\n",
       "  0.9728333353996277,\n",
       "  0.972083330154419,\n",
       "  0.9722499847412109,\n",
       "  0.9730833172798157],\n",
       " 'val_loss': [0.10672079771757126,\n",
       "  0.10225572437047958,\n",
       "  0.09967995434999466,\n",
       "  0.09946764260530472,\n",
       "  0.09759783744812012,\n",
       "  0.09674141556024551,\n",
       "  0.0952751487493515,\n",
       "  0.09528692811727524,\n",
       "  0.09442503750324249,\n",
       "  0.09486090391874313,\n",
       "  0.09353529661893845,\n",
       "  0.09202545136213303,\n",
       "  0.0911681279540062,\n",
       "  0.09062565863132477,\n",
       "  0.09015496075153351]}"
      ]
     },
     "execution_count": 29,
     "metadata": {},
     "output_type": "execute_result"
    }
   ],
   "source": [
    "hh.history"
   ]
  },
  {
   "cell_type": "markdown",
   "metadata": {
    "id": "lJpjFH7hVw8Q"
   },
   "source": [
    "Покажем как выглядит кривая обучения"
   ]
  },
  {
   "cell_type": "code",
   "execution_count": null,
   "metadata": {
    "colab": {
     "base_uri": "https://localhost:8080/",
     "height": 458
    },
    "id": "5fBO1Yh2PyIK",
    "outputId": "f893c012-6d5c-453b-a214-dd10b489a2ab"
   },
   "outputs": [
    {
     "data": {
      "image/png": "[encoded data removed]",
      "text/plain": [
       "<Figure size 1080x504 with 1 Axes>"
      ]
     },
     "metadata": {
      "needs_background": "light"
     },
     "output_type": "display_data"
    }
   ],
   "source": [
    "plt.figure(figsize=(15,7))\n",
    "plt.plot(hh.history['loss'], label = 'потери для тренировки')\n",
    "plt.plot(hh.history['val_loss'], label = 'потери для валидации')\n",
    "plt.xlabel('эпох')\n",
    "plt.ylabel('loss')\n",
    "plt.legend()\n",
    "plt.grid('On')\n",
    "plt.title('потери от эпох')\n",
    "plt.show()\n"
   ]
  },
  {
   "cell_type": "code",
   "execution_count": null,
   "metadata": {
    "colab": {
     "base_uri": "https://localhost:8080/"
    },
    "id": "6qh30hSNwohn",
    "outputId": "65824758-9e1c-4b25-f453-5ac3deecc964"
   },
   "outputs": [
    {
     "data": {
      "text/plain": [
       "{'accuracy': [0.968625009059906,\n",
       "  0.9765625,\n",
       "  0.9781875014305115,\n",
       "  0.9795416593551636,\n",
       "  0.9800208210945129,\n",
       "  0.9808541536331177,\n",
       "  0.9817708134651184,\n",
       "  0.9822708368301392,\n",
       "  0.9831458330154419,\n",
       "  0.9837499856948853,\n",
       "  0.984000027179718,\n",
       "  0.9846041798591614,\n",
       "  0.9852708578109741,\n",
       "  0.9857083559036255,\n",
       "  0.9859374761581421],\n",
       " 'loss': [0.10207946598529816,\n",
       "  0.07955165952444077,\n",
       "  0.07449278980493546,\n",
       "  0.0711272805929184,\n",
       "  0.0687124952673912,\n",
       "  0.06634020805358887,\n",
       "  0.06387120485305786,\n",
       "  0.061848174780607224,\n",
       "  0.05986172333359718,\n",
       "  0.05801014229655266,\n",
       "  0.056437473744153976,\n",
       "  0.054641250520944595,\n",
       "  0.05276856943964958,\n",
       "  0.051021844148635864,\n",
       "  0.049695491790771484],\n",
       " 'val_accuracy': [0.9677500128746033,\n",
       "  0.9693333506584167,\n",
       "  0.9701666831970215,\n",
       "  0.9696666598320007,\n",
       "  0.9710833430290222,\n",
       "  0.9710833430290222,\n",
       "  0.971916675567627,\n",
       "  0.9715833067893982,\n",
       "  0.9714999794960022,\n",
       "  0.9712499976158142,\n",
       "  0.9715833067893982,\n",
       "  0.9728333353996277,\n",
       "  0.972083330154419,\n",
       "  0.9722499847412109,\n",
       "  0.9730833172798157],\n",
       " 'val_loss': [0.10672079771757126,\n",
       "  0.10225572437047958,\n",
       "  0.09967995434999466,\n",
       "  0.09946764260530472,\n",
       "  0.09759783744812012,\n",
       "  0.09674141556024551,\n",
       "  0.0952751487493515,\n",
       "  0.09528692811727524,\n",
       "  0.09442503750324249,\n",
       "  0.09486090391874313,\n",
       "  0.09353529661893845,\n",
       "  0.09202545136213303,\n",
       "  0.0911681279540062,\n",
       "  0.09062565863132477,\n",
       "  0.09015496075153351]}"
      ]
     },
     "execution_count": 31,
     "metadata": {},
     "output_type": "execute_result"
    }
   ],
   "source": [
    "hh.history"
   ]
  },
  {
   "cell_type": "markdown",
   "metadata": {
    "id": "a8zh5g-GBQIp"
   },
   "source": [
    "Эксперимент с разными оптимизаторами для одной начальной модели:\n",
    "\n",
    "  - создаем модель model\n",
    "  - сохраняем ее веса (это начальная точка) model.save_weights('model.h5')\n",
    "  - создаем рабочую модель modeli куда будем загружать эти вес (она должна быть идентичной структуры) \n",
    "  - загружаем веса modeli.load_weights('model.h5')\n",
    "  - компилируем modeli с одним из оптимизаторов\n",
    "  - вычисляем ошибку для modeli без обучения (т.к. все модели начинают с одной точки, то все ошибки должны быть одинаковые, но будем контролировать это и считаем каждый раз заново)\n",
    "  - проводим обучение модели и пишем ошибки в истории hh\n",
    "  - выводим ошибки для 0-го момента и каждой эпохи обучения по тестовой и валидационной частям данных\n",
    "\n",
    "\n",
    "\n",
    "Оптимизаторы:\n",
    "* SGD() (с или без моментум)\n",
    "* RMSprop()\n",
    "* Adam()\n",
    "* Adagrad()\n",
    "…\n"
   ]
  },
  {
   "cell_type": "code",
   "execution_count": null,
   "metadata": {
    "colab": {
     "base_uri": "https://localhost:8080/",
     "height": 458
    },
    "id": "jaqCLGg3w_Nl",
    "outputId": "e792535b-3aa7-4540-d61e-0b52371e6e1b"
   },
   "outputs": [
    {
     "data": {
      "image/png": "[encoded data removed]",
      "text/plain": [
       "<Figure size 1152x504 with 1 Axes>"
      ]
     },
     "metadata": {
      "needs_background": "light"
     },
     "output_type": "display_data"
    }
   ],
   "source": [
    "# создаем модель model\n",
    "model = Sequential([\n",
    "                      Dense( 64, activation='relu', input_shape=(784,)),\n",
    "                      Dense(64, activation='tanh'),\n",
    "                      Dense(10, activation='softmax'),\n",
    "                      ])\n",
    "# сохраняем ее веса (это начальная точка) model.save_weights('model.h5')\n",
    "model.save_weights('model.h5')\n",
    "\n",
    "plt.figure(figsize=(16,7))\n",
    "\n",
    "# число рабочих эпох\n",
    "epochs = 15\n",
    "# вектор для выводв результатов\n",
    "epoch = np.arange(epochs+1)\n",
    "\n",
    "# будем изменять оптимизаторы\n",
    "\n",
    "#opt_list = [keras.optimizers.SGD( ),keras.optimizers.Adam( ),keras.optimizers.Nadam( )]\n",
    "for i_optim in ['SGD','RMSProp','adam','NAdam']:\n",
    "  # создаем рабочую модель modeli куда будем загружать эти вес (она должна быть идентичной структуры)\n",
    "  modeli = Sequential([\n",
    "                      Dense(64, activation='relu', input_shape=(784,)),\n",
    "                      Dense(64, activation='tanh'),\n",
    "                      Dense(10, activation='softmax'),\n",
    "                      ])\n",
    "  # загружаем веса modeli.load_weights('model.h5')\n",
    "  modeli.load_weights('model.h5')\n",
    "  # компилируем modeli с одним из оптимизаторов\n",
    "  modeli.compile(\n",
    "      optimizer=i_optim,\n",
    "      loss='categorical_crossentropy',\n",
    "      metrics=['accuracy'],\n",
    "      )\n",
    "  # вычисляем ошибку для modeli без обучения\n",
    "  hh0_tr = modeli.evaluate(  train_images[:48000,:], to_categorical(train_labels[:48000]),verbose = 0)\n",
    "  hh0_val = modeli.evaluate(  train_images[48000:,:], to_categorical(train_labels[48000:]),verbose = 0)\n",
    "  # проводим обучение модели \n",
    "  hh = modeli.fit(\n",
    "                  train_images,\n",
    "                  to_categorical(train_labels),\n",
    "                  epochs=epochs,\n",
    "                  batch_size=1024, validation_split=0.2, verbose = 0\n",
    "                  )\n",
    "  # картинки\n",
    "  plt.plot(epoch,np.log([hh0_tr[0]]+hh.history['loss']),'-',label = modeli.optimizer.get_config()['name']+' train')\n",
    "  plt.plot(epoch,np.log([hh0_val[0]]+hh.history['val_loss']),'--',label = modeli.optimizer.get_config()['name']+' val')\n",
    "plt.legend()\n",
    "plt.grid('On')\n",
    "\n",
    "plt.title('нейросети от оптимизатора log(loss)')\n",
    "plt.xlabel('epoch')\n",
    "plt.ylabel('log(loss)')\n",
    "plt.show()\n"
   ]
  },
  {
   "cell_type": "code",
   "execution_count": null,
   "metadata": {
    "colab": {
     "base_uri": "https://localhost:8080/"
    },
    "id": "viS_E5s6z2UU",
    "outputId": "54a882f1-f8e4-474e-e3dd-35081b24e263"
   },
   "outputs": [
    {
     "data": {
      "text/plain": [
       "{'beta_1': 0.9,\n",
       " 'beta_2': 0.999,\n",
       " 'decay': 0.004,\n",
       " 'epsilon': 1e-07,\n",
       " 'learning_rate': 0.001,\n",
       " 'name': 'Nadam'}"
      ]
     },
     "execution_count": 34,
     "metadata": {},
     "output_type": "execute_result"
    }
   ],
   "source": [
    " modeli.optimizer.get_config()"
   ]
  },
  {
   "cell_type": "markdown",
   "metadata": {
    "id": "eUVhmimFvp-k"
   },
   "source": [
    "Посмотрим на результат предсказаний  (inference) для обученной модели (последняя в цикле)"
   ]
  },
  {
   "cell_type": "code",
   "execution_count": null,
   "metadata": {
    "colab": {
     "base_uri": "https://localhost:8080/",
     "height": 205
    },
    "id": "wj7fhqd3FKFe",
    "outputId": "a58d2c77-f62c-425a-85f2-f115283ad504"
   },
   "outputs": [
    {
     "data": {
      "image/png": "[encoded data removed]",
      "text/plain": [
       "<Figure size 1944x360 with 9 Axes>"
      ]
     },
     "metadata": {
      "needs_background": "light"
     },
     "output_type": "display_data"
    }
   ],
   "source": [
    "N = 9\n",
    "y_pred = model1.predict(test_images[:N,:])\n",
    "y_pred_class = np.argmax(y_pred,axis=1)\n",
    "plt.figure(figsize =(3*N,5))\n",
    "for i in range(N):\n",
    "  plt.subplot(1,N,i+1)\n",
    "  plt.imshow(test_images[i,:].reshape(28,28))\n",
    "  plt.xlabel(str(y_pred_class[i]))\n",
    "plt.show()  "
   ]
  },
  {
   "cell_type": "code",
   "execution_count": null,
   "metadata": {
    "colab": {
     "base_uri": "https://localhost:8080/"
    },
    "id": "UjxNbL26F-tv",
    "outputId": "71284d97-c4c3-4607-f7f4-470ceccb5e7d"
   },
   "outputs": [
    {
     "data": {
      "text/plain": [
       "array([2.3397793e-06, 1.8666136e-05, 1.3598235e-04, 1.2252314e-04,\n",
       "       3.2309283e-06, 1.8813066e-06, 9.1485344e-09, 9.9964345e-01,\n",
       "       4.0543277e-06, 6.7776338e-05], dtype=float32)"
      ]
     },
     "execution_count": 36,
     "metadata": {},
     "output_type": "execute_result"
    }
   ],
   "source": [
    "y_pred[0,:]"
   ]
  },
  {
   "cell_type": "code",
   "execution_count": null,
   "metadata": {
    "colab": {
     "base_uri": "https://localhost:8080/"
    },
    "id": "Q561c6eaGxcB",
    "outputId": "6bbaf5be-8e93-465b-ff44-8b058a7135b1"
   },
   "outputs": [
    {
     "data": {
      "text/plain": [
       "array([7, 2, 1, 0, 4, 1, 4, 9, 6])"
      ]
     },
     "execution_count": 37,
     "metadata": {},
     "output_type": "execute_result"
    }
   ],
   "source": [
    "y_pred_class"
   ]
  },
  {
   "cell_type": "markdown",
   "metadata": {
    "id": "ws3OtgYMfpXI"
   },
   "source": [
    "Вариант синтаксиса:"
   ]
  },
  {
   "cell_type": "code",
   "execution_count": null,
   "metadata": {
    "colab": {
     "base_uri": "https://localhost:8080/"
    },
    "id": "IvO2kuDRerfX",
    "outputId": "1c9e4af3-2f38-4c25-f620-96e0b7828d18"
   },
   "outputs": [
    {
     "data": {
      "text/plain": [
       "array([7, 2, 1, ..., 4, 5, 6])"
      ]
     },
     "execution_count": 38,
     "metadata": {},
     "output_type": "execute_result"
    }
   ],
   "source": [
    "y_predi = model1(test_images[:,:])\n",
    "np.argmax(y_predi,axis=1)"
   ]
  },
  {
   "cell_type": "markdown",
   "metadata": {
    "id": "5yqdlhIxo3UB"
   },
   "source": [
    "Где ошиблись?"
   ]
  },
  {
   "cell_type": "code",
   "execution_count": null,
   "metadata": {
    "colab": {
     "base_uri": "https://localhost:8080/"
    },
    "id": "EREg7l6YUK7P",
    "outputId": "fc9417f0-14ab-4e65-ab5f-a53692bcb69b"
   },
   "outputs": [
    {
     "data": {
      "text/plain": [
       "array([   8,  151,  233,  241,  247,  259,  321,  340,  381,  445,  495,\n",
       "        497,  583,  659,  667,  684,  691,  707,  720,  740,  900,  924,\n",
       "        951,  956,  965, 1003, 1014, 1032, 1039, 1107, 1112, 1147, 1156,\n",
       "       1182, 1226, 1228, 1232, 1242, 1247, 1260, 1283, 1289, 1299, 1319,\n",
       "       1328, 1378, 1393, 1414, 1522, 1527, 1530, 1549, 1553, 1609, 1621,\n",
       "       1671, 1678, 1681, 1709, 1754, 1790, 1850, 1878, 1901, 1941, 1952,\n",
       "       1973, 1984, 1987, 2004, 2016, 2018, 2024, 2035, 2044, 2053, 2070,\n",
       "       2098, 2109, 2118, 2129, 2130, 2135, 2179, 2182, 2224, 2266, 2293,\n",
       "       2298, 2325, 2369, 2371, 2386, 2387, 2405, 2406, 2433, 2454, 2462,\n",
       "       2488, 2598, 2607, 2648, 2654, 2720, 2771, 2877, 2927, 2939, 2953,\n",
       "       2995, 3005, 3030, 3060, 3110, 3117, 3130, 3289, 3422, 3451, 3457,\n",
       "       3475, 3503, 3520, 3549, 3558, 3559, 3567, 3597, 3618, 3662, 3674,\n",
       "       3718, 3749, 3751, 3757, 3767, 3776, 3780, 3806, 3808, 3811, 3838,\n",
       "       3853, 3855, 3869, 3906, 3926, 3941, 3968, 3976, 3985, 3995, 4065,\n",
       "       4075, 4078, 4163, 4176, 4199, 4205, 4212, 4224, 4248, 4265, 4289,\n",
       "       4306, 4355, 4374, 4425, 4435, 4497, 4500, 4508, 4521, 4534, 4536,\n",
       "       4547, 4567, 4571, 4601, 4639, 4690, 4731, 4735, 4807, 4814, 4823,\n",
       "       4880, 4890, 4956, 4966, 4978, 4990, 5457, 5495, 5634, 5642, 5734,\n",
       "       5749, 5835, 5842, 5887, 5936, 5937, 5955, 5972, 5973, 6035, 6059,\n",
       "       6071, 6166, 6392, 6505, 6555, 6558, 6560, 6571, 6597, 6598, 6608,\n",
       "       6651, 6783, 6847, 7216, 7797, 7921, 8020, 8094, 8277, 8311, 8325,\n",
       "       8408, 8456, 8519, 8520, 8522, 9009, 9015, 9019, 9022, 9024, 9036,\n",
       "       9046, 9280, 9513, 9587, 9634, 9642, 9664, 9669, 9679, 9692, 9698,\n",
       "       9729, 9745, 9749, 9755, 9768, 9770, 9777, 9779, 9808, 9839, 9858,\n",
       "       9888, 9904, 9944, 9975, 9982])"
      ]
     },
     "execution_count": 39,
     "metadata": {},
     "output_type": "execute_result"
    }
   ],
   "source": [
    "yy = np.argmax(y_predi,axis=1)\n",
    "np.where(testn_labels != yy)[0]"
   ]
  },
  {
   "cell_type": "markdown",
   "metadata": {
    "id": "NRSQbmXD9U98"
   },
   "source": [
    "## Практическое задание\n",
    "\n",
    "Используем набор примеров fashion-MNIST\n",
    "\n",
    "1.  Опишите - какой результата получен в нейросети в зависимости от:\n",
    "  -  числа нейронов в слое(для 2-хслойной сети), \n",
    "  - числа слоев (2, 3, 5, 10) при близких размерах сети (близкое число тренируемых парметров).\n",
    "  - фиксируйте для тренировочного и тестового набора метрики accuracy.\n",
    "2.  Проверьте работу разных оптимизаторов (SGD, Adam, RMSProp) для одной из моделей п.1.Фиксируйте для тренировочного и тестового набора метрики accuracy.\n",
    "\n",
    "3. Сделайте вывод - что помогло вам улучшить качество классификации в нейросети на тестовом наборе? \n",
    "\n",
    "4. Для одного варианта сетей сформируйте матрицу ошибок по классам. Оцените качество модели по каждому классу отдельно (полнота , точность). Сделайте вывод."
   ]
  },
  {
   "cell_type": "markdown",
   "metadata": {
    "id": "HN8DNX38v4JC"
   },
   "source": [
    "Загрузка Fashion_MNIST"
   ]
  },
  {
   "cell_type": "code",
   "execution_count": null,
   "metadata": {
    "id": "lzui-f-AMxXM"
   },
   "outputs": [],
   "source": [
    "from keras.datasets import fashion_mnist\n"
   ]
  },
  {
   "cell_type": "code",
   "execution_count": null,
   "metadata": {
    "colab": {
     "base_uri": "https://localhost:8080/"
    },
    "id": "cnrrzpi6NBLV",
    "outputId": "4b52287d-9680-4a47-f20f-f1b3bf9e8502"
   },
   "outputs": [
    {
     "name": "stdout",
     "output_type": "stream",
     "text": [
      "Downloading data from https://storage.googleapis.com/tensorflow/tf-keras-datasets/train-labels-idx1-ubyte.gz\n",
      "32768/29515 [=================================] - 0s 0us/step\n",
      "40960/29515 [=========================================] - 0s 0us/step\n",
      "Downloading data from https://storage.googleapis.com/tensorflow/tf-keras-datasets/train-images-idx3-ubyte.gz\n",
      "26427392/26421880 [==============================] - 0s 0us/step\n",
      "26435584/26421880 [==============================] - 0s 0us/step\n",
      "Downloading data from https://storage.googleapis.com/tensorflow/tf-keras-datasets/t10k-labels-idx1-ubyte.gz\n",
      "16384/5148 [===============================================================================================] - 0s 0us/step\n",
      "Downloading data from https://storage.googleapis.com/tensorflow/tf-keras-datasets/t10k-images-idx3-ubyte.gz\n",
      "4423680/4422102 [==============================] - 0s 0us/step\n",
      "4431872/4422102 [==============================] - 0s 0us/step\n"
     ]
    }
   ],
   "source": [
    "(train_imagef,train_labelf),(test_imagef,test_labelf)=fashion_mnist.load_data()"
   ]
  },
  {
   "cell_type": "code",
   "execution_count": null,
   "metadata": {
    "colab": {
     "base_uri": "https://localhost:8080/"
    },
    "id": "8x1GhqsXpixY",
    "outputId": "2e5ea66c-35e9-47ff-9e1d-5055ee105ced"
   },
   "outputs": [
    {
     "data": {
      "text/plain": [
       "array([    5,     7,    27, ..., 59977, 59981, 59993])"
      ]
     },
     "execution_count": 41,
     "metadata": {},
     "output_type": "execute_result"
    }
   ],
   "source": [
    "ind=np.where(train_labelf==2)[0]\n",
    "ind"
   ]
  },
  {
   "cell_type": "code",
   "execution_count": null,
   "metadata": {
    "colab": {
     "base_uri": "https://localhost:8080/",
     "height": 265
    },
    "id": "HgkWr0rjE47r",
    "outputId": "26f442e5-a1fe-4811-f014-23ba2ec52475"
   },
   "outputs": [
    {
     "data": {
      "image/png": "[encoded data removed]",
      "text/plain": [
       "<Figure size 432x288 with 1 Axes>"
      ]
     },
     "metadata": {
      "needs_background": "light"
     },
     "output_type": "display_data"
    }
   ],
   "source": [
    "#plt.gray()\n",
    "plt.imshow(train_imagef[5002,:,:])\n",
    "plt.show()"
   ]
  },
  {
   "cell_type": "markdown",
   "metadata": {
    "id": "m2wW13WB9U99"
   },
   "source": [
    "## Дополнительные материалы\n",
    "\n",
    "<ol>\n",
    "    <li> https://keras.io/</li>\n",
    "    <li> https://playground.tensorflow.org/ - визуализация сетей \n",
    "</ol>"
   ]
  },
  {
   "cell_type": "markdown",
   "metadata": {
    "id": "v6h1K5ET9U9_"
   },
   "source": [
    "## Используемая литература \n",
    "\n",
    "Для подготовки данного методического пособия были использованы следующие ресурсы:\n",
    "<ol>\n",
    "    <li>https://keras.io/</li>\n",
    "    <li>Шакла Н. — Машинное обучение и TensorFlow 2019</li>\n",
    "    <li>Саймон Хайкин — Нейронные сети: полный курс</li>\n",
    "    <li>Википедия</li>\n",
    "    \n",
    "</ol>"
   ]
  }
 ],
 "metadata": {
  "accelerator": "GPU",
  "colab": {
   "collapsed_sections": [
    "NRSQbmXD9U98",
    "m2wW13WB9U99",
    "v6h1K5ET9U9_"
   ],
   "name": "metodich2_collab.ipynb",
   "provenance": []
  },
  "kernelspec": {
   "display_name": "Python 3 (ipykernel)",
   "language": "python",
   "name": "python3"
  },
  "language_info": {
   "codemirror_mode": {
    "name": "ipython",
    "version": 3
   },
   "file_extension": ".py",
   "mimetype": "text/x-python",
   "name": "python",
   "nbconvert_exporter": "python",
   "pygments_lexer": "ipython3",
   "version": "3.9.5"
  }
 },
 "nbformat": 4,
 "nbformat_minor": 1
}