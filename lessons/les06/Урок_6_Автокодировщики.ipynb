{
  "nbformat": 4,
  "nbformat_minor": 0,
  "metadata": {
    "colab": {
      "name": "Урок_6_Автокодировщики.ipynb",
      "provenance": [],
      "collapsed_sections": []
    },
    "kernelspec": {
      "name": "python3",
      "display_name": "Python 3"
    },
    "accelerator": "GPU"
  },
  "cells": [
    {
      "cell_type": "code",
      "metadata": {
        "id": "0hyWYiPqLdez"
      },
      "source": [
        "from tensorflow.keras.models import Model\n",
        "from tensorflow.keras.datasets import mnist, fashion_mnist, cifar10\n",
        "from tensorflow.keras.layers import Dense, Flatten, Reshape, Input, AveragePooling2D, Conv2DTranspose, concatenate, Activation, MaxPooling2D, Conv2D, BatchNormalization,RepeatVector, LSTM\n",
        "from tensorflow.keras import backend as K\n",
        "from tensorflow.keras.optimizers import Adam\n",
        "from tensorflow.keras import utils\n",
        "from google.colab import files\n",
        "import matplotlib.pyplot as plt\n",
        "from tensorflow.keras.preprocessing import image\n",
        "import numpy as np\n",
        "import pandas as pd\n",
        "from PIL import Image\n",
        "from sklearn.model_selection import train_test_split\n",
        "from sklearn.preprocessing import StandardScaler"
      ],
      "execution_count": 2,
      "outputs": []
    },
    {
      "cell_type": "markdown",
      "metadata": {
        "id": "qc7BJnQF8zam"
      },
      "source": [
        "#Автокодировщик"
      ]
    },
    {
      "cell_type": "markdown",
      "metadata": {
        "id": "_3kaX9TDuGaD"
      },
      "source": [
        "основная модель MNIST-MNIST"
      ]
    },
    {
      "cell_type": "code",
      "metadata": {
        "id": "NZAiEuYx899D"
      },
      "source": [
        "def base_model_Autoencoder(level = 2, input_size=(28,28,1), kernel_list=[32, 64, 128, 256, 512]):\n",
        "  #level = 2, число уровней сети (вообще должно соответствовать длине kernel_list или быть меньше)\n",
        "  #input_size=(28, 28,1), - размер входной картинки\n",
        "  #kernel_list=[32, 64, 128, 256, 512] - число ядер по слоям\n",
        "\n",
        "  img_input = Input(input_size)\n",
        "\n",
        "  x = Conv2D(kernel_list[0], (3, 3), padding = 'same', activation = 'relu')(img_input)\n",
        "  x = BatchNormalization()(x)\n",
        "  x = Conv2D(kernel_list[0], (3, 3), padding = 'same', activation = 'relu')(x)\n",
        "  x = BatchNormalization()(x)\n",
        "  x = MaxPooling2D()(x)\n",
        "  #14x14\n",
        "  for i in range(level-1):\n",
        "    x = Conv2D(kernel_list[1+i], (3, 3), padding = 'same', activation = 'relu')(x)\n",
        "    x = BatchNormalization()(x)\n",
        "    x = Conv2D(kernel_list[1+i], (3, 3), padding = 'same', activation = 'relu')(x)\n",
        "    x = BatchNormalization()(x)\n",
        "    x = MaxPooling2D()(x)\n",
        "\n",
        "  x = Conv2D(kernel_list[level], (3, 3), padding = 'same', activation = 'relu')(x)  \n",
        "  x1 = x\n",
        "  print(x1.shape)\n",
        "  # 7x7\n",
        "  for i in range(level-1) :\n",
        "    k = (level-1)-i  \n",
        "\n",
        "    x = Conv2DTranspose( kernel_list[k], (2, 2), strides = (2, 2), padding = 'same', activation = 'relu')(x)\n",
        "    x = BatchNormalization()(x)\n",
        "     \n",
        "    x = Conv2D(kernel_list[k], (3, 3), padding = 'same', activation = 'relu')(x)\n",
        "    x = BatchNormalization()(x)\n",
        "    x = Conv2D(kernel_list[k], (3, 3), padding = 'same', activation = 'relu')(x)\n",
        "    x = BatchNormalization()(x)\n",
        "  # 14x14\n",
        "  x = Conv2DTranspose(kernel_list[0], (2, 2), strides = (2, 2), padding = 'same', activation = 'relu')(x)\n",
        "  x = BatchNormalization()(x)\n",
        "  x = Conv2D(kernel_list[0], (3, 3), padding = 'same', activation = 'relu')(x)\n",
        "  x = BatchNormalization()(x)\n",
        "  x = Conv2D(kernel_list[0], (3, 3), padding = 'same', activation = 'relu')(x)\n",
        "  x = BatchNormalization()(x)\n",
        "  # 28x28\n",
        "  x = Conv2D(1, (3, 3), activation = 'sigmoid', padding = 'same')(x)\n",
        "\n",
        "  model = Model(img_input, x)\n",
        "   \n",
        "  modelviz0 = Model(img_input, x1)\n",
        "  model.compile(optimizer = Adam(),\n",
        "                  loss = 'mean_squared_error',\n",
        "                  metrics = ['mse'])\n",
        "\n",
        "  return model, modelviz0"
      ],
      "execution_count": 14,
      "outputs": []
    },
    {
      "cell_type": "markdown",
      "metadata": {
        "id": "qz2RhdL6ufkj"
      },
      "source": [
        "Читаем MNIST"
      ]
    },
    {
      "cell_type": "code",
      "metadata": {
        "id": "2yK3P1eaCg4o",
        "colab": {
          "base_uri": "https://localhost:8080/"
        },
        "outputId": "d24123cb-b0be-4397-94d9-afc631f8af75"
      },
      "source": [
        "(xTrainMnist, yTrainMnist), (xTestMnist, yTestMnist) = mnist.load_data()\n",
        "\n",
        "noice =0.5\n",
        "\n",
        "xTrainMnist = xTrainMnist.astype('float32')/255\n",
        "\n",
        "xTrainMnist = xTrainMnist.reshape(xTrainMnist.shape[0], 28, 28, 1)\n",
        "\n",
        "yTrainMnist_pix = xTrainMnist.copy()\n",
        "xTrainMnist += np.random.randn(xTrainMnist.shape[0],xTrainMnist.shape[1],xTrainMnist.shape[2],xTrainMnist.shape[3]) * noice"
      ],
      "execution_count": 3,
      "outputs": [
        {
          "output_type": "stream",
          "name": "stdout",
          "text": [
            "Downloading data from https://storage.googleapis.com/tensorflow/tf-keras-datasets/mnist.npz\n",
            "11493376/11490434 [==============================] - 0s 0us/step\n",
            "11501568/11490434 [==============================] - 0s 0us/step\n"
          ]
        }
      ]
    },
    {
      "cell_type": "code",
      "metadata": {
        "id": "8F7capzy31GM",
        "colab": {
          "base_uri": "https://localhost:8080/",
          "height": 513
        },
        "outputId": "b4971272-d04d-49b5-af31-351e4035afe6"
      },
      "source": [
        "n_im = 11\n",
        "plt.imshow(xTrainMnist[n_im,:,:,0])\n",
        "plt.show()\n",
        "plt.imshow(yTrainMnist_pix[n_im,:,:,0])\n",
        "plt.show()"
      ],
      "execution_count": 4,
      "outputs": [
        {
          "output_type": "display_data",
          "data": {
            "text/plain": [
              "<Figure size 432x288 with 1 Axes>"
            ],
            "image/png": "[encoded data removed]"
          },
          "metadata": {
            "needs_background": "light"
          }
        },
        {
          "output_type": "display_data",
          "data": {
            "text/plain": [
              "<Figure size 432x288 with 1 Axes>"
            ],
            "image/png": "[encoded data removed]"
          },
          "metadata": {
            "needs_background": "light"
          }
        }
      ]
    },
    {
      "cell_type": "markdown",
      "metadata": {
        "id": "t5Kg01gGuWBb"
      },
      "source": [
        "Собираем модель\n"
      ]
    },
    {
      "cell_type": "code",
      "metadata": {
        "id": "Rb-XGLpo1XJt",
        "colab": {
          "base_uri": "https://localhost:8080/"
        },
        "outputId": "b0dc12ac-0de6-4ab1-aa40-81535fdb29a6"
      },
      "source": [
        "modelAutoMnist, m0 = base_model_Autoencoder(level = 2, input_size = (28,28,1), kernel_list = [32,64,128,256])"
      ],
      "execution_count": 15,
      "outputs": [
        {
          "output_type": "stream",
          "name": "stdout",
          "text": [
            "(None, 7, 7, 128)\n"
          ]
        }
      ]
    },
    {
      "cell_type": "code",
      "metadata": {
        "colab": {
          "base_uri": "https://localhost:8080/"
        },
        "id": "12IeX72YLGGw",
        "outputId": "66f7e17b-01d6-40c7-8558-0573fe551597"
      },
      "source": [
        "modelAutoMnist.summary()"
      ],
      "execution_count": 16,
      "outputs": [
        {
          "output_type": "stream",
          "name": "stdout",
          "text": [
            "Model: \"model_4\"\n",
            "_________________________________________________________________\n",
            " Layer (type)                Output Shape              Param #   \n",
            "=================================================================\n",
            " input_5 (InputLayer)        [(None, 28, 28, 1)]       0         \n",
            "                                                                 \n",
            " conv2d_26 (Conv2D)          (None, 28, 28, 32)        320       \n",
            "                                                                 \n",
            " batch_normalization_27 (Bat  (None, 28, 28, 32)       128       \n",
            " chNormalization)                                                \n",
            "                                                                 \n",
            " conv2d_27 (Conv2D)          (None, 28, 28, 32)        9248      \n",
            "                                                                 \n",
            " batch_normalization_28 (Bat  (None, 28, 28, 32)       128       \n",
            " chNormalization)                                                \n",
            "                                                                 \n",
            " max_pooling2d_7 (MaxPooling  (None, 14, 14, 32)       0         \n",
            " 2D)                                                             \n",
            "                                                                 \n",
            " conv2d_28 (Conv2D)          (None, 14, 14, 64)        18496     \n",
            "                                                                 \n",
            " batch_normalization_29 (Bat  (None, 14, 14, 64)       256       \n",
            " chNormalization)                                                \n",
            "                                                                 \n",
            " conv2d_29 (Conv2D)          (None, 14, 14, 64)        36928     \n",
            "                                                                 \n",
            " batch_normalization_30 (Bat  (None, 14, 14, 64)       256       \n",
            " chNormalization)                                                \n",
            "                                                                 \n",
            " max_pooling2d_8 (MaxPooling  (None, 7, 7, 64)         0         \n",
            " 2D)                                                             \n",
            "                                                                 \n",
            " conv2d_30 (Conv2D)          (None, 7, 7, 128)         73856     \n",
            "                                                                 \n",
            " conv2d_transpose_5 (Conv2DT  (None, 14, 14, 64)       32832     \n",
            " ranspose)                                                       \n",
            "                                                                 \n",
            " batch_normalization_31 (Bat  (None, 14, 14, 64)       256       \n",
            " chNormalization)                                                \n",
            "                                                                 \n",
            " conv2d_31 (Conv2D)          (None, 14, 14, 64)        36928     \n",
            "                                                                 \n",
            " batch_normalization_32 (Bat  (None, 14, 14, 64)       256       \n",
            " chNormalization)                                                \n",
            "                                                                 \n",
            " conv2d_32 (Conv2D)          (None, 14, 14, 64)        36928     \n",
            "                                                                 \n",
            " batch_normalization_33 (Bat  (None, 14, 14, 64)       256       \n",
            " chNormalization)                                                \n",
            "                                                                 \n",
            " conv2d_transpose_6 (Conv2DT  (None, 28, 28, 32)       8224      \n",
            " ranspose)                                                       \n",
            "                                                                 \n",
            " batch_normalization_34 (Bat  (None, 28, 28, 32)       128       \n",
            " chNormalization)                                                \n",
            "                                                                 \n",
            " conv2d_33 (Conv2D)          (None, 28, 28, 32)        9248      \n",
            "                                                                 \n",
            " batch_normalization_35 (Bat  (None, 28, 28, 32)       128       \n",
            " chNormalization)                                                \n",
            "                                                                 \n",
            " conv2d_34 (Conv2D)          (None, 28, 28, 32)        9248      \n",
            "                                                                 \n",
            " batch_normalization_36 (Bat  (None, 28, 28, 32)       128       \n",
            " chNormalization)                                                \n",
            "                                                                 \n",
            " conv2d_35 (Conv2D)          (None, 28, 28, 1)         289       \n",
            "                                                                 \n",
            "=================================================================\n",
            "Total params: 274,465\n",
            "Trainable params: 273,505\n",
            "Non-trainable params: 960\n",
            "_________________________________________________________________\n"
          ]
        }
      ]
    },
    {
      "cell_type": "code",
      "metadata": {
        "id": "ixY4nVDUCyOU",
        "colab": {
          "base_uri": "https://localhost:8080/"
        },
        "outputId": "b021f5fc-5bb8-4d82-8491-92b0c46e5560"
      },
      "source": [
        "# Обучение 10 эпох, пакетами по 100\n",
        "#modelAutoMnist = denoiseAutoencoder()\n",
        "hist=modelAutoMnist.fit(xTrainMnist[:10000], yTrainMnist_pix[:10000], epochs=10, batch_size=100, validation_split=0.2)"
      ],
      "execution_count": 17,
      "outputs": [
        {
          "output_type": "stream",
          "name": "stdout",
          "text": [
            "Epoch 1/10\n",
            "80/80 [==============================] - 16s 64ms/step - loss: 0.0554 - mse: 0.0554 - val_loss: 0.0953 - val_mse: 0.0953\n",
            "Epoch 2/10\n",
            "80/80 [==============================] - 4s 55ms/step - loss: 0.0164 - mse: 0.0164 - val_loss: 0.0694 - val_mse: 0.0694\n",
            "Epoch 3/10\n",
            "80/80 [==============================] - 4s 56ms/step - loss: 0.0133 - mse: 0.0133 - val_loss: 0.0278 - val_mse: 0.0278\n",
            "Epoch 4/10\n",
            "80/80 [==============================] - 4s 55ms/step - loss: 0.0118 - mse: 0.0118 - val_loss: 0.0181 - val_mse: 0.0181\n",
            "Epoch 5/10\n",
            "80/80 [==============================] - 5s 59ms/step - loss: 0.0110 - mse: 0.0110 - val_loss: 0.0123 - val_mse: 0.0123\n",
            "Epoch 6/10\n",
            "80/80 [==============================] - 5s 59ms/step - loss: 0.0104 - mse: 0.0104 - val_loss: 0.0125 - val_mse: 0.0125\n",
            "Epoch 7/10\n",
            "80/80 [==============================] - 4s 55ms/step - loss: 0.0100 - mse: 0.0100 - val_loss: 0.0110 - val_mse: 0.0110\n",
            "Epoch 8/10\n",
            "80/80 [==============================] - 4s 55ms/step - loss: 0.0097 - mse: 0.0097 - val_loss: 0.0112 - val_mse: 0.0112\n",
            "Epoch 9/10\n",
            "80/80 [==============================] - 4s 56ms/step - loss: 0.0094 - mse: 0.0094 - val_loss: 0.0108 - val_mse: 0.0108\n",
            "Epoch 10/10\n",
            "80/80 [==============================] - 5s 58ms/step - loss: 0.0091 - mse: 0.0091 - val_loss: 0.0106 - val_mse: 0.0106\n"
          ]
        }
      ]
    },
    {
      "cell_type": "code",
      "metadata": {
        "id": "6imJd1RM7q_v",
        "colab": {
          "base_uri": "https://localhost:8080/",
          "height": 295
        },
        "outputId": "dc0a8ddf-b7df-4300-bca1-2ac41dc90bc3"
      },
      "source": [
        "plt.plot(hist.history['val_loss'],'r',label='val_loss')\n",
        "plt.plot(hist.history['loss'],'g',label='train_loss')\n",
        "plt.legend()\n",
        "plt.grid()\n",
        "plt.xlabel('epoch')\n",
        "plt.ylabel('loss')\n",
        "plt.title('loss from epochs')\n",
        "plt.show()"
      ],
      "execution_count": 31,
      "outputs": [
        {
          "output_type": "display_data",
          "data": {
            "text/plain": [
              "<Figure size 432x288 with 1 Axes>"
            ],
            "image/png": "[encoded data removed]"
          },
          "metadata": {
            "needs_background": "light"
          }
        }
      ]
    },
    {
      "cell_type": "markdown",
      "source": [
        "Проверим на тестовых примерах:"
      ],
      "metadata": {
        "id": "Cx7ki9Yd6UnB"
      }
    },
    {
      "cell_type": "code",
      "metadata": {
        "id": "B3mBk9wNYack"
      },
      "source": [
        "# preprocessing \n",
        "noice =0.5\n",
        "(_, _), (xTestMnist, yTestMnist) = mnist.load_data()\n",
        "\n",
        "xTestMnist = xTestMnist.astype('float32')/255\n",
        "\n",
        "xTestMnist = xTestMnist.reshape(xTestMnist.shape[0], 28, 28, 1)\n",
        "\n",
        "yTestMnist_pix = xTestMnist.copy()\n",
        "xTestMnist += np.random.randn(xTestMnist.shape[0],xTestMnist.shape[1],xTestMnist.shape[2],xTestMnist.shape[3]) * noice"
      ],
      "execution_count": 33,
      "outputs": []
    },
    {
      "cell_type": "markdown",
      "source": [
        "Среди всех тестовых примеров достанем только примеры одного класса. Сейчас выбран класс \"4\"\n",
        "\n",
        "Это не является необходимостью, но будем смотреть на некоторый средний объект в скрытом пространстве нашей модели. Поэтому интереснее смотреть на одноклассников - увидим некоторое упрощенно-идеальное описание объекта в картах признаков"
      ],
      "metadata": {
        "id": "JizraaNp6fea"
      }
    },
    {
      "cell_type": "code",
      "metadata": {
        "id": "2s0FDPruw4T-",
        "colab": {
          "base_uri": "https://localhost:8080/"
        },
        "outputId": "7acb434a-e94d-40b3-8a07-029debd298fb"
      },
      "source": [
        "mask = np.where(yTestMnist == 4)[0]\n",
        "\n",
        "y_pred = modelAutoMnist.predict(xTestMnist[mask])\n",
        "\n",
        "ff = m0.predict(xTestMnist[mask])\n",
        "print(ff.shape)\n",
        "\n",
        "ff = np.mean(ff, axis = 0)\n",
        "print(ff.shape)\n",
        "\n"
      ],
      "execution_count": 34,
      "outputs": [
        {
          "output_type": "stream",
          "name": "stdout",
          "text": [
            "(982, 7, 7, 128)\n",
            "(7, 7, 128)\n"
          ]
        }
      ]
    },
    {
      "cell_type": "code",
      "metadata": {
        "colab": {
          "base_uri": "https://localhost:8080/"
        },
        "id": "75OgvUbyX07n",
        "outputId": "71aadc57-b4f1-4168-f1df-74e8b89c69e8"
      },
      "source": [
        "mask[0]"
      ],
      "execution_count": 35,
      "outputs": [
        {
          "output_type": "execute_result",
          "data": {
            "text/plain": [
              "4"
            ]
          },
          "metadata": {},
          "execution_count": 35
        }
      ]
    },
    {
      "cell_type": "markdown",
      "source": [
        "Покажем наш пример и его распознавание, а также карты скрытого слоя"
      ],
      "metadata": {
        "id": "P6vUA_OC7F6C"
      }
    },
    {
      "cell_type": "code",
      "metadata": {
        "id": "7zWZA_vyyb8a",
        "colab": {
          "base_uri": "https://localhost:8080/",
          "height": 1000
        },
        "outputId": "563dd3ed-b214-46e5-f621-0eb38a715b4d"
      },
      "source": [
        "n = 1\n",
        "plt.imshow(xTestMnist[mask[n],:,:,0])\n",
        "plt.title('Input Image')\n",
        "plt.show()\n",
        "plt.imshow(y_pred[n,:,:,0])\n",
        "plt.title('Predict Image')\n",
        "plt.show()\n",
        "plt.imshow(yTestMnist_pix[ mask[n],:,:,0])\n",
        "plt.title('Target Image')\n",
        "plt.show()\n",
        "\n",
        "g1=ff[:,:,0]\n",
        "plt.subplot(311)\n",
        "plt.title('hiden layer out 0')\n",
        "plt.imshow(g1)\n",
        "g1=ff[:,:,1]\n",
        "plt.subplot(312)\n",
        "plt.title('hiden layer out 1')\n",
        "plt.imshow(g1)\n",
        "g1=ff[:,:,2]\n",
        "plt.subplot(313)\n",
        "plt.title('hiden layer out 2')\n",
        "plt.imshow(g1)\n",
        "plt.show()"
      ],
      "execution_count": 36,
      "outputs": [
        {
          "output_type": "display_data",
          "data": {
            "text/plain": [
              "<Figure size 432x288 with 1 Axes>"
            ],
            "image/png": "[encoded data removed]"
          },
          "metadata": {
            "needs_background": "light"
          }
        },
        {
          "output_type": "display_data",
          "data": {
            "text/plain": [
              "<Figure size 432x288 with 1 Axes>"
            ],
            "image/png": "[encoded data removed]"
          },
          "metadata": {
            "needs_background": "light"
          }
        },
        {
          "output_type": "display_data",
          "data": {
            "text/plain": [
              "<Figure size 432x288 with 1 Axes>"
            ],
            "image/png": "[encoded data removed]"
          },
          "metadata": {
            "needs_background": "light"
          }
        },
        {
          "output_type": "display_data",
          "data": {
            "text/plain": [
              "<Figure size 432x288 with 3 Axes>"
            ],
            "image/png": "[encoded data removed]"
          },
          "metadata": {
            "needs_background": "light"
          }
        }
      ]
    },
    {
      "cell_type": "markdown",
      "metadata": {
        "id": "NgiJ3v-erSnP"
      },
      "source": [
        "# Визуализация слоев\n",
        "\n",
        "средний объект - идеал??? "
      ]
    },
    {
      "cell_type": "code",
      "metadata": {
        "id": "C8TJAw-cnSVJ",
        "colab": {
          "base_uri": "https://localhost:8080/",
          "height": 333
        },
        "outputId": "1ff86ac7-30ae-4e38-b3a8-77d7d42d94e1"
      },
      "source": [
        "n = 13# номер уровня, на который смотрим\n",
        "activ_model_layer = Model(inputs=modelAutoMnist.input, outputs = modelAutoMnist.layers[n].output)\n",
        "\n",
        "print(modelAutoMnist.layers[n].name)\n",
        "\n",
        "yf = activ_model_layer.predict(xTrainMnist[mask[:10]])\n",
        "\n",
        "\n",
        "print(yf.shape)\n",
        "\n",
        "\n",
        "#ff = np.mean(yf, axis=0) #средний выход слоя \n",
        "ff = yf[0,:,:,:] #средний выход слоя\n",
        "print(ff.shape)\n",
        "\n",
        "g1=ff[:,:,0]\n",
        "plt.subplot(311)\n",
        "plt.title('hiden layer out 0')\n",
        "plt.imshow(g1)\n",
        "g1=ff[:,:,2]\n",
        "plt.subplot(312)\n",
        "plt.title('hiden layer out 1')\n",
        "plt.imshow(g1)\n",
        "g1=ff[:,:,5]\n",
        "plt.subplot(313)\n",
        "plt.title('hiden layer out 2')\n",
        "plt.imshow(g1)\n",
        "plt.show()"
      ],
      "execution_count": 24,
      "outputs": [
        {
          "output_type": "stream",
          "name": "stdout",
          "text": [
            "batch_normalization_31\n",
            "(10, 14, 14, 64)\n",
            "(14, 14, 64)\n"
          ]
        },
        {
          "output_type": "display_data",
          "data": {
            "text/plain": [
              "<Figure size 432x288 with 3 Axes>"
            ],
            "image/png": "[encoded data removed]"
          },
          "metadata": {
            "needs_background": "light"
          }
        }
      ]
    },
    {
      "cell_type": "markdown",
      "metadata": {
        "id": "Z5WAdefWkZ5m"
      },
      "source": [
        "Проверим фильтрацию для другого объекта FashionMNIST"
      ]
    },
    {
      "cell_type": "code",
      "metadata": {
        "id": "V8Y9oc7h9JjY"
      },
      "source": [
        "(xT_fash, yT_fash), (xTest_f, yTest_f) = fashion_mnist.load_data()\n",
        "\n",
        "noice = 0.5\n",
        "\n",
        "xT_fash = xT_fash.astype('float32')/255\n",
        "\n",
        "xT_fash = xT_fash.reshape(xT_fash.shape[0], 28, 28, 1)\n",
        "\n",
        "xT_fash += np.random.randn(xT_fash.shape[0],xT_fash.shape[1],xT_fash.shape[2],xT_fash.shape[3]) * noice\n",
        "\n"
      ],
      "execution_count": 28,
      "outputs": []
    },
    {
      "cell_type": "code",
      "metadata": {
        "id": "Pjq9RNLe9pkZ",
        "colab": {
          "base_uri": "https://localhost:8080/",
          "height": 545
        },
        "outputId": "d827e84d-078e-413f-fb02-6723fd5e924f"
      },
      "source": [
        "y_pred = modelAutoMnist.predict(xT_fash[:20])\n",
        "N = 15\n",
        "plt.imshow(xT_fash[N,:,:,0])\n",
        "plt.title('Input Image')\n",
        "plt.show()\n",
        "plt.imshow(y_pred[N,:,:,0])\n",
        "plt.title('Predict Image')\n",
        "plt.show()\n"
      ],
      "execution_count": 29,
      "outputs": [
        {
          "output_type": "display_data",
          "data": {
            "text/plain": [
              "<Figure size 432x288 with 1 Axes>"
            ],
            "image/png": "[encoded data removed]"
          },
          "metadata": {
            "needs_background": "light"
          }
        },
        {
          "output_type": "display_data",
          "data": {
            "text/plain": [
              "<Figure size 432x288 with 1 Axes>"
            ],
            "image/png": "[encoded data removed]"
          },
          "metadata": {
            "needs_background": "light"
          }
        }
      ]
    },
    {
      "cell_type": "code",
      "metadata": {
        "id": "JavrHb_P-Hsk"
      },
      "source": [
        ""
      ],
      "execution_count": null,
      "outputs": []
    },
    {
      "cell_type": "markdown",
      "source": [
        "Резюме:\n",
        "  - автоэнкодер работает как подавление шума\n",
        "  - может подавить шум даже в другом типе данных"
      ],
      "metadata": {
        "id": "fm2qlUhj7hc8"
      }
    },
    {
      "cell_type": "code",
      "source": [
        ""
      ],
      "metadata": {
        "id": "TB94IkmB7qRr"
      },
      "execution_count": null,
      "outputs": []
    }
  ]
}